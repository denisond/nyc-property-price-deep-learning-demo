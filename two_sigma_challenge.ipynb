{
  "nbformat": 4,
  "nbformat_minor": 5,
  "metadata": {
    "colab": {
      "name": "two_sigma_challenge.ipynb",
      "provenance": [],
      "collapsed_sections": [],
      "machine_shape": "hm"
    },
    "kernelspec": {
      "display_name": "Python 3 (ipykernel)",
      "language": "python",
      "name": "python3"
    },
    "language_info": {
      "codemirror_mode": {
        "name": "ipython",
        "version": 3
      },
      "file_extension": ".py",
      "mimetype": "text/x-python",
      "name": "python",
      "nbconvert_exporter": "python",
      "pygments_lexer": "ipython3",
      "version": "3.9.6"
    }
  },
  "cells": [
    {
      "cell_type": "code",
      "metadata": {
        "colab": {
          "base_uri": "https://localhost:8080/"
        },
        "id": "2yPw1oWv0_K8",
        "outputId": "04243934-f481-4f0f-8586-9cece38df6aa"
      },
      "source": [
        "from google.colab import drive\n",
        "drive.mount('/content/drive')\n",
        "%cd /content/drive/MyDrive/two-sigma-case-study"
      ],
      "id": "2yPw1oWv0_K8",
      "execution_count": null,
      "outputs": [
        {
          "output_type": "stream",
          "name": "stdout",
          "text": [
            "Drive already mounted at /content/drive; to attempt to forcibly remount, call drive.mount(\"/content/drive\", force_remount=True).\n",
            "/content/drive/MyDrive/two-sigma-case-study\n"
          ]
        }
      ]
    },
    {
      "cell_type": "code",
      "metadata": {
        "id": "9bedf3e7"
      },
      "source": [
        "%%capture\n",
        "!pip install optuna\n",
        "\n",
        "# general packages\n",
        "import joblib\n",
        "import logging\n",
        "import datetime\n",
        "import sys\n",
        "import os\n",
        "import warnings\n",
        "\n",
        "# data\n",
        "import pandas as pd\n",
        "import numpy as np\n",
        "import scipy\n",
        "import seaborn as sns\n",
        "import missingno as msno\n",
        "import random\n",
        "from itertools import zip_longest\n",
        "import matplotlib.pyplot as plt\n",
        "from scipy import stats\n",
        "from scipy.stats import norm, skew\n",
        "import re\n",
        "import statsmodels.api as sm\n",
        "\n",
        "\n",
        "# ML and DL\n",
        "import optuna\n",
        "from optuna.trial import TrialState\n",
        "from sklearn import preprocessing, impute\n",
        "from sklearn.experimental import enable_iterative_imputer\n",
        "from sklearn.model_selection import StratifiedKFold, KFold, cross_val_score\n",
        "from sklearn.model_selection import train_test_split, GridSearchCV, RandomizedSearchCV\n",
        "from sklearn.linear_model import ElasticNet, Lasso, BayesianRidge, LassoLarsIC, LinearRegression\n",
        "from sklearn.ensemble import RandomForestRegressor,  GradientBoostingRegressor\n",
        "from sklearn.kernel_ridge import KernelRidge\n",
        "from sklearn.preprocessing import RobustScaler\n",
        "from sklearn.pipeline import Pipeline\n",
        "from sklearn.preprocessing import StandardScaler\n",
        "from sklearn.ensemble import AdaBoostRegressor,ExtraTreesRegressor\n",
        "import torch \n",
        "from torch import nn, optim\n",
        "import torch.nn.functional as F\n",
        "from xgboost import XGBRegressor\n",
        "\n",
        "# options\n",
        "pd.options.display.max_rows = 4000\n",
        "%config Completer.use_jedi = False\n",
        "plt.style.use('seaborn')\n",
        "color = sns.color_palette()\n",
        "sns.set_style('darkgrid')\n",
        "warnings.filterwarnings('ignore')"
      ],
      "id": "9bedf3e7",
      "execution_count": null,
      "outputs": []
    },
    {
      "cell_type": "markdown",
      "metadata": {
        "id": "0NfSWqVk7CpV"
      },
      "source": [
        "\n",
        "\n",
        "---\n",
        "\n",
        "\n",
        "\n",
        "---\n",
        "\n",
        "\n",
        "## Two Sigma Data Clinic Research Challenge:\n",
        "### NYC Property Sales Data prediction\n",
        "\n",
        "---\n",
        "\n",
        "\n",
        "In this notebook I conduct a variety of analyses on Manhattan property sales data from 2020-2021.\n",
        "\n",
        "My analyses can be summarised as the following\n",
        "- 1. Build understanding through data cleaning and exploratory data analysis.\n",
        "- 2. Conduct hypothesis tests to estimate relationships between key variables\n",
        "- 3. Fit a wide range of machine learning and deep learning models to predict Manhattan property sales data.\n",
        "<br><br><br>\n",
        "\n",
        "**Motivation:**\n",
        "Build supervised learning model to predict sale prices to uncover buy and sell opportunities for undervalued and overvalued properties, respectively. Although we would need real time property listing data to uncover inefficiencies in the Manhattan property market, building a predictive model with high performance would be the first step to detect said inefficiencies. \n",
        "<br><br>\n",
        "\n",
        "**Loss metric:**:\n",
        "Across predictive modeling tasks I optimize for RMSE. I chose RMSE over MAE because I am assuming we are sensitive to outliers in the target and particularly bad model predictions. On the other hand, results for MAE are more interpretable as they are on the same scale.\n",
        "<br><br>\n",
        "\n",
        "**Hypothesis:**\n",
        "While I define formal null and alternative hypotheses (with OLS regression assumptions about the features and target) for the MLR hypothesis testing, my hypothesis for the predictive modeling is as follows: \n",
        "\n",
        "Increasing our feature set size, engineering features with denoising autoencoders, and increasing model complexity will allow use to improve upon baseline model performance (baseline model is OLS with restricted feature set). While this might be trivial, it will be interesting to see which techniques increase model performance and to what extent.\n"
      ],
      "id": "0NfSWqVk7CpV"
    },
    {
      "cell_type": "markdown",
      "metadata": {
        "id": "8c354e6f"
      },
      "source": [
        "\n",
        "---\n",
        "---\n",
        "\n",
        "\n",
        "#### ***Table of Contents:***\n",
        "\n",
        "#### 1. Data Preparation and exploratory data analysis \n",
        "> a. Missing data and outlier removal\n",
        "<br>b. Encoding and scaling\n",
        "<br>c. Exploratory data analysis\n",
        "<br>\n",
        "\n",
        "#### 2. Hypothesis Testing with Multiple Linear Regression\n",
        ">a. Null Hypothesis testing for f-test and t-test\n",
        "<br>b. Hypothesis testing and regression output\n",
        "<br>\n",
        "\n",
        "#### 3. Predictive modeling\n",
        ">a. establish baseline model\n",
        "<br>b. comparision of supervised learning methods on small feature set\n",
        "<br>c. clean features for medium feature set\n",
        "<br>d. comparision of supervised machine learning models on medium feature set\n",
        "<br>e. neural network optimization, optimize with respect to network topology\n",
        "<br>e. denoising autoencoder, optimize with respect to network topology\n",
        "<br>f. denoising autoencode latent feature extraction\n",
        "<br>g. neural network prediction on denoised feature set\n",
        "<br>\n",
        "#### 4. Takeaways and next steps\n",
        ">a. Data cleaning\n",
        "<br>b. EDA\n",
        "<br>c. Hypothesis testing\n",
        "<br>d. Predictive modeling\n",
        "<br>e. Time spent\n",
        "<br>\n",
        "\n",
        "---\n",
        "---\n",
        "\n",
        "\n"
      ],
      "id": "8c354e6f"
    },
    {
      "cell_type": "code",
      "metadata": {
        "colab": {
          "base_uri": "https://localhost:8080/"
        },
        "id": "695c51b5",
        "outputId": "91c556b4-1103-403f-fac7-e959ed969429"
      },
      "source": [
        "sales_df_raw = pd.read_csv('rollingsales_manhattan_2.csv')\n",
        "sales_df = sales_df_raw.copy(deep=True)\n",
        "print(sales_df.shape)"
      ],
      "id": "695c51b5",
      "execution_count": null,
      "outputs": [
        {
          "output_type": "stream",
          "name": "stdout",
          "text": [
            "(16539, 21)\n"
          ]
        }
      ]
    },
    {
      "cell_type": "code",
      "metadata": {
        "colab": {
          "base_uri": "https://localhost:8080/",
          "height": 362
        },
        "id": "622114cc",
        "outputId": "4d87bc90-b189-4bcb-d451-77c3dfa1a70b"
      },
      "source": [
        "sales_df.describe().T"
      ],
      "id": "622114cc",
      "execution_count": null,
      "outputs": [
        {
          "output_type": "execute_result",
          "data": {
            "text/html": [
              "<div>\n",
              "<style scoped>\n",
              "    .dataframe tbody tr th:only-of-type {\n",
              "        vertical-align: middle;\n",
              "    }\n",
              "\n",
              "    .dataframe tbody tr th {\n",
              "        vertical-align: top;\n",
              "    }\n",
              "\n",
              "    .dataframe thead th {\n",
              "        text-align: right;\n",
              "    }\n",
              "</style>\n",
              "<table border=\"1\" class=\"dataframe\">\n",
              "  <thead>\n",
              "    <tr style=\"text-align: right;\">\n",
              "      <th></th>\n",
              "      <th>count</th>\n",
              "      <th>mean</th>\n",
              "      <th>std</th>\n",
              "      <th>min</th>\n",
              "      <th>25%</th>\n",
              "      <th>50%</th>\n",
              "      <th>75%</th>\n",
              "      <th>max</th>\n",
              "    </tr>\n",
              "  </thead>\n",
              "  <tbody>\n",
              "    <tr>\n",
              "      <th>BOROUGH</th>\n",
              "      <td>16539.0</td>\n",
              "      <td>1.000000</td>\n",
              "      <td>0.000000</td>\n",
              "      <td>1.0</td>\n",
              "      <td>1.0</td>\n",
              "      <td>1.0</td>\n",
              "      <td>1.0</td>\n",
              "      <td>1.0</td>\n",
              "    </tr>\n",
              "    <tr>\n",
              "      <th>BLOCK</th>\n",
              "      <td>16539.0</td>\n",
              "      <td>1098.559828</td>\n",
              "      <td>523.789458</td>\n",
              "      <td>8.0</td>\n",
              "      <td>722.5</td>\n",
              "      <td>1158.0</td>\n",
              "      <td>1448.0</td>\n",
              "      <td>2250.0</td>\n",
              "    </tr>\n",
              "    <tr>\n",
              "      <th>LOT</th>\n",
              "      <td>16539.0</td>\n",
              "      <td>762.894250</td>\n",
              "      <td>905.833268</td>\n",
              "      <td>1.0</td>\n",
              "      <td>29.0</td>\n",
              "      <td>1003.0</td>\n",
              "      <td>1206.0</td>\n",
              "      <td>9108.0</td>\n",
              "    </tr>\n",
              "    <tr>\n",
              "      <th>EASEMENT</th>\n",
              "      <td>0.0</td>\n",
              "      <td>NaN</td>\n",
              "      <td>NaN</td>\n",
              "      <td>NaN</td>\n",
              "      <td>NaN</td>\n",
              "      <td>NaN</td>\n",
              "      <td>NaN</td>\n",
              "      <td>NaN</td>\n",
              "    </tr>\n",
              "    <tr>\n",
              "      <th>ZIP CODE</th>\n",
              "      <td>16539.0</td>\n",
              "      <td>10029.982889</td>\n",
              "      <td>36.009304</td>\n",
              "      <td>10001.0</td>\n",
              "      <td>10013.0</td>\n",
              "      <td>10022.0</td>\n",
              "      <td>10028.0</td>\n",
              "      <td>10463.0</td>\n",
              "    </tr>\n",
              "    <tr>\n",
              "      <th>RESIDENTIAL UNITS</th>\n",
              "      <td>8729.0</td>\n",
              "      <td>2.824149</td>\n",
              "      <td>12.351636</td>\n",
              "      <td>0.0</td>\n",
              "      <td>1.0</td>\n",
              "      <td>1.0</td>\n",
              "      <td>1.0</td>\n",
              "      <td>490.0</td>\n",
              "    </tr>\n",
              "    <tr>\n",
              "      <th>COMMERCIAL UNITS</th>\n",
              "      <td>1854.0</td>\n",
              "      <td>2.313376</td>\n",
              "      <td>11.998357</td>\n",
              "      <td>0.0</td>\n",
              "      <td>0.0</td>\n",
              "      <td>1.0</td>\n",
              "      <td>1.0</td>\n",
              "      <td>259.0</td>\n",
              "    </tr>\n",
              "    <tr>\n",
              "      <th>TOTAL UNITS</th>\n",
              "      <td>9233.0</td>\n",
              "      <td>3.134517</td>\n",
              "      <td>13.345840</td>\n",
              "      <td>0.0</td>\n",
              "      <td>1.0</td>\n",
              "      <td>1.0</td>\n",
              "      <td>1.0</td>\n",
              "      <td>492.0</td>\n",
              "    </tr>\n",
              "    <tr>\n",
              "      <th>YEAR BUILT</th>\n",
              "      <td>14677.0</td>\n",
              "      <td>1953.673980</td>\n",
              "      <td>38.134771</td>\n",
              "      <td>1800.0</td>\n",
              "      <td>1920.0</td>\n",
              "      <td>1956.0</td>\n",
              "      <td>1986.0</td>\n",
              "      <td>2021.0</td>\n",
              "    </tr>\n",
              "    <tr>\n",
              "      <th>TAX CLASS AT TIME OF SALE</th>\n",
              "      <td>16539.0</td>\n",
              "      <td>2.077997</td>\n",
              "      <td>0.465095</td>\n",
              "      <td>1.0</td>\n",
              "      <td>2.0</td>\n",
              "      <td>2.0</td>\n",
              "      <td>2.0</td>\n",
              "      <td>4.0</td>\n",
              "    </tr>\n",
              "  </tbody>\n",
              "</table>\n",
              "</div>"
            ],
            "text/plain": [
              "                             count          mean  ...      75%      max\n",
              "BOROUGH                    16539.0      1.000000  ...      1.0      1.0\n",
              "BLOCK                      16539.0   1098.559828  ...   1448.0   2250.0\n",
              "LOT                        16539.0    762.894250  ...   1206.0   9108.0\n",
              "EASEMENT                       0.0           NaN  ...      NaN      NaN\n",
              "ZIP CODE                   16539.0  10029.982889  ...  10028.0  10463.0\n",
              "RESIDENTIAL UNITS           8729.0      2.824149  ...      1.0    490.0\n",
              "COMMERCIAL UNITS            1854.0      2.313376  ...      1.0    259.0\n",
              "TOTAL UNITS                 9233.0      3.134517  ...      1.0    492.0\n",
              "YEAR BUILT                 14677.0   1953.673980  ...   1986.0   2021.0\n",
              "TAX CLASS AT TIME OF SALE  16539.0      2.077997  ...      2.0      4.0\n",
              "\n",
              "[10 rows x 8 columns]"
            ]
          },
          "metadata": {},
          "execution_count": 4
        }
      ]
    },
    {
      "cell_type": "markdown",
      "metadata": {
        "id": "2072fe86"
      },
      "source": [
        "---\n",
        "## ***1. Data Preparation***\n",
        "\n",
        "\n",
        "\n",
        "\n",
        "\n",
        "---\n",
        "\n"
      ],
      "id": "2072fe86"
    },
    {
      "cell_type": "markdown",
      "metadata": {
        "id": "2857de1a"
      },
      "source": [
        "In this section we clean the data enough to perform basic EDA, i.e. drop missingness, change data types, etc. Most of the decisions implemented here are a result of much more investigation not shown here. For the readability of this notebook, I've removed most of the output that led to these decisions."
      ],
      "id": "2857de1a"
    },
    {
      "cell_type": "markdown",
      "metadata": {
        "id": "7f4f271f"
      },
      "source": [
        "---\n",
        "\n",
        "\n",
        "#### ***a. Missing data and outlier removal***\n",
        "---"
      ],
      "id": "7f4f271f"
    },
    {
      "cell_type": "markdown",
      "metadata": {
        "id": "8dd5e283"
      },
      "source": [
        "Below we see that we have a number of features with ~50% or more missing values. Let's drop missing data from these features liberally for the time being. \n",
        "\n",
        "<br>Other EDA that is not included here reassures me that dropping this data is reasonable for now.\n",
        "\n",
        "---"
      ],
      "id": "8dd5e283"
    },
    {
      "cell_type": "code",
      "metadata": {
        "colab": {
          "base_uri": "https://localhost:8080/"
        },
        "id": "4420d7be",
        "outputId": "a5ffc544-8271-46e9-b08e-28f3e38b5051"
      },
      "source": [
        "# missing data by feature\n",
        "sales_df.isna().sum()"
      ],
      "id": "4420d7be",
      "execution_count": null,
      "outputs": [
        {
          "output_type": "execute_result",
          "data": {
            "text/plain": [
              "BOROUGH                               0\n",
              "NEIGHBORHOOD                          0\n",
              "BUILDING CLASS CATEGORY               0\n",
              "TAX CLASS AT PRESENT                 19\n",
              "BLOCK                                 0\n",
              "LOT                                   0\n",
              "EASEMENT                          16539\n",
              "BUILDING CLASS AT PRESENT            19\n",
              "ADDRESS                               0\n",
              "APARTMENT NUMBER                   8651\n",
              "ZIP CODE                              0\n",
              "RESIDENTIAL UNITS                  7810\n",
              "COMMERCIAL UNITS                  14685\n",
              "TOTAL UNITS                        7306\n",
              "LAND SQUARE FEET                  15189\n",
              "GROSS SQUARE FEET                 15189\n",
              "YEAR BUILT                         1862\n",
              "TAX CLASS AT TIME OF SALE             0\n",
              "BUILDING CLASS AT TIME OF SALE        0\n",
              "SALE PRICE                            0\n",
              "SALE DATE                             0\n",
              "dtype: int64"
            ]
          },
          "metadata": {},
          "execution_count": 5
        }
      ]
    },
    {
      "cell_type": "markdown",
      "metadata": {
        "id": "9e3d77e8"
      },
      "source": [
        "<br>Feel very comfortable dropping variables with about >50% missing values (may revisit later),  \n",
        "will create new category for missing and dummy out remaining missing values in nominal variables"
      ],
      "id": "9e3d77e8"
    },
    {
      "cell_type": "code",
      "metadata": {
        "id": "51be6efc"
      },
      "source": [
        "sales_df.drop(['EASEMENT', 'BOROUGH','APARTMENT NUMBER', 'LAND SQUARE FEET', 'GROSS SQUARE FEET', 'COMMERCIAL UNITS', 'TOTAL UNITS', 'RESIDENTIAL UNITS','BLOCK', 'LOT','ADDRESS'], axis = 1, inplace = True) "
      ],
      "id": "51be6efc",
      "execution_count": null,
      "outputs": []
    },
    {
      "cell_type": "markdown",
      "metadata": {
        "id": "fdb8421d"
      },
      "source": [
        "#### Drop outliers; encode, impute, and scale features; and other data prep\n",
        "---"
      ],
      "id": "fdb8421d"
    },
    {
      "cell_type": "markdown",
      "metadata": {
        "id": "c92de255"
      },
      "source": [
        "For the time being, we are going to restrict our df to include what what seem like our most important and interpretable features, while avoiding high cardinality nominal features (will need to dummy out can high dimensionality will compromise our unpenalized regression models). This way we can spend less time cleaning and begin hypothesis testing using multiple linear regression more quickly. \n",
        "\n",
        "Later on, when we run predictive models, we clean other features and assess their importance with respect to model performance."
      ],
      "id": "c92de255"
    },
    {
      "cell_type": "code",
      "metadata": {
        "colab": {
          "base_uri": "https://localhost:8080/"
        },
        "id": "ba6563ba",
        "outputId": "9ce3837f-b671-4a50-894e-357ebebb5bef"
      },
      "source": [
        "# print cardinality\n",
        "for i in sales_df.columns:\n",
        "    print(i, sales_df[str(i)].value_counts().shape[0])"
      ],
      "id": "ba6563ba",
      "execution_count": null,
      "outputs": [
        {
          "output_type": "stream",
          "name": "stdout",
          "text": [
            "NEIGHBORHOOD 39\n",
            "BUILDING CLASS CATEGORY 39\n",
            "TAX CLASS AT PRESENT 8\n",
            "BUILDING CLASS AT PRESENT 106\n",
            "ZIP CODE 46\n",
            "YEAR BUILT 143\n",
            "TAX CLASS AT TIME OF SALE 3\n",
            "BUILDING CLASS AT TIME OF SALE 107\n",
            "SALE PRICE 3390\n",
            "SALE DATE 326\n"
          ]
        }
      ]
    },
    {
      "cell_type": "code",
      "metadata": {
        "id": "e6498823"
      },
      "source": [
        "# features to include in MLR model\n",
        "raw_feats_small = ['SALE PRICE', 'NEIGHBORHOOD', 'YEAR BUILT', 'SALE DATE', \n",
        "                   'TAX CLASS AT TIME OF SALE','BUILDING CLASS CATEGORY']\n",
        "small_df = sales_df.copy()"
      ],
      "id": "e6498823",
      "execution_count": null,
      "outputs": []
    },
    {
      "cell_type": "code",
      "metadata": {
        "id": "1a879eab"
      },
      "source": [
        "# clean date format to account for cyclical natural of months in data\n",
        "def encode(data, col, max_val):\n",
        "    data[col + '_sin'] = np.sin(2 * np.pi * data[col]/max_val)\n",
        "    data[col + '_cos'] = np.cos(2 * np.pi * data[col]/max_val)\n",
        "    return data\n",
        "\n",
        "small_df['SALE DATE'] = pd.to_datetime(small_df['SALE DATE'], infer_datetime_format=True)\n",
        "\n",
        "small_df['SALE MONTH'] = small_df['SALE DATE'].dt.month\n",
        "small_df = encode(small_df, 'SALE MONTH', 12)\n",
        "\n",
        "small_df['SALE YEAR'] = small_df['SALE DATE'].dt.year.apply(lambda x: str(x))\n"
      ],
      "id": "1a879eab",
      "execution_count": null,
      "outputs": []
    },
    {
      "cell_type": "markdown",
      "metadata": {
        "id": "1da2a207"
      },
      "source": [
        "<br>\n",
        "\n",
        "#### Define custom classes I wrote for imputing, encoding, and scaling features\n",
        "---"
      ],
      "id": "1da2a207"
    },
    {
      "cell_type": "code",
      "metadata": {
        "id": "377d41c4"
      },
      "source": [
        "class CategoricalFeatures:\n",
        "    def __init__(self, df, nominal_features, ordinal_features=[], encoding_type='ohe', handle_na=False):\n",
        "        \"\"\"\n",
        "        df: pandas dataframe\n",
        "        nominal_features: list of nominal column names\n",
        "        ordinal_features: list of ordinal column names\n",
        "        encoding_type: label or ohe\n",
        "        handle_na: True/False\n",
        "        \"\"\"\n",
        "        self.df = df\n",
        "        self.nom_feats = nominal_features\n",
        "        self.ord_feats = ordinal_features\n",
        "        self.enc_type = encoding_type\n",
        "        self.handle_na = handle_na\n",
        "        self.output_df = self.df.copy(deep=True)\n",
        "        self.missing_indicators = None\n",
        "\n",
        "        if self.handle_na:\n",
        "            missing_col_names = self.output_df.columns[self.output_df.isnull().any()].to_list()\n",
        "            self.missing_indicators = self.output_df[missing_col_names].isnull().astype(int).add_suffix('_na_flag')\n",
        "            \n",
        "            for c in self.ord_feats:\n",
        "                num = self.output_df[c].mode()[0]\n",
        "                self.output_df[c].fillna(num, inplace = True)\n",
        "            \n",
        "            for c in self.nom_feats:\n",
        "                self.output_df.loc[:, c] = self.output_df.loc[:, c].astype(str).fillna(\"miss\")\n",
        "    \n",
        "    def _label_encoding(self):\n",
        "        for c in self.ord_feats:\n",
        "            lbl = preprocessing.LabelEncoder()\n",
        "            lbl.fit(self.output_df[c].astype(str).values)\n",
        "            self.output_df.loc[:, c] = lbl.transform(self.output_df[c].astype(str).values)\n",
        "            \n",
        "        if self.handle_na:\n",
        "            self.output_df = pd.concat([self.output_df, self.missing_indicators], 1)\n",
        "\n",
        "        return self.output_df\n",
        "\n",
        "    def _one_hot(self):\n",
        "        return pd.get_dummies(self.output_df, columns=self.nom_feats)\n",
        "\n",
        "    def _fit_transform(self):\n",
        "        if self.enc_type == \"label\":\n",
        "            return self._label_encoding()\n",
        "        elif self.enc_type == \"ohe\":\n",
        "            return self._one_hot()\n",
        "        elif self.enc_type == \"mixed\":\n",
        "            self._label_encoding()\n",
        "            return self._one_hot()\n",
        "        else:\n",
        "            raise Exception(\"Encoding type not understood\")              "
      ],
      "id": "377d41c4",
      "execution_count": null,
      "outputs": []
    },
    {
      "cell_type": "code",
      "metadata": {
        "id": "48ca3082"
      },
      "source": [
        "class NumericFeatures:\n",
        "    def __init__(self, df, numeric_features, imputation_type, add_na_flags, scale_type):\n",
        "        \"\"\"\n",
        "        df: pandas dataframe\n",
        "        numeric_features: list of numeric column names\n",
        "        imputation_type: mean, median, MICE?, None\n",
        "        add_nan_flags: add missing indicators for imputed rows\n",
        "        scale_type: quantile_transform, z_score, None\n",
        "        \"\"\"\n",
        "        self.df = df\n",
        "        self.num_feats = numeric_features\n",
        "        self.imp_type = imputation_type\n",
        "        self.na_flag = add_na_flags\n",
        "        self.scale_type = scale_type\n",
        "        self.output_df = self.df.copy(deep=True)\n",
        "\n",
        "    def _impute(self):\n",
        "        # create missing indicators\n",
        "        if self.na_flag:\n",
        "            missing_col_names = self.output_df.columns[self.output_df.isnull().any()].to_list()\n",
        "            missing_indicators = self.output_df[missing_col_names].isnull().astype(int).add_suffix('_na_flag')\n",
        "        \n",
        "        # assign numeric features\n",
        "        num_vars = self.output_df[self.num_feats].values\n",
        "\n",
        "        # initialize imputer\n",
        "        if self.imp_type == \"mean\":\n",
        "            imputer = impute.SimpleImputer(strategy='mean')\n",
        "        elif self.imp_type == \"median\":\n",
        "            imputer = impute.SimpleImputer(strategy='median')\n",
        "        elif self.imp_type == \"mice\":\n",
        "            imputer = IterativeImputer()         \n",
        "        elif self.imp_type == \"knn\":\n",
        "            imputer = impute.KNNImputer()\n",
        "        else:\n",
        "            raise Exception(\"Impute type not understood\")\n",
        "\n",
        "        # impute and assign filled feats\n",
        "        imputed_num_vars = imputer.fit_transform(num_vars)\n",
        "        self.output_df[self.num_feats] = imputed_num_vars\n",
        "\n",
        "        # append missing indicators\n",
        "        if self.na_flag:\n",
        "            self.output_df = pd.concat([self.output_df, missing_indicators], 1)\n",
        "\n",
        "        return self.output_df\n",
        "\n",
        "    def _scale(self):\n",
        "        # define num var values\n",
        "        num_vars = self.output_df[self.num_feats].values\n",
        "\n",
        "        # select scaler\n",
        "        if self.scale_type == \"standardize\":     \n",
        "            scaler = preprocessing.StandardScaler()\n",
        "        elif self.scale_type == \"robust_standardize\":     \n",
        "            scaler = preprocessing.RobustScaler()\n",
        "        elif self.scale_type == \"min_max\":     \n",
        "            scaler = preprocessing.MinMaxScaler()\n",
        "        elif self.scale_type == \"quantile_transform\":\n",
        "            scaler = preprocessing.QuantileTransformer(output_distribution='normal')\n",
        "        else:\n",
        "            raise Exception(\"Scale type not understood\")              \n",
        "\n",
        "        # scale num vars\n",
        "        scaled_num_vars = scaler.fit_transform(num_vars)\n",
        "        self.output_df[self.num_feats] = scaled_num_vars\n",
        "\n",
        "        return self.output_df\n",
        "\n",
        "    def _fit_transform(self):\n",
        "        if self.imp_type is not None and self.scale_type is not None:\n",
        "            self._impute()\n",
        "            return self._scale()\n",
        "        elif self.imp_type is not None:\n",
        "            return self._impute()\n",
        "        elif self.scale_type is not None:\n",
        "            return self._scale()\n",
        "        else:\n",
        "            raise Exception(\"Encoding type not understood\")"
      ],
      "id": "48ca3082",
      "execution_count": null,
      "outputs": []
    },
    {
      "cell_type": "markdown",
      "metadata": {
        "id": "c661db03"
      },
      "source": [
        "<br><br>\n",
        "\n",
        "---\n",
        "\n",
        "### ***b. Encoding and scaling:***\n",
        "\n",
        "---\n",
        "Label encoding ordinal variables, one hot encode nominal varibles, and add missing indicators using custom classes I wrote for data prep"
      ],
      "id": "c661db03"
    },
    {
      "cell_type": "code",
      "metadata": {
        "id": "aac4ca6d"
      },
      "source": [
        "for c in ['NEIGHBORHOOD', 'TAX CLASS AT TIME OF SALE', 'BUILDING CLASS CATEGORY']:\n",
        "    small_df.loc[small_df[c].value_counts()[small_df[c]].values < 50, c] = \"RARE_VALUE\""
      ],
      "id": "aac4ca6d",
      "execution_count": null,
      "outputs": []
    },
    {
      "cell_type": "code",
      "metadata": {
        "id": "ca50ecc3"
      },
      "source": [
        "nom_feats_small = ['NEIGHBORHOOD', 'TAX CLASS AT TIME OF SALE', 'BUILDING CLASS CATEGORY']\n",
        "ord_feats_small = ['YEAR BUILT', 'SALE YEAR']\n",
        "\n",
        "cat_feats = CategoricalFeatures(small_df, \n",
        "                                nominal_features = nom_feats_small,\n",
        "                                ordinal_features = ord_feats_small, \n",
        "                                encoding_type=\"mixed\",\n",
        "                                handle_na=True)\n",
        "df_cat_transformed = cat_feats._fit_transform()\n"
      ],
      "id": "ca50ecc3",
      "execution_count": null,
      "outputs": []
    },
    {
      "cell_type": "markdown",
      "metadata": {
        "id": "6703a27c"
      },
      "source": [
        "No imputation or scaling necessary right now for our numeric features"
      ],
      "id": "6703a27c"
    },
    {
      "cell_type": "code",
      "metadata": {
        "id": "7f817805"
      },
      "source": [
        "num_feats_small = ['SALE MONTH_sin', 'SALE MONTH_cos']"
      ],
      "id": "7f817805",
      "execution_count": null,
      "outputs": []
    },
    {
      "cell_type": "markdown",
      "metadata": {
        "id": "f801578d"
      },
      "source": [
        "For high cardinality nominal variables, recode low incidence levels"
      ],
      "id": "f801578d"
    },
    {
      "cell_type": "code",
      "metadata": {
        "id": "52db75c4"
      },
      "source": [
        "for c in ['NEIGHBORHOOD', 'TAX CLASS AT TIME OF SALE', 'BUILDING CLASS CATEGORY']:\n",
        "    small_df.loc[small_df[c].value_counts()[small_df[c]].values < 50, c] = \"RARE_VALUE\""
      ],
      "id": "52db75c4",
      "execution_count": null,
      "outputs": []
    },
    {
      "cell_type": "markdown",
      "metadata": {
        "id": "421d6dbd"
      },
      "source": [
        "---\n",
        "\n",
        "### ***c. Exploratory data analysis:***\n",
        "\n",
        "---"
      ],
      "id": "421d6dbd"
    },
    {
      "cell_type": "markdown",
      "metadata": {
        "id": "f151c297"
      },
      "source": [
        "Check target distribution and clean"
      ],
      "id": "f151c297"
    },
    {
      "cell_type": "code",
      "metadata": {
        "id": "564450a1"
      },
      "source": [
        "def check_skewness(df, col):\n",
        "    \"\"\" Plot distribution and descriptive stats\"\"\"\n",
        "    sns.distplot(df[col] , fit=norm);\n",
        "    fig = plt.figure()\n",
        "    res = stats.probplot(df[col], plot=plt)\n",
        "    \n",
        "    # Get the fitted parameters used by the function\n",
        "    (mean, stddev) = norm.fit(df[col])\n",
        "    print( '\\n mean = {:.2f} and stddev = {:.2f}\\n'.format(mean, stddev))"
      ],
      "id": "564450a1",
      "execution_count": null,
      "outputs": []
    },
    {
      "cell_type": "code",
      "metadata": {
        "colab": {
          "base_uri": "https://localhost:8080/",
          "height": 784
        },
        "id": "c86c8b08",
        "outputId": "f01de574-f613-422f-dfa0-abc1c342b142"
      },
      "source": [
        "# clean our target var\n",
        "df_cat_transformed['SALE PRICE'] = df_cat_transformed['SALE PRICE'].apply(lambda x: int(re.sub(',', '',x)))\n",
        "check_skewness(df_cat_transformed, 'SALE PRICE')"
      ],
      "id": "c86c8b08",
      "execution_count": null,
      "outputs": [
        {
          "output_type": "stream",
          "name": "stdout",
          "text": [
            "\n",
            " mean = 2572272.60 and stddev = 13449275.03\n",
            "\n"
          ]
        },
        {
          "output_type": "display_data",
          "data": {
            "image/png": "[encoded data removed]",
            "text/plain": [
              "<Figure size 576x396 with 1 Axes>"
            ]
          },
          "metadata": {}
        },
        {
          "output_type": "display_data",
          "data": {
            "image/png": "[encoded data removed]",
            "text/plain": [
              "<Figure size 576x396 with 1 Axes>"
            ]
          },
          "metadata": {}
        }
      ]
    },
    {
      "cell_type": "markdown",
      "metadata": {
        "id": "6155efa4"
      },
      "source": [
        "Our target is highly right skewed. We will remove some outliers but leave right skewed for now, but may apply log transform to make our target more normal before predictive modeling."
      ],
      "id": "6155efa4"
    },
    {
      "cell_type": "code",
      "metadata": {
        "colab": {
          "base_uri": "https://localhost:8080/",
          "height": 784
        },
        "id": "3c5b3602",
        "outputId": "ea90f14b-db51-4b0c-8c0a-7e1d5c5f1d9e"
      },
      "source": [
        "# remove outliers and 0s, could do more here (including scaling), but will leave for now\n",
        "df_cat_transformed = df_cat_transformed[df_cat_transformed['SALE PRICE'].between(10000, df_cat_transformed['SALE PRICE'].quantile(.95))]\n",
        "check_skewness(df_cat_transformed, 'SALE PRICE')"
      ],
      "id": "3c5b3602",
      "execution_count": null,
      "outputs": [
        {
          "output_type": "stream",
          "name": "stdout",
          "text": [
            "\n",
            " mean = 1597464.34 and stddev = 1375615.40\n",
            "\n"
          ]
        },
        {
          "output_type": "display_data",
          "data": {
            "image/png": "[encoded data removed]",
            "text/plain": [
              "<Figure size 576x396 with 1 Axes>"
            ]
          },
          "metadata": {}
        },
        {
          "output_type": "display_data",
          "data": {
            "image/png": "[encoded data removed]",
            "text/plain": [
              "<Figure size 576x396 with 1 Axes>"
            ]
          },
          "metadata": {}
        }
      ]
    },
    {
      "cell_type": "markdown",
      "metadata": {
        "id": "dad1fa1f"
      },
      "source": [
        "#### Plot median daily sales price"
      ],
      "id": "dad1fa1f"
    },
    {
      "cell_type": "markdown",
      "metadata": {
        "id": "81c454ff"
      },
      "source": [
        "Eventhough our target is highly right skewed, our median daily sales prices series looks approximately stationary, i.e. has constant mean and variance. This suggests that sale date has spurious relationship with sales price."
      ],
      "id": "81c454ff"
    },
    {
      "cell_type": "code",
      "metadata": {
        "colab": {
          "base_uri": "https://localhost:8080/",
          "height": 376
        },
        "id": "f1b48666",
        "outputId": "1196c587-251b-4388-cb25-e49763c825e5"
      },
      "source": [
        "median_price_series = df_cat_transformed.groupby('SALE DATE')['SALE PRICE'].agg(['median'])\n",
        "df_cat_transformed.drop(['SALE DATE', 'SALE MONTH'], axis=1, inplace=True)\n",
        "plt.plot(median_price_series)  "
      ],
      "id": "f1b48666",
      "execution_count": null,
      "outputs": [
        {
          "output_type": "execute_result",
          "data": {
            "text/plain": [
              "[<matplotlib.lines.Line2D at 0x7f555ff46a10>]"
            ]
          },
          "metadata": {},
          "execution_count": 19
        },
        {
          "output_type": "display_data",
          "data": {
            "image/png": "[encoded data removed]",
            "text/plain": [
              "<Figure size 576x396 with 1 Axes>"
            ]
          },
          "metadata": {}
        }
      ]
    },
    {
      "cell_type": "markdown",
      "metadata": {
        "id": "ee1f2fb8"
      },
      "source": [
        "Look at features with highest pairwise correlations, no noteworthy relationships here. Also, notice we added our target for good measure, despite not being highly correlated with any features. \n",
        "\n",
        "We could run more meaningful independence/collinearity tests for ordinal and dummy data here (e.g. chi-squared test, mutual information test, etc.)"
      ],
      "id": "ee1f2fb8"
    },
    {
      "cell_type": "code",
      "metadata": {
        "colab": {
          "base_uri": "https://localhost:8080/",
          "height": 920
        },
        "id": "a49ecf1a",
        "outputId": "ac087c8b-83d1-44e6-820c-aec115a3e2b5"
      },
      "source": [
        "corrmat = df_cat_transformed.corr()\n",
        "top_corr_features = set()\n",
        "for c in list(corrmat.index):\n",
        "    top_corr_features.update(set(corrmat.index[abs(corrmat[c]).between(0.5,.99)])) \n",
        "        \n",
        "top_corr_features.update({'SALE PRICE'})\n",
        "plt.figure(figsize=(10,10))\n",
        "g = sns.heatmap(df_cat_transformed[sorted(top_corr_features)].corr(),annot=True,cmap=\"RdYlGn\")"
      ],
      "id": "a49ecf1a",
      "execution_count": null,
      "outputs": [
        {
          "output_type": "display_data",
          "data": {
            "image/png": "[encoded data removed]",
            "text/plain": [
              "<Figure size 720x720 with 2 Axes>"
            ]
          },
          "metadata": {}
        }
      ]
    },
    {
      "cell_type": "markdown",
      "metadata": {
        "id": "c360f82e"
      },
      "source": [
        "We can see that we don't have strong correlation or linear relationships from the scatterplots below. Another good reason to look at more meaningful independence/collinearity tests for ordinal and dummy data (e.g. chi-squared test, mutual information test, etc.)\n",
        "\n",
        "> Please excuse jupyter formatting!\n",
        "\n"
      ],
      "id": "c360f82e"
    },
    {
      "cell_type": "code",
      "metadata": {
        "colab": {
          "base_uri": "https://localhost:8080/",
          "height": 840
        },
        "id": "adff6d95",
        "outputId": "0e2ba935-cc08-43fe-d3ed-068cc4014976"
      },
      "source": [
        "sns.set()\n",
        "cols = list(top_corr_features)[:5]\n",
        "sns.pairplot(df_cat_transformed[cols])"
      ],
      "id": "adff6d95",
      "execution_count": null,
      "outputs": [
        {
          "output_type": "execute_result",
          "data": {
            "text/plain": [
              "<seaborn.axisgrid.PairGrid at 0x7f555fed2590>"
            ]
          },
          "metadata": {},
          "execution_count": 21
        },
        {
          "output_type": "display_data",
          "data": {
            "image/png": "[encoded data removed]",
            "text/plain": [
              "<Figure size 900x900 with 30 Axes>"
            ]
          },
          "metadata": {}
        }
      ]
    },
    {
      "cell_type": "markdown",
      "metadata": {
        "id": "803efe0c"
      },
      "source": [
        "---\n",
        "## 2. Hypothesis Testing with Multiple Linear Regression¶\n",
        "#### a. Null Hypothesis for t-test and f-test\n",
        "---"
      ],
      "id": "803efe0c"
    },
    {
      "cell_type": "markdown",
      "metadata": {
        "id": "53a0cdf5"
      },
      "source": [
        "In this section I run several hypothesis tests using MLR:"
      ],
      "id": "53a0cdf5"
    },
    {
      "cell_type": "markdown",
      "metadata": {
        "id": "9737a1f0"
      },
      "source": [
        "$\\text{1. Full model F-Test:}$<br>\n",
        ">${H}_{0} : {\\ \\beta}_{1} = {\\beta}_{2} = {\\beta}_{3} = ... = {\\beta}_{m} = 0$\n",
        "<br>\n",
        ">${H}_{A} :$ At least one ${\\ \\beta}_{i}{\\ \\not=\\ } 0 \\text{  , for }\\textit{i}\\text{ in 1, 2, 3,..., m} $\n",
        "\n",
        "Research question 1: Is a regression model containing at least one predictor useful in predicting the size of the sales price? In other words, is our full model useful at predicting sales price.<br> We will include predictors encoded from the following features : <code>['SALE PRICE', 'NEIGHBORHOOD', 'YEAR BUILT', 'SALE DATE', 'TAX CLASS AT TIME OF SALE','BUILDING CLASS CATEGORY']<code>\n",
        "    \n",
        "<br>\n",
        "\n",
        "\n"
      ],
      "id": "9737a1f0"
    },
    {
      "cell_type": "markdown",
      "metadata": {
        "id": "CxPWdt6e1frH"
      },
      "source": [
        "    \n",
        "$\\text{2. Full model T-Test:}$<br>\n",
        ">${H}_{0} : {\\ \\beta}_{tax\\_class_1} = 0$\n",
        "<br>\n",
        ">${H}_{A} : {\\ \\beta}_{tax\\_class_1}{\\ \\not=\\ } 0$\n",
        "\n",
        "Research question 2: While controlling for all other features in our model, is the predictor 'TAX CLASS AT TIME OF SALE_1' in the full regression model significantly linearly related to the sales price? (Tax class 1: Includes most residential property of up to three units, vacant land that is zoned for residential use, and most condominiums that are not more than three stories.)\n",
        "    \n",
        "In other words, The t-test is a test for the marginal significance of the x1 predictor after controlling for all the rest of the full model predictor set.\n",
        "\n",
        "---"
      ],
      "id": "CxPWdt6e1frH"
    },
    {
      "cell_type": "markdown",
      "metadata": {
        "id": "jr-vSEo1d2Bt"
      },
      "source": [
        "---\n",
        "\n",
        "### ***Hypothesis testing and regression output:***\n",
        "---\n"
      ],
      "id": "jr-vSEo1d2Bt"
    },
    {
      "cell_type": "markdown",
      "metadata": {
        "id": "9e6fc656"
      },
      "source": [
        "### $\\text{Full model F-Test:}$"
      ],
      "id": "9e6fc656"
    },
    {
      "cell_type": "code",
      "metadata": {
        "id": "YUW-nDvBpQ2x"
      },
      "source": [
        "df_cat_transformed = df_cat_transformed.sample(frac=1, random_state=42)\n",
        "df_cat_trans_small = df_cat_transformed[:].copy()"
      ],
      "id": "YUW-nDvBpQ2x",
      "execution_count": null,
      "outputs": []
    },
    {
      "cell_type": "code",
      "metadata": {
        "id": "8qSPUocUSK-j"
      },
      "source": [
        "# select columns described above in full model F-test\n",
        "df_cat_transformed.drop(['TAX CLASS AT PRESENT', 'ZIP CODE',\n",
        "                         'BUILDING CLASS AT TIME OF SALE','TAX CLASS AT PRESENT_na_flag', \n",
        "                         'BUILDING CLASS AT PRESENT_na_flag', 'BUILDING CLASS AT PRESENT', \n",
        "                         'NEIGHBORHOOD_ALPHABET CITY'\n",
        "                         ],axis=1,inplace=True)"
      ],
      "id": "8qSPUocUSK-j",
      "execution_count": null,
      "outputs": []
    },
    {
      "cell_type": "code",
      "metadata": {
        "colab": {
          "base_uri": "https://localhost:8080/",
          "height": 1000
        },
        "id": "cebb105b",
        "outputId": "9b68f7d8-bba2-49c8-b90a-5fe9174b69b8"
      },
      "source": [
        "X = df_cat_transformed.drop('SALE PRICE', axis=1)\n",
        "X = sm.add_constant(X) # add intercept term\n",
        "y = df_cat_transformed['SALE PRICE']\n",
        "\n",
        "results = sm.OLS(y, X).fit()\n",
        "results.summary()"
      ],
      "id": "cebb105b",
      "execution_count": null,
      "outputs": [
        {
          "output_type": "execute_result",
          "data": {
            "text/html": [
              "<table class=\"simpletable\">\n",
              "<caption>OLS Regression Results</caption>\n",
              "<tr>\n",
              "  <th>Dep. Variable:</th>       <td>SALE PRICE</td>    <th>  R-squared:         </th>  <td>   0.292</td>  \n",
              "</tr>\n",
              "<tr>\n",
              "  <th>Model:</th>                   <td>OLS</td>       <th>  Adj. R-squared:    </th>  <td>   0.288</td>  \n",
              "</tr>\n",
              "<tr>\n",
              "  <th>Method:</th>             <td>Least Squares</td>  <th>  F-statistic:       </th>  <td>   77.85</td>  \n",
              "</tr>\n",
              "<tr>\n",
              "  <th>Date:</th>             <td>Fri, 17 Sep 2021</td> <th>  Prob (F-statistic):</th>   <td>  0.00</td>   \n",
              "</tr>\n",
              "<tr>\n",
              "  <th>Time:</th>                 <td>07:27:31</td>     <th>  Log-Likelihood:    </th> <td>-1.8975e+05</td>\n",
              "</tr>\n",
              "<tr>\n",
              "  <th>No. Observations:</th>      <td> 12337</td>      <th>  AIC:               </th>  <td>3.796e+05</td> \n",
              "</tr>\n",
              "<tr>\n",
              "  <th>Df Residuals:</th>          <td> 12271</td>      <th>  BIC:               </th>  <td>3.801e+05</td> \n",
              "</tr>\n",
              "<tr>\n",
              "  <th>Df Model:</th>              <td>    65</td>      <th>                     </th>      <td> </td>     \n",
              "</tr>\n",
              "<tr>\n",
              "  <th>Covariance Type:</th>      <td>nonrobust</td>    <th>                     </th>      <td> </td>     \n",
              "</tr>\n",
              "</table>\n",
              "<table class=\"simpletable\">\n",
              "<tr>\n",
              "                              <td></td>                                 <th>coef</th>     <th>std err</th>      <th>t</th>      <th>P>|t|</th>  <th>[0.025</th>    <th>0.975]</th>  \n",
              "</tr>\n",
              "<tr>\n",
              "  <th>const</th>                                                     <td> 1.468e+06</td> <td> 1.09e+05</td> <td>   13.510</td> <td> 0.000</td> <td> 1.26e+06</td> <td> 1.68e+06</td>\n",
              "</tr>\n",
              "<tr>\n",
              "  <th>YEAR BUILT</th>                                                <td> 1075.1743</td> <td>  408.783</td> <td>    2.630</td> <td> 0.009</td> <td>  273.895</td> <td> 1876.454</td>\n",
              "</tr>\n",
              "<tr>\n",
              "  <th>SALE MONTH_sin</th>                                            <td>-2.406e+04</td> <td> 2.76e+04</td> <td>   -0.872</td> <td> 0.383</td> <td>-7.82e+04</td> <td>    3e+04</td>\n",
              "</tr>\n",
              "<tr>\n",
              "  <th>SALE MONTH_cos</th>                                            <td>-2.292e+04</td> <td> 2.22e+04</td> <td>   -1.034</td> <td> 0.301</td> <td>-6.64e+04</td> <td> 2.05e+04</td>\n",
              "</tr>\n",
              "<tr>\n",
              "  <th>SALE YEAR</th>                                                 <td> 4.064e+04</td> <td> 4.84e+04</td> <td>    0.839</td> <td> 0.401</td> <td>-5.43e+04</td> <td> 1.36e+05</td>\n",
              "</tr>\n",
              "<tr>\n",
              "  <th>YEAR BUILT_na_flag</th>                                        <td>-1.098e+05</td> <td> 4.56e+04</td> <td>   -2.410</td> <td> 0.016</td> <td>-1.99e+05</td> <td>-2.05e+04</td>\n",
              "</tr>\n",
              "<tr>\n",
              "  <th>NEIGHBORHOOD_CHELSEA</th>                                      <td>  8.39e+05</td> <td> 1.26e+05</td> <td>    6.679</td> <td> 0.000</td> <td> 5.93e+05</td> <td> 1.09e+06</td>\n",
              "</tr>\n",
              "<tr>\n",
              "  <th>NEIGHBORHOOD_CHINATOWN</th>                                    <td>  3.42e+05</td> <td>  2.1e+05</td> <td>    1.632</td> <td> 0.103</td> <td>-6.87e+04</td> <td> 7.53e+05</td>\n",
              "</tr>\n",
              "<tr>\n",
              "  <th>NEIGHBORHOOD_CIVIC CENTER</th>                                 <td> 1.601e+06</td> <td> 1.45e+05</td> <td>   11.010</td> <td> 0.000</td> <td> 1.32e+06</td> <td> 1.89e+06</td>\n",
              "</tr>\n",
              "<tr>\n",
              "  <th>NEIGHBORHOOD_CLINTON</th>                                      <td>-2.793e+04</td> <td> 1.42e+05</td> <td>   -0.196</td> <td> 0.844</td> <td>-3.07e+05</td> <td> 2.51e+05</td>\n",
              "</tr>\n",
              "<tr>\n",
              "  <th>NEIGHBORHOOD_EAST VILLAGE</th>                                 <td> 4.882e+05</td> <td> 1.54e+05</td> <td>    3.168</td> <td> 0.002</td> <td> 1.86e+05</td> <td>  7.9e+05</td>\n",
              "</tr>\n",
              "<tr>\n",
              "  <th>NEIGHBORHOOD_FASHION</th>                                      <td> 3.739e+05</td> <td> 1.96e+05</td> <td>    1.907</td> <td> 0.057</td> <td>-1.05e+04</td> <td> 7.58e+05</td>\n",
              "</tr>\n",
              "<tr>\n",
              "  <th>NEIGHBORHOOD_FINANCIAL</th>                                    <td>-4.054e+04</td> <td> 1.36e+05</td> <td>   -0.298</td> <td> 0.766</td> <td>-3.07e+05</td> <td> 2.26e+05</td>\n",
              "</tr>\n",
              "<tr>\n",
              "  <th>NEIGHBORHOOD_FLATIRON</th>                                     <td> 1.083e+06</td> <td> 1.43e+05</td> <td>    7.590</td> <td> 0.000</td> <td> 8.03e+05</td> <td> 1.36e+06</td>\n",
              "</tr>\n",
              "<tr>\n",
              "  <th>NEIGHBORHOOD_GRAMERCY</th>                                     <td> 4.789e+05</td> <td> 1.31e+05</td> <td>    3.663</td> <td> 0.000</td> <td> 2.23e+05</td> <td> 7.35e+05</td>\n",
              "</tr>\n",
              "<tr>\n",
              "  <th>NEIGHBORHOOD_GREENWICH VILLAGE-CENTRAL</th>                    <td> 1.016e+06</td> <td> 1.27e+05</td> <td>    7.981</td> <td> 0.000</td> <td> 7.67e+05</td> <td> 1.27e+06</td>\n",
              "</tr>\n",
              "<tr>\n",
              "  <th>NEIGHBORHOOD_GREENWICH VILLAGE-WEST</th>                       <td> 1.091e+06</td> <td> 1.29e+05</td> <td>    8.492</td> <td> 0.000</td> <td>  8.4e+05</td> <td> 1.34e+06</td>\n",
              "</tr>\n",
              "<tr>\n",
              "  <th>NEIGHBORHOOD_HARLEM-CENTRAL</th>                               <td>-5.215e+05</td> <td>  1.3e+05</td> <td>   -4.017</td> <td> 0.000</td> <td>-7.76e+05</td> <td>-2.67e+05</td>\n",
              "</tr>\n",
              "<tr>\n",
              "  <th>NEIGHBORHOOD_HARLEM-EAST</th>                                  <td>-6.178e+05</td> <td> 1.64e+05</td> <td>   -3.771</td> <td> 0.000</td> <td>-9.39e+05</td> <td>-2.97e+05</td>\n",
              "</tr>\n",
              "<tr>\n",
              "  <th>NEIGHBORHOOD_HARLEM-UPPER</th>                                 <td>-5.423e+05</td> <td> 1.96e+05</td> <td>   -2.762</td> <td> 0.006</td> <td>-9.27e+05</td> <td>-1.57e+05</td>\n",
              "</tr>\n",
              "<tr>\n",
              "  <th>NEIGHBORHOOD_INWOOD</th>                                       <td> 1.101e+04</td> <td> 1.75e+05</td> <td>    0.063</td> <td> 0.950</td> <td>-3.31e+05</td> <td> 3.53e+05</td>\n",
              "</tr>\n",
              "<tr>\n",
              "  <th>NEIGHBORHOOD_JAVITS CENTER</th>                                <td> 2.063e+06</td> <td> 1.88e+05</td> <td>   10.999</td> <td> 0.000</td> <td>  1.7e+06</td> <td> 2.43e+06</td>\n",
              "</tr>\n",
              "<tr>\n",
              "  <th>NEIGHBORHOOD_KIPS BAY</th>                                     <td>-2.259e+05</td> <td> 1.44e+05</td> <td>   -1.566</td> <td> 0.117</td> <td>-5.09e+05</td> <td> 5.69e+04</td>\n",
              "</tr>\n",
              "<tr>\n",
              "  <th>NEIGHBORHOOD_LITTLE ITALY</th>                                 <td> 1.206e+06</td> <td> 2.24e+05</td> <td>    5.384</td> <td> 0.000</td> <td> 7.67e+05</td> <td> 1.64e+06</td>\n",
              "</tr>\n",
              "<tr>\n",
              "  <th>NEIGHBORHOOD_LOWER EAST SIDE</th>                              <td>  2.33e+05</td> <td> 1.35e+05</td> <td>    1.725</td> <td> 0.085</td> <td>-3.18e+04</td> <td> 4.98e+05</td>\n",
              "</tr>\n",
              "<tr>\n",
              "  <th>NEIGHBORHOOD_MANHATTAN VALLEY</th>                             <td> -2.94e+05</td> <td> 1.44e+05</td> <td>   -2.043</td> <td> 0.041</td> <td>-5.76e+05</td> <td>-1.19e+04</td>\n",
              "</tr>\n",
              "<tr>\n",
              "  <th>NEIGHBORHOOD_MIDTOWN CBD</th>                                  <td> 3.776e+05</td> <td> 1.55e+05</td> <td>    2.436</td> <td> 0.015</td> <td> 7.38e+04</td> <td> 6.81e+05</td>\n",
              "</tr>\n",
              "<tr>\n",
              "  <th>NEIGHBORHOOD_MIDTOWN EAST</th>                                 <td> 1.252e+05</td> <td> 1.25e+05</td> <td>    1.003</td> <td> 0.316</td> <td>-1.19e+05</td> <td>  3.7e+05</td>\n",
              "</tr>\n",
              "<tr>\n",
              "  <th>NEIGHBORHOOD_MIDTOWN WEST</th>                                 <td> 2.235e+05</td> <td> 1.29e+05</td> <td>    1.735</td> <td> 0.083</td> <td> -2.9e+04</td> <td> 4.76e+05</td>\n",
              "</tr>\n",
              "<tr>\n",
              "  <th>NEIGHBORHOOD_MORNINGSIDE HEIGHTS</th>                          <td> 2.085e+05</td> <td> 1.66e+05</td> <td>    1.252</td> <td> 0.210</td> <td>-1.18e+05</td> <td> 5.35e+05</td>\n",
              "</tr>\n",
              "<tr>\n",
              "  <th>NEIGHBORHOOD_MURRAY HILL</th>                                  <td> 1.598e+05</td> <td> 1.29e+05</td> <td>    1.240</td> <td> 0.215</td> <td>-9.28e+04</td> <td> 4.12e+05</td>\n",
              "</tr>\n",
              "<tr>\n",
              "  <th>NEIGHBORHOOD_RARE_VALUE</th>                                   <td>-4.698e+04</td> <td> 2.12e+05</td> <td>   -0.221</td> <td> 0.825</td> <td>-4.63e+05</td> <td> 3.69e+05</td>\n",
              "</tr>\n",
              "<tr>\n",
              "  <th>NEIGHBORHOOD_SOHO</th>                                         <td>  1.08e+06</td> <td> 1.32e+05</td> <td>    8.183</td> <td> 0.000</td> <td> 8.21e+05</td> <td> 1.34e+06</td>\n",
              "</tr>\n",
              "<tr>\n",
              "  <th>NEIGHBORHOOD_SOUTHBRIDGE</th>                                  <td>  8.98e+05</td> <td> 1.57e+05</td> <td>    5.704</td> <td> 0.000</td> <td> 5.89e+05</td> <td> 1.21e+06</td>\n",
              "</tr>\n",
              "<tr>\n",
              "  <th>NEIGHBORHOOD_TRIBECA</th>                                      <td> 1.185e+06</td> <td> 1.33e+05</td> <td>    8.881</td> <td> 0.000</td> <td> 9.23e+05</td> <td> 1.45e+06</td>\n",
              "</tr>\n",
              "<tr>\n",
              "  <th>NEIGHBORHOOD_UPPER EAST SIDE (59-79)</th>                      <td> 6.372e+05</td> <td> 1.21e+05</td> <td>    5.247</td> <td> 0.000</td> <td> 3.99e+05</td> <td> 8.75e+05</td>\n",
              "</tr>\n",
              "<tr>\n",
              "  <th>NEIGHBORHOOD_UPPER EAST SIDE (79-96)</th>                      <td> 6.227e+05</td> <td> 1.21e+05</td> <td>    5.127</td> <td> 0.000</td> <td> 3.85e+05</td> <td> 8.61e+05</td>\n",
              "</tr>\n",
              "<tr>\n",
              "  <th>NEIGHBORHOOD_UPPER EAST SIDE (96-110)</th>                     <td> 1.179e+06</td> <td> 2.22e+05</td> <td>    5.308</td> <td> 0.000</td> <td> 7.43e+05</td> <td> 1.61e+06</td>\n",
              "</tr>\n",
              "<tr>\n",
              "  <th>NEIGHBORHOOD_UPPER WEST SIDE (59-79)</th>                      <td> 7.977e+05</td> <td> 1.22e+05</td> <td>    6.558</td> <td> 0.000</td> <td> 5.59e+05</td> <td> 1.04e+06</td>\n",
              "</tr>\n",
              "<tr>\n",
              "  <th>NEIGHBORHOOD_UPPER WEST SIDE (79-96)</th>                      <td>  7.59e+05</td> <td> 1.25e+05</td> <td>    6.055</td> <td> 0.000</td> <td> 5.13e+05</td> <td>    1e+06</td>\n",
              "</tr>\n",
              "<tr>\n",
              "  <th>NEIGHBORHOOD_UPPER WEST SIDE (96-116)</th>                     <td>  4.52e+05</td> <td> 1.35e+05</td> <td>    3.345</td> <td> 0.001</td> <td> 1.87e+05</td> <td> 7.17e+05</td>\n",
              "</tr>\n",
              "<tr>\n",
              "  <th>NEIGHBORHOOD_WASHINGTON HEIGHTS LOWER</th>                     <td>-3.329e+05</td> <td> 1.76e+05</td> <td>   -1.891</td> <td> 0.059</td> <td>-6.78e+05</td> <td> 1.22e+04</td>\n",
              "</tr>\n",
              "<tr>\n",
              "  <th>NEIGHBORHOOD_WASHINGTON HEIGHTS UPPER</th>                     <td>-1.846e+05</td> <td> 1.44e+05</td> <td>   -1.286</td> <td> 0.198</td> <td>-4.66e+05</td> <td> 9.68e+04</td>\n",
              "</tr>\n",
              "<tr>\n",
              "  <th>TAX CLASS AT TIME OF SALE_1</th>                               <td> 4.933e+05</td> <td> 2.74e+05</td> <td>    1.797</td> <td> 0.072</td> <td>-4.48e+04</td> <td> 1.03e+06</td>\n",
              "</tr>\n",
              "<tr>\n",
              "  <th>TAX CLASS AT TIME OF SALE_2</th>                               <td>-7.766e+05</td> <td> 2.27e+05</td> <td>   -3.414</td> <td> 0.001</td> <td>-1.22e+06</td> <td>-3.31e+05</td>\n",
              "</tr>\n",
              "<tr>\n",
              "  <th>TAX CLASS AT TIME OF SALE_4</th>                               <td> 1.751e+06</td> <td> 1.98e+05</td> <td>    8.834</td> <td> 0.000</td> <td> 1.36e+06</td> <td> 2.14e+06</td>\n",
              "</tr>\n",
              "<tr>\n",
              "  <th>BUILDING CLASS CATEGORY_01 ONE FAMILY DWELLINGS</th>           <td> 1.768e+06</td> <td> 3.62e+05</td> <td>    4.881</td> <td> 0.000</td> <td> 1.06e+06</td> <td> 2.48e+06</td>\n",
              "</tr>\n",
              "<tr>\n",
              "  <th>BUILDING CLASS CATEGORY_02 TWO FAMILY DWELLINGS</th>           <td>  1.23e+06</td> <td> 3.62e+05</td> <td>    3.395</td> <td> 0.001</td> <td>  5.2e+05</td> <td> 1.94e+06</td>\n",
              "</tr>\n",
              "<tr>\n",
              "  <th>BUILDING CLASS CATEGORY_03 THREE FAMILY DWELLINGS</th>         <td> 1.635e+06</td> <td> 3.96e+05</td> <td>    4.125</td> <td> 0.000</td> <td> 8.58e+05</td> <td> 2.41e+06</td>\n",
              "</tr>\n",
              "<tr>\n",
              "  <th>BUILDING CLASS CATEGORY_07 RENTALS - WALKUP APARTMENTS</th>    <td> 2.437e+06</td> <td> 2.09e+05</td> <td>   11.641</td> <td> 0.000</td> <td> 2.03e+06</td> <td> 2.85e+06</td>\n",
              "</tr>\n",
              "<tr>\n",
              "  <th>BUILDING CLASS CATEGORY_08 RENTALS - ELEVATOR APARTMENTS</th>  <td> 1.339e+06</td> <td> 2.57e+05</td> <td>    5.200</td> <td> 0.000</td> <td> 8.34e+05</td> <td> 1.84e+06</td>\n",
              "</tr>\n",
              "<tr>\n",
              "  <th>BUILDING CLASS CATEGORY_09 COOPS - WALKUP APARTMENTS</th>      <td>-4.109e+05</td> <td> 1.97e+05</td> <td>   -2.091</td> <td> 0.037</td> <td>-7.96e+05</td> <td>-2.57e+04</td>\n",
              "</tr>\n",
              "<tr>\n",
              "  <th>BUILDING CLASS CATEGORY_10 COOPS - ELEVATOR APARTMENTS</th>    <td>-1.452e+05</td> <td> 1.92e+05</td> <td>   -0.757</td> <td> 0.449</td> <td>-5.21e+05</td> <td> 2.31e+05</td>\n",
              "</tr>\n",
              "<tr>\n",
              "  <th>BUILDING CLASS CATEGORY_11 SPECIAL CONDO BILLING LOTS</th>     <td> 6.342e+05</td> <td> 2.29e+05</td> <td>    2.766</td> <td> 0.006</td> <td> 1.85e+05</td> <td> 1.08e+06</td>\n",
              "</tr>\n",
              "<tr>\n",
              "  <th>BUILDING CLASS CATEGORY_12 CONDOS - WALKUP APARTMENTS</th>     <td>  3.76e+05</td> <td> 2.27e+05</td> <td>    1.656</td> <td> 0.098</td> <td>-6.92e+04</td> <td> 8.21e+05</td>\n",
              "</tr>\n",
              "<tr>\n",
              "  <th>BUILDING CLASS CATEGORY_13 CONDOS - ELEVATOR APARTMENTS</th>   <td> 6.362e+05</td> <td> 1.91e+05</td> <td>    3.325</td> <td> 0.001</td> <td> 2.61e+05</td> <td> 1.01e+06</td>\n",
              "</tr>\n",
              "<tr>\n",
              "  <th>BUILDING CLASS CATEGORY_14 RENTALS - 4-10 UNIT</th>            <td> 2.155e+06</td> <td> 2.71e+05</td> <td>    7.963</td> <td> 0.000</td> <td> 1.62e+06</td> <td> 2.69e+06</td>\n",
              "</tr>\n",
              "<tr>\n",
              "  <th>BUILDING CLASS CATEGORY_15 CONDOS - 2-10 UNIT RESIDENTIAL</th> <td> 1.236e+06</td> <td> 2.05e+05</td> <td>    6.041</td> <td> 0.000</td> <td> 8.35e+05</td> <td> 1.64e+06</td>\n",
              "</tr>\n",
              "<tr>\n",
              "  <th>BUILDING CLASS CATEGORY_17 CONDO COOPS</th>                    <td>-4.588e+05</td> <td> 1.95e+05</td> <td>   -2.351</td> <td> 0.019</td> <td>-8.41e+05</td> <td>-7.63e+04</td>\n",
              "</tr>\n",
              "<tr>\n",
              "  <th>BUILDING CLASS CATEGORY_21 OFFICE BUILDINGS</th>               <td>-7.062e+05</td> <td> 3.08e+05</td> <td>   -2.292</td> <td> 0.022</td> <td>-1.31e+06</td> <td>-1.02e+05</td>\n",
              "</tr>\n",
              "<tr>\n",
              "  <th>BUILDING CLASS CATEGORY_22 STORE BUILDINGS</th>                <td> 6.208e+05</td> <td> 2.93e+05</td> <td>    2.118</td> <td> 0.034</td> <td> 4.63e+04</td> <td>  1.2e+06</td>\n",
              "</tr>\n",
              "<tr>\n",
              "  <th>BUILDING CLASS CATEGORY_31 COMMERCIAL VACANT LAND</th>         <td>-8.305e+05</td> <td> 4.67e+05</td> <td>   -1.779</td> <td> 0.075</td> <td>-1.75e+06</td> <td> 8.46e+04</td>\n",
              "</tr>\n",
              "<tr>\n",
              "  <th>BUILDING CLASS CATEGORY_43 CONDO OFFICE BUILDINGS</th>         <td>-1.386e+06</td> <td> 2.43e+05</td> <td>   -5.714</td> <td> 0.000</td> <td>-1.86e+06</td> <td>-9.11e+05</td>\n",
              "</tr>\n",
              "<tr>\n",
              "  <th>BUILDING CLASS CATEGORY_44 CONDO PARKING</th>                  <td>-9.561e+05</td> <td> 2.86e+05</td> <td>   -3.345</td> <td> 0.001</td> <td>-1.52e+06</td> <td>-3.96e+05</td>\n",
              "</tr>\n",
              "<tr>\n",
              "  <th>BUILDING CLASS CATEGORY_45 CONDO HOTELS</th>                   <td>-3.723e+06</td> <td> 2.66e+05</td> <td>  -13.991</td> <td> 0.000</td> <td>-4.24e+06</td> <td> -3.2e+06</td>\n",
              "</tr>\n",
              "<tr>\n",
              "  <th>BUILDING CLASS CATEGORY_46 CONDO STORE BUILDINGS</th>          <td>-2.065e+06</td> <td> 2.91e+05</td> <td>   -7.108</td> <td> 0.000</td> <td>-2.63e+06</td> <td> -1.5e+06</td>\n",
              "</tr>\n",
              "<tr>\n",
              "  <th>BUILDING CLASS CATEGORY_47 CONDO NON-BUSINESS STORAGE</th>     <td> -1.95e+06</td> <td>  2.2e+05</td> <td>   -8.859</td> <td> 0.000</td> <td>-2.38e+06</td> <td>-1.52e+06</td>\n",
              "</tr>\n",
              "<tr>\n",
              "  <th>BUILDING CLASS CATEGORY_RARE_VALUE</th>                        <td> 3.175e+04</td> <td> 1.65e+05</td> <td>    0.192</td> <td> 0.848</td> <td>-2.92e+05</td> <td> 3.56e+05</td>\n",
              "</tr>\n",
              "</table>\n",
              "<table class=\"simpletable\">\n",
              "<tr>\n",
              "  <th>Omnibus:</th>       <td>3393.143</td> <th>  Durbin-Watson:     </th> <td>   1.991</td>\n",
              "</tr>\n",
              "<tr>\n",
              "  <th>Prob(Omnibus):</th>  <td> 0.000</td>  <th>  Jarque-Bera (JB):  </th> <td>9632.233</td>\n",
              "</tr>\n",
              "<tr>\n",
              "  <th>Skew:</th>           <td> 1.450</td>  <th>  Prob(JB):          </th> <td>    0.00</td>\n",
              "</tr>\n",
              "<tr>\n",
              "  <th>Kurtosis:</th>       <td> 6.214</td>  <th>  Cond. No.          </th> <td>2.95e+16</td>\n",
              "</tr>\n",
              "</table><br/><br/>Warnings:<br/>[1] Standard Errors assume that the covariance matrix of the errors is correctly specified.<br/>[2] The smallest eigenvalue is 9.49e-26. This might indicate that there are<br/>strong multicollinearity problems or that the design matrix is singular."
            ],
            "text/plain": [
              "<class 'statsmodels.iolib.summary.Summary'>\n",
              "\"\"\"\n",
              "                            OLS Regression Results                            \n",
              "==============================================================================\n",
              "Dep. Variable:             SALE PRICE   R-squared:                       0.292\n",
              "Model:                            OLS   Adj. R-squared:                  0.288\n",
              "Method:                 Least Squares   F-statistic:                     77.85\n",
              "Date:                Fri, 17 Sep 2021   Prob (F-statistic):               0.00\n",
              "Time:                        07:27:31   Log-Likelihood:            -1.8975e+05\n",
              "No. Observations:               12337   AIC:                         3.796e+05\n",
              "Df Residuals:                   12271   BIC:                         3.801e+05\n",
              "Df Model:                          65                                         \n",
              "Covariance Type:            nonrobust                                         \n",
              "=============================================================================================================================\n",
              "                                                                coef    std err          t      P>|t|      [0.025      0.975]\n",
              "-----------------------------------------------------------------------------------------------------------------------------\n",
              "const                                                      1.468e+06   1.09e+05     13.510      0.000    1.26e+06    1.68e+06\n",
              "YEAR BUILT                                                 1075.1743    408.783      2.630      0.009     273.895    1876.454\n",
              "SALE MONTH_sin                                            -2.406e+04   2.76e+04     -0.872      0.383   -7.82e+04       3e+04\n",
              "SALE MONTH_cos                                            -2.292e+04   2.22e+04     -1.034      0.301   -6.64e+04    2.05e+04\n",
              "SALE YEAR                                                  4.064e+04   4.84e+04      0.839      0.401   -5.43e+04    1.36e+05\n",
              "YEAR BUILT_na_flag                                        -1.098e+05   4.56e+04     -2.410      0.016   -1.99e+05   -2.05e+04\n",
              "NEIGHBORHOOD_CHELSEA                                        8.39e+05   1.26e+05      6.679      0.000    5.93e+05    1.09e+06\n",
              "NEIGHBORHOOD_CHINATOWN                                      3.42e+05    2.1e+05      1.632      0.103   -6.87e+04    7.53e+05\n",
              "NEIGHBORHOOD_CIVIC CENTER                                  1.601e+06   1.45e+05     11.010      0.000    1.32e+06    1.89e+06\n",
              "NEIGHBORHOOD_CLINTON                                      -2.793e+04   1.42e+05     -0.196      0.844   -3.07e+05    2.51e+05\n",
              "NEIGHBORHOOD_EAST VILLAGE                                  4.882e+05   1.54e+05      3.168      0.002    1.86e+05     7.9e+05\n",
              "NEIGHBORHOOD_FASHION                                       3.739e+05   1.96e+05      1.907      0.057   -1.05e+04    7.58e+05\n",
              "NEIGHBORHOOD_FINANCIAL                                    -4.054e+04   1.36e+05     -0.298      0.766   -3.07e+05    2.26e+05\n",
              "NEIGHBORHOOD_FLATIRON                                      1.083e+06   1.43e+05      7.590      0.000    8.03e+05    1.36e+06\n",
              "NEIGHBORHOOD_GRAMERCY                                      4.789e+05   1.31e+05      3.663      0.000    2.23e+05    7.35e+05\n",
              "NEIGHBORHOOD_GREENWICH VILLAGE-CENTRAL                     1.016e+06   1.27e+05      7.981      0.000    7.67e+05    1.27e+06\n",
              "NEIGHBORHOOD_GREENWICH VILLAGE-WEST                        1.091e+06   1.29e+05      8.492      0.000     8.4e+05    1.34e+06\n",
              "NEIGHBORHOOD_HARLEM-CENTRAL                               -5.215e+05    1.3e+05     -4.017      0.000   -7.76e+05   -2.67e+05\n",
              "NEIGHBORHOOD_HARLEM-EAST                                  -6.178e+05   1.64e+05     -3.771      0.000   -9.39e+05   -2.97e+05\n",
              "NEIGHBORHOOD_HARLEM-UPPER                                 -5.423e+05   1.96e+05     -2.762      0.006   -9.27e+05   -1.57e+05\n",
              "NEIGHBORHOOD_INWOOD                                        1.101e+04   1.75e+05      0.063      0.950   -3.31e+05    3.53e+05\n",
              "NEIGHBORHOOD_JAVITS CENTER                                 2.063e+06   1.88e+05     10.999      0.000     1.7e+06    2.43e+06\n",
              "NEIGHBORHOOD_KIPS BAY                                     -2.259e+05   1.44e+05     -1.566      0.117   -5.09e+05    5.69e+04\n",
              "NEIGHBORHOOD_LITTLE ITALY                                  1.206e+06   2.24e+05      5.384      0.000    7.67e+05    1.64e+06\n",
              "NEIGHBORHOOD_LOWER EAST SIDE                                2.33e+05   1.35e+05      1.725      0.085   -3.18e+04    4.98e+05\n",
              "NEIGHBORHOOD_MANHATTAN VALLEY                              -2.94e+05   1.44e+05     -2.043      0.041   -5.76e+05   -1.19e+04\n",
              "NEIGHBORHOOD_MIDTOWN CBD                                   3.776e+05   1.55e+05      2.436      0.015    7.38e+04    6.81e+05\n",
              "NEIGHBORHOOD_MIDTOWN EAST                                  1.252e+05   1.25e+05      1.003      0.316   -1.19e+05     3.7e+05\n",
              "NEIGHBORHOOD_MIDTOWN WEST                                  2.235e+05   1.29e+05      1.735      0.083    -2.9e+04    4.76e+05\n",
              "NEIGHBORHOOD_MORNINGSIDE HEIGHTS                           2.085e+05   1.66e+05      1.252      0.210   -1.18e+05    5.35e+05\n",
              "NEIGHBORHOOD_MURRAY HILL                                   1.598e+05   1.29e+05      1.240      0.215   -9.28e+04    4.12e+05\n",
              "NEIGHBORHOOD_RARE_VALUE                                   -4.698e+04   2.12e+05     -0.221      0.825   -4.63e+05    3.69e+05\n",
              "NEIGHBORHOOD_SOHO                                           1.08e+06   1.32e+05      8.183      0.000    8.21e+05    1.34e+06\n",
              "NEIGHBORHOOD_SOUTHBRIDGE                                    8.98e+05   1.57e+05      5.704      0.000    5.89e+05    1.21e+06\n",
              "NEIGHBORHOOD_TRIBECA                                       1.185e+06   1.33e+05      8.881      0.000    9.23e+05    1.45e+06\n",
              "NEIGHBORHOOD_UPPER EAST SIDE (59-79)                       6.372e+05   1.21e+05      5.247      0.000    3.99e+05    8.75e+05\n",
              "NEIGHBORHOOD_UPPER EAST SIDE (79-96)                       6.227e+05   1.21e+05      5.127      0.000    3.85e+05    8.61e+05\n",
              "NEIGHBORHOOD_UPPER EAST SIDE (96-110)                      1.179e+06   2.22e+05      5.308      0.000    7.43e+05    1.61e+06\n",
              "NEIGHBORHOOD_UPPER WEST SIDE (59-79)                       7.977e+05   1.22e+05      6.558      0.000    5.59e+05    1.04e+06\n",
              "NEIGHBORHOOD_UPPER WEST SIDE (79-96)                        7.59e+05   1.25e+05      6.055      0.000    5.13e+05       1e+06\n",
              "NEIGHBORHOOD_UPPER WEST SIDE (96-116)                       4.52e+05   1.35e+05      3.345      0.001    1.87e+05    7.17e+05\n",
              "NEIGHBORHOOD_WASHINGTON HEIGHTS LOWER                     -3.329e+05   1.76e+05     -1.891      0.059   -6.78e+05    1.22e+04\n",
              "NEIGHBORHOOD_WASHINGTON HEIGHTS UPPER                     -1.846e+05   1.44e+05     -1.286      0.198   -4.66e+05    9.68e+04\n",
              "TAX CLASS AT TIME OF SALE_1                                4.933e+05   2.74e+05      1.797      0.072   -4.48e+04    1.03e+06\n",
              "TAX CLASS AT TIME OF SALE_2                               -7.766e+05   2.27e+05     -3.414      0.001   -1.22e+06   -3.31e+05\n",
              "TAX CLASS AT TIME OF SALE_4                                1.751e+06   1.98e+05      8.834      0.000    1.36e+06    2.14e+06\n",
              "BUILDING CLASS CATEGORY_01 ONE FAMILY DWELLINGS            1.768e+06   3.62e+05      4.881      0.000    1.06e+06    2.48e+06\n",
              "BUILDING CLASS CATEGORY_02 TWO FAMILY DWELLINGS             1.23e+06   3.62e+05      3.395      0.001     5.2e+05    1.94e+06\n",
              "BUILDING CLASS CATEGORY_03 THREE FAMILY DWELLINGS          1.635e+06   3.96e+05      4.125      0.000    8.58e+05    2.41e+06\n",
              "BUILDING CLASS CATEGORY_07 RENTALS - WALKUP APARTMENTS     2.437e+06   2.09e+05     11.641      0.000    2.03e+06    2.85e+06\n",
              "BUILDING CLASS CATEGORY_08 RENTALS - ELEVATOR APARTMENTS   1.339e+06   2.57e+05      5.200      0.000    8.34e+05    1.84e+06\n",
              "BUILDING CLASS CATEGORY_09 COOPS - WALKUP APARTMENTS      -4.109e+05   1.97e+05     -2.091      0.037   -7.96e+05   -2.57e+04\n",
              "BUILDING CLASS CATEGORY_10 COOPS - ELEVATOR APARTMENTS    -1.452e+05   1.92e+05     -0.757      0.449   -5.21e+05    2.31e+05\n",
              "BUILDING CLASS CATEGORY_11 SPECIAL CONDO BILLING LOTS      6.342e+05   2.29e+05      2.766      0.006    1.85e+05    1.08e+06\n",
              "BUILDING CLASS CATEGORY_12 CONDOS - WALKUP APARTMENTS       3.76e+05   2.27e+05      1.656      0.098   -6.92e+04    8.21e+05\n",
              "BUILDING CLASS CATEGORY_13 CONDOS - ELEVATOR APARTMENTS    6.362e+05   1.91e+05      3.325      0.001    2.61e+05    1.01e+06\n",
              "BUILDING CLASS CATEGORY_14 RENTALS - 4-10 UNIT             2.155e+06   2.71e+05      7.963      0.000    1.62e+06    2.69e+06\n",
              "BUILDING CLASS CATEGORY_15 CONDOS - 2-10 UNIT RESIDENTIAL  1.236e+06   2.05e+05      6.041      0.000    8.35e+05    1.64e+06\n",
              "BUILDING CLASS CATEGORY_17 CONDO COOPS                    -4.588e+05   1.95e+05     -2.351      0.019   -8.41e+05   -7.63e+04\n",
              "BUILDING CLASS CATEGORY_21 OFFICE BUILDINGS               -7.062e+05   3.08e+05     -2.292      0.022   -1.31e+06   -1.02e+05\n",
              "BUILDING CLASS CATEGORY_22 STORE BUILDINGS                 6.208e+05   2.93e+05      2.118      0.034    4.63e+04     1.2e+06\n",
              "BUILDING CLASS CATEGORY_31 COMMERCIAL VACANT LAND         -8.305e+05   4.67e+05     -1.779      0.075   -1.75e+06    8.46e+04\n",
              "BUILDING CLASS CATEGORY_43 CONDO OFFICE BUILDINGS         -1.386e+06   2.43e+05     -5.714      0.000   -1.86e+06   -9.11e+05\n",
              "BUILDING CLASS CATEGORY_44 CONDO PARKING                  -9.561e+05   2.86e+05     -3.345      0.001   -1.52e+06   -3.96e+05\n",
              "BUILDING CLASS CATEGORY_45 CONDO HOTELS                   -3.723e+06   2.66e+05    -13.991      0.000   -4.24e+06    -3.2e+06\n",
              "BUILDING CLASS CATEGORY_46 CONDO STORE BUILDINGS          -2.065e+06   2.91e+05     -7.108      0.000   -2.63e+06    -1.5e+06\n",
              "BUILDING CLASS CATEGORY_47 CONDO NON-BUSINESS STORAGE      -1.95e+06    2.2e+05     -8.859      0.000   -2.38e+06   -1.52e+06\n",
              "BUILDING CLASS CATEGORY_RARE_VALUE                         3.175e+04   1.65e+05      0.192      0.848   -2.92e+05    3.56e+05\n",
              "==============================================================================\n",
              "Omnibus:                     3393.143   Durbin-Watson:                   1.991\n",
              "Prob(Omnibus):                  0.000   Jarque-Bera (JB):             9632.233\n",
              "Skew:                           1.450   Prob(JB):                         0.00\n",
              "Kurtosis:                       6.214   Cond. No.                     2.95e+16\n",
              "==============================================================================\n",
              "\n",
              "Warnings:\n",
              "[1] Standard Errors assume that the covariance matrix of the errors is correctly specified.\n",
              "[2] The smallest eigenvalue is 9.49e-26. This might indicate that there are\n",
              "strong multicollinearity problems or that the design matrix is singular.\n",
              "\"\"\""
            ]
          },
          "metadata": {},
          "execution_count": 24
        }
      ]
    },
    {
      "cell_type": "markdown",
      "metadata": {
        "id": "23a361af"
      },
      "source": [
        "We see a very large F-test statistic and very small associate p-value in the regression output above (F-stat = 77.85, p-value = 0.00, with rounding).\n",
        "\n",
        "The p-value is the probability — if the null hypothesis were true — that we would get an F-statistic larger than 77.85. \n",
        " \n",
        "Therefore, the probability that we would get an F-statistic larger than we observed is very close to 0. Assuming we have a significance level ${\\alpha}$ = 0.05, there is sufficient evidence to reject the null hypothese and conclude that at least one of the ${\\beta}$s in our full model is not equal to 0."
      ],
      "id": "23a361af"
    },
    {
      "cell_type": "markdown",
      "metadata": {
        "id": "5e86f849"
      },
      "source": [
        "### $\\text{Full model T-Test:}$"
      ],
      "id": "5e86f849"
    },
    {
      "cell_type": "markdown",
      "metadata": {
        "id": "d6ac8c69"
      },
      "source": [
        "In the output 2 cells above, we see a very large t-test statistic and very small associate p-value in the regression output above (t-stat = 2.157, p-value = 0.0310, with rounding).\n",
        "\n",
        "The probability that we would get a t-stat larger than we observed is very close to 0. Assuming we have a significance level ${\\alpha}$ = 0.05, there is sufficient evidence to reject the null hypothese and conclude that _TAX CLASS 1_  has a significant relationship with sales price and the associatiad ${\\beta}$s in our full model is not equal to 0."
      ],
      "id": "d6ac8c69"
    },
    {
      "cell_type": "markdown",
      "metadata": {
        "id": "2016ee5b"
      },
      "source": [
        "<br>\n",
        "<br>\n",
        "\n",
        "---\n",
        "## 3. Predictive modeling\n",
        "---"
      ],
      "id": "2016ee5b"
    },
    {
      "cell_type": "markdown",
      "metadata": {
        "id": "67523a09"
      },
      "source": [
        "In this section we will we take the following steps:\n",
        "- establish baseline model\n",
        "- comparision of supervised learning methods on small feature set\n",
        "- denoising autoencoder to extract denoised features from latent repsentation of our original features\n",
        "- comparison of models on denoised features\n",
        "---"
      ],
      "id": "67523a09"
    },
    {
      "cell_type": "markdown",
      "metadata": {
        "id": "a2b838e8"
      },
      "source": [
        "---\n",
        "\n",
        "### ***a. Establish baseline model:***\n",
        "---"
      ],
      "id": "a2b838e8"
    },
    {
      "cell_type": "markdown",
      "metadata": {
        "id": "MLHHQmUHKWoL"
      },
      "source": [
        "Run unpenalized linear regression on small df to get baseline model loss to try to improve upon"
      ],
      "id": "MLHHQmUHKWoL"
    },
    {
      "cell_type": "code",
      "metadata": {
        "colab": {
          "base_uri": "https://localhost:8080/"
        },
        "id": "t7A_FOEzL8R0",
        "outputId": "75a6f5de-a1e2-4441-be04-f5b8c02b61a9"
      },
      "source": [
        "n_folds = 5\n",
        "\n",
        "kfold = KFold(n_splits=n_folds, shuffle=False)\n",
        "cv_results = np.sqrt(-cross_val_score(LinearRegression(), \n",
        "                                          X.values, \n",
        "                                          y, \n",
        "                                          cv=kfold, \n",
        "                                          scoring=\"neg_mean_squared_error\"))\n",
        "\n",
        "print(\"%s: %f (%f)\" % ('BASELINE LR: ', cv_results.mean(), cv_results.std()))\n",
        "# 1166561.158450 (10486.839846)"
      ],
      "id": "t7A_FOEzL8R0",
      "execution_count": null,
      "outputs": [
        {
          "output_type": "stream",
          "name": "stdout",
          "text": [
            "BASELINE LR: : 1166561.158450 (10486.839846)\n"
          ]
        }
      ]
    },
    {
      "cell_type": "markdown",
      "metadata": {
        "id": "m6jI6sGbL0gN"
      },
      "source": [
        "---\n",
        "\n",
        "### ***b. Comparision of machine learning models on small feature set:***\n",
        "---\n",
        "\n",
        "<br>\n",
        "First, we will run several models and see which perform best with default hyperparameters."
      ],
      "id": "m6jI6sGbL0gN"
    },
    {
      "cell_type": "code",
      "metadata": {
        "colab": {
          "base_uri": "https://localhost:8080/"
        },
        "id": "ec4e1ebc",
        "outputId": "be774464-bf72-4c2b-898a-ba30a74a0937"
      },
      "source": [
        "# models\n",
        "models = []\n",
        "models.append(('LR', LinearRegression()))\n",
        "models.append(('Lasso', Lasso()))\n",
        "models.append(('AB', AdaBoostRegressor()))\n",
        "models.append(('XGBR', XGBRegressor()))\n",
        "models.append(('GBM', GradientBoostingRegressor(random_state = 5)))\n",
        "models.append(('RF', RandomForestRegressor()))\n",
        "\n",
        "\n",
        "# build dataframe\n",
        "results = []\n",
        "names = []\n",
        "means = []\n",
        "stddevs = []\n",
        "n_folds = 5\n",
        "for name, model in models:\n",
        "    kfold = KFold(n_splits=n_folds, shuffle=False)\n",
        "    cv_results = np.sqrt(-cross_val_score(model, \n",
        "                                          X.values, \n",
        "                                          y, \n",
        "                                          cv=kfold, \n",
        "                                          scoring=\"neg_mean_squared_error\"))\n",
        "    results.append(cv_results)\n",
        "    means.append(cv_results.mean())\n",
        "    stddevs.append(cv_results.std())\n",
        "    names.append(name)\n",
        "              \n",
        "df_results = pd.DataFrame(np.array(results).T, columns = names)"
      ],
      "id": "ec4e1ebc",
      "execution_count": null,
      "outputs": [
        {
          "output_type": "stream",
          "name": "stdout",
          "text": [
            "[07:27:35] WARNING: /workspace/src/objective/regression_obj.cu:152: reg:linear is now deprecated in favor of reg:squarederror.\n",
            "[07:27:36] WARNING: /workspace/src/objective/regression_obj.cu:152: reg:linear is now deprecated in favor of reg:squarederror.\n",
            "[07:27:37] WARNING: /workspace/src/objective/regression_obj.cu:152: reg:linear is now deprecated in favor of reg:squarederror.\n",
            "[07:27:39] WARNING: /workspace/src/objective/regression_obj.cu:152: reg:linear is now deprecated in favor of reg:squarederror.\n",
            "[07:27:40] WARNING: /workspace/src/objective/regression_obj.cu:152: reg:linear is now deprecated in favor of reg:squarederror.\n"
          ]
        }
      ]
    },
    {
      "cell_type": "markdown",
      "metadata": {
        "id": "TaO7yTqGM__a"
      },
      "source": [
        "\n",
        "**Plot MSE of folds for each fitted ML model**"
      ],
      "id": "TaO7yTqGM__a"
    },
    {
      "cell_type": "code",
      "metadata": {
        "colab": {
          "base_uri": "https://localhost:8080/",
          "height": 758
        },
        "id": "021d7c15",
        "outputId": "dcf100bf-4373-494e-839c-5e47f94988b6"
      },
      "source": [
        "# print mean and stddev root mean squared error from 10 fold \n",
        "for col in df_results:\n",
        "    print(\"%s: %f (%f)\" % (col, df_results[col].mean(), df_results[col].std()))\n",
        "\n",
        "fig, ax = plt.subplots(figsize=(10,10))\n",
        "fig = sns.boxplot(data=df_results)\n",
        "fig = fig.set_xticklabels(labels = df_results.columns,fontdict={'fontsize':15})\n",
        "ax.set_xlabel('models', size = 20)\n",
        "ax.set_ylabel('mean squared error', size = 20)\n"
      ],
      "id": "021d7c15",
      "execution_count": null,
      "outputs": [
        {
          "output_type": "stream",
          "name": "stdout",
          "text": [
            "LR: 1166561.158450 (11724.643383)\n",
            "Lasso: 1166560.268920 (11724.028444)\n",
            "AB: 1328156.285029 (29561.547481)\n",
            "XGBR: 1121726.867097 (11113.890558)\n",
            "GBM: 1121708.064774 (9642.460553)\n",
            "RF: 1085160.041945 (23414.612450)\n"
          ]
        },
        {
          "output_type": "execute_result",
          "data": {
            "text/plain": [
              "Text(0, 0.5, 'mean squared error')"
            ]
          },
          "metadata": {},
          "execution_count": 27
        },
        {
          "output_type": "display_data",
          "data": {
            "image/png": "[encoded data removed]",
            "text/plain": [
              "<Figure size 720x720 with 1 Axes>"
            ]
          },
          "metadata": {}
        }
      ]
    },
    {
      "cell_type": "markdown",
      "metadata": {
        "id": "0bdac2ee"
      },
      "source": [
        "Random forest, on average, seems to perform the best out of all of our models before tuning. Several of these models out perform our basline model by a large margin, which supports our hypothesis of model complexity and features improving upon our baseline model performance."
      ],
      "id": "0bdac2ee"
    },
    {
      "cell_type": "markdown",
      "metadata": {
        "id": "lq1yo7qWOiOR"
      },
      "source": [
        "---\n",
        "\n",
        "### ***c. Clean features for medium feature set:***\n",
        "---\n",
        "\n",
        "<br>\n",
        "First, we will run several models and see which perform best with default hyperparameters."
      ],
      "id": "lq1yo7qWOiOR"
    },
    {
      "cell_type": "markdown",
      "metadata": {
        "id": "W2J-r8f6cSOR"
      },
      "source": [
        "Create df with previously dropped nominal features (nom_feats_medium). Then we impute and encode new vars"
      ],
      "id": "W2J-r8f6cSOR"
    },
    {
      "cell_type": "code",
      "metadata": {
        "id": "r2MbsFy0aygX"
      },
      "source": [
        "medium_df = df_cat_trans_small[:].copy()"
      ],
      "id": "r2MbsFy0aygX",
      "execution_count": null,
      "outputs": []
    },
    {
      "cell_type": "code",
      "metadata": {
        "id": "bj--SCUnZcjW"
      },
      "source": [
        "nom_feats_medium = ['ZIP CODE', 'TAX CLASS AT PRESENT', 'BUILDING CLASS AT PRESENT', 'BUILDING CLASS AT TIME OF SALE']\n",
        "for c in nom_feats_medium:\n",
        "    num = medium_df[c].mode()[0]\n",
        "    medium_df[c].fillna(num, inplace = True)\n",
        "    medium_df.loc[medium_df[c].value_counts()[medium_df[c]].values < 50, c] = \"RARE_VALUE\"\n",
        "\n",
        "cat_feats_med = CategoricalFeatures(medium_df, \n",
        "                                nominal_features = nom_feats_medium,\n",
        "                                ordinal_features = [], \n",
        "                                encoding_type=\"ohe\",\n",
        "                                handle_na=True)\n",
        "df_cat_trans_med = cat_feats_med._fit_transform()"
      ],
      "id": "bj--SCUnZcjW",
      "execution_count": null,
      "outputs": []
    },
    {
      "cell_type": "code",
      "metadata": {
        "id": "hIsVLZBKfTid"
      },
      "source": [
        "X_medium = df_cat_trans_med.drop('SALE PRICE',axis=1)\n",
        "y_medium = df_cat_trans_med['SALE PRICE']"
      ],
      "id": "hIsVLZBKfTid",
      "execution_count": null,
      "outputs": []
    },
    {
      "cell_type": "code",
      "metadata": {
        "colab": {
          "base_uri": "https://localhost:8080/"
        },
        "id": "_gXKIx28fH8b",
        "outputId": "f8e72554-8b58-4871-ab81-8fa785c92f13"
      },
      "source": [
        "# models\n",
        "models = []\n",
        "models.append(('XGBR', XGBRegressor()))\n",
        "models.append(('RF', RandomForestRegressor()))\n",
        "\n",
        "# build dataframe\n",
        "results = []\n",
        "names = []\n",
        "means = []\n",
        "stddevs = []\n",
        "n_folds = 3\n",
        "for name, model in models:\n",
        "    kfold = KFold(n_splits=n_folds, shuffle=False)\n",
        "    cv_results = np.sqrt(-cross_val_score(model, \n",
        "                                          X_medium.values, \n",
        "                                          y_medium, \n",
        "                                          cv=kfold, \n",
        "                                          scoring=\"neg_mean_squared_error\"))\n",
        "    results.append(cv_results)\n",
        "    means.append(cv_results.mean())\n",
        "    stddevs.append(cv_results.std())\n",
        "    names.append(name)\n",
        "              \n",
        "df_results = pd.DataFrame(np.array(results).T, columns = names)"
      ],
      "id": "_gXKIx28fH8b",
      "execution_count": null,
      "outputs": [
        {
          "output_type": "stream",
          "name": "stdout",
          "text": [
            "[07:28:08] WARNING: /workspace/src/objective/regression_obj.cu:152: reg:linear is now deprecated in favor of reg:squarederror.\n",
            "[07:28:10] WARNING: /workspace/src/objective/regression_obj.cu:152: reg:linear is now deprecated in favor of reg:squarederror.\n",
            "[07:28:11] WARNING: /workspace/src/objective/regression_obj.cu:152: reg:linear is now deprecated in favor of reg:squarederror.\n"
          ]
        }
      ]
    },
    {
      "cell_type": "code",
      "metadata": {
        "colab": {
          "base_uri": "https://localhost:8080/",
          "height": 689
        },
        "id": "72OXYqZiPRtU",
        "outputId": "ed137426-8c44-4fc7-e8ad-b79117fa2fc8"
      },
      "source": [
        "# print mean and stddev root mean squared error from 10 fold \n",
        "for col in df_results:\n",
        "    print(\"%s: %f (%f)\" % (col, df_results[col].mean(), df_results[col].std()))\n",
        "\n",
        "fig, ax = plt.subplots(figsize=(10,10))\n",
        "fig = sns.boxplot(data=df_results)\n",
        "fig = fig.set_xticklabels(labels = df_results.columns,fontdict={'fontsize':15})\n",
        "ax.set_xlabel('models', size = 20)\n",
        "ax.set_ylabel('mean squared error', size = 20)\n"
      ],
      "id": "72OXYqZiPRtU",
      "execution_count": null,
      "outputs": [
        {
          "output_type": "stream",
          "name": "stdout",
          "text": [
            "XGBR: 1098027.392121 (20543.130451)\n",
            "RF: 1071618.125450 (5285.467157)\n"
          ]
        },
        {
          "output_type": "execute_result",
          "data": {
            "text/plain": [
              "Text(0, 0.5, 'mean squared error')"
            ]
          },
          "metadata": {},
          "execution_count": 32
        },
        {
          "output_type": "display_data",
          "data": {
            "image/png": "[encoded data removed]",
            "text/plain": [
              "<Figure size 720x720 with 1 Axes>"
            ]
          },
          "metadata": {}
        }
      ]
    },
    {
      "cell_type": "markdown",
      "metadata": {
        "id": "0szMtZ-hTMDK"
      },
      "source": [
        "\n",
        "\n",
        "---\n",
        "#### ***d. Comparision of supervised machine learning models on medium feature set:***\n",
        "---\n",
        "For Random Forest, our best performing model, we'll do a gridsearch of a hyperparameter dictionary and find the best performing hyperparameter combination"
      ],
      "id": "0szMtZ-hTMDK"
    },
    {
      "cell_type": "code",
      "metadata": {
        "colab": {
          "base_uri": "https://localhost:8080/"
        },
        "id": "f1sVd03FTdqu",
        "outputId": "3a68a1de-7ef9-4dec-ea12-26300cab20c9"
      },
      "source": [
        "from sklearn.model_selection import RandomizedSearchCV\n",
        "param_grid = {'n_estimators' : [300, 600, 900], 'max_depth': [10, 30, None], 'min_samples_split':[2, 10, 30], 'min_samples_leaf':[2,5,10]}\n",
        "grid = RandomizedSearchCV(estimator = RandomForestRegressor(random_state = 5),\n",
        "                    param_distributions = param_grid, \n",
        "                    n_iter = 5,\n",
        "                    scoring = 'neg_mean_squared_error', \n",
        "                    cv = 2, \n",
        "                    n_jobs = -1)\n",
        "\n",
        "# %%capture\n",
        "grid_result = grid.fit(X_medium.values, y_medium)\n",
        "\n",
        "print(\"Best: %f using %s\" % (np.sqrt(-grid_result.best_score_), grid_result.best_params_))\n",
        "means = np.sqrt(-grid_result.cv_results_['mean_test_score'])\n",
        "params = grid_result.cv_results_['params']\n",
        "for mean, param in zip(means, params):\n",
        "    print(\"%f with: %r\" % (mean, param))"
      ],
      "id": "f1sVd03FTdqu",
      "execution_count": null,
      "outputs": [
        {
          "output_type": "stream",
          "name": "stdout",
          "text": [
            "Best: 1051980.112099 using {'n_estimators': 300, 'min_samples_split': 30, 'min_samples_leaf': 2, 'max_depth': 30}\n",
            "1060143.584102 with: {'n_estimators': 900, 'min_samples_split': 2, 'min_samples_leaf': 2, 'max_depth': None}\n",
            "1051980.112099 with: {'n_estimators': 300, 'min_samples_split': 30, 'min_samples_leaf': 2, 'max_depth': 30}\n",
            "1082465.251407 with: {'n_estimators': 600, 'min_samples_split': 2, 'min_samples_leaf': 10, 'max_depth': 30}\n",
            "1087120.279290 with: {'n_estimators': 900, 'min_samples_split': 2, 'min_samples_leaf': 2, 'max_depth': 10}\n",
            "1060670.215454 with: {'n_estimators': 600, 'min_samples_split': 10, 'min_samples_leaf': 5, 'max_depth': None}\n"
          ]
        }
      ]
    },
    {
      "cell_type": "markdown",
      "metadata": {
        "id": "XpdQBftJX1M7"
      },
      "source": [
        "---\n",
        "\n",
        "\n",
        "### ***e. Supervised neural network prediction:***\n",
        "\n",
        "---\n",
        "<br>\n",
        "\n",
        "In this section we optimize our neural network model by training a range od network over the parameter and hyperparameter space.\n",
        "\n",
        "Below we define classes and helper functions to help train (i.e. minimize RMSE with respect to network weights) a range of networks over the network topology parameters (i.e. layers, number of nodes, regularization, etc.) and hyperparamaters (i.e. learning rate, optimizer, epochs, etc.).\n",
        "\n"
      ],
      "id": "XpdQBftJX1M7"
    },
    {
      "cell_type": "code",
      "metadata": {
        "id": "9j8zokstqNko"
      },
      "source": [
        "def seed_everything(seed=42):\n",
        "    random.seed(seed)\n",
        "    os.environ['PYTHONHASHSEED'] = str(seed)\n",
        "    np.random.seed(seed)\n",
        "    torch.manual_seed(seed)\n",
        "    torch.cuda.manual_seed(seed)\n",
        "    torch.backends.cudnn.deterministic = True\n",
        "    sampler = optuna.samplers.RandomSampler(seed)\n",
        "    \n",
        "seed_everything(seed=42)"
      ],
      "id": "9j8zokstqNko",
      "execution_count": null,
      "outputs": []
    },
    {
      "cell_type": "code",
      "metadata": {
        "id": "KTXs1o-QnrAr"
      },
      "source": [
        "# data set class\n",
        "class Dataset:\n",
        "    def __init__(self, features, targets):\n",
        "        self.features = features\n",
        "        self.targets = targets\n",
        "    \n",
        "    def __len__(self):\n",
        "        return self.features.shape[0]\n",
        "    \n",
        "    def __getitem__(self, item):\n",
        "        return {\n",
        "            \"x\": torch.tensor(self.features[item, :], dtype=torch.float),\n",
        "            \"y\": torch.tensor(self.targets[item], dtype=torch.float),\n",
        "        }"
      ],
      "id": "KTXs1o-QnrAr",
      "execution_count": null,
      "outputs": []
    },
    {
      "cell_type": "code",
      "metadata": {
        "id": "YE1DIVm7B2gR"
      },
      "source": [
        "# function to optimize neural nets\n",
        "def define_model(trial, param_ranges_dict):\n",
        "    # We optimize the number of layers, hidden units and dropout ratio in each layer.\n",
        "    # n_layers = trial.suggest_int(\"n_layers\", 1, 3)\n",
        "    # batch_norm = trial.suggest_int(\"batch_norm\", 0, 1)  \n",
        "    batch_norm = 0\n",
        "    n_layers = sum('n_units' in s for s in list(param_ranges_dict.keys()))\n",
        "    layers = []\n",
        "    in_features = len(feature_columns) - 1\n",
        "\n",
        " \n",
        "    for i in range(n_layers):\n",
        "        out_features = trial.suggest_int(\"n_units_l{}\".format(i),\n",
        "                                         param_ranges_dict[f'n_units_l{i}'][0], \n",
        "                                         param_ranges_dict[f'n_units_l{i}'][1])\n",
        "\n",
        "        layers.append(nn.Linear(in_features, out_features))      \n",
        "        \n",
        "        if batch_norm:\n",
        "            layers.append(nn.BatchNorm1d(out_features))\n",
        "            \n",
        "        layers.append(nn.ReLU())\n",
        "        # layers.append(nn.Dropout(p))\n",
        "        in_features = out_features\n",
        "    layers.append(nn.Linear(in_features, 1))    \n",
        "\n",
        "    return nn.Sequential(*layers)"
      ],
      "id": "YE1DIVm7B2gR",
      "execution_count": null,
      "outputs": []
    },
    {
      "cell_type": "code",
      "metadata": {
        "id": "G515MUXGn8mT"
      },
      "source": [
        "# class to hold training loops, and loss and noise functions\n",
        "class Engine:\n",
        "    def __init__(self, model, optimizer, device):\n",
        "        self.model = model\n",
        "        self.optimizer = optimizer\n",
        "        self.device = device\n",
        "    \n",
        "    # statis cause not using anything from init\n",
        "    @staticmethod\n",
        "    def loss_fn(outputs, targets):\n",
        "        targets = targets.unsqueeze(1)\n",
        "        assert outputs.size() == targets.size()\n",
        "        assert torch.is_tensor(outputs) == torch.is_tensor(targets)\n",
        "        \n",
        "        criterion = nn.MSELoss()              \n",
        "        return torch.sqrt(torch.mean((outputs - targets)**2))\n",
        "    \n",
        "    @staticmethod\n",
        "    def swap_noise(inputs, swap_noise_p =.15):      \n",
        "        batch_size, n_features = inputs.size()[0], inputs.size()[1]\n",
        "        idx = range(batch_size)\n",
        "        n_rows_swap = int(round(batch_size * swap_noise_p))\n",
        "        inputs = inputs.numpy()\n",
        "\n",
        "        for feature_ind in range(n_features):\n",
        "            \n",
        "            # shuffle column to sample from\n",
        "            sampling_feature = np.random.permutation(inputs[:, feature_ind])\n",
        "            \n",
        "            # randomly select indices to swap\n",
        "            swap_idx = np.random.choice(idx, size=n_rows_swap)\n",
        "            \n",
        "            # replacing column wise values from sampled column\n",
        "            inputs[swap_idx, feature_ind] = np.random.choice(sampling_feature, size=n_rows_swap)\n",
        "            \n",
        "        return torch.from_numpy(inputs)\n",
        "\n",
        "    def train(self, data_loader):\n",
        "        self.model.train()\n",
        "        final_loss = 0\n",
        "        for data in data_loader:    \n",
        "            self.optimizer.zero_grad()   \n",
        "            inputs = data[\"x\"].to(self.device)\n",
        "            targets = data[\"y\"].to(self.device)\n",
        "            outputs = self.model(inputs)\n",
        "            loss = self.loss_fn(outputs, targets)                       \n",
        "            loss.backward()\n",
        "            self.optimizer.step()\n",
        "            final_loss += loss.item()\n",
        "            \n",
        "        return final_loss / len(data_loader)\n",
        "\n",
        "    def dae_train(self, data_loader):\n",
        "        self.model.train()\n",
        "        final_loss = 0\n",
        "        for data in data_loader:    \n",
        "            self.optimizer.zero_grad()   \n",
        "            targets = data[\"x\"].to(self.device) \n",
        "            aug_inputs = self.swap_noise(data[\"x\"], .15).to(self.device) \n",
        "            outputs = self.model(aug_inputs)\n",
        "            loss = nn.MSELoss()(outputs, targets)                  \n",
        "            loss.backward()\n",
        "            self.optimizer.step()\n",
        "            final_loss += loss.item()\n",
        "        return final_loss / len(data_loader)\n",
        "\n",
        "    def evaluate(self, data_loader):\n",
        "        self.model.eval()\n",
        "        final_loss = 0\n",
        "        for data in data_loader:\n",
        "            inputs = data[\"x\"].to(self.device)\n",
        "            targets = data[\"y\"].to(self.device)\n",
        "            outputs = self.model(inputs)\n",
        "            loss = self.loss_fn(outputs, targets)\n",
        "            final_loss += loss.item()\n",
        "        return final_loss / len(data_loader)\n",
        "\n",
        "    @staticmethod\n",
        "    def plot_learn_curves(epoch_losses, time_stamp):\n",
        "        plt.ioff()\n",
        "        fig = plt.figure()\n",
        "        plt.style.use('seaborn')\n",
        "        plt.xlabel('Epochs')\n",
        "        plt.ylabel('MSE')\n",
        "        plt.title(f'Learning curves - {time_stamp}')\n",
        "        plt.plot(epoch_losses)\n",
        "        plt.savefig(f'{config_dae.PLOT_PATH}{script_name}_LC_{time_stamp}.png')\n",
        "        plt.close(fig)\n"
      ],
      "id": "G515MUXGn8mT",
      "execution_count": null,
      "outputs": []
    },
    {
      "cell_type": "markdown",
      "metadata": {
        "id": "9Zf1y2QvCCLG"
      },
      "source": [
        "<br>\n",
        "\n",
        "---\n",
        "\n",
        "---\n",
        "\n",
        "### ***Define objective function:***\n",
        "Our objective function below is a training loop that fits the entire dataset to our model over 1000 epochs or until we overfit invoke early stopping.\n",
        "<br><br>\n",
        "In addition, this objective function can be repeatedly ran with different network topology parameters and hyperparameters to optimize our network topology. We use the optimization package 'optuna' to optimize this objective function over the parameter and hyperparameter space containing the following dimension: `number of network layers, number of layer nodes, dropout, batch normalization, optimizer, and learning rate.`\n",
        "<br>\n",
        "\n",
        "---"
      ],
      "id": "9Zf1y2QvCCLG"
    },
    {
      "cell_type": "code",
      "metadata": {
        "id": "jIFPruVGoLH2"
      },
      "source": [
        "def objective(trial, \n",
        "              param_ranges_dict,\n",
        "              save_model = False, \n",
        "              plot_learning_curves = False\n",
        "             ):  \n",
        "    \n",
        "    objective_start_time = f'{datetime.datetime.now().strftime(\"%Y%m%d %H:%M:%S\")}'\n",
        "    \n",
        "    print(f\"TRIAL {len(study.trials)} START TIME: {objective_start_time}\\n\")\n",
        "    \n",
        "    #------- RUN TRAINING LOOP ----------\n",
        "    total_loss = 0\n",
        "    fold_losses = []\n",
        "    epoch_losses_by_fold = []\n",
        "\n",
        "    for fold in range(5):\n",
        "        train_df = train[train.kfold != fold].reset_index(drop=True)\n",
        "        valid_df = train[train.kfold == fold].reset_index(drop=True)\n",
        "\n",
        "        x_train = train_df[feature_columns].drop('kfold', axis=1).to_numpy()\n",
        "        y_train = train_df[target_columns].to_numpy()\n",
        "\n",
        "        x_valid = valid_df[feature_columns].drop('kfold', axis=1).to_numpy()\n",
        "        y_valid = valid_df[target_columns].to_numpy()\n",
        "\n",
        "        train_dataset = Dataset(features=x_train, targets=y_train)\n",
        "        valid_dataset = Dataset(features=x_valid, targets=y_valid)\n",
        "\n",
        "        train_loader = torch.utils.data.DataLoader(\n",
        "            train_dataset, batch_size=64, num_workers=4, shuffle=True\n",
        "        )\n",
        "\n",
        "        valid_loader = torch.utils.data.DataLoader(\n",
        "            valid_dataset, batch_size=64, num_workers=4\n",
        "        )\n",
        "        \n",
        "        # instantiate the model.\n",
        "        model = define_model(trial, param_ranges_dict).to(DEVICE)\n",
        "\n",
        "        # Generate the learning rate and optimizer\n",
        "        lr = trial.suggest_float(\"lr\", param_ranges_dict['lr'][0], param_ranges_dict['lr'][1], log=True)        \n",
        "        optimizer_name = 'Adam'\n",
        "        optimizer = getattr(optim, optimizer_name)(model.parameters(), lr=lr)\n",
        "\n",
        "        # Print trial parameters        \n",
        "        if fold == 0:\n",
        "            print(f\"OPTIMIZER:\\n{optimizer}\\n\")\n",
        "            \n",
        "            current_trial = study.trials[len(study.trials) - 1]\n",
        "            print(f\"CURRENT TRIAL PARAMETERS: \")    \n",
        "            for key, value in current_trial.params.items():\n",
        "                print(\"    {}: {}\".format(key, value))\n",
        "            print(\"\\n\")\n",
        "        \n",
        "        # Training of the model.\n",
        "        eng = Engine(model, optimizer, device=DEVICE)\n",
        "\n",
        "        best_loss = np.inf\n",
        "        early_stopping_iter = 10\n",
        "        early_stopping_counter = 0 \n",
        "        \n",
        "        epoch_losses = []\n",
        "        for epoch in range(EPOCHS):\n",
        "            \n",
        "            train_loss = eng.train(train_loader)\n",
        "            valid_loss = eng.evaluate(valid_loader)         \n",
        "  \n",
        "            if (epoch % 10 == 0) or (early_stopping_counter >= 25):\n",
        "                print(\n",
        "                    f\"FOLD: {fold} -- EPOCH: {epoch:.0f} -- TRAIN RMSE LOSS: {train_loss:.4f} -- \"\n",
        "                    f\"VALID RMSE LOSS: {valid_loss:.4f} -- {datetime.datetime.now().strftime('%Y%m%d%H:%M:%S')}\" \n",
        "                )\n",
        "\n",
        "            if valid_loss < best_loss:\n",
        "                best_loss = valid_loss\n",
        "                early_stopping_counter = 0\n",
        "                if save_model:\n",
        "                    torch.save(model.state_dict(), f\"models/nn_{trial.number}_{objective_start_time}.bin\")\n",
        "            else:\n",
        "                early_stopping_counter += 1\n",
        "\n",
        "            if early_stopping_counter > early_stopping_iter:\n",
        "                break\n",
        "        \n",
        "        print(\n",
        "            f\"FOLD: {fold} ----- BEST VALID RMSE LOSS: {best_loss} ----- \"\n",
        "            f\"{datetime.datetime.now().strftime('%Y%m%d %H:%M:%S')}\\n\"\n",
        "        )\n",
        "\n",
        "        fold_losses.append(best_loss)\n",
        "        total_loss += best_loss\n",
        "    \n",
        "\n",
        "    # total cv loss\n",
        "    CV_loss = total_loss/5\n",
        "    print('FOLDS:')\n",
        "    print(f\" FOLD 0: {fold_losses[0]:.5f}\")\n",
        "    print(f\" FOLD 1: {fold_losses[1]:.5f}\")\n",
        "    print(f\" FOLD 2: {fold_losses[2]:.5f}\")\n",
        "    print(f\" FOLD 3: {fold_losses[3]:.5f}\")\n",
        "    print(f\" FOLD 4: {fold_losses[4]:.5f}\\n\")\n",
        "    \n",
        "    print(f\"CROSS VALIDATION SCORE: \")\n",
        "    print(f\" {CV_loss:.10f} ----- {datetime.datetime.now().strftime('%Y%m%d %H:%M')}\\n\")  \n",
        "    \n",
        "    if len(study.trials) > 1:\n",
        "        print(\"**************\")\n",
        "        print(\"Best CV trial:\")\n",
        "        best_trial_temp = study.best_trial\n",
        "\n",
        "        print(f\"  Value:  {best_trial_temp.value}\\n\")\n",
        "        print(\"  Params: \")\n",
        "        for key, value in trial.params.items():\n",
        "            print(\"    {}: {}\".format(key, value))\n",
        "        print(\"**************\\n\")\n",
        "    print(f\"{100*'#'}\\n\")\n",
        "        \n",
        "    trials_df = study.trials_dataframe()\n",
        "    trials_df.to_csv(f'logs/nn_trials_{study_start_time}.csv')\n",
        "\n",
        "    return CV_loss\n"
      ],
      "id": "jIFPruVGoLH2",
      "execution_count": null,
      "outputs": []
    },
    {
      "cell_type": "markdown",
      "metadata": {
        "id": "LMhRTiT9DGp4"
      },
      "source": [
        "#### ***Assign folds for neural network training:***\n",
        "---"
      ],
      "id": "LMhRTiT9DGp4"
    },
    {
      "cell_type": "code",
      "metadata": {
        "colab": {
          "base_uri": "https://localhost:8080/"
        },
        "id": "iO3KLygDsT7C",
        "outputId": "7522f69a-9cb3-471c-fc08-ef0b372f4a85"
      },
      "source": [
        "df_cat_trans_med[\"kfold\"] = -1\n",
        "df_cat_trans_med = df_cat_trans_med.reset_index(drop=True)\n",
        "kf = KFold(n_splits=5, shuffle=False)\n",
        "\n",
        "for fold, (train_idx, val_idx) in enumerate(kf.split(X=df_cat_trans_med, y=df_cat_trans_med['SALE PRICE'].values)):\n",
        "    df_cat_trans_med.loc[val_idx, 'kfold'] = fold\n",
        "\n",
        "feature_columns =  list(X_medium.columns) + ['kfold']\n",
        "target_columns = y_medium.name\n",
        "\n",
        "train = df_cat_trans_med[:].copy()\n",
        "train.kfold.value_counts()"
      ],
      "id": "iO3KLygDsT7C",
      "execution_count": null,
      "outputs": [
        {
          "output_type": "execute_result",
          "data": {
            "text/plain": [
              "1    2468\n",
              "0    2468\n",
              "4    2467\n",
              "3    2467\n",
              "2    2467\n",
              "Name: kfold, dtype: int64"
            ]
          },
          "metadata": {},
          "execution_count": 39
        }
      ]
    },
    {
      "cell_type": "markdown",
      "metadata": {
        "id": "2jyrpmy_D-vl"
      },
      "source": [
        "#### ***Start optimization of RMSE with respect to network topology space:***\n",
        "---"
      ],
      "id": "2jyrpmy_D-vl"
    },
    {
      "cell_type": "code",
      "metadata": {
        "colab": {
          "base_uri": "https://localhost:8080/"
        },
        "id": "cu6LqNf6qf1a",
        "outputId": "5fd9a75e-df64-4749-c41a-8cdbef43cafc"
      },
      "source": [
        "# dictionary for network parameters\n",
        "optuna_params_dict = {'lr': [.0005, .005],\n",
        "                      \n",
        "                      'n_units_l0': [220, 300],\n",
        "                      'n_units_l1': [170, 240],\n",
        "                      'n_units_l2': [120, 180],\n",
        "                      'n_units_l3': [100, 130],\n",
        "                      'n_units_l4': [70, 100],\n",
        "                      'n_units_l5': [50, 80],\n",
        "                      'n_units_l6': [20, 40]}\n",
        "\n",
        "DEVICE = torch.device(\"cuda\" if torch.cuda.is_available() else \"cpu\")\n",
        "EPOCHS = 1000\n",
        "\n",
        "if __name__ == \"__main__\":  \n",
        "    study_start_time = f'{datetime.datetime.now().strftime(\"%Y%m%d %H:%M\")}'\n",
        "    study = optuna.create_study(direction=\"minimize\")\n",
        "    study.optimize(lambda trial: objective(trial, optuna_params_dict, save_model=False), n_trials=5)\n",
        "\n",
        "    print(\"Study statistics: \")\n",
        "    print(\"  Number of finished trials: \", len(study.trials), \"\\n\")\n",
        "\n",
        "    print(\"Best trial:\")\n",
        "    trial = study.best_trial\n",
        "\n",
        "    print(\"  Value: \", trial.value)\n",
        "    print(\"  Params: \")\n",
        "    for key, value in trial.params.items():\n",
        "        print(\"    {}: {}\".format(key, value))\n",
        "        \n",
        "    trials_df = study.trials_dataframe()\n",
        "    print(f\"\\n\\n\\nTRIALS DATAFRAME: \")\n",
        "    print(trials_df)\n",
        "\n",
        "    joblib.dump(study,f'logs/nn_study_{study_start_time}.pkl')"
      ],
      "id": "cu6LqNf6qf1a",
      "execution_count": null,
      "outputs": [
        {
          "output_type": "stream",
          "name": "stdout",
          "text": [
            "TRIAL 1 START TIME: 20210917 07:30:18\n",
            "\n",
            "OPTIMIZER:\n",
            "Adam (\n",
            "Parameter Group 0\n",
            "    amsgrad: False\n",
            "    betas: (0.9, 0.999)\n",
            "    eps: 1e-08\n",
            "    lr: 0.0015204848997598679\n",
            "    weight_decay: 0\n",
            ")\n",
            "\n",
            "CURRENT TRIAL PARAMETERS: \n",
            "    n_units_l0: 268\n",
            "    n_units_l1: 184\n",
            "    n_units_l2: 140\n",
            "    n_units_l3: 101\n",
            "    n_units_l4: 91\n",
            "    n_units_l5: 63\n",
            "    n_units_l6: 35\n",
            "    lr: 0.0015204848997598679\n",
            "\n",
            "\n",
            "FOLD: 0 -- EPOCH: 0 -- TRAIN RMSE LOSS: 1671297.0206 -- VALID RMSE LOSS: 1432168.6202 -- 2021091707:30:22\n",
            "FOLD: 0 -- EPOCH: 10 -- TRAIN RMSE LOSS: 1080424.5948 -- VALID RMSE LOSS: 1099620.4183 -- 2021091707:30:31\n",
            "FOLD: 0 -- EPOCH: 20 -- TRAIN RMSE LOSS: 1053651.5440 -- VALID RMSE LOSS: 1090141.0865 -- 2021091707:30:41\n",
            "FOLD: 0 -- EPOCH: 30 -- TRAIN RMSE LOSS: 1020056.1194 -- VALID RMSE LOSS: 1075906.6138 -- 2021091707:30:52\n",
            "FOLD: 0 -- EPOCH: 40 -- TRAIN RMSE LOSS: 989909.1512 -- VALID RMSE LOSS: 1083910.3750 -- 2021091707:31:02\n",
            "FOLD: 0 ----- BEST VALID RMSE LOSS: 1075207.3173076923 ----- 20210917 07:31:11\n",
            "\n",
            "FOLD: 1 -- EPOCH: 0 -- TRAIN RMSE LOSS: 1670062.9185 -- VALID RMSE LOSS: 1397651.0753 -- 2021091707:31:12\n",
            "FOLD: 1 -- EPOCH: 10 -- TRAIN RMSE LOSS: 1088208.7403 -- VALID RMSE LOSS: 1075432.3349 -- 2021091707:31:22\n",
            "FOLD: 1 -- EPOCH: 20 -- TRAIN RMSE LOSS: 1060906.6335 -- VALID RMSE LOSS: 1066052.3029 -- 2021091707:31:32\n",
            "FOLD: 1 -- EPOCH: 30 -- TRAIN RMSE LOSS: 1033740.4016 -- VALID RMSE LOSS: 1060606.6779 -- 2021091707:31:41\n",
            "FOLD: 1 -- EPOCH: 40 -- TRAIN RMSE LOSS: 1006176.9185 -- VALID RMSE LOSS: 1061582.6731 -- 2021091707:31:51\n",
            "FOLD: 1 -- EPOCH: 50 -- TRAIN RMSE LOSS: 980899.6270 -- VALID RMSE LOSS: 1047715.0657 -- 2021091707:32:01\n",
            "FOLD: 1 ----- BEST VALID RMSE LOSS: 1044059.0801282051 ----- 20210917 07:32:05\n",
            "\n",
            "FOLD: 2 -- EPOCH: 0 -- TRAIN RMSE LOSS: 1676470.8036 -- VALID RMSE LOSS: 1457291.0385 -- 2021091707:32:06\n",
            "FOLD: 2 -- EPOCH: 10 -- TRAIN RMSE LOSS: 1085179.1242 -- VALID RMSE LOSS: 1088636.9279 -- 2021091707:32:16\n",
            "FOLD: 2 -- EPOCH: 20 -- TRAIN RMSE LOSS: 1066898.6617 -- VALID RMSE LOSS: 1075656.2260 -- 2021091707:32:26\n",
            "FOLD: 2 -- EPOCH: 30 -- TRAIN RMSE LOSS: 1032937.7508 -- VALID RMSE LOSS: 1064100.2612 -- 2021091707:32:36\n",
            "FOLD: 2 -- EPOCH: 40 -- TRAIN RMSE LOSS: 1006640.8472 -- VALID RMSE LOSS: 1058792.8590 -- 2021091707:32:46\n",
            "FOLD: 2 -- EPOCH: 50 -- TRAIN RMSE LOSS: 978359.8907 -- VALID RMSE LOSS: 1054495.5785 -- 2021091707:32:56\n",
            "FOLD: 2 ----- BEST VALID RMSE LOSS: 1049373.126602564 ----- 20210917 07:32:58\n",
            "\n",
            "FOLD: 3 -- EPOCH: 0 -- TRAIN RMSE LOSS: 1672765.9714 -- VALID RMSE LOSS: 1430125.2051 -- 2021091707:33:00\n",
            "FOLD: 3 -- EPOCH: 10 -- TRAIN RMSE LOSS: 1089808.8452 -- VALID RMSE LOSS: 1106573.5208 -- 2021091707:33:10\n",
            "FOLD: 3 -- EPOCH: 20 -- TRAIN RMSE LOSS: 1059138.0290 -- VALID RMSE LOSS: 1094664.0962 -- 2021091707:33:19\n",
            "FOLD: 3 -- EPOCH: 30 -- TRAIN RMSE LOSS: 1028374.5371 -- VALID RMSE LOSS: 1068259.9712 -- 2021091707:33:29\n",
            "FOLD: 3 -- EPOCH: 40 -- TRAIN RMSE LOSS: 1016850.5028 -- VALID RMSE LOSS: 1073215.3926 -- 2021091707:33:39\n",
            "FOLD: 3 -- EPOCH: 50 -- TRAIN RMSE LOSS: 996911.4306 -- VALID RMSE LOSS: 1052103.6010 -- 2021091707:33:49\n",
            "FOLD: 3 -- EPOCH: 60 -- TRAIN RMSE LOSS: 972075.4798 -- VALID RMSE LOSS: 1064443.6538 -- 2021091707:34:00\n",
            "FOLD: 3 -- EPOCH: 70 -- TRAIN RMSE LOSS: 959134.8810 -- VALID RMSE LOSS: 1064806.2179 -- 2021091707:34:10\n",
            "FOLD: 3 ----- BEST VALID RMSE LOSS: 1048476.7115384615 ----- 20210917 07:34:18\n",
            "\n",
            "FOLD: 4 -- EPOCH: 0 -- TRAIN RMSE LOSS: 1663326.8097 -- VALID RMSE LOSS: 1472414.5481 -- 2021091707:34:19\n",
            "FOLD: 4 -- EPOCH: 10 -- TRAIN RMSE LOSS: 1084273.5129 -- VALID RMSE LOSS: 1117035.4247 -- 2021091707:34:29\n",
            "FOLD: 4 -- EPOCH: 20 -- TRAIN RMSE LOSS: 1055068.6827 -- VALID RMSE LOSS: 1132795.7115 -- 2021091707:34:39\n",
            "FOLD: 4 -- EPOCH: 30 -- TRAIN RMSE LOSS: 1033604.5851 -- VALID RMSE LOSS: 1078476.1010 -- 2021091707:34:49\n",
            "FOLD: 4 -- EPOCH: 40 -- TRAIN RMSE LOSS: 1012190.9722 -- VALID RMSE LOSS: 1074018.1410 -- 2021091707:34:59\n",
            "FOLD: 4 -- EPOCH: 50 -- TRAIN RMSE LOSS: 986470.2407 -- VALID RMSE LOSS: 1063642.2821 -- 2021091707:35:09\n",
            "FOLD: 4 -- EPOCH: 60 -- TRAIN RMSE LOSS: 964966.5835 -- VALID RMSE LOSS: 1065124.8141 -- 2021091707:35:20\n",
            "FOLD: 4 ----- BEST VALID RMSE LOSS: 1061658.2403846155 ----- 20210917 07:35:27\n",
            "\n",
            "FOLDS:\n",
            " FOLD 0: 1075207.31731\n",
            " FOLD 1: 1044059.08013\n",
            " FOLD 2: 1049373.12660\n",
            " FOLD 3: 1048476.71154\n",
            " FOLD 4: 1061658.24038\n",
            "\n",
            "CROSS VALIDATION SCORE: \n",
            " 1055754.8951923077 ----- 20210917 07:35\n",
            "\n",
            "####################################################################################################\n",
            "\n",
            "TRIAL 2 START TIME: 20210917 07:35:27\n",
            "\n",
            "OPTIMIZER:\n",
            "Adam (\n",
            "Parameter Group 0\n",
            "    amsgrad: False\n",
            "    betas: (0.9, 0.999)\n",
            "    eps: 1e-08\n",
            "    lr: 0.0008770500981867362\n",
            "    weight_decay: 0\n",
            ")\n",
            "\n",
            "CURRENT TRIAL PARAMETERS: \n",
            "    n_units_l0: 284\n",
            "    n_units_l1: 184\n",
            "    n_units_l2: 152\n",
            "    n_units_l3: 112\n",
            "    n_units_l4: 100\n",
            "    n_units_l5: 78\n",
            "    n_units_l6: 22\n",
            "    lr: 0.0008770500981867362\n",
            "\n",
            "\n",
            "FOLD: 0 -- EPOCH: 0 -- TRAIN RMSE LOSS: 1780430.2935 -- VALID RMSE LOSS: 1452153.1026 -- 2021091707:35:28\n",
            "FOLD: 0 -- EPOCH: 10 -- TRAIN RMSE LOSS: 1107925.2423 -- VALID RMSE LOSS: 1124652.1859 -- 2021091707:35:38\n",
            "FOLD: 0 -- EPOCH: 20 -- TRAIN RMSE LOSS: 1074297.3956 -- VALID RMSE LOSS: 1101530.8093 -- 2021091707:35:48\n",
            "FOLD: 0 -- EPOCH: 30 -- TRAIN RMSE LOSS: 1058374.1738 -- VALID RMSE LOSS: 1094952.4824 -- 2021091707:35:58\n",
            "FOLD: 0 -- EPOCH: 40 -- TRAIN RMSE LOSS: 1043926.1218 -- VALID RMSE LOSS: 1088049.5032 -- 2021091707:36:08\n",
            "FOLD: 0 -- EPOCH: 50 -- TRAIN RMSE LOSS: 1028215.9286 -- VALID RMSE LOSS: 1078823.7324 -- 2021091707:36:19\n",
            "FOLD: 0 ----- BEST VALID RMSE LOSS: 1078112.7868589743 ----- 20210917 07:36:24\n",
            "\n",
            "FOLD: 1 -- EPOCH: 0 -- TRAIN RMSE LOSS: 1757828.4952 -- VALID RMSE LOSS: 1414252.1346 -- 2021091707:36:25\n",
            "FOLD: 1 -- EPOCH: 10 -- TRAIN RMSE LOSS: 1102738.9653 -- VALID RMSE LOSS: 1099890.3253 -- 2021091707:36:35\n",
            "FOLD: 1 -- EPOCH: 20 -- TRAIN RMSE LOSS: 1069905.3629 -- VALID RMSE LOSS: 1067202.7131 -- 2021091707:36:45\n",
            "FOLD: 1 -- EPOCH: 30 -- TRAIN RMSE LOSS: 1050834.4714 -- VALID RMSE LOSS: 1075730.7356 -- 2021091707:36:56\n",
            "FOLD: 1 -- EPOCH: 40 -- TRAIN RMSE LOSS: 1030112.7560 -- VALID RMSE LOSS: 1078068.5689 -- 2021091707:37:06\n",
            "FOLD: 1 -- EPOCH: 50 -- TRAIN RMSE LOSS: 1012155.6125 -- VALID RMSE LOSS: 1050663.2051 -- 2021091707:37:16\n",
            "FOLD: 1 -- EPOCH: 60 -- TRAIN RMSE LOSS: 983770.2000 -- VALID RMSE LOSS: 1092510.5433 -- 2021091707:37:27\n",
            "FOLD: 1 -- EPOCH: 70 -- TRAIN RMSE LOSS: 960399.3528 -- VALID RMSE LOSS: 1069331.2949 -- 2021091707:37:37\n",
            "FOLD: 1 ----- BEST VALID RMSE LOSS: 1044104.9022435897 ----- 20210917 07:37:39\n",
            "\n",
            "FOLD: 2 -- EPOCH: 0 -- TRAIN RMSE LOSS: 1775596.2742 -- VALID RMSE LOSS: 1475322.4679 -- 2021091707:37:40\n",
            "FOLD: 2 -- EPOCH: 10 -- TRAIN RMSE LOSS: 1103743.0060 -- VALID RMSE LOSS: 1140490.0737 -- 2021091707:37:51\n",
            "FOLD: 2 -- EPOCH: 20 -- TRAIN RMSE LOSS: 1072224.1577 -- VALID RMSE LOSS: 1090948.9840 -- 2021091707:38:01\n",
            "FOLD: 2 -- EPOCH: 30 -- TRAIN RMSE LOSS: 1052354.3065 -- VALID RMSE LOSS: 1065995.3109 -- 2021091707:38:12\n",
            "FOLD: 2 -- EPOCH: 40 -- TRAIN RMSE LOSS: 1037870.5692 -- VALID RMSE LOSS: 1093611.0369 -- 2021091707:38:22\n",
            "FOLD: 2 -- EPOCH: 50 -- TRAIN RMSE LOSS: 1026535.1198 -- VALID RMSE LOSS: 1056781.1074 -- 2021091707:38:33\n",
            "FOLD: 2 ----- BEST VALID RMSE LOSS: 1053279.0048076923 ----- 20210917 07:38:37\n",
            "\n",
            "FOLD: 3 -- EPOCH: 0 -- TRAIN RMSE LOSS: 1746264.8754 -- VALID RMSE LOSS: 1446494.1731 -- 2021091707:38:38\n",
            "FOLD: 3 -- EPOCH: 10 -- TRAIN RMSE LOSS: 1096517.3851 -- VALID RMSE LOSS: 1119575.7644 -- 2021091707:38:49\n",
            "FOLD: 3 -- EPOCH: 20 -- TRAIN RMSE LOSS: 1070520.7919 -- VALID RMSE LOSS: 1097458.2772 -- 2021091707:38:59\n",
            "FOLD: 3 -- EPOCH: 30 -- TRAIN RMSE LOSS: 1057250.9456 -- VALID RMSE LOSS: 1085558.5337 -- 2021091707:39:10\n",
            "FOLD: 3 -- EPOCH: 40 -- TRAIN RMSE LOSS: 1045657.1669 -- VALID RMSE LOSS: 1077652.0401 -- 2021091707:39:20\n",
            "FOLD: 3 -- EPOCH: 50 -- TRAIN RMSE LOSS: 1021200.7762 -- VALID RMSE LOSS: 1065022.0609 -- 2021091707:39:31\n",
            "FOLD: 3 -- EPOCH: 60 -- TRAIN RMSE LOSS: 1000906.4698 -- VALID RMSE LOSS: 1067251.2115 -- 2021091707:39:42\n",
            "FOLD: 3 -- EPOCH: 70 -- TRAIN RMSE LOSS: 989972.8516 -- VALID RMSE LOSS: 1057601.2292 -- 2021091707:39:52\n",
            "FOLD: 3 -- EPOCH: 80 -- TRAIN RMSE LOSS: 972673.6206 -- VALID RMSE LOSS: 1051514.8269 -- 2021091707:40:03\n",
            "FOLD: 3 -- EPOCH: 90 -- TRAIN RMSE LOSS: 954449.1815 -- VALID RMSE LOSS: 1077488.0913 -- 2021091707:40:14\n",
            "FOLD: 3 ----- BEST VALID RMSE LOSS: 1051514.826923077 ----- 20210917 07:40:15\n",
            "\n",
            "FOLD: 4 -- EPOCH: 0 -- TRAIN RMSE LOSS: 1786376.0435 -- VALID RMSE LOSS: 1499854.6955 -- 2021091707:40:16\n",
            "FOLD: 4 -- EPOCH: 10 -- TRAIN RMSE LOSS: 1104920.6363 -- VALID RMSE LOSS: 1124705.5689 -- 2021091707:40:26\n",
            "FOLD: 4 -- EPOCH: 20 -- TRAIN RMSE LOSS: 1082376.9661 -- VALID RMSE LOSS: 1114212.2003 -- 2021091707:40:37\n",
            "FOLD: 4 -- EPOCH: 30 -- TRAIN RMSE LOSS: 1053144.4464 -- VALID RMSE LOSS: 1087934.5321 -- 2021091707:40:48\n",
            "FOLD: 4 -- EPOCH: 40 -- TRAIN RMSE LOSS: 1036501.0387 -- VALID RMSE LOSS: 1078463.2244 -- 2021091707:40:58\n",
            "FOLD: 4 -- EPOCH: 50 -- TRAIN RMSE LOSS: 1010155.9544 -- VALID RMSE LOSS: 1071363.5497 -- 2021091707:41:09\n",
            "FOLD: 4 -- EPOCH: 60 -- TRAIN RMSE LOSS: 986537.8137 -- VALID RMSE LOSS: 1062136.4551 -- 2021091707:41:20\n",
            "FOLD: 4 -- EPOCH: 70 -- TRAIN RMSE LOSS: 964978.5651 -- VALID RMSE LOSS: 1059956.2179 -- 2021091707:41:31\n",
            "FOLD: 4 -- EPOCH: 80 -- TRAIN RMSE LOSS: 952366.0786 -- VALID RMSE LOSS: 1067517.3894 -- 2021091707:41:41\n",
            "FOLD: 4 ----- BEST VALID RMSE LOSS: 1053839.3621794872 ----- 20210917 07:41:50\n",
            "\n",
            "FOLDS:\n",
            " FOLD 0: 1078112.78686\n",
            " FOLD 1: 1044104.90224\n",
            " FOLD 2: 1053279.00481\n",
            " FOLD 3: 1051514.82692\n",
            " FOLD 4: 1053839.36218\n",
            "\n",
            "CROSS VALIDATION SCORE: \n",
            " 1056170.1766025641 ----- 20210917 07:41\n",
            "\n",
            "**************\n",
            "Best CV trial:\n",
            "  Value:  1055754.8951923077\n",
            "\n",
            "  Params: \n",
            "    n_units_l0: 284\n",
            "    n_units_l1: 184\n",
            "    n_units_l2: 152\n",
            "    n_units_l3: 112\n",
            "    n_units_l4: 100\n",
            "    n_units_l5: 78\n",
            "    n_units_l6: 22\n",
            "    lr: 0.0008770500981867362\n",
            "**************\n",
            "\n",
            "####################################################################################################\n",
            "\n",
            "TRIAL 3 START TIME: 20210917 07:41:50\n",
            "\n",
            "OPTIMIZER:\n",
            "Adam (\n",
            "Parameter Group 0\n",
            "    amsgrad: False\n",
            "    betas: (0.9, 0.999)\n",
            "    eps: 1e-08\n",
            "    lr: 0.0006667710249351343\n",
            "    weight_decay: 0\n",
            ")\n",
            "\n",
            "CURRENT TRIAL PARAMETERS: \n",
            "    n_units_l0: 220\n",
            "    n_units_l1: 219\n",
            "    n_units_l2: 121\n",
            "    n_units_l3: 113\n",
            "    n_units_l4: 88\n",
            "    n_units_l5: 60\n",
            "    n_units_l6: 22\n",
            "    lr: 0.0006667710249351343\n",
            "\n",
            "\n",
            "FOLD: 0 -- EPOCH: 0 -- TRAIN RMSE LOSS: 1868602.6081 -- VALID RMSE LOSS: 1462939.4760 -- 2021091707:41:51\n",
            "FOLD: 0 -- EPOCH: 10 -- TRAIN RMSE LOSS: 1118995.2867 -- VALID RMSE LOSS: 1134608.9888 -- 2021091707:42:02\n",
            "FOLD: 0 -- EPOCH: 20 -- TRAIN RMSE LOSS: 1089194.9528 -- VALID RMSE LOSS: 1110020.6571 -- 2021091707:42:12\n",
            "FOLD: 0 -- EPOCH: 30 -- TRAIN RMSE LOSS: 1065565.4117 -- VALID RMSE LOSS: 1104251.7067 -- 2021091707:42:23\n",
            "FOLD: 0 -- EPOCH: 40 -- TRAIN RMSE LOSS: 1053866.1609 -- VALID RMSE LOSS: 1090513.7708 -- 2021091707:42:34\n",
            "FOLD: 0 -- EPOCH: 50 -- TRAIN RMSE LOSS: 1045212.8363 -- VALID RMSE LOSS: 1090537.6186 -- 2021091707:42:47\n",
            "FOLD: 0 -- EPOCH: 60 -- TRAIN RMSE LOSS: 1028637.8649 -- VALID RMSE LOSS: 1087936.9087 -- 2021091707:42:58\n",
            "FOLD: 0 -- EPOCH: 70 -- TRAIN RMSE LOSS: 1012636.4976 -- VALID RMSE LOSS: 1083595.2869 -- 2021091707:43:09\n",
            "FOLD: 0 ----- BEST VALID RMSE LOSS: 1079668.9583333333 ----- 20210917 07:43:09\n",
            "\n",
            "FOLD: 1 -- EPOCH: 0 -- TRAIN RMSE LOSS: 1832063.3085 -- VALID RMSE LOSS: 1422897.5657 -- 2021091707:43:10\n",
            "FOLD: 1 -- EPOCH: 10 -- TRAIN RMSE LOSS: 1118422.2016 -- VALID RMSE LOSS: 1094522.7083 -- 2021091707:43:20\n",
            "FOLD: 1 -- EPOCH: 20 -- TRAIN RMSE LOSS: 1081693.2250 -- VALID RMSE LOSS: 1070071.6202 -- 2021091707:43:31\n",
            "FOLD: 1 -- EPOCH: 30 -- TRAIN RMSE LOSS: 1063504.7387 -- VALID RMSE LOSS: 1063131.0369 -- 2021091707:43:42\n",
            "FOLD: 1 -- EPOCH: 40 -- TRAIN RMSE LOSS: 1049897.0940 -- VALID RMSE LOSS: 1061882.9744 -- 2021091707:43:53\n",
            "FOLD: 1 -- EPOCH: 50 -- TRAIN RMSE LOSS: 1037138.5605 -- VALID RMSE LOSS: 1054158.5064 -- 2021091707:44:04\n",
            "FOLD: 1 -- EPOCH: 60 -- TRAIN RMSE LOSS: 1015506.2562 -- VALID RMSE LOSS: 1045700.0465 -- 2021091707:44:15\n",
            "FOLD: 1 -- EPOCH: 70 -- TRAIN RMSE LOSS: 998350.7774 -- VALID RMSE LOSS: 1051368.5849 -- 2021091707:44:26\n",
            "FOLD: 1 ----- BEST VALID RMSE LOSS: 1044973.8076923077 ----- 20210917 07:44:28\n",
            "\n",
            "FOLD: 2 -- EPOCH: 0 -- TRAIN RMSE LOSS: 1812055.0427 -- VALID RMSE LOSS: 1479907.0897 -- 2021091707:44:30\n",
            "FOLD: 2 -- EPOCH: 10 -- TRAIN RMSE LOSS: 1107282.8966 -- VALID RMSE LOSS: 1107150.7163 -- 2021091707:44:41\n",
            "FOLD: 2 -- EPOCH: 20 -- TRAIN RMSE LOSS: 1080150.0726 -- VALID RMSE LOSS: 1084522.5785 -- 2021091707:44:52\n",
            "FOLD: 2 -- EPOCH: 30 -- TRAIN RMSE LOSS: 1058791.4524 -- VALID RMSE LOSS: 1079365.3285 -- 2021091707:45:03\n",
            "FOLD: 2 -- EPOCH: 40 -- TRAIN RMSE LOSS: 1048966.7577 -- VALID RMSE LOSS: 1066064.6042 -- 2021091707:45:14\n",
            "FOLD: 2 -- EPOCH: 50 -- TRAIN RMSE LOSS: 1036025.2302 -- VALID RMSE LOSS: 1059301.4952 -- 2021091707:45:25\n",
            "FOLD: 2 -- EPOCH: 60 -- TRAIN RMSE LOSS: 1014528.8347 -- VALID RMSE LOSS: 1053709.2997 -- 2021091707:45:36\n",
            "FOLD: 2 -- EPOCH: 70 -- TRAIN RMSE LOSS: 995330.9145 -- VALID RMSE LOSS: 1053238.1426 -- 2021091707:45:47\n",
            "FOLD: 2 ----- BEST VALID RMSE LOSS: 1044798.2948717949 ----- 20210917 07:45:53\n",
            "\n",
            "FOLD: 3 -- EPOCH: 0 -- TRAIN RMSE LOSS: 1833787.3472 -- VALID RMSE LOSS: 1456644.2372 -- 2021091707:45:54\n",
            "FOLD: 3 -- EPOCH: 10 -- TRAIN RMSE LOSS: 1113868.3141 -- VALID RMSE LOSS: 1136717.6170 -- 2021091707:46:05\n",
            "FOLD: 3 -- EPOCH: 20 -- TRAIN RMSE LOSS: 1084803.9093 -- VALID RMSE LOSS: 1120920.5753 -- 2021091707:46:16\n",
            "FOLD: 3 -- EPOCH: 30 -- TRAIN RMSE LOSS: 1065036.6190 -- VALID RMSE LOSS: 1097869.3029 -- 2021091707:46:27\n",
            "FOLD: 3 -- EPOCH: 40 -- TRAIN RMSE LOSS: 1056350.8157 -- VALID RMSE LOSS: 1083510.8077 -- 2021091707:46:39\n",
            "FOLD: 3 -- EPOCH: 50 -- TRAIN RMSE LOSS: 1046391.0589 -- VALID RMSE LOSS: 1075657.6522 -- 2021091707:46:50\n",
            "FOLD: 3 -- EPOCH: 60 -- TRAIN RMSE LOSS: 1031650.1645 -- VALID RMSE LOSS: 1081400.3622 -- 2021091707:47:01\n",
            "FOLD: 3 -- EPOCH: 70 -- TRAIN RMSE LOSS: 1015166.1786 -- VALID RMSE LOSS: 1064661.8542 -- 2021091707:47:12\n",
            "FOLD: 3 -- EPOCH: 80 -- TRAIN RMSE LOSS: 1002241.3383 -- VALID RMSE LOSS: 1058649.0769 -- 2021091707:47:24\n",
            "FOLD: 3 -- EPOCH: 90 -- TRAIN RMSE LOSS: 978146.1454 -- VALID RMSE LOSS: 1055469.9888 -- 2021091707:47:35\n",
            "FOLD: 3 -- EPOCH: 100 -- TRAIN RMSE LOSS: 968975.6960 -- VALID RMSE LOSS: 1058731.4167 -- 2021091707:47:46\n",
            "FOLD: 3 -- EPOCH: 110 -- TRAIN RMSE LOSS: 954988.8992 -- VALID RMSE LOSS: 1058969.3413 -- 2021091707:47:57\n",
            "FOLD: 3 -- EPOCH: 120 -- TRAIN RMSE LOSS: 946202.6762 -- VALID RMSE LOSS: 1052215.9391 -- 2021091707:48:08\n",
            "FOLD: 3 -- EPOCH: 130 -- TRAIN RMSE LOSS: 932303.5121 -- VALID RMSE LOSS: 1051808.4375 -- 2021091707:48:20\n",
            "FOLD: 3 ----- BEST VALID RMSE LOSS: 1044644.8541666666 ----- 20210917 07:48:22\n",
            "\n",
            "FOLD: 4 -- EPOCH: 0 -- TRAIN RMSE LOSS: 1839855.9105 -- VALID RMSE LOSS: 1502903.4519 -- 2021091707:48:23\n",
            "FOLD: 4 -- EPOCH: 10 -- TRAIN RMSE LOSS: 1106443.6746 -- VALID RMSE LOSS: 1126255.8542 -- 2021091707:48:35\n",
            "FOLD: 4 -- EPOCH: 20 -- TRAIN RMSE LOSS: 1076564.4460 -- VALID RMSE LOSS: 1105978.5865 -- 2021091707:48:46\n",
            "FOLD: 4 -- EPOCH: 30 -- TRAIN RMSE LOSS: 1061354.7524 -- VALID RMSE LOSS: 1090658.2949 -- 2021091707:48:57\n",
            "FOLD: 4 -- EPOCH: 40 -- TRAIN RMSE LOSS: 1039833.1008 -- VALID RMSE LOSS: 1082826.7067 -- 2021091707:49:09\n",
            "FOLD: 4 -- EPOCH: 50 -- TRAIN RMSE LOSS: 1023316.5964 -- VALID RMSE LOSS: 1073185.7340 -- 2021091707:49:20\n",
            "FOLD: 4 -- EPOCH: 60 -- TRAIN RMSE LOSS: 1011297.8165 -- VALID RMSE LOSS: 1077295.0673 -- 2021091707:49:31\n",
            "FOLD: 4 ----- BEST VALID RMSE LOSS: 1069978.2323717948 ----- 20210917 07:49:41\n",
            "\n",
            "FOLDS:\n",
            " FOLD 0: 1079668.95833\n",
            " FOLD 1: 1044973.80769\n",
            " FOLD 2: 1044798.29487\n",
            " FOLD 3: 1044644.85417\n",
            " FOLD 4: 1069978.23237\n",
            "\n",
            "CROSS VALIDATION SCORE: \n",
            " 1056812.8294871796 ----- 20210917 07:49\n",
            "\n",
            "**************\n",
            "Best CV trial:\n",
            "  Value:  1055754.8951923077\n",
            "\n",
            "  Params: \n",
            "    n_units_l0: 220\n",
            "    n_units_l1: 219\n",
            "    n_units_l2: 121\n",
            "    n_units_l3: 113\n",
            "    n_units_l4: 88\n",
            "    n_units_l5: 60\n",
            "    n_units_l6: 22\n",
            "    lr: 0.0006667710249351343\n",
            "**************\n",
            "\n",
            "####################################################################################################\n",
            "\n",
            "TRIAL 4 START TIME: 20210917 07:49:41\n",
            "\n",
            "OPTIMIZER:\n",
            "Adam (\n",
            "Parameter Group 0\n",
            "    amsgrad: False\n",
            "    betas: (0.9, 0.999)\n",
            "    eps: 1e-08\n",
            "    lr: 0.0023183103178654155\n",
            "    weight_decay: 0\n",
            ")\n",
            "\n",
            "CURRENT TRIAL PARAMETERS: \n",
            "    n_units_l0: 231\n",
            "    n_units_l1: 213\n",
            "    n_units_l2: 176\n",
            "    n_units_l3: 108\n",
            "    n_units_l4: 79\n",
            "    n_units_l5: 59\n",
            "    n_units_l6: 40\n",
            "    lr: 0.0023183103178654155\n",
            "\n",
            "\n",
            "FOLD: 0 -- EPOCH: 0 -- TRAIN RMSE LOSS: 1606155.9597 -- VALID RMSE LOSS: 1400413.3093 -- 2021091707:49:42\n",
            "FOLD: 0 -- EPOCH: 10 -- TRAIN RMSE LOSS: 1081420.0935 -- VALID RMSE LOSS: 1122637.3638 -- 2021091707:49:53\n",
            "FOLD: 0 -- EPOCH: 20 -- TRAIN RMSE LOSS: 1047064.9927 -- VALID RMSE LOSS: 1096376.9038 -- 2021091707:50:05\n",
            "FOLD: 0 -- EPOCH: 30 -- TRAIN RMSE LOSS: 1019700.1355 -- VALID RMSE LOSS: 1113735.7308 -- 2021091707:50:16\n",
            "FOLD: 0 ----- BEST VALID RMSE LOSS: 1080367.9294871795 ----- 20210917 07:50:23\n",
            "\n",
            "FOLD: 1 -- EPOCH: 0 -- TRAIN RMSE LOSS: 1607935.1609 -- VALID RMSE LOSS: 1341556.3910 -- 2021091707:50:24\n",
            "FOLD: 1 -- EPOCH: 10 -- TRAIN RMSE LOSS: 1086897.9266 -- VALID RMSE LOSS: 1062822.3814 -- 2021091707:50:36\n",
            "FOLD: 1 -- EPOCH: 20 -- TRAIN RMSE LOSS: 1050800.2702 -- VALID RMSE LOSS: 1160108.4038 -- 2021091707:50:48\n",
            "FOLD: 1 -- EPOCH: 30 -- TRAIN RMSE LOSS: 1018024.9657 -- VALID RMSE LOSS: 1057116.4824 -- 2021091707:50:59\n",
            "FOLD: 1 ----- BEST VALID RMSE LOSS: 1042769.9551282051 ----- 20210917 07:51:10\n",
            "\n",
            "FOLD: 2 -- EPOCH: 0 -- TRAIN RMSE LOSS: 1615638.0589 -- VALID RMSE LOSS: 1424809.9679 -- 2021091707:51:11\n",
            "FOLD: 2 -- EPOCH: 10 -- TRAIN RMSE LOSS: 1084535.9823 -- VALID RMSE LOSS: 1084157.4744 -- 2021091707:51:22\n",
            "FOLD: 2 -- EPOCH: 20 -- TRAIN RMSE LOSS: 1059892.4109 -- VALID RMSE LOSS: 1065625.6955 -- 2021091707:51:34\n",
            "FOLD: 2 -- EPOCH: 30 -- TRAIN RMSE LOSS: 1010875.1484 -- VALID RMSE LOSS: 1071384.1026 -- 2021091707:51:46\n",
            "FOLD: 2 -- EPOCH: 40 -- TRAIN RMSE LOSS: 981053.4335 -- VALID RMSE LOSS: 1063454.7420 -- 2021091707:51:58\n",
            "FOLD: 2 ----- BEST VALID RMSE LOSS: 1055783.873397436 ----- 20210917 07:52:01\n",
            "\n",
            "FOLD: 3 -- EPOCH: 0 -- TRAIN RMSE LOSS: 1598842.0601 -- VALID RMSE LOSS: 1374295.7821 -- 2021091707:52:02\n",
            "FOLD: 3 -- EPOCH: 10 -- TRAIN RMSE LOSS: 1085068.0774 -- VALID RMSE LOSS: 1100068.4423 -- 2021091707:52:14\n",
            "FOLD: 3 -- EPOCH: 20 -- TRAIN RMSE LOSS: 1040376.7972 -- VALID RMSE LOSS: 1084089.9359 -- 2021091707:52:25\n",
            "FOLD: 3 -- EPOCH: 30 -- TRAIN RMSE LOSS: 1003399.1129 -- VALID RMSE LOSS: 1062290.7596 -- 2021091707:52:37\n",
            "FOLD: 3 -- EPOCH: 40 -- TRAIN RMSE LOSS: 987851.6270 -- VALID RMSE LOSS: 1054203.8269 -- 2021091707:52:49\n",
            "FOLD: 3 -- EPOCH: 50 -- TRAIN RMSE LOSS: 962320.9435 -- VALID RMSE LOSS: 1057793.8141 -- 2021091707:53:00\n",
            "FOLD: 3 ----- BEST VALID RMSE LOSS: 1049074.7371794872 ----- 20210917 07:53:05\n",
            "\n",
            "FOLD: 4 -- EPOCH: 0 -- TRAIN RMSE LOSS: 1584698.6488 -- VALID RMSE LOSS: 1415455.0240 -- 2021091707:53:06\n",
            "FOLD: 4 -- EPOCH: 10 -- TRAIN RMSE LOSS: 1083474.3105 -- VALID RMSE LOSS: 1096350.3510 -- 2021091707:53:18\n",
            "FOLD: 4 -- EPOCH: 20 -- TRAIN RMSE LOSS: 1044451.8968 -- VALID RMSE LOSS: 1087135.4455 -- 2021091707:53:30\n",
            "FOLD: 4 -- EPOCH: 30 -- TRAIN RMSE LOSS: 1003579.4911 -- VALID RMSE LOSS: 1078522.7067 -- 2021091707:53:42\n",
            "FOLD: 4 -- EPOCH: 40 -- TRAIN RMSE LOSS: 975518.5395 -- VALID RMSE LOSS: 1084587.0897 -- 2021091707:53:53\n",
            "FOLD: 4 -- EPOCH: 50 -- TRAIN RMSE LOSS: 946594.0528 -- VALID RMSE LOSS: 1079295.4856 -- 2021091707:54:05\n",
            "FOLD: 4 ----- BEST VALID RMSE LOSS: 1060989.6153846155 ----- 20210917 07:54:10\n",
            "\n",
            "FOLDS:\n",
            " FOLD 0: 1080367.92949\n",
            " FOLD 1: 1042769.95513\n",
            " FOLD 2: 1055783.87340\n",
            " FOLD 3: 1049074.73718\n",
            " FOLD 4: 1060989.61538\n",
            "\n",
            "CROSS VALIDATION SCORE: \n",
            " 1057797.2221153849 ----- 20210917 07:54\n",
            "\n",
            "**************\n",
            "Best CV trial:\n",
            "  Value:  1055754.8951923077\n",
            "\n",
            "  Params: \n",
            "    n_units_l0: 231\n",
            "    n_units_l1: 213\n",
            "    n_units_l2: 176\n",
            "    n_units_l3: 108\n",
            "    n_units_l4: 79\n",
            "    n_units_l5: 59\n",
            "    n_units_l6: 40\n",
            "    lr: 0.0023183103178654155\n",
            "**************\n",
            "\n",
            "####################################################################################################\n",
            "\n",
            "TRIAL 5 START TIME: 20210917 07:54:10\n",
            "\n",
            "OPTIMIZER:\n",
            "Adam (\n",
            "Parameter Group 0\n",
            "    amsgrad: False\n",
            "    betas: (0.9, 0.999)\n",
            "    eps: 1e-08\n",
            "    lr: 0.0018535420390517693\n",
            "    weight_decay: 0\n",
            ")\n",
            "\n",
            "CURRENT TRIAL PARAMETERS: \n",
            "    n_units_l0: 285\n",
            "    n_units_l1: 233\n",
            "    n_units_l2: 180\n",
            "    n_units_l3: 122\n",
            "    n_units_l4: 76\n",
            "    n_units_l5: 60\n",
            "    n_units_l6: 23\n",
            "    lr: 0.0018535420390517693\n",
            "\n",
            "\n",
            "FOLD: 0 -- EPOCH: 0 -- TRAIN RMSE LOSS: 1638676.1097 -- VALID RMSE LOSS: 1422428.7260 -- 2021091707:54:11\n",
            "FOLD: 0 -- EPOCH: 10 -- TRAIN RMSE LOSS: 1089964.3036 -- VALID RMSE LOSS: 1118306.6138 -- 2021091707:54:23\n",
            "FOLD: 0 -- EPOCH: 20 -- TRAIN RMSE LOSS: 1047437.6508 -- VALID RMSE LOSS: 1104647.9006 -- 2021091707:54:35\n",
            "FOLD: 0 -- EPOCH: 30 -- TRAIN RMSE LOSS: 1021382.2577 -- VALID RMSE LOSS: 1090841.9567 -- 2021091707:54:47\n",
            "FOLD: 0 ----- BEST VALID RMSE LOSS: 1080865.4615384615 ----- 20210917 07:54:49\n",
            "\n",
            "FOLD: 1 -- EPOCH: 0 -- TRAIN RMSE LOSS: 1636451.4419 -- VALID RMSE LOSS: 1367297.9054 -- 2021091707:54:50\n",
            "FOLD: 1 -- EPOCH: 10 -- TRAIN RMSE LOSS: 1080429.1802 -- VALID RMSE LOSS: 1074376.5962 -- 2021091707:55:02\n",
            "FOLD: 1 -- EPOCH: 20 -- TRAIN RMSE LOSS: 1054680.9927 -- VALID RMSE LOSS: 1060254.8910 -- 2021091707:55:14\n",
            "FOLD: 1 -- EPOCH: 30 -- TRAIN RMSE LOSS: 1014943.0129 -- VALID RMSE LOSS: 1066972.4407 -- 2021091707:55:26\n",
            "FOLD: 1 ----- BEST VALID RMSE LOSS: 1046137.2772435897 ----- 20210917 07:55:33\n",
            "\n",
            "FOLD: 2 -- EPOCH: 0 -- TRAIN RMSE LOSS: 1651565.0169 -- VALID RMSE LOSS: 1436736.3045 -- 2021091707:55:34\n",
            "FOLD: 2 -- EPOCH: 10 -- TRAIN RMSE LOSS: 1085188.4040 -- VALID RMSE LOSS: 1093964.2212 -- 2021091707:55:46\n",
            "FOLD: 2 -- EPOCH: 20 -- TRAIN RMSE LOSS: 1047154.6649 -- VALID RMSE LOSS: 1089655.3574 -- 2021091707:55:58\n",
            "FOLD: 2 -- EPOCH: 30 -- TRAIN RMSE LOSS: 1023436.9460 -- VALID RMSE LOSS: 1057244.5978 -- 2021091707:56:10\n",
            "FOLD: 2 -- EPOCH: 40 -- TRAIN RMSE LOSS: 990944.6843 -- VALID RMSE LOSS: 1052280.9615 -- 2021091707:56:22\n",
            "FOLD: 2 -- EPOCH: 50 -- TRAIN RMSE LOSS: 967428.2633 -- VALID RMSE LOSS: 1044374.7740 -- 2021091707:56:34\n",
            "FOLD: 2 -- EPOCH: 60 -- TRAIN RMSE LOSS: 954057.9992 -- VALID RMSE LOSS: 1058989.3333 -- 2021091707:56:46\n",
            "FOLD: 2 ----- BEST VALID RMSE LOSS: 1040611.0256410256 ----- 20210917 07:56:53\n",
            "\n",
            "FOLD: 3 -- EPOCH: 0 -- TRAIN RMSE LOSS: 1650839.9899 -- VALID RMSE LOSS: 1427428.0865 -- 2021091707:56:55\n",
            "FOLD: 3 -- EPOCH: 10 -- TRAIN RMSE LOSS: 1089823.0379 -- VALID RMSE LOSS: 1109442.1266 -- 2021091707:57:07\n",
            "FOLD: 3 -- EPOCH: 20 -- TRAIN RMSE LOSS: 1051189.8810 -- VALID RMSE LOSS: 1082381.9343 -- 2021091707:57:19\n",
            "FOLD: 3 -- EPOCH: 30 -- TRAIN RMSE LOSS: 1024451.3032 -- VALID RMSE LOSS: 1067737.8894 -- 2021091707:57:31\n",
            "FOLD: 3 -- EPOCH: 40 -- TRAIN RMSE LOSS: 993957.8645 -- VALID RMSE LOSS: 1058943.5721 -- 2021091707:57:43\n",
            "FOLD: 3 -- EPOCH: 50 -- TRAIN RMSE LOSS: 974015.7246 -- VALID RMSE LOSS: 1070091.6298 -- 2021091707:57:55\n",
            "FOLD: 3 -- EPOCH: 60 -- TRAIN RMSE LOSS: 955401.3335 -- VALID RMSE LOSS: 1059291.8638 -- 2021091707:58:07\n",
            "FOLD: 3 ----- BEST VALID RMSE LOSS: 1051591.873397436 ----- 20210917 07:58:14\n",
            "\n",
            "FOLD: 4 -- EPOCH: 0 -- TRAIN RMSE LOSS: 1628943.9177 -- VALID RMSE LOSS: 1463379.4455 -- 2021091707:58:15\n",
            "FOLD: 4 -- EPOCH: 10 -- TRAIN RMSE LOSS: 1078949.1548 -- VALID RMSE LOSS: 1113008.7212 -- 2021091707:58:27\n",
            "FOLD: 4 -- EPOCH: 20 -- TRAIN RMSE LOSS: 1046598.1105 -- VALID RMSE LOSS: 1087010.7981 -- 2021091707:58:40\n",
            "FOLD: 4 -- EPOCH: 30 -- TRAIN RMSE LOSS: 1030970.1153 -- VALID RMSE LOSS: 1110441.3109 -- 2021091707:58:52\n",
            "FOLD: 4 -- EPOCH: 40 -- TRAIN RMSE LOSS: 1007927.8157 -- VALID RMSE LOSS: 1065314.0401 -- 2021091707:59:04\n",
            "FOLD: 4 -- EPOCH: 50 -- TRAIN RMSE LOSS: 978650.7964 -- VALID RMSE LOSS: 1073227.4728 -- 2021091707:59:16\n",
            "FOLD: 4 ----- BEST VALID RMSE LOSS: 1060558.3974358975 ----- 20210917 07:59:24\n",
            "\n",
            "FOLDS:\n",
            " FOLD 0: 1080865.46154\n",
            " FOLD 1: 1046137.27724\n",
            " FOLD 2: 1040611.02564\n",
            " FOLD 3: 1051591.87340\n",
            " FOLD 4: 1060558.39744\n",
            "\n",
            "CROSS VALIDATION SCORE: \n",
            " 1055952.8070512819 ----- 20210917 07:59\n",
            "\n",
            "**************\n",
            "Best CV trial:\n",
            "  Value:  1055754.8951923077\n",
            "\n",
            "  Params: \n",
            "    n_units_l0: 285\n",
            "    n_units_l1: 233\n",
            "    n_units_l2: 180\n",
            "    n_units_l3: 122\n",
            "    n_units_l4: 76\n",
            "    n_units_l5: 60\n",
            "    n_units_l6: 23\n",
            "    lr: 0.0018535420390517693\n",
            "**************\n",
            "\n",
            "####################################################################################################\n",
            "\n",
            "Study statistics: \n",
            "  Number of finished trials:  5 \n",
            "\n",
            "Best trial:\n",
            "  Value:  1055754.8951923077\n",
            "  Params: \n",
            "    n_units_l0: 268\n",
            "    n_units_l1: 184\n",
            "    n_units_l2: 140\n",
            "    n_units_l3: 101\n",
            "    n_units_l4: 91\n",
            "    n_units_l5: 63\n",
            "    n_units_l6: 35\n",
            "    lr: 0.0015204848997598679\n",
            "\n",
            "\n",
            "\n",
            "TRIALS DATAFRAME: \n",
            "   number         value  ... params_n_units_l6     state\n",
            "0       0  1.055755e+06  ...                35  COMPLETE\n",
            "1       1  1.056170e+06  ...                22  COMPLETE\n",
            "2       2  1.056813e+06  ...                22  COMPLETE\n",
            "3       3  1.057797e+06  ...                40  COMPLETE\n",
            "4       4  1.055953e+06  ...                23  COMPLETE\n",
            "\n",
            "[5 rows x 14 columns]\n"
          ]
        }
      ]
    },
    {
      "cell_type": "code",
      "metadata": {
        "colab": {
          "base_uri": "https://localhost:8080/"
        },
        "id": "UPTJEi-m5Ozq",
        "outputId": "c92690a9-45b9-4114-acf2-3af588fa2d1b"
      },
      "source": [
        "pd.read_csv(f'logs/nn_trials_{study_start_time}.csv').sort_values('value').iloc[0]\n"
      ],
      "id": "UPTJEi-m5Ozq",
      "execution_count": null,
      "outputs": [
        {
          "output_type": "execute_result",
          "data": {
            "text/plain": [
              "Unnamed: 0                                    0\n",
              "number                                        0\n",
              "value                               1.05575e+06\n",
              "datetime_start       2021-09-17 07:30:18.814872\n",
              "datetime_complete    2021-09-17 07:35:27.285505\n",
              "duration                 0 days 00:05:08.470633\n",
              "params_lr                            0.00152048\n",
              "params_n_units_l0                           268\n",
              "params_n_units_l1                           184\n",
              "params_n_units_l2                           140\n",
              "params_n_units_l3                           101\n",
              "params_n_units_l4                            91\n",
              "params_n_units_l5                            63\n",
              "params_n_units_l6                            35\n",
              "state                                  COMPLETE\n",
              "Name: 0, dtype: object"
            ]
          },
          "metadata": {},
          "execution_count": 41
        }
      ]
    },
    {
      "cell_type": "markdown",
      "metadata": {
        "id": "Z8fdTk3S2W08"
      },
      "source": [
        "---\n",
        "#### ***Neural network optimization study complete***\n",
        "---\n",
        "\n",
        "Above we see one of our best NN trials on the full feature set, the RMSE CV is an improvement upon our grid search Random Forest in the last section. \n",
        "<br>\n",
        "\n",
        "However, this improvement is marginal (from ~1.07e6 to ~1.05e6) and clearly requires more involved modeling process and is less interpretable than Random Forest or our other baseline models. Also, we should check carefully the relationship between train and test loss, to make sure we are not over fitting. Setting aside a completely untouched holdout set to test our cross validated model would also be a good precaution to take.<br><br>\n",
        "Below we have graphics of our model optimization study. These plots help us understand what parameters are most important in our network topology optimzation study. As you can see, our the first trial turned out to have the best parameters of our study, although this would likely change if we increase the number of trials."
      ],
      "id": "Z8fdTk3S2W08"
    },
    {
      "cell_type": "code",
      "metadata": {
        "colab": {
          "base_uri": "https://localhost:8080/",
          "height": 542
        },
        "id": "7vL8iaHG3ueZ",
        "outputId": "d47c0a13-2b40-44de-cb98-2a8ef7817766"
      },
      "source": [
        "# study = joblib.load(f'logs/nn_study_{study_start_time}.pkl')\n",
        "optuna.visualization.plot_optimization_history(study)"
      ],
      "id": "7vL8iaHG3ueZ",
      "execution_count": null,
      "outputs": [
        {
          "output_type": "display_data",
          "data": {
            "text/html": [
              "<html>\n",
              "<head><meta charset=\"utf-8\" /></head>\n",
              "<body>\n",
              "    <div>\n",
              "            <script src=\"https://cdnjs.cloudflare.com/ajax/libs/mathjax/2.7.5/MathJax.js?config=TeX-AMS-MML_SVG\"></script><script type=\"text/javascript\">if (window.MathJax) {MathJax.Hub.Config({SVG: {font: \"STIX-Web\"}});}</script>\n",
              "                <script type=\"text/javascript\">window.PlotlyConfig = {MathJaxConfig: 'local'};</script>\n",
              "        <script src=\"https://cdn.plot.ly/plotly-latest.min.js\"></script>    \n",
              "            <div id=\"b19c3488-4182-4112-a722-c8c9d2ef348a\" class=\"plotly-graph-div\" style=\"height:525px; width:100%;\"></div>\n",
              "            <script type=\"text/javascript\">\n",
              "                \n",
              "                    window.PLOTLYENV=window.PLOTLYENV || {};\n",
              "                    \n",
              "                if (document.getElementById(\"b19c3488-4182-4112-a722-c8c9d2ef348a\")) {\n",
              "                    Plotly.newPlot(\n",
              "                        'b19c3488-4182-4112-a722-c8c9d2ef348a',\n",
              "                        [{\"mode\": \"markers\", \"name\": \"Objective Value\", \"type\": \"scatter\", \"x\": [0, 1, 2, 3, 4], \"y\": [1055754.8951923077, 1056170.176602564, 1056812.8294871796, 1057797.2221153849, 1055952.807051282]}, {\"name\": \"Best Value\", \"type\": \"scatter\", \"x\": [0, 1, 2, 3, 4], \"y\": [1055754.8951923077, 1055754.8951923077, 1055754.8951923077, 1055754.8951923077, 1055754.8951923077]}],\n",
              "                        {\"template\": {\"data\": {\"bar\": [{\"error_x\": {\"color\": \"#2a3f5f\"}, \"error_y\": {\"color\": \"#2a3f5f\"}, \"marker\": {\"line\": {\"color\": \"#E5ECF6\", \"width\": 0.5}}, \"type\": \"bar\"}], \"barpolar\": [{\"marker\": {\"line\": {\"color\": \"#E5ECF6\", \"width\": 0.5}}, \"type\": \"barpolar\"}], \"carpet\": [{\"aaxis\": {\"endlinecolor\": \"#2a3f5f\", \"gridcolor\": \"white\", \"linecolor\": \"white\", \"minorgridcolor\": \"white\", \"startlinecolor\": \"#2a3f5f\"}, \"baxis\": {\"endlinecolor\": \"#2a3f5f\", \"gridcolor\": \"white\", \"linecolor\": \"white\", \"minorgridcolor\": \"white\", \"startlinecolor\": \"#2a3f5f\"}, \"type\": \"carpet\"}], \"choropleth\": [{\"colorbar\": {\"outlinewidth\": 0, \"ticks\": \"\"}, \"type\": \"choropleth\"}], \"contour\": [{\"colorbar\": {\"outlinewidth\": 0, \"ticks\": \"\"}, \"colorscale\": [[0.0, \"#0d0887\"], [0.1111111111111111, \"#46039f\"], [0.2222222222222222, \"#7201a8\"], [0.3333333333333333, \"#9c179e\"], [0.4444444444444444, \"#bd3786\"], [0.5555555555555556, \"#d8576b\"], [0.6666666666666666, \"#ed7953\"], [0.7777777777777778, \"#fb9f3a\"], [0.8888888888888888, \"#fdca26\"], [1.0, \"#f0f921\"]], \"type\": \"contour\"}], \"contourcarpet\": [{\"colorbar\": {\"outlinewidth\": 0, \"ticks\": \"\"}, \"type\": \"contourcarpet\"}], \"heatmap\": [{\"colorbar\": {\"outlinewidth\": 0, \"ticks\": \"\"}, \"colorscale\": [[0.0, \"#0d0887\"], [0.1111111111111111, \"#46039f\"], [0.2222222222222222, \"#7201a8\"], [0.3333333333333333, \"#9c179e\"], [0.4444444444444444, \"#bd3786\"], [0.5555555555555556, \"#d8576b\"], [0.6666666666666666, \"#ed7953\"], [0.7777777777777778, \"#fb9f3a\"], [0.8888888888888888, \"#fdca26\"], [1.0, \"#f0f921\"]], \"type\": \"heatmap\"}], \"heatmapgl\": [{\"colorbar\": {\"outlinewidth\": 0, \"ticks\": \"\"}, \"colorscale\": [[0.0, \"#0d0887\"], [0.1111111111111111, \"#46039f\"], [0.2222222222222222, \"#7201a8\"], [0.3333333333333333, \"#9c179e\"], [0.4444444444444444, \"#bd3786\"], [0.5555555555555556, \"#d8576b\"], [0.6666666666666666, \"#ed7953\"], [0.7777777777777778, \"#fb9f3a\"], [0.8888888888888888, \"#fdca26\"], [1.0, \"#f0f921\"]], \"type\": \"heatmapgl\"}], \"histogram\": [{\"marker\": {\"colorbar\": {\"outlinewidth\": 0, \"ticks\": \"\"}}, \"type\": \"histogram\"}], \"histogram2d\": [{\"colorbar\": {\"outlinewidth\": 0, \"ticks\": \"\"}, \"colorscale\": [[0.0, \"#0d0887\"], [0.1111111111111111, \"#46039f\"], [0.2222222222222222, \"#7201a8\"], [0.3333333333333333, \"#9c179e\"], [0.4444444444444444, \"#bd3786\"], [0.5555555555555556, \"#d8576b\"], [0.6666666666666666, \"#ed7953\"], [0.7777777777777778, \"#fb9f3a\"], [0.8888888888888888, \"#fdca26\"], [1.0, \"#f0f921\"]], \"type\": \"histogram2d\"}], \"histogram2dcontour\": [{\"colorbar\": {\"outlinewidth\": 0, \"ticks\": \"\"}, \"colorscale\": [[0.0, \"#0d0887\"], [0.1111111111111111, \"#46039f\"], [0.2222222222222222, \"#7201a8\"], [0.3333333333333333, \"#9c179e\"], [0.4444444444444444, \"#bd3786\"], [0.5555555555555556, \"#d8576b\"], [0.6666666666666666, \"#ed7953\"], [0.7777777777777778, \"#fb9f3a\"], [0.8888888888888888, \"#fdca26\"], [1.0, \"#f0f921\"]], \"type\": \"histogram2dcontour\"}], \"mesh3d\": [{\"colorbar\": {\"outlinewidth\": 0, \"ticks\": \"\"}, \"type\": \"mesh3d\"}], \"parcoords\": [{\"line\": {\"colorbar\": {\"outlinewidth\": 0, \"ticks\": \"\"}}, \"type\": \"parcoords\"}], \"pie\": [{\"automargin\": true, \"type\": \"pie\"}], \"scatter\": [{\"marker\": {\"colorbar\": {\"outlinewidth\": 0, \"ticks\": \"\"}}, \"type\": \"scatter\"}], \"scatter3d\": [{\"line\": {\"colorbar\": {\"outlinewidth\": 0, \"ticks\": \"\"}}, \"marker\": {\"colorbar\": {\"outlinewidth\": 0, \"ticks\": \"\"}}, \"type\": \"scatter3d\"}], \"scattercarpet\": [{\"marker\": {\"colorbar\": {\"outlinewidth\": 0, \"ticks\": \"\"}}, \"type\": \"scattercarpet\"}], \"scattergeo\": [{\"marker\": {\"colorbar\": {\"outlinewidth\": 0, \"ticks\": \"\"}}, \"type\": \"scattergeo\"}], \"scattergl\": [{\"marker\": {\"colorbar\": {\"outlinewidth\": 0, \"ticks\": \"\"}}, \"type\": \"scattergl\"}], \"scattermapbox\": [{\"marker\": {\"colorbar\": {\"outlinewidth\": 0, \"ticks\": \"\"}}, \"type\": \"scattermapbox\"}], \"scatterpolar\": [{\"marker\": {\"colorbar\": {\"outlinewidth\": 0, \"ticks\": \"\"}}, \"type\": \"scatterpolar\"}], \"scatterpolargl\": [{\"marker\": {\"colorbar\": {\"outlinewidth\": 0, \"ticks\": \"\"}}, \"type\": \"scatterpolargl\"}], \"scatterternary\": [{\"marker\": {\"colorbar\": {\"outlinewidth\": 0, \"ticks\": \"\"}}, \"type\": \"scatterternary\"}], \"surface\": [{\"colorbar\": {\"outlinewidth\": 0, \"ticks\": \"\"}, \"colorscale\": [[0.0, \"#0d0887\"], [0.1111111111111111, \"#46039f\"], [0.2222222222222222, \"#7201a8\"], [0.3333333333333333, \"#9c179e\"], [0.4444444444444444, \"#bd3786\"], [0.5555555555555556, \"#d8576b\"], [0.6666666666666666, \"#ed7953\"], [0.7777777777777778, \"#fb9f3a\"], [0.8888888888888888, \"#fdca26\"], [1.0, \"#f0f921\"]], \"type\": \"surface\"}], \"table\": [{\"cells\": {\"fill\": {\"color\": \"#EBF0F8\"}, \"line\": {\"color\": \"white\"}}, \"header\": {\"fill\": {\"color\": \"#C8D4E3\"}, \"line\": {\"color\": \"white\"}}, \"type\": \"table\"}]}, \"layout\": {\"annotationdefaults\": {\"arrowcolor\": \"#2a3f5f\", \"arrowhead\": 0, \"arrowwidth\": 1}, \"coloraxis\": {\"colorbar\": {\"outlinewidth\": 0, \"ticks\": \"\"}}, \"colorscale\": {\"diverging\": [[0, \"#8e0152\"], [0.1, \"#c51b7d\"], [0.2, \"#de77ae\"], [0.3, \"#f1b6da\"], [0.4, \"#fde0ef\"], [0.5, \"#f7f7f7\"], [0.6, \"#e6f5d0\"], [0.7, \"#b8e186\"], [0.8, \"#7fbc41\"], [0.9, \"#4d9221\"], [1, \"#276419\"]], \"sequential\": [[0.0, \"#0d0887\"], [0.1111111111111111, \"#46039f\"], [0.2222222222222222, \"#7201a8\"], [0.3333333333333333, \"#9c179e\"], [0.4444444444444444, \"#bd3786\"], [0.5555555555555556, \"#d8576b\"], [0.6666666666666666, \"#ed7953\"], [0.7777777777777778, \"#fb9f3a\"], [0.8888888888888888, \"#fdca26\"], [1.0, \"#f0f921\"]], \"sequentialminus\": [[0.0, \"#0d0887\"], [0.1111111111111111, \"#46039f\"], [0.2222222222222222, \"#7201a8\"], [0.3333333333333333, \"#9c179e\"], [0.4444444444444444, \"#bd3786\"], [0.5555555555555556, \"#d8576b\"], [0.6666666666666666, \"#ed7953\"], [0.7777777777777778, \"#fb9f3a\"], [0.8888888888888888, \"#fdca26\"], [1.0, \"#f0f921\"]]}, \"colorway\": [\"#636efa\", \"#EF553B\", \"#00cc96\", \"#ab63fa\", \"#FFA15A\", \"#19d3f3\", \"#FF6692\", \"#B6E880\", \"#FF97FF\", \"#FECB52\"], \"font\": {\"color\": \"#2a3f5f\"}, \"geo\": {\"bgcolor\": \"white\", \"lakecolor\": \"white\", \"landcolor\": \"#E5ECF6\", \"showlakes\": true, \"showland\": true, \"subunitcolor\": \"white\"}, \"hoverlabel\": {\"align\": \"left\"}, \"hovermode\": \"closest\", \"mapbox\": {\"style\": \"light\"}, \"paper_bgcolor\": \"white\", \"plot_bgcolor\": \"#E5ECF6\", \"polar\": {\"angularaxis\": {\"gridcolor\": \"white\", \"linecolor\": \"white\", \"ticks\": \"\"}, \"bgcolor\": \"#E5ECF6\", \"radialaxis\": {\"gridcolor\": \"white\", \"linecolor\": \"white\", \"ticks\": \"\"}}, \"scene\": {\"xaxis\": {\"backgroundcolor\": \"#E5ECF6\", \"gridcolor\": \"white\", \"gridwidth\": 2, \"linecolor\": \"white\", \"showbackground\": true, \"ticks\": \"\", \"zerolinecolor\": \"white\"}, \"yaxis\": {\"backgroundcolor\": \"#E5ECF6\", \"gridcolor\": \"white\", \"gridwidth\": 2, \"linecolor\": \"white\", \"showbackground\": true, \"ticks\": \"\", \"zerolinecolor\": \"white\"}, \"zaxis\": {\"backgroundcolor\": \"#E5ECF6\", \"gridcolor\": \"white\", \"gridwidth\": 2, \"linecolor\": \"white\", \"showbackground\": true, \"ticks\": \"\", \"zerolinecolor\": \"white\"}}, \"shapedefaults\": {\"line\": {\"color\": \"#2a3f5f\"}}, \"ternary\": {\"aaxis\": {\"gridcolor\": \"white\", \"linecolor\": \"white\", \"ticks\": \"\"}, \"baxis\": {\"gridcolor\": \"white\", \"linecolor\": \"white\", \"ticks\": \"\"}, \"bgcolor\": \"#E5ECF6\", \"caxis\": {\"gridcolor\": \"white\", \"linecolor\": \"white\", \"ticks\": \"\"}}, \"title\": {\"x\": 0.05}, \"xaxis\": {\"automargin\": true, \"gridcolor\": \"white\", \"linecolor\": \"white\", \"ticks\": \"\", \"title\": {\"standoff\": 15}, \"zerolinecolor\": \"white\", \"zerolinewidth\": 2}, \"yaxis\": {\"automargin\": true, \"gridcolor\": \"white\", \"linecolor\": \"white\", \"ticks\": \"\", \"title\": {\"standoff\": 15}, \"zerolinecolor\": \"white\", \"zerolinewidth\": 2}}}, \"title\": {\"text\": \"Optimization History Plot\"}, \"xaxis\": {\"title\": {\"text\": \"#Trials\"}}, \"yaxis\": {\"title\": {\"text\": \"Objective Value\"}}},\n",
              "                        {\"responsive\": true}\n",
              "                    ).then(function(){\n",
              "                            \n",
              "var gd = document.getElementById('b19c3488-4182-4112-a722-c8c9d2ef348a');\n",
              "var x = new MutationObserver(function (mutations, observer) {{\n",
              "        var display = window.getComputedStyle(gd).display;\n",
              "        if (!display || display === 'none') {{\n",
              "            console.log([gd, 'removed!']);\n",
              "            Plotly.purge(gd);\n",
              "            observer.disconnect();\n",
              "        }}\n",
              "}});\n",
              "\n",
              "// Listen for the removal of the full notebook cells\n",
              "var notebookContainer = gd.closest('#notebook-container');\n",
              "if (notebookContainer) {{\n",
              "    x.observe(notebookContainer, {childList: true});\n",
              "}}\n",
              "\n",
              "// Listen for the clearing of the current output cell\n",
              "var outputEl = gd.closest('.output');\n",
              "if (outputEl) {{\n",
              "    x.observe(outputEl, {childList: true});\n",
              "}}\n",
              "\n",
              "                        })\n",
              "                };\n",
              "                \n",
              "            </script>\n",
              "        </div>\n",
              "</body>\n",
              "</html>"
            ]
          },
          "metadata": {}
        }
      ]
    },
    {
      "cell_type": "code",
      "metadata": {
        "colab": {
          "base_uri": "https://localhost:8080/",
          "height": 542
        },
        "id": "pSXPMVaP3_6U",
        "outputId": "b5791635-ebd6-4a4e-95d1-123823d9f5ed"
      },
      "source": [
        "optuna.visualization.plot_parallel_coordinate(study)"
      ],
      "id": "pSXPMVaP3_6U",
      "execution_count": null,
      "outputs": [
        {
          "output_type": "display_data",
          "data": {
            "text/html": [
              "<html>\n",
              "<head><meta charset=\"utf-8\" /></head>\n",
              "<body>\n",
              "    <div>\n",
              "            <script src=\"https://cdnjs.cloudflare.com/ajax/libs/mathjax/2.7.5/MathJax.js?config=TeX-AMS-MML_SVG\"></script><script type=\"text/javascript\">if (window.MathJax) {MathJax.Hub.Config({SVG: {font: \"STIX-Web\"}});}</script>\n",
              "                <script type=\"text/javascript\">window.PlotlyConfig = {MathJaxConfig: 'local'};</script>\n",
              "        <script src=\"https://cdn.plot.ly/plotly-latest.min.js\"></script>    \n",
              "            <div id=\"57bf3fb8-98e1-4e6a-b6ae-d909fdc70ea3\" class=\"plotly-graph-div\" style=\"height:525px; width:100%;\"></div>\n",
              "            <script type=\"text/javascript\">\n",
              "                \n",
              "                    window.PLOTLYENV=window.PLOTLYENV || {};\n",
              "                    \n",
              "                if (document.getElementById(\"57bf3fb8-98e1-4e6a-b6ae-d909fdc70ea3\")) {\n",
              "                    Plotly.newPlot(\n",
              "                        '57bf3fb8-98e1-4e6a-b6ae-d909fdc70ea3',\n",
              "                        [{\"dimensions\": [{\"label\": \"Objective Value\", \"range\": [1055754.8951923077, 1057797.2221153849], \"values\": [1055754.8951923077, 1056170.176602564, 1056812.8294871796, 1057797.2221153849, 1055952.807051282]}, {\"label\": \"lr\", \"range\": [-3.176023281045888, -2.63482843191151], \"ticktext\": [\"0.000667\", \"0.001\", \"0.00232\"], \"tickvals\": [-3.176023281045888, -3, -2.63482843191151], \"values\": [-2.8180178885639324, -3.0569755984872806, -3.176023281045888, -2.63482843191151, -2.731997559555559]}, {\"label\": \"n_units_l0\", \"range\": [220, 285], \"values\": [268, 284, 220, 231, 285]}, {\"label\": \"n_units_l1\", \"range\": [184, 233], \"values\": [184, 184, 219, 213, 233]}, {\"label\": \"n_units_l2\", \"range\": [121, 180], \"values\": [140, 152, 121, 176, 180]}, {\"label\": \"n_units_l3\", \"range\": [101, 122], \"values\": [101, 112, 113, 108, 122]}, {\"label\": \"n_units_l4\", \"range\": [76, 100], \"values\": [91, 100, 88, 79, 76]}, {\"label\": \"n_units_l5\", \"range\": [59, 78], \"values\": [63, 78, 60, 59, 60]}, {\"label\": \"n_units_l6\", \"range\": [22, 40], \"values\": [35, 22, 22, 40, 23]}], \"labelangle\": 30, \"labelside\": \"bottom\", \"line\": {\"color\": [1055754.8951923077, 1056170.176602564, 1056812.8294871796, 1057797.2221153849, 1055952.807051282], \"colorbar\": {\"title\": {\"text\": \"Objective Value\"}}, \"colorscale\": [[0.0, \"rgb(247,251,255)\"], [0.125, \"rgb(222,235,247)\"], [0.25, \"rgb(198,219,239)\"], [0.375, \"rgb(158,202,225)\"], [0.5, \"rgb(107,174,214)\"], [0.625, \"rgb(66,146,198)\"], [0.75, \"rgb(33,113,181)\"], [0.875, \"rgb(8,81,156)\"], [1.0, \"rgb(8,48,107)\"]], \"reversescale\": true, \"showscale\": true}, \"type\": \"parcoords\"}],\n",
              "                        {\"template\": {\"data\": {\"bar\": [{\"error_x\": {\"color\": \"#2a3f5f\"}, \"error_y\": {\"color\": \"#2a3f5f\"}, \"marker\": {\"line\": {\"color\": \"#E5ECF6\", \"width\": 0.5}}, \"type\": \"bar\"}], \"barpolar\": [{\"marker\": {\"line\": {\"color\": \"#E5ECF6\", \"width\": 0.5}}, \"type\": \"barpolar\"}], \"carpet\": [{\"aaxis\": {\"endlinecolor\": \"#2a3f5f\", \"gridcolor\": \"white\", \"linecolor\": \"white\", \"minorgridcolor\": \"white\", \"startlinecolor\": \"#2a3f5f\"}, \"baxis\": {\"endlinecolor\": \"#2a3f5f\", \"gridcolor\": \"white\", \"linecolor\": \"white\", \"minorgridcolor\": \"white\", \"startlinecolor\": \"#2a3f5f\"}, \"type\": \"carpet\"}], \"choropleth\": [{\"colorbar\": {\"outlinewidth\": 0, \"ticks\": \"\"}, \"type\": \"choropleth\"}], \"contour\": [{\"colorbar\": {\"outlinewidth\": 0, \"ticks\": \"\"}, \"colorscale\": [[0.0, \"#0d0887\"], [0.1111111111111111, \"#46039f\"], [0.2222222222222222, \"#7201a8\"], [0.3333333333333333, \"#9c179e\"], [0.4444444444444444, \"#bd3786\"], [0.5555555555555556, \"#d8576b\"], [0.6666666666666666, \"#ed7953\"], [0.7777777777777778, \"#fb9f3a\"], [0.8888888888888888, \"#fdca26\"], [1.0, \"#f0f921\"]], \"type\": \"contour\"}], \"contourcarpet\": [{\"colorbar\": {\"outlinewidth\": 0, \"ticks\": \"\"}, \"type\": \"contourcarpet\"}], \"heatmap\": [{\"colorbar\": {\"outlinewidth\": 0, \"ticks\": \"\"}, \"colorscale\": [[0.0, \"#0d0887\"], [0.1111111111111111, \"#46039f\"], [0.2222222222222222, \"#7201a8\"], [0.3333333333333333, \"#9c179e\"], [0.4444444444444444, \"#bd3786\"], [0.5555555555555556, \"#d8576b\"], [0.6666666666666666, \"#ed7953\"], [0.7777777777777778, \"#fb9f3a\"], [0.8888888888888888, \"#fdca26\"], [1.0, \"#f0f921\"]], \"type\": \"heatmap\"}], \"heatmapgl\": [{\"colorbar\": {\"outlinewidth\": 0, \"ticks\": \"\"}, \"colorscale\": [[0.0, \"#0d0887\"], [0.1111111111111111, \"#46039f\"], [0.2222222222222222, \"#7201a8\"], [0.3333333333333333, \"#9c179e\"], [0.4444444444444444, \"#bd3786\"], [0.5555555555555556, \"#d8576b\"], [0.6666666666666666, \"#ed7953\"], [0.7777777777777778, \"#fb9f3a\"], [0.8888888888888888, \"#fdca26\"], [1.0, \"#f0f921\"]], \"type\": \"heatmapgl\"}], \"histogram\": [{\"marker\": {\"colorbar\": {\"outlinewidth\": 0, \"ticks\": \"\"}}, \"type\": \"histogram\"}], \"histogram2d\": [{\"colorbar\": {\"outlinewidth\": 0, \"ticks\": \"\"}, \"colorscale\": [[0.0, \"#0d0887\"], [0.1111111111111111, \"#46039f\"], [0.2222222222222222, \"#7201a8\"], [0.3333333333333333, \"#9c179e\"], [0.4444444444444444, \"#bd3786\"], [0.5555555555555556, \"#d8576b\"], [0.6666666666666666, \"#ed7953\"], [0.7777777777777778, \"#fb9f3a\"], [0.8888888888888888, \"#fdca26\"], [1.0, \"#f0f921\"]], \"type\": \"histogram2d\"}], \"histogram2dcontour\": [{\"colorbar\": {\"outlinewidth\": 0, \"ticks\": \"\"}, \"colorscale\": [[0.0, \"#0d0887\"], [0.1111111111111111, \"#46039f\"], [0.2222222222222222, \"#7201a8\"], [0.3333333333333333, \"#9c179e\"], [0.4444444444444444, \"#bd3786\"], [0.5555555555555556, \"#d8576b\"], [0.6666666666666666, \"#ed7953\"], [0.7777777777777778, \"#fb9f3a\"], [0.8888888888888888, \"#fdca26\"], [1.0, \"#f0f921\"]], \"type\": \"histogram2dcontour\"}], \"mesh3d\": [{\"colorbar\": {\"outlinewidth\": 0, \"ticks\": \"\"}, \"type\": \"mesh3d\"}], \"parcoords\": [{\"line\": {\"colorbar\": {\"outlinewidth\": 0, \"ticks\": \"\"}}, \"type\": \"parcoords\"}], \"pie\": [{\"automargin\": true, \"type\": \"pie\"}], \"scatter\": [{\"marker\": {\"colorbar\": {\"outlinewidth\": 0, \"ticks\": \"\"}}, \"type\": \"scatter\"}], \"scatter3d\": [{\"line\": {\"colorbar\": {\"outlinewidth\": 0, \"ticks\": \"\"}}, \"marker\": {\"colorbar\": {\"outlinewidth\": 0, \"ticks\": \"\"}}, \"type\": \"scatter3d\"}], \"scattercarpet\": [{\"marker\": {\"colorbar\": {\"outlinewidth\": 0, \"ticks\": \"\"}}, \"type\": \"scattercarpet\"}], \"scattergeo\": [{\"marker\": {\"colorbar\": {\"outlinewidth\": 0, \"ticks\": \"\"}}, \"type\": \"scattergeo\"}], \"scattergl\": [{\"marker\": {\"colorbar\": {\"outlinewidth\": 0, \"ticks\": \"\"}}, \"type\": \"scattergl\"}], \"scattermapbox\": [{\"marker\": {\"colorbar\": {\"outlinewidth\": 0, \"ticks\": \"\"}}, \"type\": \"scattermapbox\"}], \"scatterpolar\": [{\"marker\": {\"colorbar\": {\"outlinewidth\": 0, \"ticks\": \"\"}}, \"type\": \"scatterpolar\"}], \"scatterpolargl\": [{\"marker\": {\"colorbar\": {\"outlinewidth\": 0, \"ticks\": \"\"}}, \"type\": \"scatterpolargl\"}], \"scatterternary\": [{\"marker\": {\"colorbar\": {\"outlinewidth\": 0, \"ticks\": \"\"}}, \"type\": \"scatterternary\"}], \"surface\": [{\"colorbar\": {\"outlinewidth\": 0, \"ticks\": \"\"}, \"colorscale\": [[0.0, \"#0d0887\"], [0.1111111111111111, \"#46039f\"], [0.2222222222222222, \"#7201a8\"], [0.3333333333333333, \"#9c179e\"], [0.4444444444444444, \"#bd3786\"], [0.5555555555555556, \"#d8576b\"], [0.6666666666666666, \"#ed7953\"], [0.7777777777777778, \"#fb9f3a\"], [0.8888888888888888, \"#fdca26\"], [1.0, \"#f0f921\"]], \"type\": \"surface\"}], \"table\": [{\"cells\": {\"fill\": {\"color\": \"#EBF0F8\"}, \"line\": {\"color\": \"white\"}}, \"header\": {\"fill\": {\"color\": \"#C8D4E3\"}, \"line\": {\"color\": \"white\"}}, \"type\": \"table\"}]}, \"layout\": {\"annotationdefaults\": {\"arrowcolor\": \"#2a3f5f\", \"arrowhead\": 0, \"arrowwidth\": 1}, \"coloraxis\": {\"colorbar\": {\"outlinewidth\": 0, \"ticks\": \"\"}}, \"colorscale\": {\"diverging\": [[0, \"#8e0152\"], [0.1, \"#c51b7d\"], [0.2, \"#de77ae\"], [0.3, \"#f1b6da\"], [0.4, \"#fde0ef\"], [0.5, \"#f7f7f7\"], [0.6, \"#e6f5d0\"], [0.7, \"#b8e186\"], [0.8, \"#7fbc41\"], [0.9, \"#4d9221\"], [1, \"#276419\"]], \"sequential\": [[0.0, \"#0d0887\"], [0.1111111111111111, \"#46039f\"], [0.2222222222222222, \"#7201a8\"], [0.3333333333333333, \"#9c179e\"], [0.4444444444444444, \"#bd3786\"], [0.5555555555555556, \"#d8576b\"], [0.6666666666666666, \"#ed7953\"], [0.7777777777777778, \"#fb9f3a\"], [0.8888888888888888, \"#fdca26\"], [1.0, \"#f0f921\"]], \"sequentialminus\": [[0.0, \"#0d0887\"], [0.1111111111111111, \"#46039f\"], [0.2222222222222222, \"#7201a8\"], [0.3333333333333333, \"#9c179e\"], [0.4444444444444444, \"#bd3786\"], [0.5555555555555556, \"#d8576b\"], [0.6666666666666666, \"#ed7953\"], [0.7777777777777778, \"#fb9f3a\"], [0.8888888888888888, \"#fdca26\"], [1.0, \"#f0f921\"]]}, \"colorway\": [\"#636efa\", \"#EF553B\", \"#00cc96\", \"#ab63fa\", \"#FFA15A\", \"#19d3f3\", \"#FF6692\", \"#B6E880\", \"#FF97FF\", \"#FECB52\"], \"font\": {\"color\": \"#2a3f5f\"}, \"geo\": {\"bgcolor\": \"white\", \"lakecolor\": \"white\", \"landcolor\": \"#E5ECF6\", \"showlakes\": true, \"showland\": true, \"subunitcolor\": \"white\"}, \"hoverlabel\": {\"align\": \"left\"}, \"hovermode\": \"closest\", \"mapbox\": {\"style\": \"light\"}, \"paper_bgcolor\": \"white\", \"plot_bgcolor\": \"#E5ECF6\", \"polar\": {\"angularaxis\": {\"gridcolor\": \"white\", \"linecolor\": \"white\", \"ticks\": \"\"}, \"bgcolor\": \"#E5ECF6\", \"radialaxis\": {\"gridcolor\": \"white\", \"linecolor\": \"white\", \"ticks\": \"\"}}, \"scene\": {\"xaxis\": {\"backgroundcolor\": \"#E5ECF6\", \"gridcolor\": \"white\", \"gridwidth\": 2, \"linecolor\": \"white\", \"showbackground\": true, \"ticks\": \"\", \"zerolinecolor\": \"white\"}, \"yaxis\": {\"backgroundcolor\": \"#E5ECF6\", \"gridcolor\": \"white\", \"gridwidth\": 2, \"linecolor\": \"white\", \"showbackground\": true, \"ticks\": \"\", \"zerolinecolor\": \"white\"}, \"zaxis\": {\"backgroundcolor\": \"#E5ECF6\", \"gridcolor\": \"white\", \"gridwidth\": 2, \"linecolor\": \"white\", \"showbackground\": true, \"ticks\": \"\", \"zerolinecolor\": \"white\"}}, \"shapedefaults\": {\"line\": {\"color\": \"#2a3f5f\"}}, \"ternary\": {\"aaxis\": {\"gridcolor\": \"white\", \"linecolor\": \"white\", \"ticks\": \"\"}, \"baxis\": {\"gridcolor\": \"white\", \"linecolor\": \"white\", \"ticks\": \"\"}, \"bgcolor\": \"#E5ECF6\", \"caxis\": {\"gridcolor\": \"white\", \"linecolor\": \"white\", \"ticks\": \"\"}}, \"title\": {\"x\": 0.05}, \"xaxis\": {\"automargin\": true, \"gridcolor\": \"white\", \"linecolor\": \"white\", \"ticks\": \"\", \"title\": {\"standoff\": 15}, \"zerolinecolor\": \"white\", \"zerolinewidth\": 2}, \"yaxis\": {\"automargin\": true, \"gridcolor\": \"white\", \"linecolor\": \"white\", \"ticks\": \"\", \"title\": {\"standoff\": 15}, \"zerolinecolor\": \"white\", \"zerolinewidth\": 2}}}, \"title\": {\"text\": \"Parallel Coordinate Plot\"}},\n",
              "                        {\"responsive\": true}\n",
              "                    ).then(function(){\n",
              "                            \n",
              "var gd = document.getElementById('57bf3fb8-98e1-4e6a-b6ae-d909fdc70ea3');\n",
              "var x = new MutationObserver(function (mutations, observer) {{\n",
              "        var display = window.getComputedStyle(gd).display;\n",
              "        if (!display || display === 'none') {{\n",
              "            console.log([gd, 'removed!']);\n",
              "            Plotly.purge(gd);\n",
              "            observer.disconnect();\n",
              "        }}\n",
              "}});\n",
              "\n",
              "// Listen for the removal of the full notebook cells\n",
              "var notebookContainer = gd.closest('#notebook-container');\n",
              "if (notebookContainer) {{\n",
              "    x.observe(notebookContainer, {childList: true});\n",
              "}}\n",
              "\n",
              "// Listen for the clearing of the current output cell\n",
              "var outputEl = gd.closest('.output');\n",
              "if (outputEl) {{\n",
              "    x.observe(outputEl, {childList: true});\n",
              "}}\n",
              "\n",
              "                        })\n",
              "                };\n",
              "                \n",
              "            </script>\n",
              "        </div>\n",
              "</body>\n",
              "</html>"
            ]
          },
          "metadata": {}
        }
      ]
    },
    {
      "cell_type": "code",
      "metadata": {
        "colab": {
          "base_uri": "https://localhost:8080/",
          "height": 542
        },
        "id": "XB3XeWlf4Cw6",
        "outputId": "99b4aba6-065c-4529-d179-bd3e19f12f07"
      },
      "source": [
        "optuna.visualization.plot_param_importances(study)"
      ],
      "id": "XB3XeWlf4Cw6",
      "execution_count": null,
      "outputs": [
        {
          "output_type": "display_data",
          "data": {
            "text/html": [
              "<html>\n",
              "<head><meta charset=\"utf-8\" /></head>\n",
              "<body>\n",
              "    <div>\n",
              "            <script src=\"https://cdnjs.cloudflare.com/ajax/libs/mathjax/2.7.5/MathJax.js?config=TeX-AMS-MML_SVG\"></script><script type=\"text/javascript\">if (window.MathJax) {MathJax.Hub.Config({SVG: {font: \"STIX-Web\"}});}</script>\n",
              "                <script type=\"text/javascript\">window.PlotlyConfig = {MathJaxConfig: 'local'};</script>\n",
              "        <script src=\"https://cdn.plot.ly/plotly-latest.min.js\"></script>    \n",
              "            <div id=\"188ebe3c-05aa-482e-8122-1afe597bc74d\" class=\"plotly-graph-div\" style=\"height:525px; width:100%;\"></div>\n",
              "            <script type=\"text/javascript\">\n",
              "                \n",
              "                    window.PLOTLYENV=window.PLOTLYENV || {};\n",
              "                    \n",
              "                if (document.getElementById(\"188ebe3c-05aa-482e-8122-1afe597bc74d\")) {\n",
              "                    Plotly.newPlot(\n",
              "                        '188ebe3c-05aa-482e-8122-1afe597bc74d',\n",
              "                        [{\"cliponaxis\": false, \"hovertemplate\": [\"n_units_l1 (IntUniformDistribution): 0.05481475145368648<extra></extra>\", \"n_units_l2 (IntUniformDistribution): 0.09120071116420776<extra></extra>\", \"n_units_l3 (IntUniformDistribution): 0.09159506957904821<extra></extra>\", \"n_units_l4 (IntUniformDistribution): 0.09962129062546099<extra></extra>\", \"n_units_l5 (IntUniformDistribution): 0.12975352307263<extra></extra>\", \"n_units_l0 (IntUniformDistribution): 0.16652561152413106<extra></extra>\", \"n_units_l6 (IntUniformDistribution): 0.1729180312057589<extra></extra>\", \"lr (LogUniformDistribution): 0.1935710113750766<extra></extra>\"], \"marker\": {\"color\": \"rgb(66,146,198)\"}, \"orientation\": \"h\", \"text\": [\"0.05481475145368648\", \"0.09120071116420776\", \"0.09159506957904821\", \"0.09962129062546099\", \"0.12975352307263\", \"0.16652561152413106\", \"0.1729180312057589\", \"0.1935710113750766\"], \"textposition\": \"outside\", \"texttemplate\": \"%{text:.2f}\", \"type\": \"bar\", \"x\": [0.05481475145368648, 0.09120071116420776, 0.09159506957904821, 0.09962129062546099, 0.12975352307263, 0.16652561152413106, 0.1729180312057589, 0.1935710113750766], \"y\": [\"n_units_l1\", \"n_units_l2\", \"n_units_l3\", \"n_units_l4\", \"n_units_l5\", \"n_units_l0\", \"n_units_l6\", \"lr\"]}],\n",
              "                        {\"showlegend\": false, \"template\": {\"data\": {\"bar\": [{\"error_x\": {\"color\": \"#2a3f5f\"}, \"error_y\": {\"color\": \"#2a3f5f\"}, \"marker\": {\"line\": {\"color\": \"#E5ECF6\", \"width\": 0.5}}, \"type\": \"bar\"}], \"barpolar\": [{\"marker\": {\"line\": {\"color\": \"#E5ECF6\", \"width\": 0.5}}, \"type\": \"barpolar\"}], \"carpet\": [{\"aaxis\": {\"endlinecolor\": \"#2a3f5f\", \"gridcolor\": \"white\", \"linecolor\": \"white\", \"minorgridcolor\": \"white\", \"startlinecolor\": \"#2a3f5f\"}, \"baxis\": {\"endlinecolor\": \"#2a3f5f\", \"gridcolor\": \"white\", \"linecolor\": \"white\", \"minorgridcolor\": \"white\", \"startlinecolor\": \"#2a3f5f\"}, \"type\": \"carpet\"}], \"choropleth\": [{\"colorbar\": {\"outlinewidth\": 0, \"ticks\": \"\"}, \"type\": \"choropleth\"}], \"contour\": [{\"colorbar\": {\"outlinewidth\": 0, \"ticks\": \"\"}, \"colorscale\": [[0.0, \"#0d0887\"], [0.1111111111111111, \"#46039f\"], [0.2222222222222222, \"#7201a8\"], [0.3333333333333333, \"#9c179e\"], [0.4444444444444444, \"#bd3786\"], [0.5555555555555556, \"#d8576b\"], [0.6666666666666666, \"#ed7953\"], [0.7777777777777778, \"#fb9f3a\"], [0.8888888888888888, \"#fdca26\"], [1.0, \"#f0f921\"]], \"type\": \"contour\"}], \"contourcarpet\": [{\"colorbar\": {\"outlinewidth\": 0, \"ticks\": \"\"}, \"type\": \"contourcarpet\"}], \"heatmap\": [{\"colorbar\": {\"outlinewidth\": 0, \"ticks\": \"\"}, \"colorscale\": [[0.0, \"#0d0887\"], [0.1111111111111111, \"#46039f\"], [0.2222222222222222, \"#7201a8\"], [0.3333333333333333, \"#9c179e\"], [0.4444444444444444, \"#bd3786\"], [0.5555555555555556, \"#d8576b\"], [0.6666666666666666, \"#ed7953\"], [0.7777777777777778, \"#fb9f3a\"], [0.8888888888888888, \"#fdca26\"], [1.0, \"#f0f921\"]], \"type\": \"heatmap\"}], \"heatmapgl\": [{\"colorbar\": {\"outlinewidth\": 0, \"ticks\": \"\"}, \"colorscale\": [[0.0, \"#0d0887\"], [0.1111111111111111, \"#46039f\"], [0.2222222222222222, \"#7201a8\"], [0.3333333333333333, \"#9c179e\"], [0.4444444444444444, \"#bd3786\"], [0.5555555555555556, \"#d8576b\"], [0.6666666666666666, \"#ed7953\"], [0.7777777777777778, \"#fb9f3a\"], [0.8888888888888888, \"#fdca26\"], [1.0, \"#f0f921\"]], \"type\": \"heatmapgl\"}], \"histogram\": [{\"marker\": {\"colorbar\": {\"outlinewidth\": 0, \"ticks\": \"\"}}, \"type\": \"histogram\"}], \"histogram2d\": [{\"colorbar\": {\"outlinewidth\": 0, \"ticks\": \"\"}, \"colorscale\": [[0.0, \"#0d0887\"], [0.1111111111111111, \"#46039f\"], [0.2222222222222222, \"#7201a8\"], [0.3333333333333333, \"#9c179e\"], [0.4444444444444444, \"#bd3786\"], [0.5555555555555556, \"#d8576b\"], [0.6666666666666666, \"#ed7953\"], [0.7777777777777778, \"#fb9f3a\"], [0.8888888888888888, \"#fdca26\"], [1.0, \"#f0f921\"]], \"type\": \"histogram2d\"}], \"histogram2dcontour\": [{\"colorbar\": {\"outlinewidth\": 0, \"ticks\": \"\"}, \"colorscale\": [[0.0, \"#0d0887\"], [0.1111111111111111, \"#46039f\"], [0.2222222222222222, \"#7201a8\"], [0.3333333333333333, \"#9c179e\"], [0.4444444444444444, \"#bd3786\"], [0.5555555555555556, \"#d8576b\"], [0.6666666666666666, \"#ed7953\"], [0.7777777777777778, \"#fb9f3a\"], [0.8888888888888888, \"#fdca26\"], [1.0, \"#f0f921\"]], \"type\": \"histogram2dcontour\"}], \"mesh3d\": [{\"colorbar\": {\"outlinewidth\": 0, \"ticks\": \"\"}, \"type\": \"mesh3d\"}], \"parcoords\": [{\"line\": {\"colorbar\": {\"outlinewidth\": 0, \"ticks\": \"\"}}, \"type\": \"parcoords\"}], \"pie\": [{\"automargin\": true, \"type\": \"pie\"}], \"scatter\": [{\"marker\": {\"colorbar\": {\"outlinewidth\": 0, \"ticks\": \"\"}}, \"type\": \"scatter\"}], \"scatter3d\": [{\"line\": {\"colorbar\": {\"outlinewidth\": 0, \"ticks\": \"\"}}, \"marker\": {\"colorbar\": {\"outlinewidth\": 0, \"ticks\": \"\"}}, \"type\": \"scatter3d\"}], \"scattercarpet\": [{\"marker\": {\"colorbar\": {\"outlinewidth\": 0, \"ticks\": \"\"}}, \"type\": \"scattercarpet\"}], \"scattergeo\": [{\"marker\": {\"colorbar\": {\"outlinewidth\": 0, \"ticks\": \"\"}}, \"type\": \"scattergeo\"}], \"scattergl\": [{\"marker\": {\"colorbar\": {\"outlinewidth\": 0, \"ticks\": \"\"}}, \"type\": \"scattergl\"}], \"scattermapbox\": [{\"marker\": {\"colorbar\": {\"outlinewidth\": 0, \"ticks\": \"\"}}, \"type\": \"scattermapbox\"}], \"scatterpolar\": [{\"marker\": {\"colorbar\": {\"outlinewidth\": 0, \"ticks\": \"\"}}, \"type\": \"scatterpolar\"}], \"scatterpolargl\": [{\"marker\": {\"colorbar\": {\"outlinewidth\": 0, \"ticks\": \"\"}}, \"type\": \"scatterpolargl\"}], \"scatterternary\": [{\"marker\": {\"colorbar\": {\"outlinewidth\": 0, \"ticks\": \"\"}}, \"type\": \"scatterternary\"}], \"surface\": [{\"colorbar\": {\"outlinewidth\": 0, \"ticks\": \"\"}, \"colorscale\": [[0.0, \"#0d0887\"], [0.1111111111111111, \"#46039f\"], [0.2222222222222222, \"#7201a8\"], [0.3333333333333333, \"#9c179e\"], [0.4444444444444444, \"#bd3786\"], [0.5555555555555556, \"#d8576b\"], [0.6666666666666666, \"#ed7953\"], [0.7777777777777778, \"#fb9f3a\"], [0.8888888888888888, \"#fdca26\"], [1.0, \"#f0f921\"]], \"type\": \"surface\"}], \"table\": [{\"cells\": {\"fill\": {\"color\": \"#EBF0F8\"}, \"line\": {\"color\": \"white\"}}, \"header\": {\"fill\": {\"color\": \"#C8D4E3\"}, \"line\": {\"color\": \"white\"}}, \"type\": \"table\"}]}, \"layout\": {\"annotationdefaults\": {\"arrowcolor\": \"#2a3f5f\", \"arrowhead\": 0, \"arrowwidth\": 1}, \"coloraxis\": {\"colorbar\": {\"outlinewidth\": 0, \"ticks\": \"\"}}, \"colorscale\": {\"diverging\": [[0, \"#8e0152\"], [0.1, \"#c51b7d\"], [0.2, \"#de77ae\"], [0.3, \"#f1b6da\"], [0.4, \"#fde0ef\"], [0.5, \"#f7f7f7\"], [0.6, \"#e6f5d0\"], [0.7, \"#b8e186\"], [0.8, \"#7fbc41\"], [0.9, \"#4d9221\"], [1, \"#276419\"]], \"sequential\": [[0.0, \"#0d0887\"], [0.1111111111111111, \"#46039f\"], [0.2222222222222222, \"#7201a8\"], [0.3333333333333333, \"#9c179e\"], [0.4444444444444444, \"#bd3786\"], [0.5555555555555556, \"#d8576b\"], [0.6666666666666666, \"#ed7953\"], [0.7777777777777778, \"#fb9f3a\"], [0.8888888888888888, \"#fdca26\"], [1.0, \"#f0f921\"]], \"sequentialminus\": [[0.0, \"#0d0887\"], [0.1111111111111111, \"#46039f\"], [0.2222222222222222, \"#7201a8\"], [0.3333333333333333, \"#9c179e\"], [0.4444444444444444, \"#bd3786\"], [0.5555555555555556, \"#d8576b\"], [0.6666666666666666, \"#ed7953\"], [0.7777777777777778, \"#fb9f3a\"], [0.8888888888888888, \"#fdca26\"], [1.0, \"#f0f921\"]]}, \"colorway\": [\"#636efa\", \"#EF553B\", \"#00cc96\", \"#ab63fa\", \"#FFA15A\", \"#19d3f3\", \"#FF6692\", \"#B6E880\", \"#FF97FF\", \"#FECB52\"], \"font\": {\"color\": \"#2a3f5f\"}, \"geo\": {\"bgcolor\": \"white\", \"lakecolor\": \"white\", \"landcolor\": \"#E5ECF6\", \"showlakes\": true, \"showland\": true, \"subunitcolor\": \"white\"}, \"hoverlabel\": {\"align\": \"left\"}, \"hovermode\": \"closest\", \"mapbox\": {\"style\": \"light\"}, \"paper_bgcolor\": \"white\", \"plot_bgcolor\": \"#E5ECF6\", \"polar\": {\"angularaxis\": {\"gridcolor\": \"white\", \"linecolor\": \"white\", \"ticks\": \"\"}, \"bgcolor\": \"#E5ECF6\", \"radialaxis\": {\"gridcolor\": \"white\", \"linecolor\": \"white\", \"ticks\": \"\"}}, \"scene\": {\"xaxis\": {\"backgroundcolor\": \"#E5ECF6\", \"gridcolor\": \"white\", \"gridwidth\": 2, \"linecolor\": \"white\", \"showbackground\": true, \"ticks\": \"\", \"zerolinecolor\": \"white\"}, \"yaxis\": {\"backgroundcolor\": \"#E5ECF6\", \"gridcolor\": \"white\", \"gridwidth\": 2, \"linecolor\": \"white\", \"showbackground\": true, \"ticks\": \"\", \"zerolinecolor\": \"white\"}, \"zaxis\": {\"backgroundcolor\": \"#E5ECF6\", \"gridcolor\": \"white\", \"gridwidth\": 2, \"linecolor\": \"white\", \"showbackground\": true, \"ticks\": \"\", \"zerolinecolor\": \"white\"}}, \"shapedefaults\": {\"line\": {\"color\": \"#2a3f5f\"}}, \"ternary\": {\"aaxis\": {\"gridcolor\": \"white\", \"linecolor\": \"white\", \"ticks\": \"\"}, \"baxis\": {\"gridcolor\": \"white\", \"linecolor\": \"white\", \"ticks\": \"\"}, \"bgcolor\": \"#E5ECF6\", \"caxis\": {\"gridcolor\": \"white\", \"linecolor\": \"white\", \"ticks\": \"\"}}, \"title\": {\"x\": 0.05}, \"xaxis\": {\"automargin\": true, \"gridcolor\": \"white\", \"linecolor\": \"white\", \"ticks\": \"\", \"title\": {\"standoff\": 15}, \"zerolinecolor\": \"white\", \"zerolinewidth\": 2}, \"yaxis\": {\"automargin\": true, \"gridcolor\": \"white\", \"linecolor\": \"white\", \"ticks\": \"\", \"title\": {\"standoff\": 15}, \"zerolinecolor\": \"white\", \"zerolinewidth\": 2}}}, \"title\": {\"text\": \"Hyperparameter Importances\"}, \"xaxis\": {\"title\": {\"text\": \"Importance for Objective Value\"}}, \"yaxis\": {\"title\": {\"text\": \"Hyperparameter\"}}},\n",
              "                        {\"responsive\": true}\n",
              "                    ).then(function(){\n",
              "                            \n",
              "var gd = document.getElementById('188ebe3c-05aa-482e-8122-1afe597bc74d');\n",
              "var x = new MutationObserver(function (mutations, observer) {{\n",
              "        var display = window.getComputedStyle(gd).display;\n",
              "        if (!display || display === 'none') {{\n",
              "            console.log([gd, 'removed!']);\n",
              "            Plotly.purge(gd);\n",
              "            observer.disconnect();\n",
              "        }}\n",
              "}});\n",
              "\n",
              "// Listen for the removal of the full notebook cells\n",
              "var notebookContainer = gd.closest('#notebook-container');\n",
              "if (notebookContainer) {{\n",
              "    x.observe(notebookContainer, {childList: true});\n",
              "}}\n",
              "\n",
              "// Listen for the clearing of the current output cell\n",
              "var outputEl = gd.closest('.output');\n",
              "if (outputEl) {{\n",
              "    x.observe(outputEl, {childList: true});\n",
              "}}\n",
              "\n",
              "                        })\n",
              "                };\n",
              "                \n",
              "            </script>\n",
              "        </div>\n",
              "</body>\n",
              "</html>"
            ]
          },
          "metadata": {}
        }
      ]
    },
    {
      "cell_type": "code",
      "metadata": {
        "colab": {
          "base_uri": "https://localhost:8080/",
          "height": 562
        },
        "id": "OHoGKjHj4GA-",
        "outputId": "714d462a-4741-44c6-a7e5-217670ff6dc9"
      },
      "source": [
        "optuna.visualization.plot_slice(study)"
      ],
      "id": "OHoGKjHj4GA-",
      "execution_count": null,
      "outputs": [
        {
          "output_type": "display_data",
          "data": {
            "text/html": [
              "<html>\n",
              "<head><meta charset=\"utf-8\" /></head>\n",
              "<body>\n",
              "    <div>\n",
              "            <script src=\"https://cdnjs.cloudflare.com/ajax/libs/mathjax/2.7.5/MathJax.js?config=TeX-AMS-MML_SVG\"></script><script type=\"text/javascript\">if (window.MathJax) {MathJax.Hub.Config({SVG: {font: \"STIX-Web\"}});}</script>\n",
              "                <script type=\"text/javascript\">window.PlotlyConfig = {MathJaxConfig: 'local'};</script>\n",
              "        <script src=\"https://cdn.plot.ly/plotly-latest.min.js\"></script>    \n",
              "            <div id=\"67f6a6e6-5b89-4907-9b33-1887d5793ae6\" class=\"plotly-graph-div\" style=\"height:525px; width:2400px;\"></div>\n",
              "            <script type=\"text/javascript\">\n",
              "                \n",
              "                    window.PLOTLYENV=window.PLOTLYENV || {};\n",
              "                    \n",
              "                if (document.getElementById(\"67f6a6e6-5b89-4907-9b33-1887d5793ae6\")) {\n",
              "                    Plotly.newPlot(\n",
              "                        '67f6a6e6-5b89-4907-9b33-1887d5793ae6',\n",
              "                        [{\"marker\": {\"color\": [0, 1, 2, 3, 4], \"colorbar\": {\"title\": {\"text\": \"#Trials\"}, \"x\": 1.0, \"xpad\": 40}, \"colorscale\": [[0.0, \"rgb(247,251,255)\"], [0.125, \"rgb(222,235,247)\"], [0.25, \"rgb(198,219,239)\"], [0.375, \"rgb(158,202,225)\"], [0.5, \"rgb(107,174,214)\"], [0.625, \"rgb(66,146,198)\"], [0.75, \"rgb(33,113,181)\"], [0.875, \"rgb(8,81,156)\"], [1.0, \"rgb(8,48,107)\"]], \"line\": {\"color\": \"Grey\", \"width\": 0.5}, \"showscale\": true}, \"mode\": \"markers\", \"showlegend\": false, \"type\": \"scatter\", \"x\": [0.0015204848997598679, 0.0008770500981867362, 0.0006667710249351343, 0.0023183103178654155, 0.0018535420390517693], \"xaxis\": \"x\", \"y\": [1055754.8951923077, 1056170.176602564, 1056812.8294871796, 1057797.2221153849, 1055952.807051282], \"yaxis\": \"y\"}, {\"marker\": {\"color\": [0, 1, 2, 3, 4], \"colorbar\": {\"title\": {\"text\": \"#Trials\"}, \"x\": 1.0, \"xpad\": 40}, \"colorscale\": [[0.0, \"rgb(247,251,255)\"], [0.125, \"rgb(222,235,247)\"], [0.25, \"rgb(198,219,239)\"], [0.375, \"rgb(158,202,225)\"], [0.5, \"rgb(107,174,214)\"], [0.625, \"rgb(66,146,198)\"], [0.75, \"rgb(33,113,181)\"], [0.875, \"rgb(8,81,156)\"], [1.0, \"rgb(8,48,107)\"]], \"line\": {\"color\": \"Grey\", \"width\": 0.5}, \"showscale\": false}, \"mode\": \"markers\", \"showlegend\": false, \"type\": \"scatter\", \"x\": [268, 284, 220, 231, 285], \"xaxis\": \"x2\", \"y\": [1055754.8951923077, 1056170.176602564, 1056812.8294871796, 1057797.2221153849, 1055952.807051282], \"yaxis\": \"y2\"}, {\"marker\": {\"color\": [0, 1, 2, 3, 4], \"colorbar\": {\"title\": {\"text\": \"#Trials\"}, \"x\": 1.0, \"xpad\": 40}, \"colorscale\": [[0.0, \"rgb(247,251,255)\"], [0.125, \"rgb(222,235,247)\"], [0.25, \"rgb(198,219,239)\"], [0.375, \"rgb(158,202,225)\"], [0.5, \"rgb(107,174,214)\"], [0.625, \"rgb(66,146,198)\"], [0.75, \"rgb(33,113,181)\"], [0.875, \"rgb(8,81,156)\"], [1.0, \"rgb(8,48,107)\"]], \"line\": {\"color\": \"Grey\", \"width\": 0.5}, \"showscale\": false}, \"mode\": \"markers\", \"showlegend\": false, \"type\": \"scatter\", \"x\": [184, 184, 219, 213, 233], \"xaxis\": \"x3\", \"y\": [1055754.8951923077, 1056170.176602564, 1056812.8294871796, 1057797.2221153849, 1055952.807051282], \"yaxis\": \"y3\"}, {\"marker\": {\"color\": [0, 1, 2, 3, 4], \"colorbar\": {\"title\": {\"text\": \"#Trials\"}, \"x\": 1.0, \"xpad\": 40}, \"colorscale\": [[0.0, \"rgb(247,251,255)\"], [0.125, \"rgb(222,235,247)\"], [0.25, \"rgb(198,219,239)\"], [0.375, \"rgb(158,202,225)\"], [0.5, \"rgb(107,174,214)\"], [0.625, \"rgb(66,146,198)\"], [0.75, \"rgb(33,113,181)\"], [0.875, \"rgb(8,81,156)\"], [1.0, \"rgb(8,48,107)\"]], \"line\": {\"color\": \"Grey\", \"width\": 0.5}, \"showscale\": false}, \"mode\": \"markers\", \"showlegend\": false, \"type\": \"scatter\", \"x\": [140, 152, 121, 176, 180], \"xaxis\": \"x4\", \"y\": [1055754.8951923077, 1056170.176602564, 1056812.8294871796, 1057797.2221153849, 1055952.807051282], \"yaxis\": \"y4\"}, {\"marker\": {\"color\": [0, 1, 2, 3, 4], \"colorbar\": {\"title\": {\"text\": \"#Trials\"}, \"x\": 1.0, \"xpad\": 40}, \"colorscale\": [[0.0, \"rgb(247,251,255)\"], [0.125, \"rgb(222,235,247)\"], [0.25, \"rgb(198,219,239)\"], [0.375, \"rgb(158,202,225)\"], [0.5, \"rgb(107,174,214)\"], [0.625, \"rgb(66,146,198)\"], [0.75, \"rgb(33,113,181)\"], [0.875, \"rgb(8,81,156)\"], [1.0, \"rgb(8,48,107)\"]], \"line\": {\"color\": \"Grey\", \"width\": 0.5}, \"showscale\": false}, \"mode\": \"markers\", \"showlegend\": false, \"type\": \"scatter\", \"x\": [101, 112, 113, 108, 122], \"xaxis\": \"x5\", \"y\": [1055754.8951923077, 1056170.176602564, 1056812.8294871796, 1057797.2221153849, 1055952.807051282], \"yaxis\": \"y5\"}, {\"marker\": {\"color\": [0, 1, 2, 3, 4], \"colorbar\": {\"title\": {\"text\": \"#Trials\"}, \"x\": 1.0, \"xpad\": 40}, \"colorscale\": [[0.0, \"rgb(247,251,255)\"], [0.125, \"rgb(222,235,247)\"], [0.25, \"rgb(198,219,239)\"], [0.375, \"rgb(158,202,225)\"], [0.5, \"rgb(107,174,214)\"], [0.625, \"rgb(66,146,198)\"], [0.75, \"rgb(33,113,181)\"], [0.875, \"rgb(8,81,156)\"], [1.0, \"rgb(8,48,107)\"]], \"line\": {\"color\": \"Grey\", \"width\": 0.5}, \"showscale\": false}, \"mode\": \"markers\", \"showlegend\": false, \"type\": \"scatter\", \"x\": [91, 100, 88, 79, 76], \"xaxis\": \"x6\", \"y\": [1055754.8951923077, 1056170.176602564, 1056812.8294871796, 1057797.2221153849, 1055952.807051282], \"yaxis\": \"y6\"}, {\"marker\": {\"color\": [0, 1, 2, 3, 4], \"colorbar\": {\"title\": {\"text\": \"#Trials\"}, \"x\": 1.0, \"xpad\": 40}, \"colorscale\": [[0.0, \"rgb(247,251,255)\"], [0.125, \"rgb(222,235,247)\"], [0.25, \"rgb(198,219,239)\"], [0.375, \"rgb(158,202,225)\"], [0.5, \"rgb(107,174,214)\"], [0.625, \"rgb(66,146,198)\"], [0.75, \"rgb(33,113,181)\"], [0.875, \"rgb(8,81,156)\"], [1.0, \"rgb(8,48,107)\"]], \"line\": {\"color\": \"Grey\", \"width\": 0.5}, \"showscale\": false}, \"mode\": \"markers\", \"showlegend\": false, \"type\": \"scatter\", \"x\": [63, 78, 60, 59, 60], \"xaxis\": \"x7\", \"y\": [1055754.8951923077, 1056170.176602564, 1056812.8294871796, 1057797.2221153849, 1055952.807051282], \"yaxis\": \"y7\"}, {\"marker\": {\"color\": [0, 1, 2, 3, 4], \"colorbar\": {\"title\": {\"text\": \"#Trials\"}, \"x\": 1.0, \"xpad\": 40}, \"colorscale\": [[0.0, \"rgb(247,251,255)\"], [0.125, \"rgb(222,235,247)\"], [0.25, \"rgb(198,219,239)\"], [0.375, \"rgb(158,202,225)\"], [0.5, \"rgb(107,174,214)\"], [0.625, \"rgb(66,146,198)\"], [0.75, \"rgb(33,113,181)\"], [0.875, \"rgb(8,81,156)\"], [1.0, \"rgb(8,48,107)\"]], \"line\": {\"color\": \"Grey\", \"width\": 0.5}, \"showscale\": false}, \"mode\": \"markers\", \"showlegend\": false, \"type\": \"scatter\", \"x\": [35, 22, 22, 40, 23], \"xaxis\": \"x8\", \"y\": [1055754.8951923077, 1056170.176602564, 1056812.8294871796, 1057797.2221153849, 1055952.807051282], \"yaxis\": \"y8\"}],\n",
              "                        {\"template\": {\"data\": {\"bar\": [{\"error_x\": {\"color\": \"#2a3f5f\"}, \"error_y\": {\"color\": \"#2a3f5f\"}, \"marker\": {\"line\": {\"color\": \"#E5ECF6\", \"width\": 0.5}}, \"type\": \"bar\"}], \"barpolar\": [{\"marker\": {\"line\": {\"color\": \"#E5ECF6\", \"width\": 0.5}}, \"type\": \"barpolar\"}], \"carpet\": [{\"aaxis\": {\"endlinecolor\": \"#2a3f5f\", \"gridcolor\": \"white\", \"linecolor\": \"white\", \"minorgridcolor\": \"white\", \"startlinecolor\": \"#2a3f5f\"}, \"baxis\": {\"endlinecolor\": \"#2a3f5f\", \"gridcolor\": \"white\", \"linecolor\": \"white\", \"minorgridcolor\": \"white\", \"startlinecolor\": \"#2a3f5f\"}, \"type\": \"carpet\"}], \"choropleth\": [{\"colorbar\": {\"outlinewidth\": 0, \"ticks\": \"\"}, \"type\": \"choropleth\"}], \"contour\": [{\"colorbar\": {\"outlinewidth\": 0, \"ticks\": \"\"}, \"colorscale\": [[0.0, \"#0d0887\"], [0.1111111111111111, \"#46039f\"], [0.2222222222222222, \"#7201a8\"], [0.3333333333333333, \"#9c179e\"], [0.4444444444444444, \"#bd3786\"], [0.5555555555555556, \"#d8576b\"], [0.6666666666666666, \"#ed7953\"], [0.7777777777777778, \"#fb9f3a\"], [0.8888888888888888, \"#fdca26\"], [1.0, \"#f0f921\"]], \"type\": \"contour\"}], \"contourcarpet\": [{\"colorbar\": {\"outlinewidth\": 0, \"ticks\": \"\"}, \"type\": \"contourcarpet\"}], \"heatmap\": [{\"colorbar\": {\"outlinewidth\": 0, \"ticks\": \"\"}, \"colorscale\": [[0.0, \"#0d0887\"], [0.1111111111111111, \"#46039f\"], [0.2222222222222222, \"#7201a8\"], [0.3333333333333333, \"#9c179e\"], [0.4444444444444444, \"#bd3786\"], [0.5555555555555556, \"#d8576b\"], [0.6666666666666666, \"#ed7953\"], [0.7777777777777778, \"#fb9f3a\"], [0.8888888888888888, \"#fdca26\"], [1.0, \"#f0f921\"]], \"type\": \"heatmap\"}], \"heatmapgl\": [{\"colorbar\": {\"outlinewidth\": 0, \"ticks\": \"\"}, \"colorscale\": [[0.0, \"#0d0887\"], [0.1111111111111111, \"#46039f\"], [0.2222222222222222, \"#7201a8\"], [0.3333333333333333, \"#9c179e\"], [0.4444444444444444, \"#bd3786\"], [0.5555555555555556, \"#d8576b\"], [0.6666666666666666, \"#ed7953\"], [0.7777777777777778, \"#fb9f3a\"], [0.8888888888888888, \"#fdca26\"], [1.0, \"#f0f921\"]], \"type\": \"heatmapgl\"}], \"histogram\": [{\"marker\": {\"colorbar\": {\"outlinewidth\": 0, \"ticks\": \"\"}}, \"type\": \"histogram\"}], \"histogram2d\": [{\"colorbar\": {\"outlinewidth\": 0, \"ticks\": \"\"}, \"colorscale\": [[0.0, \"#0d0887\"], [0.1111111111111111, \"#46039f\"], [0.2222222222222222, \"#7201a8\"], [0.3333333333333333, \"#9c179e\"], [0.4444444444444444, \"#bd3786\"], [0.5555555555555556, \"#d8576b\"], [0.6666666666666666, \"#ed7953\"], [0.7777777777777778, \"#fb9f3a\"], [0.8888888888888888, \"#fdca26\"], [1.0, \"#f0f921\"]], \"type\": \"histogram2d\"}], \"histogram2dcontour\": [{\"colorbar\": {\"outlinewidth\": 0, \"ticks\": \"\"}, \"colorscale\": [[0.0, \"#0d0887\"], [0.1111111111111111, \"#46039f\"], [0.2222222222222222, \"#7201a8\"], [0.3333333333333333, \"#9c179e\"], [0.4444444444444444, \"#bd3786\"], [0.5555555555555556, \"#d8576b\"], [0.6666666666666666, \"#ed7953\"], [0.7777777777777778, \"#fb9f3a\"], [0.8888888888888888, \"#fdca26\"], [1.0, \"#f0f921\"]], \"type\": \"histogram2dcontour\"}], \"mesh3d\": [{\"colorbar\": {\"outlinewidth\": 0, \"ticks\": \"\"}, \"type\": \"mesh3d\"}], \"parcoords\": [{\"line\": {\"colorbar\": {\"outlinewidth\": 0, \"ticks\": \"\"}}, \"type\": \"parcoords\"}], \"pie\": [{\"automargin\": true, \"type\": \"pie\"}], \"scatter\": [{\"marker\": {\"colorbar\": {\"outlinewidth\": 0, \"ticks\": \"\"}}, \"type\": \"scatter\"}], \"scatter3d\": [{\"line\": {\"colorbar\": {\"outlinewidth\": 0, \"ticks\": \"\"}}, \"marker\": {\"colorbar\": {\"outlinewidth\": 0, \"ticks\": \"\"}}, \"type\": \"scatter3d\"}], \"scattercarpet\": [{\"marker\": {\"colorbar\": {\"outlinewidth\": 0, \"ticks\": \"\"}}, \"type\": \"scattercarpet\"}], \"scattergeo\": [{\"marker\": {\"colorbar\": {\"outlinewidth\": 0, \"ticks\": \"\"}}, \"type\": \"scattergeo\"}], \"scattergl\": [{\"marker\": {\"colorbar\": {\"outlinewidth\": 0, \"ticks\": \"\"}}, \"type\": \"scattergl\"}], \"scattermapbox\": [{\"marker\": {\"colorbar\": {\"outlinewidth\": 0, \"ticks\": \"\"}}, \"type\": \"scattermapbox\"}], \"scatterpolar\": [{\"marker\": {\"colorbar\": {\"outlinewidth\": 0, \"ticks\": \"\"}}, \"type\": \"scatterpolar\"}], \"scatterpolargl\": [{\"marker\": {\"colorbar\": {\"outlinewidth\": 0, \"ticks\": \"\"}}, \"type\": \"scatterpolargl\"}], \"scatterternary\": [{\"marker\": {\"colorbar\": {\"outlinewidth\": 0, \"ticks\": \"\"}}, \"type\": \"scatterternary\"}], \"surface\": [{\"colorbar\": {\"outlinewidth\": 0, \"ticks\": \"\"}, \"colorscale\": [[0.0, \"#0d0887\"], [0.1111111111111111, \"#46039f\"], [0.2222222222222222, \"#7201a8\"], [0.3333333333333333, \"#9c179e\"], [0.4444444444444444, \"#bd3786\"], [0.5555555555555556, \"#d8576b\"], [0.6666666666666666, \"#ed7953\"], [0.7777777777777778, \"#fb9f3a\"], [0.8888888888888888, \"#fdca26\"], [1.0, \"#f0f921\"]], \"type\": \"surface\"}], \"table\": [{\"cells\": {\"fill\": {\"color\": \"#EBF0F8\"}, \"line\": {\"color\": \"white\"}}, \"header\": {\"fill\": {\"color\": \"#C8D4E3\"}, \"line\": {\"color\": \"white\"}}, \"type\": \"table\"}]}, \"layout\": {\"annotationdefaults\": {\"arrowcolor\": \"#2a3f5f\", \"arrowhead\": 0, \"arrowwidth\": 1}, \"coloraxis\": {\"colorbar\": {\"outlinewidth\": 0, \"ticks\": \"\"}}, \"colorscale\": {\"diverging\": [[0, \"#8e0152\"], [0.1, \"#c51b7d\"], [0.2, \"#de77ae\"], [0.3, \"#f1b6da\"], [0.4, \"#fde0ef\"], [0.5, \"#f7f7f7\"], [0.6, \"#e6f5d0\"], [0.7, \"#b8e186\"], [0.8, \"#7fbc41\"], [0.9, \"#4d9221\"], [1, \"#276419\"]], \"sequential\": [[0.0, \"#0d0887\"], [0.1111111111111111, \"#46039f\"], [0.2222222222222222, \"#7201a8\"], [0.3333333333333333, \"#9c179e\"], [0.4444444444444444, \"#bd3786\"], [0.5555555555555556, \"#d8576b\"], [0.6666666666666666, \"#ed7953\"], [0.7777777777777778, \"#fb9f3a\"], [0.8888888888888888, \"#fdca26\"], [1.0, \"#f0f921\"]], \"sequentialminus\": [[0.0, \"#0d0887\"], [0.1111111111111111, \"#46039f\"], [0.2222222222222222, \"#7201a8\"], [0.3333333333333333, \"#9c179e\"], [0.4444444444444444, \"#bd3786\"], [0.5555555555555556, \"#d8576b\"], [0.6666666666666666, \"#ed7953\"], [0.7777777777777778, \"#fb9f3a\"], [0.8888888888888888, \"#fdca26\"], [1.0, \"#f0f921\"]]}, \"colorway\": [\"#636efa\", \"#EF553B\", \"#00cc96\", \"#ab63fa\", \"#FFA15A\", \"#19d3f3\", \"#FF6692\", \"#B6E880\", \"#FF97FF\", \"#FECB52\"], \"font\": {\"color\": \"#2a3f5f\"}, \"geo\": {\"bgcolor\": \"white\", \"lakecolor\": \"white\", \"landcolor\": \"#E5ECF6\", \"showlakes\": true, \"showland\": true, \"subunitcolor\": \"white\"}, \"hoverlabel\": {\"align\": \"left\"}, \"hovermode\": \"closest\", \"mapbox\": {\"style\": \"light\"}, \"paper_bgcolor\": \"white\", \"plot_bgcolor\": \"#E5ECF6\", \"polar\": {\"angularaxis\": {\"gridcolor\": \"white\", \"linecolor\": \"white\", \"ticks\": \"\"}, \"bgcolor\": \"#E5ECF6\", \"radialaxis\": {\"gridcolor\": \"white\", \"linecolor\": \"white\", \"ticks\": \"\"}}, \"scene\": {\"xaxis\": {\"backgroundcolor\": \"#E5ECF6\", \"gridcolor\": \"white\", \"gridwidth\": 2, \"linecolor\": \"white\", \"showbackground\": true, \"ticks\": \"\", \"zerolinecolor\": \"white\"}, \"yaxis\": {\"backgroundcolor\": \"#E5ECF6\", \"gridcolor\": \"white\", \"gridwidth\": 2, \"linecolor\": \"white\", \"showbackground\": true, \"ticks\": \"\", \"zerolinecolor\": \"white\"}, \"zaxis\": {\"backgroundcolor\": \"#E5ECF6\", \"gridcolor\": \"white\", \"gridwidth\": 2, \"linecolor\": \"white\", \"showbackground\": true, \"ticks\": \"\", \"zerolinecolor\": \"white\"}}, \"shapedefaults\": {\"line\": {\"color\": \"#2a3f5f\"}}, \"ternary\": {\"aaxis\": {\"gridcolor\": \"white\", \"linecolor\": \"white\", \"ticks\": \"\"}, \"baxis\": {\"gridcolor\": \"white\", \"linecolor\": \"white\", \"ticks\": \"\"}, \"bgcolor\": \"#E5ECF6\", \"caxis\": {\"gridcolor\": \"white\", \"linecolor\": \"white\", \"ticks\": \"\"}}, \"title\": {\"x\": 0.05}, \"xaxis\": {\"automargin\": true, \"gridcolor\": \"white\", \"linecolor\": \"white\", \"ticks\": \"\", \"title\": {\"standoff\": 15}, \"zerolinecolor\": \"white\", \"zerolinewidth\": 2}, \"yaxis\": {\"automargin\": true, \"gridcolor\": \"white\", \"linecolor\": \"white\", \"ticks\": \"\", \"title\": {\"standoff\": 15}, \"zerolinecolor\": \"white\", \"zerolinewidth\": 2}}}, \"title\": {\"text\": \"Slice Plot\"}, \"width\": 2400, \"xaxis\": {\"anchor\": \"y\", \"domain\": [0.0, 0.103125], \"title\": {\"text\": \"lr\"}, \"type\": \"log\"}, \"xaxis2\": {\"anchor\": \"y2\", \"domain\": [0.128125, 0.23124999999999998], \"title\": {\"text\": \"n_units_l0\"}}, \"xaxis3\": {\"anchor\": \"y3\", \"domain\": [0.25625, 0.359375], \"title\": {\"text\": \"n_units_l1\"}}, \"xaxis4\": {\"anchor\": \"y4\", \"domain\": [0.38437499999999997, 0.48749999999999993], \"title\": {\"text\": \"n_units_l2\"}}, \"xaxis5\": {\"anchor\": \"y5\", \"domain\": [0.5125, 0.615625], \"title\": {\"text\": \"n_units_l3\"}}, \"xaxis6\": {\"anchor\": \"y6\", \"domain\": [0.640625, 0.74375], \"title\": {\"text\": \"n_units_l4\"}}, \"xaxis7\": {\"anchor\": \"y7\", \"domain\": [0.76875, 0.8718750000000001], \"title\": {\"text\": \"n_units_l5\"}}, \"xaxis8\": {\"anchor\": \"y8\", \"domain\": [0.8968750000000001, 1.0], \"title\": {\"text\": \"n_units_l6\"}}, \"yaxis\": {\"anchor\": \"x\", \"domain\": [0.0, 1.0], \"title\": {\"text\": \"Objective Value\"}}, \"yaxis2\": {\"anchor\": \"x2\", \"domain\": [0.0, 1.0], \"matches\": \"y\", \"showticklabels\": false}, \"yaxis3\": {\"anchor\": \"x3\", \"domain\": [0.0, 1.0], \"matches\": \"y\", \"showticklabels\": false}, \"yaxis4\": {\"anchor\": \"x4\", \"domain\": [0.0, 1.0], \"matches\": \"y\", \"showticklabels\": false}, \"yaxis5\": {\"anchor\": \"x5\", \"domain\": [0.0, 1.0], \"matches\": \"y\", \"showticklabels\": false}, \"yaxis6\": {\"anchor\": \"x6\", \"domain\": [0.0, 1.0], \"matches\": \"y\", \"showticklabels\": false}, \"yaxis7\": {\"anchor\": \"x7\", \"domain\": [0.0, 1.0], \"matches\": \"y\", \"showticklabels\": false}, \"yaxis8\": {\"anchor\": \"x8\", \"domain\": [0.0, 1.0], \"matches\": \"y\", \"showticklabels\": false}},\n",
              "                        {\"responsive\": true}\n",
              "                    ).then(function(){\n",
              "                            \n",
              "var gd = document.getElementById('67f6a6e6-5b89-4907-9b33-1887d5793ae6');\n",
              "var x = new MutationObserver(function (mutations, observer) {{\n",
              "        var display = window.getComputedStyle(gd).display;\n",
              "        if (!display || display === 'none') {{\n",
              "            console.log([gd, 'removed!']);\n",
              "            Plotly.purge(gd);\n",
              "            observer.disconnect();\n",
              "        }}\n",
              "}});\n",
              "\n",
              "// Listen for the removal of the full notebook cells\n",
              "var notebookContainer = gd.closest('#notebook-container');\n",
              "if (notebookContainer) {{\n",
              "    x.observe(notebookContainer, {childList: true});\n",
              "}}\n",
              "\n",
              "// Listen for the clearing of the current output cell\n",
              "var outputEl = gd.closest('.output');\n",
              "if (outputEl) {{\n",
              "    x.observe(outputEl, {childList: true});\n",
              "}}\n",
              "\n",
              "                        })\n",
              "                };\n",
              "                \n",
              "            </script>\n",
              "        </div>\n",
              "</body>\n",
              "</html>"
            ]
          },
          "metadata": {}
        }
      ]
    },
    {
      "cell_type": "markdown",
      "metadata": {
        "id": "t7tZdGjuAKm9"
      },
      "source": [
        "\n",
        "\n",
        "---\n",
        "\n",
        "\n",
        "### ***f. Denoising Autoencoder optimizaton for latent feature engineering***\n",
        "\n",
        "---\n",
        "In this next section we use denoising autoencoders to learn a large set of generalized or denoised features that capture more sophisticated interactions.<br><br>\n",
        "Denoising autoencoders are more popular for computer vision tasks, yet we use the swap noise algorithm (defined in Engine class) to inject noise into our taular data. Swap noise randomly picks a proportion of cells in our dataframe and replaces their values with values from randomly sampled rows in the same column.\n",
        "<br><br>\n",
        "We will start by defining necessary classes and functions to optimisize DAE network topology (as we did we NN earlier), next we use the DAE on our entire feature set, and finally we train a new NN to see if we improve upon previous benchmarks.\n",
        "\n",
        "---\n",
        "\n"
      ],
      "id": "t7tZdGjuAKm9"
    },
    {
      "cell_type": "code",
      "metadata": {
        "id": "YFh0BZjAAsu2"
      },
      "source": [
        "def define_dae(trial, param_ranges_dict):\n",
        "    # We optimize the number of layers, hidden units, and noise ratio in each layer.\n",
        "    layers = []\n",
        "    n_layers = trial.suggest_int(\"n_layers\", \n",
        "                                 param_ranges_dict[f'n_layers'][0],\n",
        "                                 param_ranges_dict[f'n_layers'][1],\n",
        "                                 param_ranges_dict[f'n_layers'][2])\n",
        "    \n",
        "    out_features_mult = trial.suggest_int(\"out_features_mult\", \n",
        "                                          param_ranges_dict[f'out_features_mult'][0], \n",
        "                                          param_ranges_dict[f'out_features_mult'][1],  \n",
        "                                          param_ranges_dict[f'out_features_mult'][2])\n",
        "    \n",
        "    in_features = len(feature_columns) - 1  \n",
        "    batch_norm = trial.suggest_int('batch_norm',\n",
        "                                   param_ranges_dict['batch_norm'][0],\n",
        "                                   param_ranges_dict['batch_norm'][1])\n",
        "    \n",
        "    out_features = in_features * out_features_mult\n",
        "    for i in range(n_layers):\n",
        "        layers.append(nn.Linear(in_features, out_features))\n",
        "        if batch_norm:\n",
        "            layers.append(nn.BatchNorm1d(out_features))\n",
        "            \n",
        "        layers.append(nn.ReLU())\n",
        "        in_features = out_features\n",
        "    layers.append(nn.Linear(in_features, len(feature_columns) - 1))    \n",
        "\n",
        "    return nn.Sequential(*layers)\n",
        "    "
      ],
      "id": "YFh0BZjAAsu2",
      "execution_count": null,
      "outputs": []
    },
    {
      "cell_type": "code",
      "metadata": {
        "id": "deypSIEOART8"
      },
      "source": [
        "def dae_objective(trial, \n",
        "              param_ranges_dict,\n",
        "              save_model, \n",
        "              plot_learning_curves = False\n",
        "             ):  \n",
        "    \n",
        "    # create time stamp\n",
        "    objective_start_time = f'{datetime.datetime.now().strftime(\"%Y%m%d %H:%M\")}'\n",
        "    print(f\"TRIAL {len(study.trials)} START TIME: {objective_start_time}\\n\")\n",
        "    \n",
        "    # set up data and instantiate data loader\n",
        "    x_train = train[feature_columns].drop('kfold', axis=1).to_numpy()\n",
        "\n",
        "    train_dataset = Dataset(features=x_train, targets=x_train)\n",
        "    train_loader = torch.utils.data.DataLoader(\n",
        "        train_dataset, batch_size=64, num_workers=4, shuffle=True\n",
        "    )\n",
        "\n",
        "    # instantiate the model.\n",
        "    model = define_dae(trial, param_ranges_dict).to(DEVICE)\n",
        "    print(model)\n",
        "\n",
        "    # generate the learning rate and optimizer\n",
        "    lr = trial.suggest_float(\"lr\", param_ranges_dict['lr'][0], param_ranges_dict['lr'][1], log=True)        \n",
        "    optimizer = optim.RMSprop(model.parameters(), lr=lr)\n",
        "    \n",
        "    # Print trial parameters        \n",
        "    print(f\"OPTIMIZER:\\n{optimizer}\\n\")\n",
        "    current_trial = study.trials[len(study.trials) - 1]\n",
        "    print(f\"CURRENT TRIAL PARAMETERS: \")    \n",
        "    for key, value in current_trial.params.items():\n",
        "        print(\"    {}: {}\".format(key, value))\n",
        "    print(\"\\n\")\n",
        "\n",
        "    # Training of the model.\n",
        "    eng = Engine(model, optimizer, device=DEVICE)\n",
        "    best_loss = np.inf\n",
        "    early_stopping_iter = 10\n",
        "    early_stopping_counter = 0 \n",
        "\n",
        "    # loop through epochs with early stopping to avoid overfitting\n",
        "    for epoch in range(EPOCHS):\n",
        "        train_loss = eng.dae_train(train_loader)                  \n",
        "\n",
        "        if (epoch % 5 == 0) or (early_stopping_counter >= 15):\n",
        "            print(\n",
        "                f\"EPOCH: {epoch:.0f} -- RECONSTUCTION BCE LOSS: {train_loss:.4f} -- \"\n",
        "                f\"{datetime.datetime.now().strftime('%Y%m%d %H:%M:%S')}\" \n",
        "            )\n",
        "\n",
        "        # check if we have improvef on loss\n",
        "        if train_loss < best_loss:\n",
        "            best_loss = train_loss\n",
        "            early_stopping_counter = 0\n",
        "            if save_model:\n",
        "                torch.save(model.state_dict(), f\"models/dae_{trial.number}_{study_start_time}.bin\")\n",
        "        else:\n",
        "            early_stopping_counter += 1\n",
        "\n",
        "        if early_stopping_counter > early_stopping_iter:\n",
        "            break\n",
        "\n",
        "    # print final loss\n",
        "    print(\n",
        "        f\"RECONSTUCTION BCE LOSS: {best_loss:.5f} ----- \"\n",
        "        f\"{datetime.datetime.now().strftime('%Y%m%d %H:%M:%S')}\\n\"\n",
        "    )\n",
        "    \n",
        "    # format and print output\n",
        "    if len(study.trials) > 1:\n",
        "        print(\"**************\")\n",
        "        print(\"Best trial:\")\n",
        "        best_trial_temp = study.best_trial\n",
        "\n",
        "        print(f\"  Value:  {best_trial_temp.value}\\n\")\n",
        "        print(\"  Params: \")\n",
        "        for key, value in trial.params.items():\n",
        "            print(\"    {}: {}\".format(key, value))\n",
        "        print(\"**************\\n\")\n",
        "    print(f\"{100*'#'}\\n\")\n",
        "        \n",
        "    # log performance\n",
        "    trials_df = study.trials_dataframe()\n",
        "    trials_df.to_csv(f'logs/dae_trials_{study_start_time}.csv')\n",
        "    \n",
        "    return best_loss"
      ],
      "id": "deypSIEOART8",
      "execution_count": null,
      "outputs": []
    },
    {
      "cell_type": "markdown",
      "metadata": {
        "id": "m1AeEAJLFAdp"
      },
      "source": [
        "#### ***Start optimization study of denoising autoencoder with respect to network topology space:***\n",
        "---"
      ],
      "id": "m1AeEAJLFAdp"
    },
    {
      "cell_type": "code",
      "metadata": {
        "colab": {
          "base_uri": "https://localhost:8080/"
        },
        "id": "4N282lap_ibF",
        "outputId": "d38a93f7-e727-4e19-eb09-491bbc1c1f33"
      },
      "source": [
        "optuna_params_dict =  {'lr': [.0001, 1e-3],     \n",
        "                      'batch_norm': [0, 1],\n",
        "                      'out_features_mult': [5, 10, 1],\n",
        "                      'n_layers': [3, 5, 1],\n",
        "                        'batch_size': [0]\n",
        "                       }\n",
        "\n",
        "if __name__ == \"__main__\":\n",
        "    study_start_time = f'{datetime.datetime.now().strftime(\"%Y%m%d %H:%M\")}'\n",
        "    study = optuna.create_study(direction=\"minimize\")\n",
        "    study.optimize(lambda trial: \n",
        "                   dae_objective(trial,\n",
        "                                 param_ranges_dict=optuna_params_dict,\n",
        "                                 save_model = True, \n",
        "                                 plot_learning_curves = False), n_trials=5)\n",
        "\n",
        "    print(\"Study statistics: \")\n",
        "    print(\"  Number of finished trials: \", len(study.trials), \"\\n\")\n",
        "\n",
        "    print(\"Best trial:\")\n",
        "    trial = study.best_trial\n",
        "\n",
        "    print(\"  Value: \", trial.value)\n",
        "    print(\"  Params: \")\n",
        "    for key, value in trial.params.items():\n",
        "        print(\"    {}: {}\".format(key, value))\n",
        "        \n",
        "    trials_df = study.trials_dataframe()\n",
        "    print(f\"\\n\\n\\nTRIALS DATAFRAME: \")\n",
        "    print(trials_df)\n",
        "    \n",
        "    trials_df.to_csv(f'logs/dae_trials_{study_start_time}.csv')\n",
        "    joblib.dump(study,f'logs/dae_study_{study_start_time}.pkl')"
      ],
      "id": "4N282lap_ibF",
      "execution_count": null,
      "outputs": [
        {
          "output_type": "stream",
          "name": "stdout",
          "text": [
            "TRIAL 1 START TIME: 20210917 07:59\n",
            "\n",
            "Sequential(\n",
            "  (0): Linear(in_features=135, out_features=945, bias=True)\n",
            "  (1): BatchNorm1d(945, eps=1e-05, momentum=0.1, affine=True, track_running_stats=True)\n",
            "  (2): ReLU()\n",
            "  (3): Linear(in_features=945, out_features=945, bias=True)\n",
            "  (4): BatchNorm1d(945, eps=1e-05, momentum=0.1, affine=True, track_running_stats=True)\n",
            "  (5): ReLU()\n",
            "  (6): Linear(in_features=945, out_features=945, bias=True)\n",
            "  (7): BatchNorm1d(945, eps=1e-05, momentum=0.1, affine=True, track_running_stats=True)\n",
            "  (8): ReLU()\n",
            "  (9): Linear(in_features=945, out_features=945, bias=True)\n",
            "  (10): BatchNorm1d(945, eps=1e-05, momentum=0.1, affine=True, track_running_stats=True)\n",
            "  (11): ReLU()\n",
            "  (12): Linear(in_features=945, out_features=945, bias=True)\n",
            "  (13): BatchNorm1d(945, eps=1e-05, momentum=0.1, affine=True, track_running_stats=True)\n",
            "  (14): ReLU()\n",
            "  (15): Linear(in_features=945, out_features=135, bias=True)\n",
            ")\n",
            "OPTIMIZER:\n",
            "RMSprop (\n",
            "Parameter Group 0\n",
            "    alpha: 0.99\n",
            "    centered: False\n",
            "    eps: 1e-08\n",
            "    lr: 0.000495984070712582\n",
            "    momentum: 0\n",
            "    weight_decay: 0\n",
            ")\n",
            "\n",
            "CURRENT TRIAL PARAMETERS: \n",
            "    n_layers: 5\n",
            "    out_features_mult: 7\n",
            "    batch_norm: 1\n",
            "    lr: 0.000495984070712582\n",
            "\n",
            "\n",
            "EPOCH: 0 -- RECONSTUCTION BCE LOSS: 12.1072 -- 20210917 07:59:28\n",
            "EPOCH: 5 -- RECONSTUCTION BCE LOSS: 2.0982 -- 20210917 07:59:41\n",
            "EPOCH: 10 -- RECONSTUCTION BCE LOSS: 1.9688 -- 20210917 07:59:54\n",
            "EPOCH: 15 -- RECONSTUCTION BCE LOSS: 1.9711 -- 20210917 08:00:07\n",
            "EPOCH: 20 -- RECONSTUCTION BCE LOSS: 1.9213 -- 20210917 08:00:19\n",
            "EPOCH: 25 -- RECONSTUCTION BCE LOSS: 1.8067 -- 20210917 08:00:32\n",
            "EPOCH: 30 -- RECONSTUCTION BCE LOSS: 1.8108 -- 20210917 08:00:45\n",
            "EPOCH: 35 -- RECONSTUCTION BCE LOSS: 1.8492 -- 20210917 08:00:57\n",
            "EPOCH: 40 -- RECONSTUCTION BCE LOSS: 1.7516 -- 20210917 08:01:10\n",
            "EPOCH: 45 -- RECONSTUCTION BCE LOSS: 1.8401 -- 20210917 08:01:23\n",
            "EPOCH: 50 -- RECONSTUCTION BCE LOSS: 1.6998 -- 20210917 08:01:36\n",
            "EPOCH: 55 -- RECONSTUCTION BCE LOSS: 1.6647 -- 20210917 08:01:48\n",
            "EPOCH: 60 -- RECONSTUCTION BCE LOSS: 1.6633 -- 20210917 08:02:01\n",
            "EPOCH: 65 -- RECONSTUCTION BCE LOSS: 1.6379 -- 20210917 08:02:14\n",
            "EPOCH: 70 -- RECONSTUCTION BCE LOSS: 1.7158 -- 20210917 08:02:27\n",
            "RECONSTUCTION BCE LOSS: 1.59277 ----- 20210917 08:02:37\n",
            "\n",
            "####################################################################################################\n",
            "\n",
            "TRIAL 2 START TIME: 20210917 08:02\n",
            "\n",
            "Sequential(\n",
            "  (0): Linear(in_features=135, out_features=945, bias=True)\n",
            "  (1): ReLU()\n",
            "  (2): Linear(in_features=945, out_features=945, bias=True)\n",
            "  (3): ReLU()\n",
            "  (4): Linear(in_features=945, out_features=945, bias=True)\n",
            "  (5): ReLU()\n",
            "  (6): Linear(in_features=945, out_features=945, bias=True)\n",
            "  (7): ReLU()\n",
            "  (8): Linear(in_features=945, out_features=135, bias=True)\n",
            ")\n",
            "OPTIMIZER:\n",
            "RMSprop (\n",
            "Parameter Group 0\n",
            "    alpha: 0.99\n",
            "    centered: False\n",
            "    eps: 1e-08\n",
            "    lr: 0.0006925403270089673\n",
            "    momentum: 0\n",
            "    weight_decay: 0\n",
            ")\n",
            "\n",
            "CURRENT TRIAL PARAMETERS: \n",
            "    n_layers: 4\n",
            "    out_features_mult: 7\n",
            "    batch_norm: 0\n",
            "    lr: 0.0006925403270089673\n",
            "\n",
            "\n",
            "EPOCH: 0 -- RECONSTUCTION BCE LOSS: 47.6610 -- 20210917 08:02:39\n",
            "EPOCH: 5 -- RECONSTUCTION BCE LOSS: 3.0299 -- 20210917 08:02:51\n",
            "EPOCH: 10 -- RECONSTUCTION BCE LOSS: 2.4706 -- 20210917 08:03:03\n",
            "EPOCH: 15 -- RECONSTUCTION BCE LOSS: 2.3884 -- 20210917 08:03:14\n",
            "EPOCH: 20 -- RECONSTUCTION BCE LOSS: 2.1547 -- 20210917 08:03:26\n",
            "EPOCH: 25 -- RECONSTUCTION BCE LOSS: 1.9576 -- 20210917 08:03:38\n",
            "EPOCH: 30 -- RECONSTUCTION BCE LOSS: 1.7464 -- 20210917 08:03:49\n",
            "EPOCH: 35 -- RECONSTUCTION BCE LOSS: 1.8279 -- 20210917 08:04:01\n",
            "EPOCH: 40 -- RECONSTUCTION BCE LOSS: 1.8406 -- 20210917 08:04:12\n",
            "RECONSTUCTION BCE LOSS: 1.74638 ----- 20210917 08:04:15\n",
            "\n",
            "**************\n",
            "Best trial:\n",
            "  Value:  1.5927703704858691\n",
            "\n",
            "  Params: \n",
            "    n_layers: 4\n",
            "    out_features_mult: 7\n",
            "    batch_norm: 0\n",
            "    lr: 0.0006925403270089673\n",
            "**************\n",
            "\n",
            "####################################################################################################\n",
            "\n",
            "TRIAL 3 START TIME: 20210917 08:04\n",
            "\n",
            "Sequential(\n",
            "  (0): Linear(in_features=135, out_features=810, bias=True)\n",
            "  (1): ReLU()\n",
            "  (2): Linear(in_features=810, out_features=810, bias=True)\n",
            "  (3): ReLU()\n",
            "  (4): Linear(in_features=810, out_features=810, bias=True)\n",
            "  (5): ReLU()\n",
            "  (6): Linear(in_features=810, out_features=135, bias=True)\n",
            ")\n",
            "OPTIMIZER:\n",
            "RMSprop (\n",
            "Parameter Group 0\n",
            "    alpha: 0.99\n",
            "    centered: False\n",
            "    eps: 1e-08\n",
            "    lr: 0.0005087372024251471\n",
            "    momentum: 0\n",
            "    weight_decay: 0\n",
            ")\n",
            "\n",
            "CURRENT TRIAL PARAMETERS: \n",
            "    n_layers: 3\n",
            "    out_features_mult: 6\n",
            "    batch_norm: 0\n",
            "    lr: 0.0005087372024251471\n",
            "\n",
            "\n",
            "EPOCH: 0 -- RECONSTUCTION BCE LOSS: 5.1397 -- 20210917 08:04:17\n",
            "EPOCH: 5 -- RECONSTUCTION BCE LOSS: 2.5203 -- 20210917 08:04:28\n",
            "EPOCH: 10 -- RECONSTUCTION BCE LOSS: 2.3252 -- 20210917 08:04:40\n",
            "EPOCH: 15 -- RECONSTUCTION BCE LOSS: 2.0708 -- 20210917 08:04:51\n",
            "EPOCH: 20 -- RECONSTUCTION BCE LOSS: 1.9806 -- 20210917 08:05:03\n",
            "EPOCH: 25 -- RECONSTUCTION BCE LOSS: 1.8309 -- 20210917 08:05:14\n",
            "EPOCH: 30 -- RECONSTUCTION BCE LOSS: 1.8743 -- 20210917 08:05:25\n",
            "EPOCH: 35 -- RECONSTUCTION BCE LOSS: 1.7949 -- 20210917 08:05:37\n",
            "EPOCH: 40 -- RECONSTUCTION BCE LOSS: 1.7759 -- 20210917 08:05:48\n",
            "EPOCH: 45 -- RECONSTUCTION BCE LOSS: 1.7529 -- 20210917 08:05:59\n",
            "EPOCH: 50 -- RECONSTUCTION BCE LOSS: 1.8064 -- 20210917 08:06:11\n",
            "RECONSTUCTION BCE LOSS: 1.68503 ----- 20210917 08:06:20\n",
            "\n",
            "**************\n",
            "Best trial:\n",
            "  Value:  1.5927703704858691\n",
            "\n",
            "  Params: \n",
            "    n_layers: 3\n",
            "    out_features_mult: 6\n",
            "    batch_norm: 0\n",
            "    lr: 0.0005087372024251471\n",
            "**************\n",
            "\n",
            "####################################################################################################\n",
            "\n",
            "TRIAL 4 START TIME: 20210917 08:06\n",
            "\n",
            "Sequential(\n",
            "  (0): Linear(in_features=135, out_features=1350, bias=True)\n",
            "  (1): ReLU()\n",
            "  (2): Linear(in_features=1350, out_features=1350, bias=True)\n",
            "  (3): ReLU()\n",
            "  (4): Linear(in_features=1350, out_features=1350, bias=True)\n",
            "  (5): ReLU()\n",
            "  (6): Linear(in_features=1350, out_features=1350, bias=True)\n",
            "  (7): ReLU()\n",
            "  (8): Linear(in_features=1350, out_features=1350, bias=True)\n",
            "  (9): ReLU()\n",
            "  (10): Linear(in_features=1350, out_features=135, bias=True)\n",
            ")\n",
            "OPTIMIZER:\n",
            "RMSprop (\n",
            "Parameter Group 0\n",
            "    alpha: 0.99\n",
            "    centered: False\n",
            "    eps: 1e-08\n",
            "    lr: 0.0003840479252537425\n",
            "    momentum: 0\n",
            "    weight_decay: 0\n",
            ")\n",
            "\n",
            "CURRENT TRIAL PARAMETERS: \n",
            "    n_layers: 5\n",
            "    out_features_mult: 10\n",
            "    batch_norm: 0\n",
            "    lr: 0.0003840479252537425\n",
            "\n",
            "\n",
            "EPOCH: 0 -- RECONSTUCTION BCE LOSS: 20.6477 -- 20210917 08:06:22\n",
            "EPOCH: 5 -- RECONSTUCTION BCE LOSS: 3.0392 -- 20210917 08:06:35\n",
            "EPOCH: 10 -- RECONSTUCTION BCE LOSS: 2.5604 -- 20210917 08:06:48\n",
            "EPOCH: 15 -- RECONSTUCTION BCE LOSS: 2.2005 -- 20210917 08:07:01\n",
            "EPOCH: 20 -- RECONSTUCTION BCE LOSS: 2.0104 -- 20210917 08:07:13\n",
            "EPOCH: 25 -- RECONSTUCTION BCE LOSS: 2.0029 -- 20210917 08:07:26\n",
            "EPOCH: 30 -- RECONSTUCTION BCE LOSS: 2.0123 -- 20210917 08:07:38\n",
            "EPOCH: 35 -- RECONSTUCTION BCE LOSS: 1.9572 -- 20210917 08:07:51\n",
            "EPOCH: 40 -- RECONSTUCTION BCE LOSS: 1.8169 -- 20210917 08:08:04\n",
            "EPOCH: 45 -- RECONSTUCTION BCE LOSS: 1.8146 -- 20210917 08:08:16\n",
            "EPOCH: 50 -- RECONSTUCTION BCE LOSS: 1.8249 -- 20210917 08:08:29\n",
            "EPOCH: 55 -- RECONSTUCTION BCE LOSS: 1.8239 -- 20210917 08:08:41\n",
            "EPOCH: 60 -- RECONSTUCTION BCE LOSS: 1.7958 -- 20210917 08:08:54\n",
            "EPOCH: 65 -- RECONSTUCTION BCE LOSS: 1.7754 -- 20210917 08:09:06\n",
            "EPOCH: 70 -- RECONSTUCTION BCE LOSS: 1.7497 -- 20210917 08:09:19\n",
            "EPOCH: 75 -- RECONSTUCTION BCE LOSS: 1.7602 -- 20210917 08:09:31\n",
            "EPOCH: 80 -- RECONSTUCTION BCE LOSS: 1.7263 -- 20210917 08:09:44\n",
            "RECONSTUCTION BCE LOSS: 1.62187 ----- 20210917 08:09:51\n",
            "\n",
            "**************\n",
            "Best trial:\n",
            "  Value:  1.5927703704858691\n",
            "\n",
            "  Params: \n",
            "    n_layers: 5\n",
            "    out_features_mult: 10\n",
            "    batch_norm: 0\n",
            "    lr: 0.0003840479252537425\n",
            "**************\n",
            "\n",
            "####################################################################################################\n",
            "\n",
            "TRIAL 5 START TIME: 20210917 08:09\n",
            "\n",
            "Sequential(\n",
            "  (0): Linear(in_features=135, out_features=1350, bias=True)\n",
            "  (1): ReLU()\n",
            "  (2): Linear(in_features=1350, out_features=1350, bias=True)\n",
            "  (3): ReLU()\n",
            "  (4): Linear(in_features=1350, out_features=1350, bias=True)\n",
            "  (5): ReLU()\n",
            "  (6): Linear(in_features=1350, out_features=1350, bias=True)\n",
            "  (7): ReLU()\n",
            "  (8): Linear(in_features=1350, out_features=135, bias=True)\n",
            ")\n",
            "OPTIMIZER:\n",
            "RMSprop (\n",
            "Parameter Group 0\n",
            "    alpha: 0.99\n",
            "    centered: False\n",
            "    eps: 1e-08\n",
            "    lr: 0.0009820786588097812\n",
            "    momentum: 0\n",
            "    weight_decay: 0\n",
            ")\n",
            "\n",
            "CURRENT TRIAL PARAMETERS: \n",
            "    n_layers: 4\n",
            "    out_features_mult: 10\n",
            "    batch_norm: 0\n",
            "    lr: 0.0009820786588097812\n",
            "\n",
            "\n",
            "EPOCH: 0 -- RECONSTUCTION BCE LOSS: 9230.3333 -- 20210917 08:09:53\n",
            "EPOCH: 5 -- RECONSTUCTION BCE LOSS: 2.6958 -- 20210917 08:10:06\n",
            "EPOCH: 10 -- RECONSTUCTION BCE LOSS: 3.1584 -- 20210917 08:10:18\n",
            "EPOCH: 15 -- RECONSTUCTION BCE LOSS: 2.6174 -- 20210917 08:10:30\n",
            "RECONSTUCTION BCE LOSS: 2.54290 ----- 20210917 08:10:30\n",
            "\n",
            "**************\n",
            "Best trial:\n",
            "  Value:  1.5927703704858691\n",
            "\n",
            "  Params: \n",
            "    n_layers: 4\n",
            "    out_features_mult: 10\n",
            "    batch_norm: 0\n",
            "    lr: 0.0009820786588097812\n",
            "**************\n",
            "\n",
            "####################################################################################################\n",
            "\n",
            "Study statistics: \n",
            "  Number of finished trials:  5 \n",
            "\n",
            "Best trial:\n",
            "  Value:  1.5927703704858691\n",
            "  Params: \n",
            "    n_layers: 5\n",
            "    out_features_mult: 7\n",
            "    batch_norm: 1\n",
            "    lr: 0.000495984070712582\n",
            "\n",
            "\n",
            "\n",
            "TRIALS DATAFRAME: \n",
            "   number     value  ... params_out_features_mult     state\n",
            "0       0  1.592770  ...                        7  COMPLETE\n",
            "1       1  1.746383  ...                        7  COMPLETE\n",
            "2       2  1.685026  ...                        6  COMPLETE\n",
            "3       3  1.621874  ...                       10  COMPLETE\n",
            "4       4  2.542897  ...                       10  COMPLETE\n",
            "\n",
            "[5 rows x 10 columns]\n"
          ]
        }
      ]
    },
    {
      "cell_type": "code",
      "metadata": {
        "colab": {
          "base_uri": "https://localhost:8080/"
        },
        "id": "VfY9uZlZqtUr",
        "outputId": "bfd23120-e9bd-4a3a-a1d0-508cdbe0b82b"
      },
      "source": [
        "pd.read_csv(f'logs/dae_trials_{study_start_time}.csv').sort_values('value').iloc[0]\n"
      ],
      "id": "VfY9uZlZqtUr",
      "execution_count": null,
      "outputs": [
        {
          "output_type": "execute_result",
          "data": {
            "text/plain": [
              "Unnamed: 0                                           0\n",
              "number                                               0\n",
              "value                                          1.59277\n",
              "datetime_start              2021-09-17 07:59:25.876168\n",
              "datetime_complete           2021-09-17 08:02:37.496186\n",
              "duration                        0 days 00:03:11.620018\n",
              "params_batch_norm                                    1\n",
              "params_lr                                  0.000495984\n",
              "params_n_layers                                      5\n",
              "params_out_features_mult                             7\n",
              "state                                         COMPLETE\n",
              "Name: 0, dtype: object"
            ]
          },
          "metadata": {},
          "execution_count": 49
        }
      ]
    },
    {
      "cell_type": "markdown",
      "metadata": {
        "id": "vGrP3tdocyz1"
      },
      "source": [
        "---\n",
        "### ***Denoising autoencoder optimization study complete***\n",
        "---\n",
        "\n",
        "Above we see one of our best dae trials on the full feature set. This model produces a denoised, more general version of our features that is most similar to our original input. Now that we have the trained model, we can extract the activations from our entire sample as our new feature set in the next section.\n",
        "\n",
        "Below we have graphics of our model optimization study. These plots help us understand what parameters are most important in our network topology optimzation study.\n"
      ],
      "id": "vGrP3tdocyz1"
    },
    {
      "cell_type": "code",
      "metadata": {
        "colab": {
          "base_uri": "https://localhost:8080/",
          "height": 542
        },
        "id": "YOGM5kG88Jb9",
        "outputId": "11c64574-f906-425f-bde0-c636164ecf28"
      },
      "source": [
        "# study = joblib.load(f'logs/dae_study_{study_start_time}.pkl')\n",
        "optuna.visualization.plot_optimization_history(study)"
      ],
      "id": "YOGM5kG88Jb9",
      "execution_count": null,
      "outputs": [
        {
          "output_type": "display_data",
          "data": {
            "text/html": [
              "<html>\n",
              "<head><meta charset=\"utf-8\" /></head>\n",
              "<body>\n",
              "    <div>\n",
              "            <script src=\"https://cdnjs.cloudflare.com/ajax/libs/mathjax/2.7.5/MathJax.js?config=TeX-AMS-MML_SVG\"></script><script type=\"text/javascript\">if (window.MathJax) {MathJax.Hub.Config({SVG: {font: \"STIX-Web\"}});}</script>\n",
              "                <script type=\"text/javascript\">window.PlotlyConfig = {MathJaxConfig: 'local'};</script>\n",
              "        <script src=\"https://cdn.plot.ly/plotly-latest.min.js\"></script>    \n",
              "            <div id=\"0abfa392-a617-4f08-adc7-e4406eb7caff\" class=\"plotly-graph-div\" style=\"height:525px; width:100%;\"></div>\n",
              "            <script type=\"text/javascript\">\n",
              "                \n",
              "                    window.PLOTLYENV=window.PLOTLYENV || {};\n",
              "                    \n",
              "                if (document.getElementById(\"0abfa392-a617-4f08-adc7-e4406eb7caff\")) {\n",
              "                    Plotly.newPlot(\n",
              "                        '0abfa392-a617-4f08-adc7-e4406eb7caff',\n",
              "                        [{\"mode\": \"markers\", \"name\": \"Objective Value\", \"type\": \"scatter\", \"x\": [0, 1, 2, 3, 4], \"y\": [1.5927703704858691, 1.7463825998219802, 1.6850255778725283, 1.6218738000009962, 2.5428974020048742]}, {\"name\": \"Best Value\", \"type\": \"scatter\", \"x\": [0, 1, 2, 3, 4], \"y\": [1.5927703704858691, 1.5927703704858691, 1.5927703704858691, 1.5927703704858691, 1.5927703704858691]}],\n",
              "                        {\"template\": {\"data\": {\"bar\": [{\"error_x\": {\"color\": \"#2a3f5f\"}, \"error_y\": {\"color\": \"#2a3f5f\"}, \"marker\": {\"line\": {\"color\": \"#E5ECF6\", \"width\": 0.5}}, \"type\": \"bar\"}], \"barpolar\": [{\"marker\": {\"line\": {\"color\": \"#E5ECF6\", \"width\": 0.5}}, \"type\": \"barpolar\"}], \"carpet\": [{\"aaxis\": {\"endlinecolor\": \"#2a3f5f\", \"gridcolor\": \"white\", \"linecolor\": \"white\", \"minorgridcolor\": \"white\", \"startlinecolor\": \"#2a3f5f\"}, \"baxis\": {\"endlinecolor\": \"#2a3f5f\", \"gridcolor\": \"white\", \"linecolor\": \"white\", \"minorgridcolor\": \"white\", \"startlinecolor\": \"#2a3f5f\"}, \"type\": \"carpet\"}], \"choropleth\": [{\"colorbar\": {\"outlinewidth\": 0, \"ticks\": \"\"}, \"type\": \"choropleth\"}], \"contour\": [{\"colorbar\": {\"outlinewidth\": 0, \"ticks\": \"\"}, \"colorscale\": [[0.0, \"#0d0887\"], [0.1111111111111111, \"#46039f\"], [0.2222222222222222, \"#7201a8\"], [0.3333333333333333, \"#9c179e\"], [0.4444444444444444, \"#bd3786\"], [0.5555555555555556, \"#d8576b\"], [0.6666666666666666, \"#ed7953\"], [0.7777777777777778, \"#fb9f3a\"], [0.8888888888888888, \"#fdca26\"], [1.0, \"#f0f921\"]], \"type\": \"contour\"}], \"contourcarpet\": [{\"colorbar\": {\"outlinewidth\": 0, \"ticks\": \"\"}, \"type\": \"contourcarpet\"}], \"heatmap\": [{\"colorbar\": {\"outlinewidth\": 0, \"ticks\": \"\"}, \"colorscale\": [[0.0, \"#0d0887\"], [0.1111111111111111, \"#46039f\"], [0.2222222222222222, \"#7201a8\"], [0.3333333333333333, \"#9c179e\"], [0.4444444444444444, \"#bd3786\"], [0.5555555555555556, \"#d8576b\"], [0.6666666666666666, \"#ed7953\"], [0.7777777777777778, \"#fb9f3a\"], [0.8888888888888888, \"#fdca26\"], [1.0, \"#f0f921\"]], \"type\": \"heatmap\"}], \"heatmapgl\": [{\"colorbar\": {\"outlinewidth\": 0, \"ticks\": \"\"}, \"colorscale\": [[0.0, \"#0d0887\"], [0.1111111111111111, \"#46039f\"], [0.2222222222222222, \"#7201a8\"], [0.3333333333333333, \"#9c179e\"], [0.4444444444444444, \"#bd3786\"], [0.5555555555555556, \"#d8576b\"], [0.6666666666666666, \"#ed7953\"], [0.7777777777777778, \"#fb9f3a\"], [0.8888888888888888, \"#fdca26\"], [1.0, \"#f0f921\"]], \"type\": \"heatmapgl\"}], \"histogram\": [{\"marker\": {\"colorbar\": {\"outlinewidth\": 0, \"ticks\": \"\"}}, \"type\": \"histogram\"}], \"histogram2d\": [{\"colorbar\": {\"outlinewidth\": 0, \"ticks\": \"\"}, \"colorscale\": [[0.0, \"#0d0887\"], [0.1111111111111111, \"#46039f\"], [0.2222222222222222, \"#7201a8\"], [0.3333333333333333, \"#9c179e\"], [0.4444444444444444, \"#bd3786\"], [0.5555555555555556, \"#d8576b\"], [0.6666666666666666, \"#ed7953\"], [0.7777777777777778, \"#fb9f3a\"], [0.8888888888888888, \"#fdca26\"], [1.0, \"#f0f921\"]], \"type\": \"histogram2d\"}], \"histogram2dcontour\": [{\"colorbar\": {\"outlinewidth\": 0, \"ticks\": \"\"}, \"colorscale\": [[0.0, \"#0d0887\"], [0.1111111111111111, \"#46039f\"], [0.2222222222222222, \"#7201a8\"], [0.3333333333333333, \"#9c179e\"], [0.4444444444444444, \"#bd3786\"], [0.5555555555555556, \"#d8576b\"], [0.6666666666666666, \"#ed7953\"], [0.7777777777777778, \"#fb9f3a\"], [0.8888888888888888, \"#fdca26\"], [1.0, \"#f0f921\"]], \"type\": \"histogram2dcontour\"}], \"mesh3d\": [{\"colorbar\": {\"outlinewidth\": 0, \"ticks\": \"\"}, \"type\": \"mesh3d\"}], \"parcoords\": [{\"line\": {\"colorbar\": {\"outlinewidth\": 0, \"ticks\": \"\"}}, \"type\": \"parcoords\"}], \"pie\": [{\"automargin\": true, \"type\": \"pie\"}], \"scatter\": [{\"marker\": {\"colorbar\": {\"outlinewidth\": 0, \"ticks\": \"\"}}, \"type\": \"scatter\"}], \"scatter3d\": [{\"line\": {\"colorbar\": {\"outlinewidth\": 0, \"ticks\": \"\"}}, \"marker\": {\"colorbar\": {\"outlinewidth\": 0, \"ticks\": \"\"}}, \"type\": \"scatter3d\"}], \"scattercarpet\": [{\"marker\": {\"colorbar\": {\"outlinewidth\": 0, \"ticks\": \"\"}}, \"type\": \"scattercarpet\"}], \"scattergeo\": [{\"marker\": {\"colorbar\": {\"outlinewidth\": 0, \"ticks\": \"\"}}, \"type\": \"scattergeo\"}], \"scattergl\": [{\"marker\": {\"colorbar\": {\"outlinewidth\": 0, \"ticks\": \"\"}}, \"type\": \"scattergl\"}], \"scattermapbox\": [{\"marker\": {\"colorbar\": {\"outlinewidth\": 0, \"ticks\": \"\"}}, \"type\": \"scattermapbox\"}], \"scatterpolar\": [{\"marker\": {\"colorbar\": {\"outlinewidth\": 0, \"ticks\": \"\"}}, \"type\": \"scatterpolar\"}], \"scatterpolargl\": [{\"marker\": {\"colorbar\": {\"outlinewidth\": 0, \"ticks\": \"\"}}, \"type\": \"scatterpolargl\"}], \"scatterternary\": [{\"marker\": {\"colorbar\": {\"outlinewidth\": 0, \"ticks\": \"\"}}, \"type\": \"scatterternary\"}], \"surface\": [{\"colorbar\": {\"outlinewidth\": 0, \"ticks\": \"\"}, \"colorscale\": [[0.0, \"#0d0887\"], [0.1111111111111111, \"#46039f\"], [0.2222222222222222, \"#7201a8\"], [0.3333333333333333, \"#9c179e\"], [0.4444444444444444, \"#bd3786\"], [0.5555555555555556, \"#d8576b\"], [0.6666666666666666, \"#ed7953\"], [0.7777777777777778, \"#fb9f3a\"], [0.8888888888888888, \"#fdca26\"], [1.0, \"#f0f921\"]], \"type\": \"surface\"}], \"table\": [{\"cells\": {\"fill\": {\"color\": \"#EBF0F8\"}, \"line\": {\"color\": \"white\"}}, \"header\": {\"fill\": {\"color\": \"#C8D4E3\"}, \"line\": {\"color\": \"white\"}}, \"type\": \"table\"}]}, \"layout\": {\"annotationdefaults\": {\"arrowcolor\": \"#2a3f5f\", \"arrowhead\": 0, \"arrowwidth\": 1}, \"coloraxis\": {\"colorbar\": {\"outlinewidth\": 0, \"ticks\": \"\"}}, \"colorscale\": {\"diverging\": [[0, \"#8e0152\"], [0.1, \"#c51b7d\"], [0.2, \"#de77ae\"], [0.3, \"#f1b6da\"], [0.4, \"#fde0ef\"], [0.5, \"#f7f7f7\"], [0.6, \"#e6f5d0\"], [0.7, \"#b8e186\"], [0.8, \"#7fbc41\"], [0.9, \"#4d9221\"], [1, \"#276419\"]], \"sequential\": [[0.0, \"#0d0887\"], [0.1111111111111111, \"#46039f\"], [0.2222222222222222, \"#7201a8\"], [0.3333333333333333, \"#9c179e\"], [0.4444444444444444, \"#bd3786\"], [0.5555555555555556, \"#d8576b\"], [0.6666666666666666, \"#ed7953\"], [0.7777777777777778, \"#fb9f3a\"], [0.8888888888888888, \"#fdca26\"], [1.0, \"#f0f921\"]], \"sequentialminus\": [[0.0, \"#0d0887\"], [0.1111111111111111, \"#46039f\"], [0.2222222222222222, \"#7201a8\"], [0.3333333333333333, \"#9c179e\"], [0.4444444444444444, \"#bd3786\"], [0.5555555555555556, \"#d8576b\"], [0.6666666666666666, \"#ed7953\"], [0.7777777777777778, \"#fb9f3a\"], [0.8888888888888888, \"#fdca26\"], [1.0, \"#f0f921\"]]}, \"colorway\": [\"#636efa\", \"#EF553B\", \"#00cc96\", \"#ab63fa\", \"#FFA15A\", \"#19d3f3\", \"#FF6692\", \"#B6E880\", \"#FF97FF\", \"#FECB52\"], \"font\": {\"color\": \"#2a3f5f\"}, \"geo\": {\"bgcolor\": \"white\", \"lakecolor\": \"white\", \"landcolor\": \"#E5ECF6\", \"showlakes\": true, \"showland\": true, \"subunitcolor\": \"white\"}, \"hoverlabel\": {\"align\": \"left\"}, \"hovermode\": \"closest\", \"mapbox\": {\"style\": \"light\"}, \"paper_bgcolor\": \"white\", \"plot_bgcolor\": \"#E5ECF6\", \"polar\": {\"angularaxis\": {\"gridcolor\": \"white\", \"linecolor\": \"white\", \"ticks\": \"\"}, \"bgcolor\": \"#E5ECF6\", \"radialaxis\": {\"gridcolor\": \"white\", \"linecolor\": \"white\", \"ticks\": \"\"}}, \"scene\": {\"xaxis\": {\"backgroundcolor\": \"#E5ECF6\", \"gridcolor\": \"white\", \"gridwidth\": 2, \"linecolor\": \"white\", \"showbackground\": true, \"ticks\": \"\", \"zerolinecolor\": \"white\"}, \"yaxis\": {\"backgroundcolor\": \"#E5ECF6\", \"gridcolor\": \"white\", \"gridwidth\": 2, \"linecolor\": \"white\", \"showbackground\": true, \"ticks\": \"\", \"zerolinecolor\": \"white\"}, \"zaxis\": {\"backgroundcolor\": \"#E5ECF6\", \"gridcolor\": \"white\", \"gridwidth\": 2, \"linecolor\": \"white\", \"showbackground\": true, \"ticks\": \"\", \"zerolinecolor\": \"white\"}}, \"shapedefaults\": {\"line\": {\"color\": \"#2a3f5f\"}}, \"ternary\": {\"aaxis\": {\"gridcolor\": \"white\", \"linecolor\": \"white\", \"ticks\": \"\"}, \"baxis\": {\"gridcolor\": \"white\", \"linecolor\": \"white\", \"ticks\": \"\"}, \"bgcolor\": \"#E5ECF6\", \"caxis\": {\"gridcolor\": \"white\", \"linecolor\": \"white\", \"ticks\": \"\"}}, \"title\": {\"x\": 0.05}, \"xaxis\": {\"automargin\": true, \"gridcolor\": \"white\", \"linecolor\": \"white\", \"ticks\": \"\", \"title\": {\"standoff\": 15}, \"zerolinecolor\": \"white\", \"zerolinewidth\": 2}, \"yaxis\": {\"automargin\": true, \"gridcolor\": \"white\", \"linecolor\": \"white\", \"ticks\": \"\", \"title\": {\"standoff\": 15}, \"zerolinecolor\": \"white\", \"zerolinewidth\": 2}}}, \"title\": {\"text\": \"Optimization History Plot\"}, \"xaxis\": {\"title\": {\"text\": \"#Trials\"}}, \"yaxis\": {\"title\": {\"text\": \"Objective Value\"}}},\n",
              "                        {\"responsive\": true}\n",
              "                    ).then(function(){\n",
              "                            \n",
              "var gd = document.getElementById('0abfa392-a617-4f08-adc7-e4406eb7caff');\n",
              "var x = new MutationObserver(function (mutations, observer) {{\n",
              "        var display = window.getComputedStyle(gd).display;\n",
              "        if (!display || display === 'none') {{\n",
              "            console.log([gd, 'removed!']);\n",
              "            Plotly.purge(gd);\n",
              "            observer.disconnect();\n",
              "        }}\n",
              "}});\n",
              "\n",
              "// Listen for the removal of the full notebook cells\n",
              "var notebookContainer = gd.closest('#notebook-container');\n",
              "if (notebookContainer) {{\n",
              "    x.observe(notebookContainer, {childList: true});\n",
              "}}\n",
              "\n",
              "// Listen for the clearing of the current output cell\n",
              "var outputEl = gd.closest('.output');\n",
              "if (outputEl) {{\n",
              "    x.observe(outputEl, {childList: true});\n",
              "}}\n",
              "\n",
              "                        })\n",
              "                };\n",
              "                \n",
              "            </script>\n",
              "        </div>\n",
              "</body>\n",
              "</html>"
            ]
          },
          "metadata": {}
        }
      ]
    },
    {
      "cell_type": "code",
      "metadata": {
        "colab": {
          "base_uri": "https://localhost:8080/",
          "height": 542
        },
        "id": "jOyFYS7f8OH9",
        "outputId": "bf43cfc8-4497-4943-f51e-c1d103344d0b"
      },
      "source": [
        "optuna.visualization.plot_parallel_coordinate(study)"
      ],
      "id": "jOyFYS7f8OH9",
      "execution_count": null,
      "outputs": [
        {
          "output_type": "display_data",
          "data": {
            "text/html": [
              "<html>\n",
              "<head><meta charset=\"utf-8\" /></head>\n",
              "<body>\n",
              "    <div>\n",
              "            <script src=\"https://cdnjs.cloudflare.com/ajax/libs/mathjax/2.7.5/MathJax.js?config=TeX-AMS-MML_SVG\"></script><script type=\"text/javascript\">if (window.MathJax) {MathJax.Hub.Config({SVG: {font: \"STIX-Web\"}});}</script>\n",
              "                <script type=\"text/javascript\">window.PlotlyConfig = {MathJaxConfig: 'local'};</script>\n",
              "        <script src=\"https://cdn.plot.ly/plotly-latest.min.js\"></script>    \n",
              "            <div id=\"596dcf5e-ee9c-443e-8959-a3ec0a9965b3\" class=\"plotly-graph-div\" style=\"height:525px; width:100%;\"></div>\n",
              "            <script type=\"text/javascript\">\n",
              "                \n",
              "                    window.PLOTLYENV=window.PLOTLYENV || {};\n",
              "                    \n",
              "                if (document.getElementById(\"596dcf5e-ee9c-443e-8959-a3ec0a9965b3\")) {\n",
              "                    Plotly.newPlot(\n",
              "                        '596dcf5e-ee9c-443e-8959-a3ec0a9965b3',\n",
              "                        [{\"dimensions\": [{\"label\": \"Objective Value\", \"range\": [1.5927703704858691, 2.5428974020048742], \"values\": [1.5927703704858691, 1.7463825998219802, 1.6850255778725283, 1.6218738000009962, 2.5428974020048742]}, {\"label\": \"batch_norm\", \"range\": [0, 1], \"values\": [1, 0, 0, 0, 0]}, {\"label\": \"lr\", \"range\": [-3.4156145767404813, -3.007853726348537], \"ticktext\": [\"0.000384\", \"0.000982\"], \"tickvals\": [-3.4156145767404813, -3.007853726348537], \"values\": [-3.304532271317698, -3.159554932317612, -3.2935065025550205, -3.4156145767404813, -3.007853726348537]}, {\"label\": \"n_layers\", \"range\": [3, 5], \"values\": [5, 4, 3, 5, 4]}, {\"label\": \"out_features_mult\", \"range\": [6, 10], \"values\": [7, 7, 6, 10, 10]}], \"labelangle\": 30, \"labelside\": \"bottom\", \"line\": {\"color\": [1.5927703704858691, 1.7463825998219802, 1.6850255778725283, 1.6218738000009962, 2.5428974020048742], \"colorbar\": {\"title\": {\"text\": \"Objective Value\"}}, \"colorscale\": [[0.0, \"rgb(247,251,255)\"], [0.125, \"rgb(222,235,247)\"], [0.25, \"rgb(198,219,239)\"], [0.375, \"rgb(158,202,225)\"], [0.5, \"rgb(107,174,214)\"], [0.625, \"rgb(66,146,198)\"], [0.75, \"rgb(33,113,181)\"], [0.875, \"rgb(8,81,156)\"], [1.0, \"rgb(8,48,107)\"]], \"reversescale\": true, \"showscale\": true}, \"type\": \"parcoords\"}],\n",
              "                        {\"template\": {\"data\": {\"bar\": [{\"error_x\": {\"color\": \"#2a3f5f\"}, \"error_y\": {\"color\": \"#2a3f5f\"}, \"marker\": {\"line\": {\"color\": \"#E5ECF6\", \"width\": 0.5}}, \"type\": \"bar\"}], \"barpolar\": [{\"marker\": {\"line\": {\"color\": \"#E5ECF6\", \"width\": 0.5}}, \"type\": \"barpolar\"}], \"carpet\": [{\"aaxis\": {\"endlinecolor\": \"#2a3f5f\", \"gridcolor\": \"white\", \"linecolor\": \"white\", \"minorgridcolor\": \"white\", \"startlinecolor\": \"#2a3f5f\"}, \"baxis\": {\"endlinecolor\": \"#2a3f5f\", \"gridcolor\": \"white\", \"linecolor\": \"white\", \"minorgridcolor\": \"white\", \"startlinecolor\": \"#2a3f5f\"}, \"type\": \"carpet\"}], \"choropleth\": [{\"colorbar\": {\"outlinewidth\": 0, \"ticks\": \"\"}, \"type\": \"choropleth\"}], \"contour\": [{\"colorbar\": {\"outlinewidth\": 0, \"ticks\": \"\"}, \"colorscale\": [[0.0, \"#0d0887\"], [0.1111111111111111, \"#46039f\"], [0.2222222222222222, \"#7201a8\"], [0.3333333333333333, \"#9c179e\"], [0.4444444444444444, \"#bd3786\"], [0.5555555555555556, \"#d8576b\"], [0.6666666666666666, \"#ed7953\"], [0.7777777777777778, \"#fb9f3a\"], [0.8888888888888888, \"#fdca26\"], [1.0, \"#f0f921\"]], \"type\": \"contour\"}], \"contourcarpet\": [{\"colorbar\": {\"outlinewidth\": 0, \"ticks\": \"\"}, \"type\": \"contourcarpet\"}], \"heatmap\": [{\"colorbar\": {\"outlinewidth\": 0, \"ticks\": \"\"}, \"colorscale\": [[0.0, \"#0d0887\"], [0.1111111111111111, \"#46039f\"], [0.2222222222222222, \"#7201a8\"], [0.3333333333333333, \"#9c179e\"], [0.4444444444444444, \"#bd3786\"], [0.5555555555555556, \"#d8576b\"], [0.6666666666666666, \"#ed7953\"], [0.7777777777777778, \"#fb9f3a\"], [0.8888888888888888, \"#fdca26\"], [1.0, \"#f0f921\"]], \"type\": \"heatmap\"}], \"heatmapgl\": [{\"colorbar\": {\"outlinewidth\": 0, \"ticks\": \"\"}, \"colorscale\": [[0.0, \"#0d0887\"], [0.1111111111111111, \"#46039f\"], [0.2222222222222222, \"#7201a8\"], [0.3333333333333333, \"#9c179e\"], [0.4444444444444444, \"#bd3786\"], [0.5555555555555556, \"#d8576b\"], [0.6666666666666666, \"#ed7953\"], [0.7777777777777778, \"#fb9f3a\"], [0.8888888888888888, \"#fdca26\"], [1.0, \"#f0f921\"]], \"type\": \"heatmapgl\"}], \"histogram\": [{\"marker\": {\"colorbar\": {\"outlinewidth\": 0, \"ticks\": \"\"}}, \"type\": \"histogram\"}], \"histogram2d\": [{\"colorbar\": {\"outlinewidth\": 0, \"ticks\": \"\"}, \"colorscale\": [[0.0, \"#0d0887\"], [0.1111111111111111, \"#46039f\"], [0.2222222222222222, \"#7201a8\"], [0.3333333333333333, \"#9c179e\"], [0.4444444444444444, \"#bd3786\"], [0.5555555555555556, \"#d8576b\"], [0.6666666666666666, \"#ed7953\"], [0.7777777777777778, \"#fb9f3a\"], [0.8888888888888888, \"#fdca26\"], [1.0, \"#f0f921\"]], \"type\": \"histogram2d\"}], \"histogram2dcontour\": [{\"colorbar\": {\"outlinewidth\": 0, \"ticks\": \"\"}, \"colorscale\": [[0.0, \"#0d0887\"], [0.1111111111111111, \"#46039f\"], [0.2222222222222222, \"#7201a8\"], [0.3333333333333333, \"#9c179e\"], [0.4444444444444444, \"#bd3786\"], [0.5555555555555556, \"#d8576b\"], [0.6666666666666666, \"#ed7953\"], [0.7777777777777778, \"#fb9f3a\"], [0.8888888888888888, \"#fdca26\"], [1.0, \"#f0f921\"]], \"type\": \"histogram2dcontour\"}], \"mesh3d\": [{\"colorbar\": {\"outlinewidth\": 0, \"ticks\": \"\"}, \"type\": \"mesh3d\"}], \"parcoords\": [{\"line\": {\"colorbar\": {\"outlinewidth\": 0, \"ticks\": \"\"}}, \"type\": \"parcoords\"}], \"pie\": [{\"automargin\": true, \"type\": \"pie\"}], \"scatter\": [{\"marker\": {\"colorbar\": {\"outlinewidth\": 0, \"ticks\": \"\"}}, \"type\": \"scatter\"}], \"scatter3d\": [{\"line\": {\"colorbar\": {\"outlinewidth\": 0, \"ticks\": \"\"}}, \"marker\": {\"colorbar\": {\"outlinewidth\": 0, \"ticks\": \"\"}}, \"type\": \"scatter3d\"}], \"scattercarpet\": [{\"marker\": {\"colorbar\": {\"outlinewidth\": 0, \"ticks\": \"\"}}, \"type\": \"scattercarpet\"}], \"scattergeo\": [{\"marker\": {\"colorbar\": {\"outlinewidth\": 0, \"ticks\": \"\"}}, \"type\": \"scattergeo\"}], \"scattergl\": [{\"marker\": {\"colorbar\": {\"outlinewidth\": 0, \"ticks\": \"\"}}, \"type\": \"scattergl\"}], \"scattermapbox\": [{\"marker\": {\"colorbar\": {\"outlinewidth\": 0, \"ticks\": \"\"}}, \"type\": \"scattermapbox\"}], \"scatterpolar\": [{\"marker\": {\"colorbar\": {\"outlinewidth\": 0, \"ticks\": \"\"}}, \"type\": \"scatterpolar\"}], \"scatterpolargl\": [{\"marker\": {\"colorbar\": {\"outlinewidth\": 0, \"ticks\": \"\"}}, \"type\": \"scatterpolargl\"}], \"scatterternary\": [{\"marker\": {\"colorbar\": {\"outlinewidth\": 0, \"ticks\": \"\"}}, \"type\": \"scatterternary\"}], \"surface\": [{\"colorbar\": {\"outlinewidth\": 0, \"ticks\": \"\"}, \"colorscale\": [[0.0, \"#0d0887\"], [0.1111111111111111, \"#46039f\"], [0.2222222222222222, \"#7201a8\"], [0.3333333333333333, \"#9c179e\"], [0.4444444444444444, \"#bd3786\"], [0.5555555555555556, \"#d8576b\"], [0.6666666666666666, \"#ed7953\"], [0.7777777777777778, \"#fb9f3a\"], [0.8888888888888888, \"#fdca26\"], [1.0, \"#f0f921\"]], \"type\": \"surface\"}], \"table\": [{\"cells\": {\"fill\": {\"color\": \"#EBF0F8\"}, \"line\": {\"color\": \"white\"}}, \"header\": {\"fill\": {\"color\": \"#C8D4E3\"}, \"line\": {\"color\": \"white\"}}, \"type\": \"table\"}]}, \"layout\": {\"annotationdefaults\": {\"arrowcolor\": \"#2a3f5f\", \"arrowhead\": 0, \"arrowwidth\": 1}, \"coloraxis\": {\"colorbar\": {\"outlinewidth\": 0, \"ticks\": \"\"}}, \"colorscale\": {\"diverging\": [[0, \"#8e0152\"], [0.1, \"#c51b7d\"], [0.2, \"#de77ae\"], [0.3, \"#f1b6da\"], [0.4, \"#fde0ef\"], [0.5, \"#f7f7f7\"], [0.6, \"#e6f5d0\"], [0.7, \"#b8e186\"], [0.8, \"#7fbc41\"], [0.9, \"#4d9221\"], [1, \"#276419\"]], \"sequential\": [[0.0, \"#0d0887\"], [0.1111111111111111, \"#46039f\"], [0.2222222222222222, \"#7201a8\"], [0.3333333333333333, \"#9c179e\"], [0.4444444444444444, \"#bd3786\"], [0.5555555555555556, \"#d8576b\"], [0.6666666666666666, \"#ed7953\"], [0.7777777777777778, \"#fb9f3a\"], [0.8888888888888888, \"#fdca26\"], [1.0, \"#f0f921\"]], \"sequentialminus\": [[0.0, \"#0d0887\"], [0.1111111111111111, \"#46039f\"], [0.2222222222222222, \"#7201a8\"], [0.3333333333333333, \"#9c179e\"], [0.4444444444444444, \"#bd3786\"], [0.5555555555555556, \"#d8576b\"], [0.6666666666666666, \"#ed7953\"], [0.7777777777777778, \"#fb9f3a\"], [0.8888888888888888, \"#fdca26\"], [1.0, \"#f0f921\"]]}, \"colorway\": [\"#636efa\", \"#EF553B\", \"#00cc96\", \"#ab63fa\", \"#FFA15A\", \"#19d3f3\", \"#FF6692\", \"#B6E880\", \"#FF97FF\", \"#FECB52\"], \"font\": {\"color\": \"#2a3f5f\"}, \"geo\": {\"bgcolor\": \"white\", \"lakecolor\": \"white\", \"landcolor\": \"#E5ECF6\", \"showlakes\": true, \"showland\": true, \"subunitcolor\": \"white\"}, \"hoverlabel\": {\"align\": \"left\"}, \"hovermode\": \"closest\", \"mapbox\": {\"style\": \"light\"}, \"paper_bgcolor\": \"white\", \"plot_bgcolor\": \"#E5ECF6\", \"polar\": {\"angularaxis\": {\"gridcolor\": \"white\", \"linecolor\": \"white\", \"ticks\": \"\"}, \"bgcolor\": \"#E5ECF6\", \"radialaxis\": {\"gridcolor\": \"white\", \"linecolor\": \"white\", \"ticks\": \"\"}}, \"scene\": {\"xaxis\": {\"backgroundcolor\": \"#E5ECF6\", \"gridcolor\": \"white\", \"gridwidth\": 2, \"linecolor\": \"white\", \"showbackground\": true, \"ticks\": \"\", \"zerolinecolor\": \"white\"}, \"yaxis\": {\"backgroundcolor\": \"#E5ECF6\", \"gridcolor\": \"white\", \"gridwidth\": 2, \"linecolor\": \"white\", \"showbackground\": true, \"ticks\": \"\", \"zerolinecolor\": \"white\"}, \"zaxis\": {\"backgroundcolor\": \"#E5ECF6\", \"gridcolor\": \"white\", \"gridwidth\": 2, \"linecolor\": \"white\", \"showbackground\": true, \"ticks\": \"\", \"zerolinecolor\": \"white\"}}, \"shapedefaults\": {\"line\": {\"color\": \"#2a3f5f\"}}, \"ternary\": {\"aaxis\": {\"gridcolor\": \"white\", \"linecolor\": \"white\", \"ticks\": \"\"}, \"baxis\": {\"gridcolor\": \"white\", \"linecolor\": \"white\", \"ticks\": \"\"}, \"bgcolor\": \"#E5ECF6\", \"caxis\": {\"gridcolor\": \"white\", \"linecolor\": \"white\", \"ticks\": \"\"}}, \"title\": {\"x\": 0.05}, \"xaxis\": {\"automargin\": true, \"gridcolor\": \"white\", \"linecolor\": \"white\", \"ticks\": \"\", \"title\": {\"standoff\": 15}, \"zerolinecolor\": \"white\", \"zerolinewidth\": 2}, \"yaxis\": {\"automargin\": true, \"gridcolor\": \"white\", \"linecolor\": \"white\", \"ticks\": \"\", \"title\": {\"standoff\": 15}, \"zerolinecolor\": \"white\", \"zerolinewidth\": 2}}}, \"title\": {\"text\": \"Parallel Coordinate Plot\"}},\n",
              "                        {\"responsive\": true}\n",
              "                    ).then(function(){\n",
              "                            \n",
              "var gd = document.getElementById('596dcf5e-ee9c-443e-8959-a3ec0a9965b3');\n",
              "var x = new MutationObserver(function (mutations, observer) {{\n",
              "        var display = window.getComputedStyle(gd).display;\n",
              "        if (!display || display === 'none') {{\n",
              "            console.log([gd, 'removed!']);\n",
              "            Plotly.purge(gd);\n",
              "            observer.disconnect();\n",
              "        }}\n",
              "}});\n",
              "\n",
              "// Listen for the removal of the full notebook cells\n",
              "var notebookContainer = gd.closest('#notebook-container');\n",
              "if (notebookContainer) {{\n",
              "    x.observe(notebookContainer, {childList: true});\n",
              "}}\n",
              "\n",
              "// Listen for the clearing of the current output cell\n",
              "var outputEl = gd.closest('.output');\n",
              "if (outputEl) {{\n",
              "    x.observe(outputEl, {childList: true});\n",
              "}}\n",
              "\n",
              "                        })\n",
              "                };\n",
              "                \n",
              "            </script>\n",
              "        </div>\n",
              "</body>\n",
              "</html>"
            ]
          },
          "metadata": {}
        }
      ]
    },
    {
      "cell_type": "code",
      "metadata": {
        "colab": {
          "base_uri": "https://localhost:8080/",
          "height": 542
        },
        "id": "yuTKC-bN8Oj4",
        "outputId": "915ac38c-b234-4eab-fd8a-106642fecc39"
      },
      "source": [
        "optuna.visualization.plot_param_importances(study)"
      ],
      "id": "yuTKC-bN8Oj4",
      "execution_count": null,
      "outputs": [
        {
          "output_type": "display_data",
          "data": {
            "text/html": [
              "<html>\n",
              "<head><meta charset=\"utf-8\" /></head>\n",
              "<body>\n",
              "    <div>\n",
              "            <script src=\"https://cdnjs.cloudflare.com/ajax/libs/mathjax/2.7.5/MathJax.js?config=TeX-AMS-MML_SVG\"></script><script type=\"text/javascript\">if (window.MathJax) {MathJax.Hub.Config({SVG: {font: \"STIX-Web\"}});}</script>\n",
              "                <script type=\"text/javascript\">window.PlotlyConfig = {MathJaxConfig: 'local'};</script>\n",
              "        <script src=\"https://cdn.plot.ly/plotly-latest.min.js\"></script>    \n",
              "            <div id=\"fb8a51de-3212-4a57-a180-6da41e7dd703\" class=\"plotly-graph-div\" style=\"height:525px; width:100%;\"></div>\n",
              "            <script type=\"text/javascript\">\n",
              "                \n",
              "                    window.PLOTLYENV=window.PLOTLYENV || {};\n",
              "                    \n",
              "                if (document.getElementById(\"fb8a51de-3212-4a57-a180-6da41e7dd703\")) {\n",
              "                    Plotly.newPlot(\n",
              "                        'fb8a51de-3212-4a57-a180-6da41e7dd703',\n",
              "                        [{\"cliponaxis\": false, \"hovertemplate\": [\"batch_norm (IntUniformDistribution): 0.0009745109927124395<extra></extra>\", \"out_features_mult (IntUniformDistribution): 0.16476750679917004<extra></extra>\", \"n_layers (IntUniformDistribution): 0.20038894589989006<extra></extra>\", \"lr (LogUniformDistribution): 0.6338690363082274<extra></extra>\"], \"marker\": {\"color\": \"rgb(66,146,198)\"}, \"orientation\": \"h\", \"text\": [\"0.0009745109927124395\", \"0.16476750679917004\", \"0.20038894589989006\", \"0.6338690363082274\"], \"textposition\": \"outside\", \"texttemplate\": \"%{text:.2f}\", \"type\": \"bar\", \"x\": [0.0009745109927124395, 0.16476750679917004, 0.20038894589989006, 0.6338690363082274], \"y\": [\"batch_norm\", \"out_features_mult\", \"n_layers\", \"lr\"]}],\n",
              "                        {\"showlegend\": false, \"template\": {\"data\": {\"bar\": [{\"error_x\": {\"color\": \"#2a3f5f\"}, \"error_y\": {\"color\": \"#2a3f5f\"}, \"marker\": {\"line\": {\"color\": \"#E5ECF6\", \"width\": 0.5}}, \"type\": \"bar\"}], \"barpolar\": [{\"marker\": {\"line\": {\"color\": \"#E5ECF6\", \"width\": 0.5}}, \"type\": \"barpolar\"}], \"carpet\": [{\"aaxis\": {\"endlinecolor\": \"#2a3f5f\", \"gridcolor\": \"white\", \"linecolor\": \"white\", \"minorgridcolor\": \"white\", \"startlinecolor\": \"#2a3f5f\"}, \"baxis\": {\"endlinecolor\": \"#2a3f5f\", \"gridcolor\": \"white\", \"linecolor\": \"white\", \"minorgridcolor\": \"white\", \"startlinecolor\": \"#2a3f5f\"}, \"type\": \"carpet\"}], \"choropleth\": [{\"colorbar\": {\"outlinewidth\": 0, \"ticks\": \"\"}, \"type\": \"choropleth\"}], \"contour\": [{\"colorbar\": {\"outlinewidth\": 0, \"ticks\": \"\"}, \"colorscale\": [[0.0, \"#0d0887\"], [0.1111111111111111, \"#46039f\"], [0.2222222222222222, \"#7201a8\"], [0.3333333333333333, \"#9c179e\"], [0.4444444444444444, \"#bd3786\"], [0.5555555555555556, \"#d8576b\"], [0.6666666666666666, \"#ed7953\"], [0.7777777777777778, \"#fb9f3a\"], [0.8888888888888888, \"#fdca26\"], [1.0, \"#f0f921\"]], \"type\": \"contour\"}], \"contourcarpet\": [{\"colorbar\": {\"outlinewidth\": 0, \"ticks\": \"\"}, \"type\": \"contourcarpet\"}], \"heatmap\": [{\"colorbar\": {\"outlinewidth\": 0, \"ticks\": \"\"}, \"colorscale\": [[0.0, \"#0d0887\"], [0.1111111111111111, \"#46039f\"], [0.2222222222222222, \"#7201a8\"], [0.3333333333333333, \"#9c179e\"], [0.4444444444444444, \"#bd3786\"], [0.5555555555555556, \"#d8576b\"], [0.6666666666666666, \"#ed7953\"], [0.7777777777777778, \"#fb9f3a\"], [0.8888888888888888, \"#fdca26\"], [1.0, \"#f0f921\"]], \"type\": \"heatmap\"}], \"heatmapgl\": [{\"colorbar\": {\"outlinewidth\": 0, \"ticks\": \"\"}, \"colorscale\": [[0.0, \"#0d0887\"], [0.1111111111111111, \"#46039f\"], [0.2222222222222222, \"#7201a8\"], [0.3333333333333333, \"#9c179e\"], [0.4444444444444444, \"#bd3786\"], [0.5555555555555556, \"#d8576b\"], [0.6666666666666666, \"#ed7953\"], [0.7777777777777778, \"#fb9f3a\"], [0.8888888888888888, \"#fdca26\"], [1.0, \"#f0f921\"]], \"type\": \"heatmapgl\"}], \"histogram\": [{\"marker\": {\"colorbar\": {\"outlinewidth\": 0, \"ticks\": \"\"}}, \"type\": \"histogram\"}], \"histogram2d\": [{\"colorbar\": {\"outlinewidth\": 0, \"ticks\": \"\"}, \"colorscale\": [[0.0, \"#0d0887\"], [0.1111111111111111, \"#46039f\"], [0.2222222222222222, \"#7201a8\"], [0.3333333333333333, \"#9c179e\"], [0.4444444444444444, \"#bd3786\"], [0.5555555555555556, \"#d8576b\"], [0.6666666666666666, \"#ed7953\"], [0.7777777777777778, \"#fb9f3a\"], [0.8888888888888888, \"#fdca26\"], [1.0, \"#f0f921\"]], \"type\": \"histogram2d\"}], \"histogram2dcontour\": [{\"colorbar\": {\"outlinewidth\": 0, \"ticks\": \"\"}, \"colorscale\": [[0.0, \"#0d0887\"], [0.1111111111111111, \"#46039f\"], [0.2222222222222222, \"#7201a8\"], [0.3333333333333333, \"#9c179e\"], [0.4444444444444444, \"#bd3786\"], [0.5555555555555556, \"#d8576b\"], [0.6666666666666666, \"#ed7953\"], [0.7777777777777778, \"#fb9f3a\"], [0.8888888888888888, \"#fdca26\"], [1.0, \"#f0f921\"]], \"type\": \"histogram2dcontour\"}], \"mesh3d\": [{\"colorbar\": {\"outlinewidth\": 0, \"ticks\": \"\"}, \"type\": \"mesh3d\"}], \"parcoords\": [{\"line\": {\"colorbar\": {\"outlinewidth\": 0, \"ticks\": \"\"}}, \"type\": \"parcoords\"}], \"pie\": [{\"automargin\": true, \"type\": \"pie\"}], \"scatter\": [{\"marker\": {\"colorbar\": {\"outlinewidth\": 0, \"ticks\": \"\"}}, \"type\": \"scatter\"}], \"scatter3d\": [{\"line\": {\"colorbar\": {\"outlinewidth\": 0, \"ticks\": \"\"}}, \"marker\": {\"colorbar\": {\"outlinewidth\": 0, \"ticks\": \"\"}}, \"type\": \"scatter3d\"}], \"scattercarpet\": [{\"marker\": {\"colorbar\": {\"outlinewidth\": 0, \"ticks\": \"\"}}, \"type\": \"scattercarpet\"}], \"scattergeo\": [{\"marker\": {\"colorbar\": {\"outlinewidth\": 0, \"ticks\": \"\"}}, \"type\": \"scattergeo\"}], \"scattergl\": [{\"marker\": {\"colorbar\": {\"outlinewidth\": 0, \"ticks\": \"\"}}, \"type\": \"scattergl\"}], \"scattermapbox\": [{\"marker\": {\"colorbar\": {\"outlinewidth\": 0, \"ticks\": \"\"}}, \"type\": \"scattermapbox\"}], \"scatterpolar\": [{\"marker\": {\"colorbar\": {\"outlinewidth\": 0, \"ticks\": \"\"}}, \"type\": \"scatterpolar\"}], \"scatterpolargl\": [{\"marker\": {\"colorbar\": {\"outlinewidth\": 0, \"ticks\": \"\"}}, \"type\": \"scatterpolargl\"}], \"scatterternary\": [{\"marker\": {\"colorbar\": {\"outlinewidth\": 0, \"ticks\": \"\"}}, \"type\": \"scatterternary\"}], \"surface\": [{\"colorbar\": {\"outlinewidth\": 0, \"ticks\": \"\"}, \"colorscale\": [[0.0, \"#0d0887\"], [0.1111111111111111, \"#46039f\"], [0.2222222222222222, \"#7201a8\"], [0.3333333333333333, \"#9c179e\"], [0.4444444444444444, \"#bd3786\"], [0.5555555555555556, \"#d8576b\"], [0.6666666666666666, \"#ed7953\"], [0.7777777777777778, \"#fb9f3a\"], [0.8888888888888888, \"#fdca26\"], [1.0, \"#f0f921\"]], \"type\": \"surface\"}], \"table\": [{\"cells\": {\"fill\": {\"color\": \"#EBF0F8\"}, \"line\": {\"color\": \"white\"}}, \"header\": {\"fill\": {\"color\": \"#C8D4E3\"}, \"line\": {\"color\": \"white\"}}, \"type\": \"table\"}]}, \"layout\": {\"annotationdefaults\": {\"arrowcolor\": \"#2a3f5f\", \"arrowhead\": 0, \"arrowwidth\": 1}, \"coloraxis\": {\"colorbar\": {\"outlinewidth\": 0, \"ticks\": \"\"}}, \"colorscale\": {\"diverging\": [[0, \"#8e0152\"], [0.1, \"#c51b7d\"], [0.2, \"#de77ae\"], [0.3, \"#f1b6da\"], [0.4, \"#fde0ef\"], [0.5, \"#f7f7f7\"], [0.6, \"#e6f5d0\"], [0.7, \"#b8e186\"], [0.8, \"#7fbc41\"], [0.9, \"#4d9221\"], [1, \"#276419\"]], \"sequential\": [[0.0, \"#0d0887\"], [0.1111111111111111, \"#46039f\"], [0.2222222222222222, \"#7201a8\"], [0.3333333333333333, \"#9c179e\"], [0.4444444444444444, \"#bd3786\"], [0.5555555555555556, \"#d8576b\"], [0.6666666666666666, \"#ed7953\"], [0.7777777777777778, \"#fb9f3a\"], [0.8888888888888888, \"#fdca26\"], [1.0, \"#f0f921\"]], \"sequentialminus\": [[0.0, \"#0d0887\"], [0.1111111111111111, \"#46039f\"], [0.2222222222222222, \"#7201a8\"], [0.3333333333333333, \"#9c179e\"], [0.4444444444444444, \"#bd3786\"], [0.5555555555555556, \"#d8576b\"], [0.6666666666666666, \"#ed7953\"], [0.7777777777777778, \"#fb9f3a\"], [0.8888888888888888, \"#fdca26\"], [1.0, \"#f0f921\"]]}, \"colorway\": [\"#636efa\", \"#EF553B\", \"#00cc96\", \"#ab63fa\", \"#FFA15A\", \"#19d3f3\", \"#FF6692\", \"#B6E880\", \"#FF97FF\", \"#FECB52\"], \"font\": {\"color\": \"#2a3f5f\"}, \"geo\": {\"bgcolor\": \"white\", \"lakecolor\": \"white\", \"landcolor\": \"#E5ECF6\", \"showlakes\": true, \"showland\": true, \"subunitcolor\": \"white\"}, \"hoverlabel\": {\"align\": \"left\"}, \"hovermode\": \"closest\", \"mapbox\": {\"style\": \"light\"}, \"paper_bgcolor\": \"white\", \"plot_bgcolor\": \"#E5ECF6\", \"polar\": {\"angularaxis\": {\"gridcolor\": \"white\", \"linecolor\": \"white\", \"ticks\": \"\"}, \"bgcolor\": \"#E5ECF6\", \"radialaxis\": {\"gridcolor\": \"white\", \"linecolor\": \"white\", \"ticks\": \"\"}}, \"scene\": {\"xaxis\": {\"backgroundcolor\": \"#E5ECF6\", \"gridcolor\": \"white\", \"gridwidth\": 2, \"linecolor\": \"white\", \"showbackground\": true, \"ticks\": \"\", \"zerolinecolor\": \"white\"}, \"yaxis\": {\"backgroundcolor\": \"#E5ECF6\", \"gridcolor\": \"white\", \"gridwidth\": 2, \"linecolor\": \"white\", \"showbackground\": true, \"ticks\": \"\", \"zerolinecolor\": \"white\"}, \"zaxis\": {\"backgroundcolor\": \"#E5ECF6\", \"gridcolor\": \"white\", \"gridwidth\": 2, \"linecolor\": \"white\", \"showbackground\": true, \"ticks\": \"\", \"zerolinecolor\": \"white\"}}, \"shapedefaults\": {\"line\": {\"color\": \"#2a3f5f\"}}, \"ternary\": {\"aaxis\": {\"gridcolor\": \"white\", \"linecolor\": \"white\", \"ticks\": \"\"}, \"baxis\": {\"gridcolor\": \"white\", \"linecolor\": \"white\", \"ticks\": \"\"}, \"bgcolor\": \"#E5ECF6\", \"caxis\": {\"gridcolor\": \"white\", \"linecolor\": \"white\", \"ticks\": \"\"}}, \"title\": {\"x\": 0.05}, \"xaxis\": {\"automargin\": true, \"gridcolor\": \"white\", \"linecolor\": \"white\", \"ticks\": \"\", \"title\": {\"standoff\": 15}, \"zerolinecolor\": \"white\", \"zerolinewidth\": 2}, \"yaxis\": {\"automargin\": true, \"gridcolor\": \"white\", \"linecolor\": \"white\", \"ticks\": \"\", \"title\": {\"standoff\": 15}, \"zerolinecolor\": \"white\", \"zerolinewidth\": 2}}}, \"title\": {\"text\": \"Hyperparameter Importances\"}, \"xaxis\": {\"title\": {\"text\": \"Importance for Objective Value\"}}, \"yaxis\": {\"title\": {\"text\": \"Hyperparameter\"}}},\n",
              "                        {\"responsive\": true}\n",
              "                    ).then(function(){\n",
              "                            \n",
              "var gd = document.getElementById('fb8a51de-3212-4a57-a180-6da41e7dd703');\n",
              "var x = new MutationObserver(function (mutations, observer) {{\n",
              "        var display = window.getComputedStyle(gd).display;\n",
              "        if (!display || display === 'none') {{\n",
              "            console.log([gd, 'removed!']);\n",
              "            Plotly.purge(gd);\n",
              "            observer.disconnect();\n",
              "        }}\n",
              "}});\n",
              "\n",
              "// Listen for the removal of the full notebook cells\n",
              "var notebookContainer = gd.closest('#notebook-container');\n",
              "if (notebookContainer) {{\n",
              "    x.observe(notebookContainer, {childList: true});\n",
              "}}\n",
              "\n",
              "// Listen for the clearing of the current output cell\n",
              "var outputEl = gd.closest('.output');\n",
              "if (outputEl) {{\n",
              "    x.observe(outputEl, {childList: true});\n",
              "}}\n",
              "\n",
              "                        })\n",
              "                };\n",
              "                \n",
              "            </script>\n",
              "        </div>\n",
              "</body>\n",
              "</html>"
            ]
          },
          "metadata": {}
        }
      ]
    },
    {
      "cell_type": "code",
      "metadata": {
        "colab": {
          "base_uri": "https://localhost:8080/",
          "height": 562
        },
        "id": "Gm7-ScH-8Meq",
        "outputId": "bc2328ef-8306-4a95-ca7f-6bd461a37a92"
      },
      "source": [
        "optuna.visualization.plot_slice(study)"
      ],
      "id": "Gm7-ScH-8Meq",
      "execution_count": null,
      "outputs": [
        {
          "output_type": "display_data",
          "data": {
            "text/html": [
              "<html>\n",
              "<head><meta charset=\"utf-8\" /></head>\n",
              "<body>\n",
              "    <div>\n",
              "            <script src=\"https://cdnjs.cloudflare.com/ajax/libs/mathjax/2.7.5/MathJax.js?config=TeX-AMS-MML_SVG\"></script><script type=\"text/javascript\">if (window.MathJax) {MathJax.Hub.Config({SVG: {font: \"STIX-Web\"}});}</script>\n",
              "                <script type=\"text/javascript\">window.PlotlyConfig = {MathJaxConfig: 'local'};</script>\n",
              "        <script src=\"https://cdn.plot.ly/plotly-latest.min.js\"></script>    \n",
              "            <div id=\"02bbc5de-3b18-4570-9dd4-2cadc1f98843\" class=\"plotly-graph-div\" style=\"height:525px; width:1200px;\"></div>\n",
              "            <script type=\"text/javascript\">\n",
              "                \n",
              "                    window.PLOTLYENV=window.PLOTLYENV || {};\n",
              "                    \n",
              "                if (document.getElementById(\"02bbc5de-3b18-4570-9dd4-2cadc1f98843\")) {\n",
              "                    Plotly.newPlot(\n",
              "                        '02bbc5de-3b18-4570-9dd4-2cadc1f98843',\n",
              "                        [{\"marker\": {\"color\": [0, 1, 2, 3, 4], \"colorbar\": {\"title\": {\"text\": \"#Trials\"}, \"x\": 1.0, \"xpad\": 40}, \"colorscale\": [[0.0, \"rgb(247,251,255)\"], [0.125, \"rgb(222,235,247)\"], [0.25, \"rgb(198,219,239)\"], [0.375, \"rgb(158,202,225)\"], [0.5, \"rgb(107,174,214)\"], [0.625, \"rgb(66,146,198)\"], [0.75, \"rgb(33,113,181)\"], [0.875, \"rgb(8,81,156)\"], [1.0, \"rgb(8,48,107)\"]], \"line\": {\"color\": \"Grey\", \"width\": 0.5}, \"showscale\": true}, \"mode\": \"markers\", \"showlegend\": false, \"type\": \"scatter\", \"x\": [1, 0, 0, 0, 0], \"xaxis\": \"x\", \"y\": [1.5927703704858691, 1.7463825998219802, 1.6850255778725283, 1.6218738000009962, 2.5428974020048742], \"yaxis\": \"y\"}, {\"marker\": {\"color\": [0, 1, 2, 3, 4], \"colorbar\": {\"title\": {\"text\": \"#Trials\"}, \"x\": 1.0, \"xpad\": 40}, \"colorscale\": [[0.0, \"rgb(247,251,255)\"], [0.125, \"rgb(222,235,247)\"], [0.25, \"rgb(198,219,239)\"], [0.375, \"rgb(158,202,225)\"], [0.5, \"rgb(107,174,214)\"], [0.625, \"rgb(66,146,198)\"], [0.75, \"rgb(33,113,181)\"], [0.875, \"rgb(8,81,156)\"], [1.0, \"rgb(8,48,107)\"]], \"line\": {\"color\": \"Grey\", \"width\": 0.5}, \"showscale\": false}, \"mode\": \"markers\", \"showlegend\": false, \"type\": \"scatter\", \"x\": [0.000495984070712582, 0.0006925403270089673, 0.0005087372024251471, 0.0003840479252537425, 0.0009820786588097812], \"xaxis\": \"x2\", \"y\": [1.5927703704858691, 1.7463825998219802, 1.6850255778725283, 1.6218738000009962, 2.5428974020048742], \"yaxis\": \"y2\"}, {\"marker\": {\"color\": [0, 1, 2, 3, 4], \"colorbar\": {\"title\": {\"text\": \"#Trials\"}, \"x\": 1.0, \"xpad\": 40}, \"colorscale\": [[0.0, \"rgb(247,251,255)\"], [0.125, \"rgb(222,235,247)\"], [0.25, \"rgb(198,219,239)\"], [0.375, \"rgb(158,202,225)\"], [0.5, \"rgb(107,174,214)\"], [0.625, \"rgb(66,146,198)\"], [0.75, \"rgb(33,113,181)\"], [0.875, \"rgb(8,81,156)\"], [1.0, \"rgb(8,48,107)\"]], \"line\": {\"color\": \"Grey\", \"width\": 0.5}, \"showscale\": false}, \"mode\": \"markers\", \"showlegend\": false, \"type\": \"scatter\", \"x\": [5, 4, 3, 5, 4], \"xaxis\": \"x3\", \"y\": [1.5927703704858691, 1.7463825998219802, 1.6850255778725283, 1.6218738000009962, 2.5428974020048742], \"yaxis\": \"y3\"}, {\"marker\": {\"color\": [0, 1, 2, 3, 4], \"colorbar\": {\"title\": {\"text\": \"#Trials\"}, \"x\": 1.0, \"xpad\": 40}, \"colorscale\": [[0.0, \"rgb(247,251,255)\"], [0.125, \"rgb(222,235,247)\"], [0.25, \"rgb(198,219,239)\"], [0.375, \"rgb(158,202,225)\"], [0.5, \"rgb(107,174,214)\"], [0.625, \"rgb(66,146,198)\"], [0.75, \"rgb(33,113,181)\"], [0.875, \"rgb(8,81,156)\"], [1.0, \"rgb(8,48,107)\"]], \"line\": {\"color\": \"Grey\", \"width\": 0.5}, \"showscale\": false}, \"mode\": \"markers\", \"showlegend\": false, \"type\": \"scatter\", \"x\": [7, 7, 6, 10, 10], \"xaxis\": \"x4\", \"y\": [1.5927703704858691, 1.7463825998219802, 1.6850255778725283, 1.6218738000009962, 2.5428974020048742], \"yaxis\": \"y4\"}],\n",
              "                        {\"template\": {\"data\": {\"bar\": [{\"error_x\": {\"color\": \"#2a3f5f\"}, \"error_y\": {\"color\": \"#2a3f5f\"}, \"marker\": {\"line\": {\"color\": \"#E5ECF6\", \"width\": 0.5}}, \"type\": \"bar\"}], \"barpolar\": [{\"marker\": {\"line\": {\"color\": \"#E5ECF6\", \"width\": 0.5}}, \"type\": \"barpolar\"}], \"carpet\": [{\"aaxis\": {\"endlinecolor\": \"#2a3f5f\", \"gridcolor\": \"white\", \"linecolor\": \"white\", \"minorgridcolor\": \"white\", \"startlinecolor\": \"#2a3f5f\"}, \"baxis\": {\"endlinecolor\": \"#2a3f5f\", \"gridcolor\": \"white\", \"linecolor\": \"white\", \"minorgridcolor\": \"white\", \"startlinecolor\": \"#2a3f5f\"}, \"type\": \"carpet\"}], \"choropleth\": [{\"colorbar\": {\"outlinewidth\": 0, \"ticks\": \"\"}, \"type\": \"choropleth\"}], \"contour\": [{\"colorbar\": {\"outlinewidth\": 0, \"ticks\": \"\"}, \"colorscale\": [[0.0, \"#0d0887\"], [0.1111111111111111, \"#46039f\"], [0.2222222222222222, \"#7201a8\"], [0.3333333333333333, \"#9c179e\"], [0.4444444444444444, \"#bd3786\"], [0.5555555555555556, \"#d8576b\"], [0.6666666666666666, \"#ed7953\"], [0.7777777777777778, \"#fb9f3a\"], [0.8888888888888888, \"#fdca26\"], [1.0, \"#f0f921\"]], \"type\": \"contour\"}], \"contourcarpet\": [{\"colorbar\": {\"outlinewidth\": 0, \"ticks\": \"\"}, \"type\": \"contourcarpet\"}], \"heatmap\": [{\"colorbar\": {\"outlinewidth\": 0, \"ticks\": \"\"}, \"colorscale\": [[0.0, \"#0d0887\"], [0.1111111111111111, \"#46039f\"], [0.2222222222222222, \"#7201a8\"], [0.3333333333333333, \"#9c179e\"], [0.4444444444444444, \"#bd3786\"], [0.5555555555555556, \"#d8576b\"], [0.6666666666666666, \"#ed7953\"], [0.7777777777777778, \"#fb9f3a\"], [0.8888888888888888, \"#fdca26\"], [1.0, \"#f0f921\"]], \"type\": \"heatmap\"}], \"heatmapgl\": [{\"colorbar\": {\"outlinewidth\": 0, \"ticks\": \"\"}, \"colorscale\": [[0.0, \"#0d0887\"], [0.1111111111111111, \"#46039f\"], [0.2222222222222222, \"#7201a8\"], [0.3333333333333333, \"#9c179e\"], [0.4444444444444444, \"#bd3786\"], [0.5555555555555556, \"#d8576b\"], [0.6666666666666666, \"#ed7953\"], [0.7777777777777778, \"#fb9f3a\"], [0.8888888888888888, \"#fdca26\"], [1.0, \"#f0f921\"]], \"type\": \"heatmapgl\"}], \"histogram\": [{\"marker\": {\"colorbar\": {\"outlinewidth\": 0, \"ticks\": \"\"}}, \"type\": \"histogram\"}], \"histogram2d\": [{\"colorbar\": {\"outlinewidth\": 0, \"ticks\": \"\"}, \"colorscale\": [[0.0, \"#0d0887\"], [0.1111111111111111, \"#46039f\"], [0.2222222222222222, \"#7201a8\"], [0.3333333333333333, \"#9c179e\"], [0.4444444444444444, \"#bd3786\"], [0.5555555555555556, \"#d8576b\"], [0.6666666666666666, \"#ed7953\"], [0.7777777777777778, \"#fb9f3a\"], [0.8888888888888888, \"#fdca26\"], [1.0, \"#f0f921\"]], \"type\": \"histogram2d\"}], \"histogram2dcontour\": [{\"colorbar\": {\"outlinewidth\": 0, \"ticks\": \"\"}, \"colorscale\": [[0.0, \"#0d0887\"], [0.1111111111111111, \"#46039f\"], [0.2222222222222222, \"#7201a8\"], [0.3333333333333333, \"#9c179e\"], [0.4444444444444444, \"#bd3786\"], [0.5555555555555556, \"#d8576b\"], [0.6666666666666666, \"#ed7953\"], [0.7777777777777778, \"#fb9f3a\"], [0.8888888888888888, \"#fdca26\"], [1.0, \"#f0f921\"]], \"type\": \"histogram2dcontour\"}], \"mesh3d\": [{\"colorbar\": {\"outlinewidth\": 0, \"ticks\": \"\"}, \"type\": \"mesh3d\"}], \"parcoords\": [{\"line\": {\"colorbar\": {\"outlinewidth\": 0, \"ticks\": \"\"}}, \"type\": \"parcoords\"}], \"pie\": [{\"automargin\": true, \"type\": \"pie\"}], \"scatter\": [{\"marker\": {\"colorbar\": {\"outlinewidth\": 0, \"ticks\": \"\"}}, \"type\": \"scatter\"}], \"scatter3d\": [{\"line\": {\"colorbar\": {\"outlinewidth\": 0, \"ticks\": \"\"}}, \"marker\": {\"colorbar\": {\"outlinewidth\": 0, \"ticks\": \"\"}}, \"type\": \"scatter3d\"}], \"scattercarpet\": [{\"marker\": {\"colorbar\": {\"outlinewidth\": 0, \"ticks\": \"\"}}, \"type\": \"scattercarpet\"}], \"scattergeo\": [{\"marker\": {\"colorbar\": {\"outlinewidth\": 0, \"ticks\": \"\"}}, \"type\": \"scattergeo\"}], \"scattergl\": [{\"marker\": {\"colorbar\": {\"outlinewidth\": 0, \"ticks\": \"\"}}, \"type\": \"scattergl\"}], \"scattermapbox\": [{\"marker\": {\"colorbar\": {\"outlinewidth\": 0, \"ticks\": \"\"}}, \"type\": \"scattermapbox\"}], \"scatterpolar\": [{\"marker\": {\"colorbar\": {\"outlinewidth\": 0, \"ticks\": \"\"}}, \"type\": \"scatterpolar\"}], \"scatterpolargl\": [{\"marker\": {\"colorbar\": {\"outlinewidth\": 0, \"ticks\": \"\"}}, \"type\": \"scatterpolargl\"}], \"scatterternary\": [{\"marker\": {\"colorbar\": {\"outlinewidth\": 0, \"ticks\": \"\"}}, \"type\": \"scatterternary\"}], \"surface\": [{\"colorbar\": {\"outlinewidth\": 0, \"ticks\": \"\"}, \"colorscale\": [[0.0, \"#0d0887\"], [0.1111111111111111, \"#46039f\"], [0.2222222222222222, \"#7201a8\"], [0.3333333333333333, \"#9c179e\"], [0.4444444444444444, \"#bd3786\"], [0.5555555555555556, \"#d8576b\"], [0.6666666666666666, \"#ed7953\"], [0.7777777777777778, \"#fb9f3a\"], [0.8888888888888888, \"#fdca26\"], [1.0, \"#f0f921\"]], \"type\": \"surface\"}], \"table\": [{\"cells\": {\"fill\": {\"color\": \"#EBF0F8\"}, \"line\": {\"color\": \"white\"}}, \"header\": {\"fill\": {\"color\": \"#C8D4E3\"}, \"line\": {\"color\": \"white\"}}, \"type\": \"table\"}]}, \"layout\": {\"annotationdefaults\": {\"arrowcolor\": \"#2a3f5f\", \"arrowhead\": 0, \"arrowwidth\": 1}, \"coloraxis\": {\"colorbar\": {\"outlinewidth\": 0, \"ticks\": \"\"}}, \"colorscale\": {\"diverging\": [[0, \"#8e0152\"], [0.1, \"#c51b7d\"], [0.2, \"#de77ae\"], [0.3, \"#f1b6da\"], [0.4, \"#fde0ef\"], [0.5, \"#f7f7f7\"], [0.6, \"#e6f5d0\"], [0.7, \"#b8e186\"], [0.8, \"#7fbc41\"], [0.9, \"#4d9221\"], [1, \"#276419\"]], \"sequential\": [[0.0, \"#0d0887\"], [0.1111111111111111, \"#46039f\"], [0.2222222222222222, \"#7201a8\"], [0.3333333333333333, \"#9c179e\"], [0.4444444444444444, \"#bd3786\"], [0.5555555555555556, \"#d8576b\"], [0.6666666666666666, \"#ed7953\"], [0.7777777777777778, \"#fb9f3a\"], [0.8888888888888888, \"#fdca26\"], [1.0, \"#f0f921\"]], \"sequentialminus\": [[0.0, \"#0d0887\"], [0.1111111111111111, \"#46039f\"], [0.2222222222222222, \"#7201a8\"], [0.3333333333333333, \"#9c179e\"], [0.4444444444444444, \"#bd3786\"], [0.5555555555555556, \"#d8576b\"], [0.6666666666666666, \"#ed7953\"], [0.7777777777777778, \"#fb9f3a\"], [0.8888888888888888, \"#fdca26\"], [1.0, \"#f0f921\"]]}, \"colorway\": [\"#636efa\", \"#EF553B\", \"#00cc96\", \"#ab63fa\", \"#FFA15A\", \"#19d3f3\", \"#FF6692\", \"#B6E880\", \"#FF97FF\", \"#FECB52\"], \"font\": {\"color\": \"#2a3f5f\"}, \"geo\": {\"bgcolor\": \"white\", \"lakecolor\": \"white\", \"landcolor\": \"#E5ECF6\", \"showlakes\": true, \"showland\": true, \"subunitcolor\": \"white\"}, \"hoverlabel\": {\"align\": \"left\"}, \"hovermode\": \"closest\", \"mapbox\": {\"style\": \"light\"}, \"paper_bgcolor\": \"white\", \"plot_bgcolor\": \"#E5ECF6\", \"polar\": {\"angularaxis\": {\"gridcolor\": \"white\", \"linecolor\": \"white\", \"ticks\": \"\"}, \"bgcolor\": \"#E5ECF6\", \"radialaxis\": {\"gridcolor\": \"white\", \"linecolor\": \"white\", \"ticks\": \"\"}}, \"scene\": {\"xaxis\": {\"backgroundcolor\": \"#E5ECF6\", \"gridcolor\": \"white\", \"gridwidth\": 2, \"linecolor\": \"white\", \"showbackground\": true, \"ticks\": \"\", \"zerolinecolor\": \"white\"}, \"yaxis\": {\"backgroundcolor\": \"#E5ECF6\", \"gridcolor\": \"white\", \"gridwidth\": 2, \"linecolor\": \"white\", \"showbackground\": true, \"ticks\": \"\", \"zerolinecolor\": \"white\"}, \"zaxis\": {\"backgroundcolor\": \"#E5ECF6\", \"gridcolor\": \"white\", \"gridwidth\": 2, \"linecolor\": \"white\", \"showbackground\": true, \"ticks\": \"\", \"zerolinecolor\": \"white\"}}, \"shapedefaults\": {\"line\": {\"color\": \"#2a3f5f\"}}, \"ternary\": {\"aaxis\": {\"gridcolor\": \"white\", \"linecolor\": \"white\", \"ticks\": \"\"}, \"baxis\": {\"gridcolor\": \"white\", \"linecolor\": \"white\", \"ticks\": \"\"}, \"bgcolor\": \"#E5ECF6\", \"caxis\": {\"gridcolor\": \"white\", \"linecolor\": \"white\", \"ticks\": \"\"}}, \"title\": {\"x\": 0.05}, \"xaxis\": {\"automargin\": true, \"gridcolor\": \"white\", \"linecolor\": \"white\", \"ticks\": \"\", \"title\": {\"standoff\": 15}, \"zerolinecolor\": \"white\", \"zerolinewidth\": 2}, \"yaxis\": {\"automargin\": true, \"gridcolor\": \"white\", \"linecolor\": \"white\", \"ticks\": \"\", \"title\": {\"standoff\": 15}, \"zerolinecolor\": \"white\", \"zerolinewidth\": 2}}}, \"title\": {\"text\": \"Slice Plot\"}, \"width\": 1200, \"xaxis\": {\"anchor\": \"y\", \"domain\": [0.0, 0.2125], \"title\": {\"text\": \"batch_norm\"}}, \"xaxis2\": {\"anchor\": \"y2\", \"domain\": [0.2625, 0.475], \"title\": {\"text\": \"lr\"}, \"type\": \"log\"}, \"xaxis3\": {\"anchor\": \"y3\", \"domain\": [0.525, 0.7375], \"title\": {\"text\": \"n_layers\"}}, \"xaxis4\": {\"anchor\": \"y4\", \"domain\": [0.7875, 1.0], \"title\": {\"text\": \"out_features_mult\"}}, \"yaxis\": {\"anchor\": \"x\", \"domain\": [0.0, 1.0], \"title\": {\"text\": \"Objective Value\"}}, \"yaxis2\": {\"anchor\": \"x2\", \"domain\": [0.0, 1.0], \"matches\": \"y\", \"showticklabels\": false}, \"yaxis3\": {\"anchor\": \"x3\", \"domain\": [0.0, 1.0], \"matches\": \"y\", \"showticklabels\": false}, \"yaxis4\": {\"anchor\": \"x4\", \"domain\": [0.0, 1.0], \"matches\": \"y\", \"showticklabels\": false}},\n",
              "                        {\"responsive\": true}\n",
              "                    ).then(function(){\n",
              "                            \n",
              "var gd = document.getElementById('02bbc5de-3b18-4570-9dd4-2cadc1f98843');\n",
              "var x = new MutationObserver(function (mutations, observer) {{\n",
              "        var display = window.getComputedStyle(gd).display;\n",
              "        if (!display || display === 'none') {{\n",
              "            console.log([gd, 'removed!']);\n",
              "            Plotly.purge(gd);\n",
              "            observer.disconnect();\n",
              "        }}\n",
              "}});\n",
              "\n",
              "// Listen for the removal of the full notebook cells\n",
              "var notebookContainer = gd.closest('#notebook-container');\n",
              "if (notebookContainer) {{\n",
              "    x.observe(notebookContainer, {childList: true});\n",
              "}}\n",
              "\n",
              "// Listen for the clearing of the current output cell\n",
              "var outputEl = gd.closest('.output');\n",
              "if (outputEl) {{\n",
              "    x.observe(outputEl, {childList: true});\n",
              "}}\n",
              "\n",
              "                        })\n",
              "                };\n",
              "                \n",
              "            </script>\n",
              "        </div>\n",
              "</body>\n",
              "</html>"
            ]
          },
          "metadata": {}
        }
      ]
    },
    {
      "cell_type": "markdown",
      "metadata": {
        "id": "9lQAr4HbOW8o"
      },
      "source": [
        "---\n",
        "\n",
        "### ***g. Denoising Autoencoder latent feature extraction***\n",
        "In this section we pass our sample through our trained denoising autoencoder and grab the activations from a middle layer. We will then use these features as a new, more generalized feature set to predict our target.\n",
        "\n",
        "---"
      ],
      "id": "9lQAr4HbOW8o"
    },
    {
      "cell_type": "code",
      "metadata": {
        "id": "hgyn8_NhYwvN"
      },
      "source": [
        "def DAE(dae_best_params):\n",
        "    # We optimize the number of layers, hidden units, and noise ratio in each layer.\n",
        "    layers = []\n",
        "\n",
        "    n_layers = dae_best_params[f'n_layers']\n",
        "    \n",
        "    out_features_mult = dae_best_params[f'out_features_mult']\n",
        "    \n",
        "    in_features = len(feature_columns) - 1  \n",
        "\n",
        "    batch_norm = dae_best_params['batch_norm']\n",
        "                                  \n",
        "    out_features = in_features * out_features_mult\n",
        "    \n",
        "    for i in range(n_layers):\n",
        "        layers.append(nn.Linear(in_features, out_features))\n",
        "        if batch_norm:\n",
        "            layers.append(nn.BatchNorm1d(out_features))\n",
        "            \n",
        "        layers.append(nn.ReLU())\n",
        "        in_features = out_features\n",
        "    layers.append(nn.Linear(in_features, len(feature_columns) - 1))    \n",
        "\n",
        "    return nn.Sequential(*layers)\n"
      ],
      "id": "hgyn8_NhYwvN",
      "execution_count": null,
      "outputs": []
    },
    {
      "cell_type": "markdown",
      "metadata": {
        "id": "Qcibo9mjZDEp"
      },
      "source": [
        "---\n",
        "### Get best model parameters from optuna study\n",
        "---"
      ],
      "id": "Qcibo9mjZDEp"
    },
    {
      "cell_type": "code",
      "metadata": {
        "colab": {
          "base_uri": "https://localhost:8080/"
        },
        "id": "vMc0bq3CP9c3",
        "outputId": "f6d41c3b-3e33-4f83-9956-fbd66b7f334a"
      },
      "source": [
        "dae_best_params_df = pd.read_csv(f'logs/dae_trials_{study_start_time}.csv').sort_values('value').iloc[0]\n",
        "dae_best_params_df"
      ],
      "id": "vMc0bq3CP9c3",
      "execution_count": null,
      "outputs": [
        {
          "output_type": "execute_result",
          "data": {
            "text/plain": [
              "Unnamed: 0                                           0\n",
              "number                                               0\n",
              "value                                          1.59277\n",
              "datetime_start              2021-09-17 07:59:25.876168\n",
              "datetime_complete           2021-09-17 08:02:37.496186\n",
              "duration                        0 days 00:03:11.620018\n",
              "params_batch_norm                                    1\n",
              "params_lr                                  0.000495984\n",
              "params_n_layers                                      5\n",
              "params_out_features_mult                             7\n",
              "state                                         COMPLETE\n",
              "Name: 0, dtype: object"
            ]
          },
          "metadata": {},
          "execution_count": 55
        }
      ]
    },
    {
      "cell_type": "code",
      "metadata": {
        "colab": {
          "base_uri": "https://localhost:8080/"
        },
        "id": "CczAM24oRr-o",
        "outputId": "a8ebce3c-66d4-48f4-c51a-ca29ce1cd4a1"
      },
      "source": [
        "dae_params = dae_best_params_df[dae_best_params_df.index.map(lambda x: x in ['params_n_layers','params_out_features_mult','params_batch_norm'])]\n",
        "dae_best_params = {f\"{i[7:]}\":dae_params[i]  for i in dae_params.index}\n",
        "dae_best_params"
      ],
      "id": "CczAM24oRr-o",
      "execution_count": null,
      "outputs": [
        {
          "output_type": "execute_result",
          "data": {
            "text/plain": [
              "{'batch_norm': 1, 'n_layers': 5, 'out_features_mult': 7}"
            ]
          },
          "metadata": {},
          "execution_count": 56
        }
      ]
    },
    {
      "cell_type": "markdown",
      "metadata": {
        "id": "rNt0VRo1PZwE"
      },
      "source": [
        "---\n",
        "### Instantiate denoising autocoder with weights from best trained dae\n",
        "---"
      ],
      "id": "rNt0VRo1PZwE"
    },
    {
      "cell_type": "code",
      "metadata": {
        "colab": {
          "base_uri": "https://localhost:8080/"
        },
        "id": "eJIPoCg6DrPz",
        "outputId": "0239b1e4-6d14-4254-f4fa-9288cbe25bdc"
      },
      "source": [
        "model = DAE(dae_best_params)\n",
        "model.load_state_dict(torch.load(f'models/dae_{dae_best_params_df[\"number\"]}_{study_start_time}.bin'))\n",
        "model.to(DEVICE)\n",
        "model"
      ],
      "id": "eJIPoCg6DrPz",
      "execution_count": null,
      "outputs": [
        {
          "output_type": "execute_result",
          "data": {
            "text/plain": [
              "Sequential(\n",
              "  (0): Linear(in_features=135, out_features=945, bias=True)\n",
              "  (1): BatchNorm1d(945, eps=1e-05, momentum=0.1, affine=True, track_running_stats=True)\n",
              "  (2): ReLU()\n",
              "  (3): Linear(in_features=945, out_features=945, bias=True)\n",
              "  (4): BatchNorm1d(945, eps=1e-05, momentum=0.1, affine=True, track_running_stats=True)\n",
              "  (5): ReLU()\n",
              "  (6): Linear(in_features=945, out_features=945, bias=True)\n",
              "  (7): BatchNorm1d(945, eps=1e-05, momentum=0.1, affine=True, track_running_stats=True)\n",
              "  (8): ReLU()\n",
              "  (9): Linear(in_features=945, out_features=945, bias=True)\n",
              "  (10): BatchNorm1d(945, eps=1e-05, momentum=0.1, affine=True, track_running_stats=True)\n",
              "  (11): ReLU()\n",
              "  (12): Linear(in_features=945, out_features=945, bias=True)\n",
              "  (13): BatchNorm1d(945, eps=1e-05, momentum=0.1, affine=True, track_running_stats=True)\n",
              "  (14): ReLU()\n",
              "  (15): Linear(in_features=945, out_features=135, bias=True)\n",
              ")"
            ]
          },
          "metadata": {},
          "execution_count": 57
        }
      ]
    },
    {
      "cell_type": "code",
      "metadata": {
        "id": "WXkAr964EpJT"
      },
      "source": [
        "# set up data and instantiate data loader\n",
        "x_train = train[feature_columns].to_numpy()\n",
        "y_train = train[[target_columns]+['kfold']].to_numpy()\n",
        "\n",
        "train_dataset = Dataset(features=x_train, targets=y_train)\n",
        "train_loader = torch.utils.data.DataLoader(\n",
        "    train_dataset, batch_size=64, num_workers=4,\n",
        ")"
      ],
      "id": "WXkAr964EpJT",
      "execution_count": null,
      "outputs": []
    },
    {
      "cell_type": "code",
      "metadata": {
        "id": "DZYJVubhEz4E"
      },
      "source": [
        "# a dict to store the activations\n",
        "activation = {}\n",
        "def getActivation(name):\n",
        "  # the hook signature\n",
        "  def hook(model, input, output):\n",
        "    activation[name] = output.detach()\n",
        "  return hook"
      ],
      "id": "DZYJVubhEz4E",
      "execution_count": null,
      "outputs": []
    },
    {
      "cell_type": "code",
      "metadata": {
        "colab": {
          "base_uri": "https://localhost:8080/"
        },
        "id": "PTfWkjHWFqaS",
        "outputId": "ad59e093-0f85-46c8-da5d-992232256ed0"
      },
      "source": [
        "# grabbing layers\n",
        "dae_n_layers = dae_best_params_df['params_n_layers']\n",
        "if dae_best_params['batch_norm']:\n",
        "    activation_1 = str(3*dae_n_layers - 4)\n",
        "    activation_2 = str(3*dae_n_layers - 1)\n",
        "else:\n",
        "    activation_1 = str(2*dae_n_layers - 3)\n",
        "    activation_2 = str(2*dae_n_layers - 1)\n",
        "print(f'grabbing layers: {activation_1}, {activation_2}')"
      ],
      "id": "PTfWkjHWFqaS",
      "execution_count": null,
      "outputs": [
        {
          "output_type": "stream",
          "name": "stdout",
          "text": [
            "grabbing layers: 11, 14\n"
          ]
        }
      ]
    },
    {
      "cell_type": "code",
      "metadata": {
        "id": "rz51bqvqJbGs"
      },
      "source": [
        "# register forward hooks on the layers of choice\n",
        "h1 = model._modules[activation_1].register_forward_hook(getActivation(activation_1))\n",
        "h2 = model._modules[activation_2].register_forward_hook(getActivation(activation_2))"
      ],
      "id": "rz51bqvqJbGs",
      "execution_count": null,
      "outputs": []
    },
    {
      "cell_type": "code",
      "metadata": {
        "id": "lbFtywv4KS7-"
      },
      "source": [
        "relu_output_1, relu_output_2, dae_targets_b = [], [], []\n",
        "\n",
        "# go through all the batches in the dataset\n",
        "for i, batch in enumerate(train_loader):\n",
        "\n",
        "  # forward pass -- getting the outputs\n",
        "  inputs = batch[\"x\"].to(DEVICE)\n",
        "  outputs = model(inputs)\n",
        "  targets = batch[\"y\"][:, 0]\n",
        "  # collect the activations in the correct list\n",
        "  relu_output_1.append(activation[activation_1])\n",
        "  relu_output_2.append(activation[activation_2])\n",
        "  dae_targets_b.append(batch[\"y\"])\n",
        "\n",
        "# detach the hooks\n",
        "h1.remove()\n",
        "h2.remove()\n",
        "\n",
        "# stack batches from two layers and average\n",
        "dae_layer_outputs_1 = torch.cat(relu_output_1)\n",
        "dae_layer_outputs_2 = torch.cat(relu_output_2)\n",
        "dae_targets = torch.cat(dae_targets_b).detach().numpy()\n",
        "dae_lat_feats_arr = torch.mean(torch.stack((dae_layer_outputs_1, dae_layer_outputs_2)), 0).cpu().detach().numpy()\n",
        "\n",
        "# create new df with dae features and target\n",
        "dae_feats_dict = {f'dae_{i+1}':dae_lat_feats_arr[:,i] for i in range(len(dae_lat_feats_arr[0,:]))}\n",
        "dae_feats_dict['SALE PRICE'] = dae_targets[:,0].astype(int)\n",
        "dae_feats_dict['kfold'] = dae_targets[:,1].astype(int)\n",
        "dae_latent_features = pd.DataFrame(dae_feats_dict)"
      ],
      "id": "lbFtywv4KS7-",
      "execution_count": null,
      "outputs": []
    },
    {
      "cell_type": "code",
      "metadata": {
        "id": "Zuo4NHReZk4m"
      },
      "source": [
        "# make sure our latent features are right size\n",
        "assert (dae_latent_features['SALE PRICE'] == train['SALE PRICE']).sum()\n",
        "assert (dae_latent_features['kfold'] == train['kfold']).sum()\n",
        "assert len(dae_latent_features) == len(train)"
      ],
      "id": "Zuo4NHReZk4m",
      "execution_count": null,
      "outputs": []
    },
    {
      "cell_type": "markdown",
      "metadata": {
        "id": "8kJTvRwguLfJ"
      },
      "source": [
        "\n",
        "\n",
        "---\n",
        "\n",
        "\n",
        "### ***h. Neural network prediction of denoised features***\n",
        "In this section we take the denoised feature set and predict our target using an optimized neural network.\n",
        "\n",
        "---"
      ],
      "id": "8kJTvRwguLfJ"
    },
    {
      "cell_type": "code",
      "metadata": {
        "id": "N5AypwGFfjaq",
        "colab": {
          "base_uri": "https://localhost:8080/"
        },
        "outputId": "7fd0c080-a553-4149-ec15-42e9c3fd1b01"
      },
      "source": [
        "# dictionary for network parameters\n",
        "optuna_params_dict = {'lr': [.001, .01],\n",
        "                      \n",
        "                      'n_units_l0': [1000, 1400],\n",
        "                      'n_units_l1': [700, 1100],\n",
        "                      'n_units_l2': [500, 800],\n",
        "                      'n_units_l3': [300, 600],\n",
        "                      'n_units_l4': [150, 300],\n",
        "                      'n_units_l5': [80, 170],\n",
        "                      'n_units_l6': [40, 90]}\n",
        "\n",
        "train = dae_latent_features[:].copy()\n",
        "feature_columns, target_columns = list(train.columns)[:-2] + ['kfold'], 'SALE PRICE' \n",
        "\n",
        "if __name__ == \"__main__\":  \n",
        "    study_start_time = f'{datetime.datetime.now().strftime(\"%Y%m%d %H:%M\")}'\n",
        "    study = optuna.create_study(direction=\"minimize\")\n",
        "    study.optimize(lambda trial: objective(trial, optuna_params_dict, save_model=True), n_trials=3)\n",
        "\n",
        "    print(\"Study statistics: \")\n",
        "    print(\"  Number of finished trials: \", len(study.trials), \"\\n\")\n",
        "\n",
        "    print(\"Best trial:\")\n",
        "    trial = study.best_trial\n",
        "\n",
        "    print(\"  Value: \", trial.value)\n",
        "    print(\"  Params: \")\n",
        "    for key, value in trial.params.items():\n",
        "        print(\"    {}: {}\".format(key, value))\n",
        "        \n",
        "    trials_df = study.trials_dataframe()\n",
        "    print(f\"\\n\\n\\nTRIALS DATAFRAME: \")\n",
        "    print(trials_df)\n",
        "\n",
        "    joblib.dump(study,f'logs/nn_denoised_study_{study_start_time}.pkl')"
      ],
      "id": "N5AypwGFfjaq",
      "execution_count": null,
      "outputs": [
        {
          "output_type": "stream",
          "name": "stdout",
          "text": [
            "TRIAL 1 START TIME: 20210917 08:10:32\n",
            "\n",
            "OPTIMIZER:\n",
            "Adam (\n",
            "Parameter Group 0\n",
            "    amsgrad: False\n",
            "    betas: (0.9, 0.999)\n",
            "    eps: 1e-08\n",
            "    lr: 0.0052611474876494676\n",
            "    weight_decay: 0\n",
            ")\n",
            "\n",
            "CURRENT TRIAL PARAMETERS: \n",
            "    n_units_l0: 1162\n",
            "    n_units_l1: 756\n",
            "    n_units_l2: 552\n",
            "    n_units_l3: 528\n",
            "    n_units_l4: 174\n",
            "    n_units_l5: 92\n",
            "    n_units_l6: 86\n",
            "    lr: 0.0052611474876494676\n",
            "\n",
            "\n",
            "FOLD: 0 -- EPOCH: 0 -- TRAIN RMSE LOSS: 1365461.5617 -- VALID RMSE LOSS: 1286491.1426 -- 2021091708:10:33\n",
            "FOLD: 0 -- EPOCH: 10 -- TRAIN RMSE LOSS: 1290230.6484 -- VALID RMSE LOSS: 1396169.6186 -- 2021091708:10:47\n",
            "FOLD: 0 ----- BEST VALID RMSE LOSS: 1257228.766025641 ----- 20210917 08:10:59\n",
            "\n",
            "FOLD: 1 -- EPOCH: 0 -- TRAIN RMSE LOSS: 1405216.1790 -- VALID RMSE LOSS: 1259719.9087 -- 2021091708:11:00\n",
            "FOLD: 1 -- EPOCH: 10 -- TRAIN RMSE LOSS: 1280848.9016 -- VALID RMSE LOSS: 1245273.7340 -- 2021091708:11:14\n",
            "FOLD: 1 -- EPOCH: 20 -- TRAIN RMSE LOSS: 1278581.1976 -- VALID RMSE LOSS: 1237483.0946 -- 2021091708:11:27\n",
            "FOLD: 1 ----- BEST VALID RMSE LOSS: 1237081.1442307692 ----- 20210917 08:11:37\n",
            "\n",
            "FOLD: 2 -- EPOCH: 0 -- TRAIN RMSE LOSS: 1398926.4395 -- VALID RMSE LOSS: 1290940.0192 -- 2021091708:11:39\n",
            "FOLD: 2 -- EPOCH: 10 -- TRAIN RMSE LOSS: 1284528.8012 -- VALID RMSE LOSS: 1404361.8750 -- 2021091708:11:52\n",
            "FOLD: 2 -- EPOCH: 20 -- TRAIN RMSE LOSS: 1267652.2806 -- VALID RMSE LOSS: 1253307.9022 -- 2021091708:12:06\n",
            "FOLD: 2 -- EPOCH: 30 -- TRAIN RMSE LOSS: 1268403.1802 -- VALID RMSE LOSS: 1254985.6747 -- 2021091708:12:20\n",
            "FOLD: 2 -- EPOCH: 40 -- TRAIN RMSE LOSS: 1266627.6012 -- VALID RMSE LOSS: 1246560.4599 -- 2021091708:12:34\n",
            "FOLD: 2 ----- BEST VALID RMSE LOSS: 1244326.423076923 ----- 20210917 08:12:44\n",
            "\n",
            "FOLD: 3 -- EPOCH: 0 -- TRAIN RMSE LOSS: 1396709.1226 -- VALID RMSE LOSS: 1363271.6923 -- 2021091708:12:46\n",
            "FOLD: 3 -- EPOCH: 10 -- TRAIN RMSE LOSS: 1300388.6544 -- VALID RMSE LOSS: 1267115.4663 -- 2021091708:13:00\n",
            "FOLD: 3 -- EPOCH: 20 -- TRAIN RMSE LOSS: 1272002.3444 -- VALID RMSE LOSS: 1268867.7500 -- 2021091708:13:13\n",
            "FOLD: 3 ----- BEST VALID RMSE LOSS: 1267115.4663461538 ----- 20210917 08:13:14\n",
            "\n",
            "FOLD: 4 -- EPOCH: 0 -- TRAIN RMSE LOSS: 1356507.9476 -- VALID RMSE LOSS: 1308997.1651 -- 2021091708:13:16\n",
            "FOLD: 4 -- EPOCH: 10 -- TRAIN RMSE LOSS: 1289039.2036 -- VALID RMSE LOSS: 1296579.9103 -- 2021091708:13:30\n",
            "FOLD: 4 -- EPOCH: 20 -- TRAIN RMSE LOSS: 1279325.1536 -- VALID RMSE LOSS: 1283993.9423 -- 2021091708:13:44\n",
            "FOLD: 4 -- EPOCH: 30 -- TRAIN RMSE LOSS: 1257579.9964 -- VALID RMSE LOSS: 1274468.9663 -- 2021091708:13:57\n",
            "FOLD: 4 -- EPOCH: 40 -- TRAIN RMSE LOSS: 1256196.2649 -- VALID RMSE LOSS: 1270143.2404 -- 2021091708:14:11\n",
            "FOLD: 4 -- EPOCH: 50 -- TRAIN RMSE LOSS: 1246718.6827 -- VALID RMSE LOSS: 1275630.6362 -- 2021091708:14:25\n",
            "FOLD: 4 -- EPOCH: 60 -- TRAIN RMSE LOSS: 1249780.6488 -- VALID RMSE LOSS: 1275260.3846 -- 2021091708:14:39\n",
            "FOLD: 4 -- EPOCH: 70 -- TRAIN RMSE LOSS: 1246321.8214 -- VALID RMSE LOSS: 1289685.1154 -- 2021091708:14:52\n",
            "FOLD: 4 ----- BEST VALID RMSE LOSS: 1266173.3830128205 ----- 20210917 08:14:58\n",
            "\n",
            "FOLDS:\n",
            " FOLD 0: 1257228.76603\n",
            " FOLD 1: 1237081.14423\n",
            " FOLD 2: 1244326.42308\n",
            " FOLD 3: 1267115.46635\n",
            " FOLD 4: 1266173.38301\n",
            "\n",
            "CROSS VALIDATION SCORE: \n",
            " 1254385.0365384617 ----- 20210917 08:14\n",
            "\n",
            "####################################################################################################\n",
            "\n",
            "TRIAL 2 START TIME: 20210917 08:14:58\n",
            "\n",
            "OPTIMIZER:\n",
            "Adam (\n",
            "Parameter Group 0\n",
            "    amsgrad: False\n",
            "    betas: (0.9, 0.999)\n",
            "    eps: 1e-08\n",
            "    lr: 0.002151377082188266\n",
            "    weight_decay: 0\n",
            ")\n",
            "\n",
            "CURRENT TRIAL PARAMETERS: \n",
            "    n_units_l0: 1227\n",
            "    n_units_l1: 888\n",
            "    n_units_l2: 637\n",
            "    n_units_l3: 320\n",
            "    n_units_l4: 254\n",
            "    n_units_l5: 90\n",
            "    n_units_l6: 90\n",
            "    lr: 0.002151377082188266\n",
            "\n",
            "\n",
            "FOLD: 0 -- EPOCH: 0 -- TRAIN RMSE LOSS: 1405339.8306 -- VALID RMSE LOSS: 1277357.2468 -- 2021091708:14:59\n",
            "FOLD: 0 -- EPOCH: 10 -- TRAIN RMSE LOSS: 1267594.0153 -- VALID RMSE LOSS: 1271806.5272 -- 2021091708:15:13\n",
            "FOLD: 0 -- EPOCH: 20 -- TRAIN RMSE LOSS: 1263056.9403 -- VALID RMSE LOSS: 1275683.3093 -- 2021091708:15:27\n",
            "FOLD: 0 -- EPOCH: 30 -- TRAIN RMSE LOSS: 1259720.3403 -- VALID RMSE LOSS: 1253549.1651 -- 2021091708:15:41\n",
            "FOLD: 0 -- EPOCH: 40 -- TRAIN RMSE LOSS: 1259040.1020 -- VALID RMSE LOSS: 1248252.3478 -- 2021091708:15:54\n",
            "FOLD: 0 -- EPOCH: 50 -- TRAIN RMSE LOSS: 1250445.3831 -- VALID RMSE LOSS: 1275425.0577 -- 2021091708:16:08\n",
            "FOLD: 0 ----- BEST VALID RMSE LOSS: 1248252.3477564103 ----- 20210917 08:16:10\n",
            "\n",
            "FOLD: 1 -- EPOCH: 0 -- TRAIN RMSE LOSS: 1415628.0891 -- VALID RMSE LOSS: 1289684.6122 -- 2021091708:16:11\n",
            "FOLD: 1 -- EPOCH: 10 -- TRAIN RMSE LOSS: 1278079.9383 -- VALID RMSE LOSS: 1238558.5737 -- 2021091708:16:25\n",
            "FOLD: 1 -- EPOCH: 20 -- TRAIN RMSE LOSS: 1278355.2996 -- VALID RMSE LOSS: 1239717.1026 -- 2021091708:16:39\n",
            "FOLD: 1 -- EPOCH: 30 -- TRAIN RMSE LOSS: 1276437.4944 -- VALID RMSE LOSS: 1260716.3109 -- 2021091708:16:53\n",
            "FOLD: 1 -- EPOCH: 40 -- TRAIN RMSE LOSS: 1266364.7996 -- VALID RMSE LOSS: 1228525.9103 -- 2021091708:17:07\n",
            "FOLD: 1 -- EPOCH: 50 -- TRAIN RMSE LOSS: 1264205.8629 -- VALID RMSE LOSS: 1230429.3045 -- 2021091708:17:22\n",
            "FOLD: 1 ----- BEST VALID RMSE LOSS: 1227453.5817307692 ----- 20210917 08:17:22\n",
            "\n",
            "FOLD: 2 -- EPOCH: 0 -- TRAIN RMSE LOSS: 1394365.1641 -- VALID RMSE LOSS: 1300691.0705 -- 2021091708:17:23\n",
            "FOLD: 2 -- EPOCH: 10 -- TRAIN RMSE LOSS: 1275059.1173 -- VALID RMSE LOSS: 1269092.2500 -- 2021091708:17:37\n",
            "FOLD: 2 -- EPOCH: 20 -- TRAIN RMSE LOSS: 1275347.2931 -- VALID RMSE LOSS: 1284619.2356 -- 2021091708:17:51\n",
            "FOLD: 2 -- EPOCH: 30 -- TRAIN RMSE LOSS: 1264947.3984 -- VALID RMSE LOSS: 1258874.6907 -- 2021091708:18:05\n",
            "FOLD: 2 ----- BEST VALID RMSE LOSS: 1248957.7291666667 ----- 20210917 08:18:09\n",
            "\n",
            "FOLD: 3 -- EPOCH: 0 -- TRAIN RMSE LOSS: 1402597.4363 -- VALID RMSE LOSS: 1313867.1731 -- 2021091708:18:11\n",
            "FOLD: 3 -- EPOCH: 10 -- TRAIN RMSE LOSS: 1277262.4524 -- VALID RMSE LOSS: 1278266.2965 -- 2021091708:18:27\n",
            "FOLD: 3 -- EPOCH: 20 -- TRAIN RMSE LOSS: 1270699.0673 -- VALID RMSE LOSS: 1265693.8494 -- 2021091708:18:41\n",
            "FOLD: 3 -- EPOCH: 30 -- TRAIN RMSE LOSS: 1261398.3605 -- VALID RMSE LOSS: 1269249.7804 -- 2021091708:18:55\n",
            "FOLD: 3 -- EPOCH: 40 -- TRAIN RMSE LOSS: 1256269.1835 -- VALID RMSE LOSS: 1258212.4487 -- 2021091708:19:10\n",
            "FOLD: 3 ----- BEST VALID RMSE LOSS: 1256073.8381410257 ----- 20210917 08:19:19\n",
            "\n",
            "FOLD: 4 -- EPOCH: 0 -- TRAIN RMSE LOSS: 1395904.0423 -- VALID RMSE LOSS: 1325579.1587 -- 2021091708:19:21\n",
            "FOLD: 4 -- EPOCH: 10 -- TRAIN RMSE LOSS: 1279721.9855 -- VALID RMSE LOSS: 1293603.9599 -- 2021091708:19:35\n",
            "FOLD: 4 -- EPOCH: 20 -- TRAIN RMSE LOSS: 1267055.9181 -- VALID RMSE LOSS: 1297755.0785 -- 2021091708:19:49\n",
            "FOLD: 4 ----- BEST VALID RMSE LOSS: 1275320.9342948718 ----- 20210917 08:20:01\n",
            "\n",
            "FOLDS:\n",
            " FOLD 0: 1248252.34776\n",
            " FOLD 1: 1227453.58173\n",
            " FOLD 2: 1248957.72917\n",
            " FOLD 3: 1256073.83814\n",
            " FOLD 4: 1275320.93429\n",
            "\n",
            "CROSS VALIDATION SCORE: \n",
            " 1251211.6862179488 ----- 20210917 08:20\n",
            "\n",
            "**************\n",
            "Best CV trial:\n",
            "  Value:  1254385.0365384617\n",
            "\n",
            "  Params: \n",
            "    n_units_l0: 1227\n",
            "    n_units_l1: 888\n",
            "    n_units_l2: 637\n",
            "    n_units_l3: 320\n",
            "    n_units_l4: 254\n",
            "    n_units_l5: 90\n",
            "    n_units_l6: 90\n",
            "    lr: 0.002151377082188266\n",
            "**************\n",
            "\n",
            "####################################################################################################\n",
            "\n",
            "TRIAL 3 START TIME: 20210917 08:20:01\n",
            "\n",
            "OPTIMIZER:\n",
            "Adam (\n",
            "Parameter Group 0\n",
            "    amsgrad: False\n",
            "    betas: (0.9, 0.999)\n",
            "    eps: 1e-08\n",
            "    lr: 0.002826368931288359\n",
            "    weight_decay: 0\n",
            ")\n",
            "\n",
            "CURRENT TRIAL PARAMETERS: \n",
            "    n_units_l0: 1183\n",
            "    n_units_l1: 1073\n",
            "    n_units_l2: 567\n",
            "    n_units_l3: 530\n",
            "    n_units_l4: 288\n",
            "    n_units_l5: 110\n",
            "    n_units_l6: 52\n",
            "    lr: 0.002826368931288359\n",
            "\n",
            "\n",
            "FOLD: 0 -- EPOCH: 0 -- TRAIN RMSE LOSS: 1386951.5069 -- VALID RMSE LOSS: 1277430.0144 -- 2021091708:20:02\n",
            "FOLD: 0 -- EPOCH: 10 -- TRAIN RMSE LOSS: 1284613.9004 -- VALID RMSE LOSS: 1264904.0817 -- 2021091708:20:17\n",
            "FOLD: 0 -- EPOCH: 20 -- TRAIN RMSE LOSS: 1273000.9165 -- VALID RMSE LOSS: 1259594.6651 -- 2021091708:20:31\n",
            "FOLD: 0 -- EPOCH: 30 -- TRAIN RMSE LOSS: 1267376.4847 -- VALID RMSE LOSS: 1255377.7003 -- 2021091708:20:45\n",
            "FOLD: 0 ----- BEST VALID RMSE LOSS: 1252031.2419871795 ----- 20210917 08:20:45\n",
            "\n",
            "FOLD: 1 -- EPOCH: 0 -- TRAIN RMSE LOSS: 1391764.5940 -- VALID RMSE LOSS: 1258999.2756 -- 2021091708:20:47\n",
            "FOLD: 1 -- EPOCH: 10 -- TRAIN RMSE LOSS: 1286099.0960 -- VALID RMSE LOSS: 1306627.8205 -- 2021091708:21:01\n",
            "FOLD: 1 -- EPOCH: 20 -- TRAIN RMSE LOSS: 1293505.7798 -- VALID RMSE LOSS: 1247315.5465 -- 2021091708:21:16\n",
            "FOLD: 1 -- EPOCH: 30 -- TRAIN RMSE LOSS: 1280110.3452 -- VALID RMSE LOSS: 1241723.5529 -- 2021091708:21:30\n",
            "FOLD: 1 ----- BEST VALID RMSE LOSS: 1232681.6794871795 ----- 20210917 08:21:33\n",
            "\n",
            "FOLD: 2 -- EPOCH: 0 -- TRAIN RMSE LOSS: 1391343.3323 -- VALID RMSE LOSS: 1310060.3830 -- 2021091708:21:35\n",
            "FOLD: 2 -- EPOCH: 10 -- TRAIN RMSE LOSS: 1284923.7641 -- VALID RMSE LOSS: 1341209.4167 -- 2021091708:21:49\n",
            "FOLD: 2 -- EPOCH: 20 -- TRAIN RMSE LOSS: 1282519.2129 -- VALID RMSE LOSS: 1296025.3622 -- 2021091708:22:03\n",
            "FOLD: 2 -- EPOCH: 30 -- TRAIN RMSE LOSS: 1273428.1742 -- VALID RMSE LOSS: 1249104.5897 -- 2021091708:22:18\n",
            "FOLD: 2 -- EPOCH: 40 -- TRAIN RMSE LOSS: 1260232.1605 -- VALID RMSE LOSS: 1286671.5192 -- 2021091708:22:33\n",
            "FOLD: 2 ----- BEST VALID RMSE LOSS: 1249104.5897435897 ----- 20210917 08:22:34\n",
            "\n",
            "FOLD: 3 -- EPOCH: 0 -- TRAIN RMSE LOSS: 1393390.0754 -- VALID RMSE LOSS: 1337464.1410 -- 2021091708:22:36\n",
            "FOLD: 3 -- EPOCH: 10 -- TRAIN RMSE LOSS: 1277795.0855 -- VALID RMSE LOSS: 1269313.8333 -- 2021091708:22:51\n",
            "FOLD: 3 -- EPOCH: 20 -- TRAIN RMSE LOSS: 1272191.8194 -- VALID RMSE LOSS: 1266105.0721 -- 2021091708:23:05\n",
            "FOLD: 3 ----- BEST VALID RMSE LOSS: 1260144.671474359 ----- 20210917 08:23:18\n",
            "\n",
            "FOLD: 4 -- EPOCH: 0 -- TRAIN RMSE LOSS: 1389880.8488 -- VALID RMSE LOSS: 1370743.9038 -- 2021091708:23:20\n",
            "FOLD: 4 -- EPOCH: 10 -- TRAIN RMSE LOSS: 1274656.9198 -- VALID RMSE LOSS: 1325744.8718 -- 2021091708:23:34\n",
            "FOLD: 4 -- EPOCH: 20 -- TRAIN RMSE LOSS: 1267180.7827 -- VALID RMSE LOSS: 1298521.3574 -- 2021091708:23:49\n",
            "FOLD: 4 -- EPOCH: 30 -- TRAIN RMSE LOSS: 1272247.5794 -- VALID RMSE LOSS: 1327011.7019 -- 2021091708:24:03\n",
            "FOLD: 4 -- EPOCH: 40 -- TRAIN RMSE LOSS: 1260076.4827 -- VALID RMSE LOSS: 1323027.5256 -- 2021091708:24:18\n",
            "FOLD: 4 ----- BEST VALID RMSE LOSS: 1270626.814102564 ----- 20210917 08:24:24\n",
            "\n",
            "FOLDS:\n",
            " FOLD 0: 1252031.24199\n",
            " FOLD 1: 1232681.67949\n",
            " FOLD 2: 1249104.58974\n",
            " FOLD 3: 1260144.67147\n",
            " FOLD 4: 1270626.81410\n",
            "\n",
            "CROSS VALIDATION SCORE: \n",
            " 1252917.7993589744 ----- 20210917 08:24\n",
            "\n",
            "**************\n",
            "Best CV trial:\n",
            "  Value:  1251211.6862179488\n",
            "\n",
            "  Params: \n",
            "    n_units_l0: 1183\n",
            "    n_units_l1: 1073\n",
            "    n_units_l2: 567\n",
            "    n_units_l3: 530\n",
            "    n_units_l4: 288\n",
            "    n_units_l5: 110\n",
            "    n_units_l6: 52\n",
            "    lr: 0.002826368931288359\n",
            "**************\n",
            "\n",
            "####################################################################################################\n",
            "\n",
            "Study statistics: \n",
            "  Number of finished trials:  3 \n",
            "\n",
            "Best trial:\n",
            "  Value:  1251211.6862179488\n",
            "  Params: \n",
            "    n_units_l0: 1227\n",
            "    n_units_l1: 888\n",
            "    n_units_l2: 637\n",
            "    n_units_l3: 320\n",
            "    n_units_l4: 254\n",
            "    n_units_l5: 90\n",
            "    n_units_l6: 90\n",
            "    lr: 0.002151377082188266\n",
            "\n",
            "\n",
            "\n",
            "TRIALS DATAFRAME: \n",
            "   number         value  ... params_n_units_l6     state\n",
            "0       0  1.254385e+06  ...                86  COMPLETE\n",
            "1       1  1.251212e+06  ...                90  COMPLETE\n",
            "2       2  1.252918e+06  ...                52  COMPLETE\n",
            "\n",
            "[3 rows x 14 columns]\n"
          ]
        }
      ]
    },
    {
      "cell_type": "code",
      "metadata": {
        "id": "fBZMjFqaq2PY",
        "colab": {
          "base_uri": "https://localhost:8080/"
        },
        "outputId": "b867105e-c48c-4f15-b4b3-c643389387ac"
      },
      "source": [
        "pd.read_csv(f'logs/nn_trials_{study_start_time}.csv').sort_values('value').iloc[0]\n"
      ],
      "id": "fBZMjFqaq2PY",
      "execution_count": null,
      "outputs": [
        {
          "output_type": "execute_result",
          "data": {
            "text/plain": [
              "Unnamed: 0                                    1\n",
              "number                                        1\n",
              "value                               1.25121e+06\n",
              "datetime_start       2021-09-17 08:14:58.357119\n",
              "datetime_complete    2021-09-17 08:20:01.439047\n",
              "duration                 0 days 00:05:03.081928\n",
              "params_lr                            0.00215138\n",
              "params_n_units_l0                          1227\n",
              "params_n_units_l1                           888\n",
              "params_n_units_l2                           637\n",
              "params_n_units_l3                           320\n",
              "params_n_units_l4                           254\n",
              "params_n_units_l5                            90\n",
              "params_n_units_l6                            90\n",
              "state                                  COMPLETE\n",
              "Name: 1, dtype: object"
            ]
          },
          "metadata": {},
          "execution_count": 65
        }
      ]
    },
    {
      "cell_type": "markdown",
      "metadata": {
        "id": "UX_wO9t-8o8W"
      },
      "source": [
        "---\n",
        "### ***Neural network on denoised features study complete***\n",
        "---\n",
        "\n",
        "Above we see results from best neural network prediction trial on the denoised features. This model produces the best nn on the denoised latent feature set. The RMSE from this model didn't surpass our best model (neural network on full feature set), but could maybe be improved with more tinkering to the swap noise algorithm we used to add noise.\n",
        "\n",
        "Below we have graphics of our model optimization study. These plots help us understand what parameters are most important in our network topology optimzation study."
      ],
      "id": "UX_wO9t-8o8W"
    },
    {
      "cell_type": "code",
      "metadata": {
        "id": "WPU8ybvB85aF",
        "colab": {
          "base_uri": "https://localhost:8080/",
          "height": 542
        },
        "outputId": "7881edff-454b-4b40-ce8c-05f3062da9a0"
      },
      "source": [
        "# study = joblib.load(f'logs/nn_denoised_study_{study_start_time}.pkl') \n",
        "optuna.visualization.plot_optimization_history(study)"
      ],
      "id": "WPU8ybvB85aF",
      "execution_count": null,
      "outputs": [
        {
          "output_type": "display_data",
          "data": {
            "text/html": [
              "<html>\n",
              "<head><meta charset=\"utf-8\" /></head>\n",
              "<body>\n",
              "    <div>\n",
              "            <script src=\"https://cdnjs.cloudflare.com/ajax/libs/mathjax/2.7.5/MathJax.js?config=TeX-AMS-MML_SVG\"></script><script type=\"text/javascript\">if (window.MathJax) {MathJax.Hub.Config({SVG: {font: \"STIX-Web\"}});}</script>\n",
              "                <script type=\"text/javascript\">window.PlotlyConfig = {MathJaxConfig: 'local'};</script>\n",
              "        <script src=\"https://cdn.plot.ly/plotly-latest.min.js\"></script>    \n",
              "            <div id=\"36314f1b-72dd-401f-b186-dc7814bc9490\" class=\"plotly-graph-div\" style=\"height:525px; width:100%;\"></div>\n",
              "            <script type=\"text/javascript\">\n",
              "                \n",
              "                    window.PLOTLYENV=window.PLOTLYENV || {};\n",
              "                    \n",
              "                if (document.getElementById(\"36314f1b-72dd-401f-b186-dc7814bc9490\")) {\n",
              "                    Plotly.newPlot(\n",
              "                        '36314f1b-72dd-401f-b186-dc7814bc9490',\n",
              "                        [{\"mode\": \"markers\", \"name\": \"Objective Value\", \"type\": \"scatter\", \"x\": [0, 1, 2], \"y\": [1254385.0365384617, 1251211.6862179488, 1252917.7993589744]}, {\"name\": \"Best Value\", \"type\": \"scatter\", \"x\": [0, 1, 2], \"y\": [1254385.0365384617, 1251211.6862179488, 1251211.6862179488]}],\n",
              "                        {\"template\": {\"data\": {\"bar\": [{\"error_x\": {\"color\": \"#2a3f5f\"}, \"error_y\": {\"color\": \"#2a3f5f\"}, \"marker\": {\"line\": {\"color\": \"#E5ECF6\", \"width\": 0.5}}, \"type\": \"bar\"}], \"barpolar\": [{\"marker\": {\"line\": {\"color\": \"#E5ECF6\", \"width\": 0.5}}, \"type\": \"barpolar\"}], \"carpet\": [{\"aaxis\": {\"endlinecolor\": \"#2a3f5f\", \"gridcolor\": \"white\", \"linecolor\": \"white\", \"minorgridcolor\": \"white\", \"startlinecolor\": \"#2a3f5f\"}, \"baxis\": {\"endlinecolor\": \"#2a3f5f\", \"gridcolor\": \"white\", \"linecolor\": \"white\", \"minorgridcolor\": \"white\", \"startlinecolor\": \"#2a3f5f\"}, \"type\": \"carpet\"}], \"choropleth\": [{\"colorbar\": {\"outlinewidth\": 0, \"ticks\": \"\"}, \"type\": \"choropleth\"}], \"contour\": [{\"colorbar\": {\"outlinewidth\": 0, \"ticks\": \"\"}, \"colorscale\": [[0.0, \"#0d0887\"], [0.1111111111111111, \"#46039f\"], [0.2222222222222222, \"#7201a8\"], [0.3333333333333333, \"#9c179e\"], [0.4444444444444444, \"#bd3786\"], [0.5555555555555556, \"#d8576b\"], [0.6666666666666666, \"#ed7953\"], [0.7777777777777778, \"#fb9f3a\"], [0.8888888888888888, \"#fdca26\"], [1.0, \"#f0f921\"]], \"type\": \"contour\"}], \"contourcarpet\": [{\"colorbar\": {\"outlinewidth\": 0, \"ticks\": \"\"}, \"type\": \"contourcarpet\"}], \"heatmap\": [{\"colorbar\": {\"outlinewidth\": 0, \"ticks\": \"\"}, \"colorscale\": [[0.0, \"#0d0887\"], [0.1111111111111111, \"#46039f\"], [0.2222222222222222, \"#7201a8\"], [0.3333333333333333, \"#9c179e\"], [0.4444444444444444, \"#bd3786\"], [0.5555555555555556, \"#d8576b\"], [0.6666666666666666, \"#ed7953\"], [0.7777777777777778, \"#fb9f3a\"], [0.8888888888888888, \"#fdca26\"], [1.0, \"#f0f921\"]], \"type\": \"heatmap\"}], \"heatmapgl\": [{\"colorbar\": {\"outlinewidth\": 0, \"ticks\": \"\"}, \"colorscale\": [[0.0, \"#0d0887\"], [0.1111111111111111, \"#46039f\"], [0.2222222222222222, \"#7201a8\"], [0.3333333333333333, \"#9c179e\"], [0.4444444444444444, \"#bd3786\"], [0.5555555555555556, \"#d8576b\"], [0.6666666666666666, \"#ed7953\"], [0.7777777777777778, \"#fb9f3a\"], [0.8888888888888888, \"#fdca26\"], [1.0, \"#f0f921\"]], \"type\": \"heatmapgl\"}], \"histogram\": [{\"marker\": {\"colorbar\": {\"outlinewidth\": 0, \"ticks\": \"\"}}, \"type\": \"histogram\"}], \"histogram2d\": [{\"colorbar\": {\"outlinewidth\": 0, \"ticks\": \"\"}, \"colorscale\": [[0.0, \"#0d0887\"], [0.1111111111111111, \"#46039f\"], [0.2222222222222222, \"#7201a8\"], [0.3333333333333333, \"#9c179e\"], [0.4444444444444444, \"#bd3786\"], [0.5555555555555556, \"#d8576b\"], [0.6666666666666666, \"#ed7953\"], [0.7777777777777778, \"#fb9f3a\"], [0.8888888888888888, \"#fdca26\"], [1.0, \"#f0f921\"]], \"type\": \"histogram2d\"}], \"histogram2dcontour\": [{\"colorbar\": {\"outlinewidth\": 0, \"ticks\": \"\"}, \"colorscale\": [[0.0, \"#0d0887\"], [0.1111111111111111, \"#46039f\"], [0.2222222222222222, \"#7201a8\"], [0.3333333333333333, \"#9c179e\"], [0.4444444444444444, \"#bd3786\"], [0.5555555555555556, \"#d8576b\"], [0.6666666666666666, \"#ed7953\"], [0.7777777777777778, \"#fb9f3a\"], [0.8888888888888888, \"#fdca26\"], [1.0, \"#f0f921\"]], \"type\": \"histogram2dcontour\"}], \"mesh3d\": [{\"colorbar\": {\"outlinewidth\": 0, \"ticks\": \"\"}, \"type\": \"mesh3d\"}], \"parcoords\": [{\"line\": {\"colorbar\": {\"outlinewidth\": 0, \"ticks\": \"\"}}, \"type\": \"parcoords\"}], \"pie\": [{\"automargin\": true, \"type\": \"pie\"}], \"scatter\": [{\"marker\": {\"colorbar\": {\"outlinewidth\": 0, \"ticks\": \"\"}}, \"type\": \"scatter\"}], \"scatter3d\": [{\"line\": {\"colorbar\": {\"outlinewidth\": 0, \"ticks\": \"\"}}, \"marker\": {\"colorbar\": {\"outlinewidth\": 0, \"ticks\": \"\"}}, \"type\": \"scatter3d\"}], \"scattercarpet\": [{\"marker\": {\"colorbar\": {\"outlinewidth\": 0, \"ticks\": \"\"}}, \"type\": \"scattercarpet\"}], \"scattergeo\": [{\"marker\": {\"colorbar\": {\"outlinewidth\": 0, \"ticks\": \"\"}}, \"type\": \"scattergeo\"}], \"scattergl\": [{\"marker\": {\"colorbar\": {\"outlinewidth\": 0, \"ticks\": \"\"}}, \"type\": \"scattergl\"}], \"scattermapbox\": [{\"marker\": {\"colorbar\": {\"outlinewidth\": 0, \"ticks\": \"\"}}, \"type\": \"scattermapbox\"}], \"scatterpolar\": [{\"marker\": {\"colorbar\": {\"outlinewidth\": 0, \"ticks\": \"\"}}, \"type\": \"scatterpolar\"}], \"scatterpolargl\": [{\"marker\": {\"colorbar\": {\"outlinewidth\": 0, \"ticks\": \"\"}}, \"type\": \"scatterpolargl\"}], \"scatterternary\": [{\"marker\": {\"colorbar\": {\"outlinewidth\": 0, \"ticks\": \"\"}}, \"type\": \"scatterternary\"}], \"surface\": [{\"colorbar\": {\"outlinewidth\": 0, \"ticks\": \"\"}, \"colorscale\": [[0.0, \"#0d0887\"], [0.1111111111111111, \"#46039f\"], [0.2222222222222222, \"#7201a8\"], [0.3333333333333333, \"#9c179e\"], [0.4444444444444444, \"#bd3786\"], [0.5555555555555556, \"#d8576b\"], [0.6666666666666666, \"#ed7953\"], [0.7777777777777778, \"#fb9f3a\"], [0.8888888888888888, \"#fdca26\"], [1.0, \"#f0f921\"]], \"type\": \"surface\"}], \"table\": [{\"cells\": {\"fill\": {\"color\": \"#EBF0F8\"}, \"line\": {\"color\": \"white\"}}, \"header\": {\"fill\": {\"color\": \"#C8D4E3\"}, \"line\": {\"color\": \"white\"}}, \"type\": \"table\"}]}, \"layout\": {\"annotationdefaults\": {\"arrowcolor\": \"#2a3f5f\", \"arrowhead\": 0, \"arrowwidth\": 1}, \"coloraxis\": {\"colorbar\": {\"outlinewidth\": 0, \"ticks\": \"\"}}, \"colorscale\": {\"diverging\": [[0, \"#8e0152\"], [0.1, \"#c51b7d\"], [0.2, \"#de77ae\"], [0.3, \"#f1b6da\"], [0.4, \"#fde0ef\"], [0.5, \"#f7f7f7\"], [0.6, \"#e6f5d0\"], [0.7, \"#b8e186\"], [0.8, \"#7fbc41\"], [0.9, \"#4d9221\"], [1, \"#276419\"]], \"sequential\": [[0.0, \"#0d0887\"], [0.1111111111111111, \"#46039f\"], [0.2222222222222222, \"#7201a8\"], [0.3333333333333333, \"#9c179e\"], [0.4444444444444444, \"#bd3786\"], [0.5555555555555556, \"#d8576b\"], [0.6666666666666666, \"#ed7953\"], [0.7777777777777778, \"#fb9f3a\"], [0.8888888888888888, \"#fdca26\"], [1.0, \"#f0f921\"]], \"sequentialminus\": [[0.0, \"#0d0887\"], [0.1111111111111111, \"#46039f\"], [0.2222222222222222, \"#7201a8\"], [0.3333333333333333, \"#9c179e\"], [0.4444444444444444, \"#bd3786\"], [0.5555555555555556, \"#d8576b\"], [0.6666666666666666, \"#ed7953\"], [0.7777777777777778, \"#fb9f3a\"], [0.8888888888888888, \"#fdca26\"], [1.0, \"#f0f921\"]]}, \"colorway\": [\"#636efa\", \"#EF553B\", \"#00cc96\", \"#ab63fa\", \"#FFA15A\", \"#19d3f3\", \"#FF6692\", \"#B6E880\", \"#FF97FF\", \"#FECB52\"], \"font\": {\"color\": \"#2a3f5f\"}, \"geo\": {\"bgcolor\": \"white\", \"lakecolor\": \"white\", \"landcolor\": \"#E5ECF6\", \"showlakes\": true, \"showland\": true, \"subunitcolor\": \"white\"}, \"hoverlabel\": {\"align\": \"left\"}, \"hovermode\": \"closest\", \"mapbox\": {\"style\": \"light\"}, \"paper_bgcolor\": \"white\", \"plot_bgcolor\": \"#E5ECF6\", \"polar\": {\"angularaxis\": {\"gridcolor\": \"white\", \"linecolor\": \"white\", \"ticks\": \"\"}, \"bgcolor\": \"#E5ECF6\", \"radialaxis\": {\"gridcolor\": \"white\", \"linecolor\": \"white\", \"ticks\": \"\"}}, \"scene\": {\"xaxis\": {\"backgroundcolor\": \"#E5ECF6\", \"gridcolor\": \"white\", \"gridwidth\": 2, \"linecolor\": \"white\", \"showbackground\": true, \"ticks\": \"\", \"zerolinecolor\": \"white\"}, \"yaxis\": {\"backgroundcolor\": \"#E5ECF6\", \"gridcolor\": \"white\", \"gridwidth\": 2, \"linecolor\": \"white\", \"showbackground\": true, \"ticks\": \"\", \"zerolinecolor\": \"white\"}, \"zaxis\": {\"backgroundcolor\": \"#E5ECF6\", \"gridcolor\": \"white\", \"gridwidth\": 2, \"linecolor\": \"white\", \"showbackground\": true, \"ticks\": \"\", \"zerolinecolor\": \"white\"}}, \"shapedefaults\": {\"line\": {\"color\": \"#2a3f5f\"}}, \"ternary\": {\"aaxis\": {\"gridcolor\": \"white\", \"linecolor\": \"white\", \"ticks\": \"\"}, \"baxis\": {\"gridcolor\": \"white\", \"linecolor\": \"white\", \"ticks\": \"\"}, \"bgcolor\": \"#E5ECF6\", \"caxis\": {\"gridcolor\": \"white\", \"linecolor\": \"white\", \"ticks\": \"\"}}, \"title\": {\"x\": 0.05}, \"xaxis\": {\"automargin\": true, \"gridcolor\": \"white\", \"linecolor\": \"white\", \"ticks\": \"\", \"title\": {\"standoff\": 15}, \"zerolinecolor\": \"white\", \"zerolinewidth\": 2}, \"yaxis\": {\"automargin\": true, \"gridcolor\": \"white\", \"linecolor\": \"white\", \"ticks\": \"\", \"title\": {\"standoff\": 15}, \"zerolinecolor\": \"white\", \"zerolinewidth\": 2}}}, \"title\": {\"text\": \"Optimization History Plot\"}, \"xaxis\": {\"title\": {\"text\": \"#Trials\"}}, \"yaxis\": {\"title\": {\"text\": \"Objective Value\"}}},\n",
              "                        {\"responsive\": true}\n",
              "                    ).then(function(){\n",
              "                            \n",
              "var gd = document.getElementById('36314f1b-72dd-401f-b186-dc7814bc9490');\n",
              "var x = new MutationObserver(function (mutations, observer) {{\n",
              "        var display = window.getComputedStyle(gd).display;\n",
              "        if (!display || display === 'none') {{\n",
              "            console.log([gd, 'removed!']);\n",
              "            Plotly.purge(gd);\n",
              "            observer.disconnect();\n",
              "        }}\n",
              "}});\n",
              "\n",
              "// Listen for the removal of the full notebook cells\n",
              "var notebookContainer = gd.closest('#notebook-container');\n",
              "if (notebookContainer) {{\n",
              "    x.observe(notebookContainer, {childList: true});\n",
              "}}\n",
              "\n",
              "// Listen for the clearing of the current output cell\n",
              "var outputEl = gd.closest('.output');\n",
              "if (outputEl) {{\n",
              "    x.observe(outputEl, {childList: true});\n",
              "}}\n",
              "\n",
              "                        })\n",
              "                };\n",
              "                \n",
              "            </script>\n",
              "        </div>\n",
              "</body>\n",
              "</html>"
            ]
          },
          "metadata": {}
        }
      ]
    },
    {
      "cell_type": "code",
      "metadata": {
        "id": "k_u-pIx1PsB1",
        "colab": {
          "base_uri": "https://localhost:8080/",
          "height": 542
        },
        "outputId": "9d77e099-6544-4ef6-e685-5456e7c50ae6"
      },
      "source": [
        "optuna.visualization.plot_parallel_coordinate(study)"
      ],
      "id": "k_u-pIx1PsB1",
      "execution_count": null,
      "outputs": [
        {
          "output_type": "display_data",
          "data": {
            "text/html": [
              "<html>\n",
              "<head><meta charset=\"utf-8\" /></head>\n",
              "<body>\n",
              "    <div>\n",
              "            <script src=\"https://cdnjs.cloudflare.com/ajax/libs/mathjax/2.7.5/MathJax.js?config=TeX-AMS-MML_SVG\"></script><script type=\"text/javascript\">if (window.MathJax) {MathJax.Hub.Config({SVG: {font: \"STIX-Web\"}});}</script>\n",
              "                <script type=\"text/javascript\">window.PlotlyConfig = {MathJaxConfig: 'local'};</script>\n",
              "        <script src=\"https://cdn.plot.ly/plotly-latest.min.js\"></script>    \n",
              "            <div id=\"3b2618f8-913d-4c6c-83de-e14ab3580c28\" class=\"plotly-graph-div\" style=\"height:525px; width:100%;\"></div>\n",
              "            <script type=\"text/javascript\">\n",
              "                \n",
              "                    window.PLOTLYENV=window.PLOTLYENV || {};\n",
              "                    \n",
              "                if (document.getElementById(\"3b2618f8-913d-4c6c-83de-e14ab3580c28\")) {\n",
              "                    Plotly.newPlot(\n",
              "                        '3b2618f8-913d-4c6c-83de-e14ab3580c28',\n",
              "                        [{\"dimensions\": [{\"label\": \"Objective Value\", \"range\": [1251211.6862179488, 1254385.0365384617], \"values\": [1254385.0365384617, 1251211.6862179488, 1252917.7993589744]}, {\"label\": \"lr\", \"range\": [-2.6672834620621724, -2.278919523297976], \"ticktext\": [\"0.00215\", \"0.00526\"], \"tickvals\": [-2.6672834620621724, -2.278919523297976], \"values\": [-2.278919523297976, -2.6672834620621724, -2.548771149506195]}, {\"label\": \"n_units_l0\", \"range\": [1162, 1227], \"values\": [1162, 1227, 1183]}, {\"label\": \"n_units_l1\", \"range\": [756, 1073], \"values\": [756, 888, 1073]}, {\"label\": \"n_units_l2\", \"range\": [552, 637], \"values\": [552, 637, 567]}, {\"label\": \"n_units_l3\", \"range\": [320, 530], \"values\": [528, 320, 530]}, {\"label\": \"n_units_l4\", \"range\": [174, 288], \"values\": [174, 254, 288]}, {\"label\": \"n_units_l5\", \"range\": [90, 110], \"values\": [92, 90, 110]}, {\"label\": \"n_units_l6\", \"range\": [52, 90], \"values\": [86, 90, 52]}], \"labelangle\": 30, \"labelside\": \"bottom\", \"line\": {\"color\": [1254385.0365384617, 1251211.6862179488, 1252917.7993589744], \"colorbar\": {\"title\": {\"text\": \"Objective Value\"}}, \"colorscale\": [[0.0, \"rgb(247,251,255)\"], [0.125, \"rgb(222,235,247)\"], [0.25, \"rgb(198,219,239)\"], [0.375, \"rgb(158,202,225)\"], [0.5, \"rgb(107,174,214)\"], [0.625, \"rgb(66,146,198)\"], [0.75, \"rgb(33,113,181)\"], [0.875, \"rgb(8,81,156)\"], [1.0, \"rgb(8,48,107)\"]], \"reversescale\": true, \"showscale\": true}, \"type\": \"parcoords\"}],\n",
              "                        {\"template\": {\"data\": {\"bar\": [{\"error_x\": {\"color\": \"#2a3f5f\"}, \"error_y\": {\"color\": \"#2a3f5f\"}, \"marker\": {\"line\": {\"color\": \"#E5ECF6\", \"width\": 0.5}}, \"type\": \"bar\"}], \"barpolar\": [{\"marker\": {\"line\": {\"color\": \"#E5ECF6\", \"width\": 0.5}}, \"type\": \"barpolar\"}], \"carpet\": [{\"aaxis\": {\"endlinecolor\": \"#2a3f5f\", \"gridcolor\": \"white\", \"linecolor\": \"white\", \"minorgridcolor\": \"white\", \"startlinecolor\": \"#2a3f5f\"}, \"baxis\": {\"endlinecolor\": \"#2a3f5f\", \"gridcolor\": \"white\", \"linecolor\": \"white\", \"minorgridcolor\": \"white\", \"startlinecolor\": \"#2a3f5f\"}, \"type\": \"carpet\"}], \"choropleth\": [{\"colorbar\": {\"outlinewidth\": 0, \"ticks\": \"\"}, \"type\": \"choropleth\"}], \"contour\": [{\"colorbar\": {\"outlinewidth\": 0, \"ticks\": \"\"}, \"colorscale\": [[0.0, \"#0d0887\"], [0.1111111111111111, \"#46039f\"], [0.2222222222222222, \"#7201a8\"], [0.3333333333333333, \"#9c179e\"], [0.4444444444444444, \"#bd3786\"], [0.5555555555555556, \"#d8576b\"], [0.6666666666666666, \"#ed7953\"], [0.7777777777777778, \"#fb9f3a\"], [0.8888888888888888, \"#fdca26\"], [1.0, \"#f0f921\"]], \"type\": \"contour\"}], \"contourcarpet\": [{\"colorbar\": {\"outlinewidth\": 0, \"ticks\": \"\"}, \"type\": \"contourcarpet\"}], \"heatmap\": [{\"colorbar\": {\"outlinewidth\": 0, \"ticks\": \"\"}, \"colorscale\": [[0.0, \"#0d0887\"], [0.1111111111111111, \"#46039f\"], [0.2222222222222222, \"#7201a8\"], [0.3333333333333333, \"#9c179e\"], [0.4444444444444444, \"#bd3786\"], [0.5555555555555556, \"#d8576b\"], [0.6666666666666666, \"#ed7953\"], [0.7777777777777778, \"#fb9f3a\"], [0.8888888888888888, \"#fdca26\"], [1.0, \"#f0f921\"]], \"type\": \"heatmap\"}], \"heatmapgl\": [{\"colorbar\": {\"outlinewidth\": 0, \"ticks\": \"\"}, \"colorscale\": [[0.0, \"#0d0887\"], [0.1111111111111111, \"#46039f\"], [0.2222222222222222, \"#7201a8\"], [0.3333333333333333, \"#9c179e\"], [0.4444444444444444, \"#bd3786\"], [0.5555555555555556, \"#d8576b\"], [0.6666666666666666, \"#ed7953\"], [0.7777777777777778, \"#fb9f3a\"], [0.8888888888888888, \"#fdca26\"], [1.0, \"#f0f921\"]], \"type\": \"heatmapgl\"}], \"histogram\": [{\"marker\": {\"colorbar\": {\"outlinewidth\": 0, \"ticks\": \"\"}}, \"type\": \"histogram\"}], \"histogram2d\": [{\"colorbar\": {\"outlinewidth\": 0, \"ticks\": \"\"}, \"colorscale\": [[0.0, \"#0d0887\"], [0.1111111111111111, \"#46039f\"], [0.2222222222222222, \"#7201a8\"], [0.3333333333333333, \"#9c179e\"], [0.4444444444444444, \"#bd3786\"], [0.5555555555555556, \"#d8576b\"], [0.6666666666666666, \"#ed7953\"], [0.7777777777777778, \"#fb9f3a\"], [0.8888888888888888, \"#fdca26\"], [1.0, \"#f0f921\"]], \"type\": \"histogram2d\"}], \"histogram2dcontour\": [{\"colorbar\": {\"outlinewidth\": 0, \"ticks\": \"\"}, \"colorscale\": [[0.0, \"#0d0887\"], [0.1111111111111111, \"#46039f\"], [0.2222222222222222, \"#7201a8\"], [0.3333333333333333, \"#9c179e\"], [0.4444444444444444, \"#bd3786\"], [0.5555555555555556, \"#d8576b\"], [0.6666666666666666, \"#ed7953\"], [0.7777777777777778, \"#fb9f3a\"], [0.8888888888888888, \"#fdca26\"], [1.0, \"#f0f921\"]], \"type\": \"histogram2dcontour\"}], \"mesh3d\": [{\"colorbar\": {\"outlinewidth\": 0, \"ticks\": \"\"}, \"type\": \"mesh3d\"}], \"parcoords\": [{\"line\": {\"colorbar\": {\"outlinewidth\": 0, \"ticks\": \"\"}}, \"type\": \"parcoords\"}], \"pie\": [{\"automargin\": true, \"type\": \"pie\"}], \"scatter\": [{\"marker\": {\"colorbar\": {\"outlinewidth\": 0, \"ticks\": \"\"}}, \"type\": \"scatter\"}], \"scatter3d\": [{\"line\": {\"colorbar\": {\"outlinewidth\": 0, \"ticks\": \"\"}}, \"marker\": {\"colorbar\": {\"outlinewidth\": 0, \"ticks\": \"\"}}, \"type\": \"scatter3d\"}], \"scattercarpet\": [{\"marker\": {\"colorbar\": {\"outlinewidth\": 0, \"ticks\": \"\"}}, \"type\": \"scattercarpet\"}], \"scattergeo\": [{\"marker\": {\"colorbar\": {\"outlinewidth\": 0, \"ticks\": \"\"}}, \"type\": \"scattergeo\"}], \"scattergl\": [{\"marker\": {\"colorbar\": {\"outlinewidth\": 0, \"ticks\": \"\"}}, \"type\": \"scattergl\"}], \"scattermapbox\": [{\"marker\": {\"colorbar\": {\"outlinewidth\": 0, \"ticks\": \"\"}}, \"type\": \"scattermapbox\"}], \"scatterpolar\": [{\"marker\": {\"colorbar\": {\"outlinewidth\": 0, \"ticks\": \"\"}}, \"type\": \"scatterpolar\"}], \"scatterpolargl\": [{\"marker\": {\"colorbar\": {\"outlinewidth\": 0, \"ticks\": \"\"}}, \"type\": \"scatterpolargl\"}], \"scatterternary\": [{\"marker\": {\"colorbar\": {\"outlinewidth\": 0, \"ticks\": \"\"}}, \"type\": \"scatterternary\"}], \"surface\": [{\"colorbar\": {\"outlinewidth\": 0, \"ticks\": \"\"}, \"colorscale\": [[0.0, \"#0d0887\"], [0.1111111111111111, \"#46039f\"], [0.2222222222222222, \"#7201a8\"], [0.3333333333333333, \"#9c179e\"], [0.4444444444444444, \"#bd3786\"], [0.5555555555555556, \"#d8576b\"], [0.6666666666666666, \"#ed7953\"], [0.7777777777777778, \"#fb9f3a\"], [0.8888888888888888, \"#fdca26\"], [1.0, \"#f0f921\"]], \"type\": \"surface\"}], \"table\": [{\"cells\": {\"fill\": {\"color\": \"#EBF0F8\"}, \"line\": {\"color\": \"white\"}}, \"header\": {\"fill\": {\"color\": \"#C8D4E3\"}, \"line\": {\"color\": \"white\"}}, \"type\": \"table\"}]}, \"layout\": {\"annotationdefaults\": {\"arrowcolor\": \"#2a3f5f\", \"arrowhead\": 0, \"arrowwidth\": 1}, \"coloraxis\": {\"colorbar\": {\"outlinewidth\": 0, \"ticks\": \"\"}}, \"colorscale\": {\"diverging\": [[0, \"#8e0152\"], [0.1, \"#c51b7d\"], [0.2, \"#de77ae\"], [0.3, \"#f1b6da\"], [0.4, \"#fde0ef\"], [0.5, \"#f7f7f7\"], [0.6, \"#e6f5d0\"], [0.7, \"#b8e186\"], [0.8, \"#7fbc41\"], [0.9, \"#4d9221\"], [1, \"#276419\"]], \"sequential\": [[0.0, \"#0d0887\"], [0.1111111111111111, \"#46039f\"], [0.2222222222222222, \"#7201a8\"], [0.3333333333333333, \"#9c179e\"], [0.4444444444444444, \"#bd3786\"], [0.5555555555555556, \"#d8576b\"], [0.6666666666666666, \"#ed7953\"], [0.7777777777777778, \"#fb9f3a\"], [0.8888888888888888, \"#fdca26\"], [1.0, \"#f0f921\"]], \"sequentialminus\": [[0.0, \"#0d0887\"], [0.1111111111111111, \"#46039f\"], [0.2222222222222222, \"#7201a8\"], [0.3333333333333333, \"#9c179e\"], [0.4444444444444444, \"#bd3786\"], [0.5555555555555556, \"#d8576b\"], [0.6666666666666666, \"#ed7953\"], [0.7777777777777778, \"#fb9f3a\"], [0.8888888888888888, \"#fdca26\"], [1.0, \"#f0f921\"]]}, \"colorway\": [\"#636efa\", \"#EF553B\", \"#00cc96\", \"#ab63fa\", \"#FFA15A\", \"#19d3f3\", \"#FF6692\", \"#B6E880\", \"#FF97FF\", \"#FECB52\"], \"font\": {\"color\": \"#2a3f5f\"}, \"geo\": {\"bgcolor\": \"white\", \"lakecolor\": \"white\", \"landcolor\": \"#E5ECF6\", \"showlakes\": true, \"showland\": true, \"subunitcolor\": \"white\"}, \"hoverlabel\": {\"align\": \"left\"}, \"hovermode\": \"closest\", \"mapbox\": {\"style\": \"light\"}, \"paper_bgcolor\": \"white\", \"plot_bgcolor\": \"#E5ECF6\", \"polar\": {\"angularaxis\": {\"gridcolor\": \"white\", \"linecolor\": \"white\", \"ticks\": \"\"}, \"bgcolor\": \"#E5ECF6\", \"radialaxis\": {\"gridcolor\": \"white\", \"linecolor\": \"white\", \"ticks\": \"\"}}, \"scene\": {\"xaxis\": {\"backgroundcolor\": \"#E5ECF6\", \"gridcolor\": \"white\", \"gridwidth\": 2, \"linecolor\": \"white\", \"showbackground\": true, \"ticks\": \"\", \"zerolinecolor\": \"white\"}, \"yaxis\": {\"backgroundcolor\": \"#E5ECF6\", \"gridcolor\": \"white\", \"gridwidth\": 2, \"linecolor\": \"white\", \"showbackground\": true, \"ticks\": \"\", \"zerolinecolor\": \"white\"}, \"zaxis\": {\"backgroundcolor\": \"#E5ECF6\", \"gridcolor\": \"white\", \"gridwidth\": 2, \"linecolor\": \"white\", \"showbackground\": true, \"ticks\": \"\", \"zerolinecolor\": \"white\"}}, \"shapedefaults\": {\"line\": {\"color\": \"#2a3f5f\"}}, \"ternary\": {\"aaxis\": {\"gridcolor\": \"white\", \"linecolor\": \"white\", \"ticks\": \"\"}, \"baxis\": {\"gridcolor\": \"white\", \"linecolor\": \"white\", \"ticks\": \"\"}, \"bgcolor\": \"#E5ECF6\", \"caxis\": {\"gridcolor\": \"white\", \"linecolor\": \"white\", \"ticks\": \"\"}}, \"title\": {\"x\": 0.05}, \"xaxis\": {\"automargin\": true, \"gridcolor\": \"white\", \"linecolor\": \"white\", \"ticks\": \"\", \"title\": {\"standoff\": 15}, \"zerolinecolor\": \"white\", \"zerolinewidth\": 2}, \"yaxis\": {\"automargin\": true, \"gridcolor\": \"white\", \"linecolor\": \"white\", \"ticks\": \"\", \"title\": {\"standoff\": 15}, \"zerolinecolor\": \"white\", \"zerolinewidth\": 2}}}, \"title\": {\"text\": \"Parallel Coordinate Plot\"}},\n",
              "                        {\"responsive\": true}\n",
              "                    ).then(function(){\n",
              "                            \n",
              "var gd = document.getElementById('3b2618f8-913d-4c6c-83de-e14ab3580c28');\n",
              "var x = new MutationObserver(function (mutations, observer) {{\n",
              "        var display = window.getComputedStyle(gd).display;\n",
              "        if (!display || display === 'none') {{\n",
              "            console.log([gd, 'removed!']);\n",
              "            Plotly.purge(gd);\n",
              "            observer.disconnect();\n",
              "        }}\n",
              "}});\n",
              "\n",
              "// Listen for the removal of the full notebook cells\n",
              "var notebookContainer = gd.closest('#notebook-container');\n",
              "if (notebookContainer) {{\n",
              "    x.observe(notebookContainer, {childList: true});\n",
              "}}\n",
              "\n",
              "// Listen for the clearing of the current output cell\n",
              "var outputEl = gd.closest('.output');\n",
              "if (outputEl) {{\n",
              "    x.observe(outputEl, {childList: true});\n",
              "}}\n",
              "\n",
              "                        })\n",
              "                };\n",
              "                \n",
              "            </script>\n",
              "        </div>\n",
              "</body>\n",
              "</html>"
            ]
          },
          "metadata": {}
        }
      ]
    },
    {
      "cell_type": "code",
      "metadata": {
        "id": "IE9P9Ba9Pv5I",
        "colab": {
          "base_uri": "https://localhost:8080/",
          "height": 542
        },
        "outputId": "ebfe78a7-53c9-4677-bf18-0a6c46f7335e"
      },
      "source": [
        "optuna.visualization.plot_param_importances(study)"
      ],
      "id": "IE9P9Ba9Pv5I",
      "execution_count": null,
      "outputs": [
        {
          "output_type": "display_data",
          "data": {
            "text/html": [
              "<html>\n",
              "<head><meta charset=\"utf-8\" /></head>\n",
              "<body>\n",
              "    <div>\n",
              "            <script src=\"https://cdnjs.cloudflare.com/ajax/libs/mathjax/2.7.5/MathJax.js?config=TeX-AMS-MML_SVG\"></script><script type=\"text/javascript\">if (window.MathJax) {MathJax.Hub.Config({SVG: {font: \"STIX-Web\"}});}</script>\n",
              "                <script type=\"text/javascript\">window.PlotlyConfig = {MathJaxConfig: 'local'};</script>\n",
              "        <script src=\"https://cdn.plot.ly/plotly-latest.min.js\"></script>    \n",
              "            <div id=\"6af16178-6fa7-42b5-bf96-1cf7e7967ace\" class=\"plotly-graph-div\" style=\"height:525px; width:100%;\"></div>\n",
              "            <script type=\"text/javascript\">\n",
              "                \n",
              "                    window.PLOTLYENV=window.PLOTLYENV || {};\n",
              "                    \n",
              "                if (document.getElementById(\"6af16178-6fa7-42b5-bf96-1cf7e7967ace\")) {\n",
              "                    Plotly.newPlot(\n",
              "                        '6af16178-6fa7-42b5-bf96-1cf7e7967ace',\n",
              "                        [{\"cliponaxis\": false, \"hovertemplate\": [\"n_units_l1 (IntUniformDistribution): 0.0684168211231665<extra></extra>\", \"n_units_l5 (IntUniformDistribution): 0.07460134565834532<extra></extra>\", \"lr (LogUniformDistribution): 0.08356401584339493<extra></extra>\", \"n_units_l4 (IntUniformDistribution): 0.08969220035038165<extra></extra>\", \"n_units_l2 (IntUniformDistribution): 0.12380934625364036<extra></extra>\", \"n_units_l3 (IntUniformDistribution): 0.13553768845775138<extra></extra>\", \"n_units_l0 (IntUniformDistribution): 0.17792020275962858<extra></extra>\", \"n_units_l6 (IntUniformDistribution): 0.24645837955369143<extra></extra>\"], \"marker\": {\"color\": \"rgb(66,146,198)\"}, \"orientation\": \"h\", \"text\": [\"0.0684168211231665\", \"0.07460134565834532\", \"0.08356401584339493\", \"0.08969220035038165\", \"0.12380934625364036\", \"0.13553768845775138\", \"0.17792020275962858\", \"0.24645837955369143\"], \"textposition\": \"outside\", \"texttemplate\": \"%{text:.2f}\", \"type\": \"bar\", \"x\": [0.0684168211231665, 0.07460134565834532, 0.08356401584339493, 0.08969220035038165, 0.12380934625364036, 0.13553768845775138, 0.17792020275962858, 0.24645837955369143], \"y\": [\"n_units_l1\", \"n_units_l5\", \"lr\", \"n_units_l4\", \"n_units_l2\", \"n_units_l3\", \"n_units_l0\", \"n_units_l6\"]}],\n",
              "                        {\"showlegend\": false, \"template\": {\"data\": {\"bar\": [{\"error_x\": {\"color\": \"#2a3f5f\"}, \"error_y\": {\"color\": \"#2a3f5f\"}, \"marker\": {\"line\": {\"color\": \"#E5ECF6\", \"width\": 0.5}}, \"type\": \"bar\"}], \"barpolar\": [{\"marker\": {\"line\": {\"color\": \"#E5ECF6\", \"width\": 0.5}}, \"type\": \"barpolar\"}], \"carpet\": [{\"aaxis\": {\"endlinecolor\": \"#2a3f5f\", \"gridcolor\": \"white\", \"linecolor\": \"white\", \"minorgridcolor\": \"white\", \"startlinecolor\": \"#2a3f5f\"}, \"baxis\": {\"endlinecolor\": \"#2a3f5f\", \"gridcolor\": \"white\", \"linecolor\": \"white\", \"minorgridcolor\": \"white\", \"startlinecolor\": \"#2a3f5f\"}, \"type\": \"carpet\"}], \"choropleth\": [{\"colorbar\": {\"outlinewidth\": 0, \"ticks\": \"\"}, \"type\": \"choropleth\"}], \"contour\": [{\"colorbar\": {\"outlinewidth\": 0, \"ticks\": \"\"}, \"colorscale\": [[0.0, \"#0d0887\"], [0.1111111111111111, \"#46039f\"], [0.2222222222222222, \"#7201a8\"], [0.3333333333333333, \"#9c179e\"], [0.4444444444444444, \"#bd3786\"], [0.5555555555555556, \"#d8576b\"], [0.6666666666666666, \"#ed7953\"], [0.7777777777777778, \"#fb9f3a\"], [0.8888888888888888, \"#fdca26\"], [1.0, \"#f0f921\"]], \"type\": \"contour\"}], \"contourcarpet\": [{\"colorbar\": {\"outlinewidth\": 0, \"ticks\": \"\"}, \"type\": \"contourcarpet\"}], \"heatmap\": [{\"colorbar\": {\"outlinewidth\": 0, \"ticks\": \"\"}, \"colorscale\": [[0.0, \"#0d0887\"], [0.1111111111111111, \"#46039f\"], [0.2222222222222222, \"#7201a8\"], [0.3333333333333333, \"#9c179e\"], [0.4444444444444444, \"#bd3786\"], [0.5555555555555556, \"#d8576b\"], [0.6666666666666666, \"#ed7953\"], [0.7777777777777778, \"#fb9f3a\"], [0.8888888888888888, \"#fdca26\"], [1.0, \"#f0f921\"]], \"type\": \"heatmap\"}], \"heatmapgl\": [{\"colorbar\": {\"outlinewidth\": 0, \"ticks\": \"\"}, \"colorscale\": [[0.0, \"#0d0887\"], [0.1111111111111111, \"#46039f\"], [0.2222222222222222, \"#7201a8\"], [0.3333333333333333, \"#9c179e\"], [0.4444444444444444, \"#bd3786\"], [0.5555555555555556, \"#d8576b\"], [0.6666666666666666, \"#ed7953\"], [0.7777777777777778, \"#fb9f3a\"], [0.8888888888888888, \"#fdca26\"], [1.0, \"#f0f921\"]], \"type\": \"heatmapgl\"}], \"histogram\": [{\"marker\": {\"colorbar\": {\"outlinewidth\": 0, \"ticks\": \"\"}}, \"type\": \"histogram\"}], \"histogram2d\": [{\"colorbar\": {\"outlinewidth\": 0, \"ticks\": \"\"}, \"colorscale\": [[0.0, \"#0d0887\"], [0.1111111111111111, \"#46039f\"], [0.2222222222222222, \"#7201a8\"], [0.3333333333333333, \"#9c179e\"], [0.4444444444444444, \"#bd3786\"], [0.5555555555555556, \"#d8576b\"], [0.6666666666666666, \"#ed7953\"], [0.7777777777777778, \"#fb9f3a\"], [0.8888888888888888, \"#fdca26\"], [1.0, \"#f0f921\"]], \"type\": \"histogram2d\"}], \"histogram2dcontour\": [{\"colorbar\": {\"outlinewidth\": 0, \"ticks\": \"\"}, \"colorscale\": [[0.0, \"#0d0887\"], [0.1111111111111111, \"#46039f\"], [0.2222222222222222, \"#7201a8\"], [0.3333333333333333, \"#9c179e\"], [0.4444444444444444, \"#bd3786\"], [0.5555555555555556, \"#d8576b\"], [0.6666666666666666, \"#ed7953\"], [0.7777777777777778, \"#fb9f3a\"], [0.8888888888888888, \"#fdca26\"], [1.0, \"#f0f921\"]], \"type\": \"histogram2dcontour\"}], \"mesh3d\": [{\"colorbar\": {\"outlinewidth\": 0, \"ticks\": \"\"}, \"type\": \"mesh3d\"}], \"parcoords\": [{\"line\": {\"colorbar\": {\"outlinewidth\": 0, \"ticks\": \"\"}}, \"type\": \"parcoords\"}], \"pie\": [{\"automargin\": true, \"type\": \"pie\"}], \"scatter\": [{\"marker\": {\"colorbar\": {\"outlinewidth\": 0, \"ticks\": \"\"}}, \"type\": \"scatter\"}], \"scatter3d\": [{\"line\": {\"colorbar\": {\"outlinewidth\": 0, \"ticks\": \"\"}}, \"marker\": {\"colorbar\": {\"outlinewidth\": 0, \"ticks\": \"\"}}, \"type\": \"scatter3d\"}], \"scattercarpet\": [{\"marker\": {\"colorbar\": {\"outlinewidth\": 0, \"ticks\": \"\"}}, \"type\": \"scattercarpet\"}], \"scattergeo\": [{\"marker\": {\"colorbar\": {\"outlinewidth\": 0, \"ticks\": \"\"}}, \"type\": \"scattergeo\"}], \"scattergl\": [{\"marker\": {\"colorbar\": {\"outlinewidth\": 0, \"ticks\": \"\"}}, \"type\": \"scattergl\"}], \"scattermapbox\": [{\"marker\": {\"colorbar\": {\"outlinewidth\": 0, \"ticks\": \"\"}}, \"type\": \"scattermapbox\"}], \"scatterpolar\": [{\"marker\": {\"colorbar\": {\"outlinewidth\": 0, \"ticks\": \"\"}}, \"type\": \"scatterpolar\"}], \"scatterpolargl\": [{\"marker\": {\"colorbar\": {\"outlinewidth\": 0, \"ticks\": \"\"}}, \"type\": \"scatterpolargl\"}], \"scatterternary\": [{\"marker\": {\"colorbar\": {\"outlinewidth\": 0, \"ticks\": \"\"}}, \"type\": \"scatterternary\"}], \"surface\": [{\"colorbar\": {\"outlinewidth\": 0, \"ticks\": \"\"}, \"colorscale\": [[0.0, \"#0d0887\"], [0.1111111111111111, \"#46039f\"], [0.2222222222222222, \"#7201a8\"], [0.3333333333333333, \"#9c179e\"], [0.4444444444444444, \"#bd3786\"], [0.5555555555555556, \"#d8576b\"], [0.6666666666666666, \"#ed7953\"], [0.7777777777777778, \"#fb9f3a\"], [0.8888888888888888, \"#fdca26\"], [1.0, \"#f0f921\"]], \"type\": \"surface\"}], \"table\": [{\"cells\": {\"fill\": {\"color\": \"#EBF0F8\"}, \"line\": {\"color\": \"white\"}}, \"header\": {\"fill\": {\"color\": \"#C8D4E3\"}, \"line\": {\"color\": \"white\"}}, \"type\": \"table\"}]}, \"layout\": {\"annotationdefaults\": {\"arrowcolor\": \"#2a3f5f\", \"arrowhead\": 0, \"arrowwidth\": 1}, \"coloraxis\": {\"colorbar\": {\"outlinewidth\": 0, \"ticks\": \"\"}}, \"colorscale\": {\"diverging\": [[0, \"#8e0152\"], [0.1, \"#c51b7d\"], [0.2, \"#de77ae\"], [0.3, \"#f1b6da\"], [0.4, \"#fde0ef\"], [0.5, \"#f7f7f7\"], [0.6, \"#e6f5d0\"], [0.7, \"#b8e186\"], [0.8, \"#7fbc41\"], [0.9, \"#4d9221\"], [1, \"#276419\"]], \"sequential\": [[0.0, \"#0d0887\"], [0.1111111111111111, \"#46039f\"], [0.2222222222222222, \"#7201a8\"], [0.3333333333333333, \"#9c179e\"], [0.4444444444444444, \"#bd3786\"], [0.5555555555555556, \"#d8576b\"], [0.6666666666666666, \"#ed7953\"], [0.7777777777777778, \"#fb9f3a\"], [0.8888888888888888, \"#fdca26\"], [1.0, \"#f0f921\"]], \"sequentialminus\": [[0.0, \"#0d0887\"], [0.1111111111111111, \"#46039f\"], [0.2222222222222222, \"#7201a8\"], [0.3333333333333333, \"#9c179e\"], [0.4444444444444444, \"#bd3786\"], [0.5555555555555556, \"#d8576b\"], [0.6666666666666666, \"#ed7953\"], [0.7777777777777778, \"#fb9f3a\"], [0.8888888888888888, \"#fdca26\"], [1.0, \"#f0f921\"]]}, \"colorway\": [\"#636efa\", \"#EF553B\", \"#00cc96\", \"#ab63fa\", \"#FFA15A\", \"#19d3f3\", \"#FF6692\", \"#B6E880\", \"#FF97FF\", \"#FECB52\"], \"font\": {\"color\": \"#2a3f5f\"}, \"geo\": {\"bgcolor\": \"white\", \"lakecolor\": \"white\", \"landcolor\": \"#E5ECF6\", \"showlakes\": true, \"showland\": true, \"subunitcolor\": \"white\"}, \"hoverlabel\": {\"align\": \"left\"}, \"hovermode\": \"closest\", \"mapbox\": {\"style\": \"light\"}, \"paper_bgcolor\": \"white\", \"plot_bgcolor\": \"#E5ECF6\", \"polar\": {\"angularaxis\": {\"gridcolor\": \"white\", \"linecolor\": \"white\", \"ticks\": \"\"}, \"bgcolor\": \"#E5ECF6\", \"radialaxis\": {\"gridcolor\": \"white\", \"linecolor\": \"white\", \"ticks\": \"\"}}, \"scene\": {\"xaxis\": {\"backgroundcolor\": \"#E5ECF6\", \"gridcolor\": \"white\", \"gridwidth\": 2, \"linecolor\": \"white\", \"showbackground\": true, \"ticks\": \"\", \"zerolinecolor\": \"white\"}, \"yaxis\": {\"backgroundcolor\": \"#E5ECF6\", \"gridcolor\": \"white\", \"gridwidth\": 2, \"linecolor\": \"white\", \"showbackground\": true, \"ticks\": \"\", \"zerolinecolor\": \"white\"}, \"zaxis\": {\"backgroundcolor\": \"#E5ECF6\", \"gridcolor\": \"white\", \"gridwidth\": 2, \"linecolor\": \"white\", \"showbackground\": true, \"ticks\": \"\", \"zerolinecolor\": \"white\"}}, \"shapedefaults\": {\"line\": {\"color\": \"#2a3f5f\"}}, \"ternary\": {\"aaxis\": {\"gridcolor\": \"white\", \"linecolor\": \"white\", \"ticks\": \"\"}, \"baxis\": {\"gridcolor\": \"white\", \"linecolor\": \"white\", \"ticks\": \"\"}, \"bgcolor\": \"#E5ECF6\", \"caxis\": {\"gridcolor\": \"white\", \"linecolor\": \"white\", \"ticks\": \"\"}}, \"title\": {\"x\": 0.05}, \"xaxis\": {\"automargin\": true, \"gridcolor\": \"white\", \"linecolor\": \"white\", \"ticks\": \"\", \"title\": {\"standoff\": 15}, \"zerolinecolor\": \"white\", \"zerolinewidth\": 2}, \"yaxis\": {\"automargin\": true, \"gridcolor\": \"white\", \"linecolor\": \"white\", \"ticks\": \"\", \"title\": {\"standoff\": 15}, \"zerolinecolor\": \"white\", \"zerolinewidth\": 2}}}, \"title\": {\"text\": \"Hyperparameter Importances\"}, \"xaxis\": {\"title\": {\"text\": \"Importance for Objective Value\"}}, \"yaxis\": {\"title\": {\"text\": \"Hyperparameter\"}}},\n",
              "                        {\"responsive\": true}\n",
              "                    ).then(function(){\n",
              "                            \n",
              "var gd = document.getElementById('6af16178-6fa7-42b5-bf96-1cf7e7967ace');\n",
              "var x = new MutationObserver(function (mutations, observer) {{\n",
              "        var display = window.getComputedStyle(gd).display;\n",
              "        if (!display || display === 'none') {{\n",
              "            console.log([gd, 'removed!']);\n",
              "            Plotly.purge(gd);\n",
              "            observer.disconnect();\n",
              "        }}\n",
              "}});\n",
              "\n",
              "// Listen for the removal of the full notebook cells\n",
              "var notebookContainer = gd.closest('#notebook-container');\n",
              "if (notebookContainer) {{\n",
              "    x.observe(notebookContainer, {childList: true});\n",
              "}}\n",
              "\n",
              "// Listen for the clearing of the current output cell\n",
              "var outputEl = gd.closest('.output');\n",
              "if (outputEl) {{\n",
              "    x.observe(outputEl, {childList: true});\n",
              "}}\n",
              "\n",
              "                        })\n",
              "                };\n",
              "                \n",
              "            </script>\n",
              "        </div>\n",
              "</body>\n",
              "</html>"
            ]
          },
          "metadata": {}
        }
      ]
    },
    {
      "cell_type": "code",
      "metadata": {
        "id": "eplm67rlPywv",
        "colab": {
          "base_uri": "https://localhost:8080/",
          "height": 562
        },
        "outputId": "45e15ed9-de22-4868-8856-c348fc825716"
      },
      "source": [
        "optuna.visualization.plot_slice(study)"
      ],
      "id": "eplm67rlPywv",
      "execution_count": null,
      "outputs": [
        {
          "output_type": "display_data",
          "data": {
            "text/html": [
              "<html>\n",
              "<head><meta charset=\"utf-8\" /></head>\n",
              "<body>\n",
              "    <div>\n",
              "            <script src=\"https://cdnjs.cloudflare.com/ajax/libs/mathjax/2.7.5/MathJax.js?config=TeX-AMS-MML_SVG\"></script><script type=\"text/javascript\">if (window.MathJax) {MathJax.Hub.Config({SVG: {font: \"STIX-Web\"}});}</script>\n",
              "                <script type=\"text/javascript\">window.PlotlyConfig = {MathJaxConfig: 'local'};</script>\n",
              "        <script src=\"https://cdn.plot.ly/plotly-latest.min.js\"></script>    \n",
              "            <div id=\"6e13920b-8cd3-4817-9778-7d604a89da66\" class=\"plotly-graph-div\" style=\"height:525px; width:2400px;\"></div>\n",
              "            <script type=\"text/javascript\">\n",
              "                \n",
              "                    window.PLOTLYENV=window.PLOTLYENV || {};\n",
              "                    \n",
              "                if (document.getElementById(\"6e13920b-8cd3-4817-9778-7d604a89da66\")) {\n",
              "                    Plotly.newPlot(\n",
              "                        '6e13920b-8cd3-4817-9778-7d604a89da66',\n",
              "                        [{\"marker\": {\"color\": [0, 1, 2], \"colorbar\": {\"title\": {\"text\": \"#Trials\"}, \"x\": 1.0, \"xpad\": 40}, \"colorscale\": [[0.0, \"rgb(247,251,255)\"], [0.125, \"rgb(222,235,247)\"], [0.25, \"rgb(198,219,239)\"], [0.375, \"rgb(158,202,225)\"], [0.5, \"rgb(107,174,214)\"], [0.625, \"rgb(66,146,198)\"], [0.75, \"rgb(33,113,181)\"], [0.875, \"rgb(8,81,156)\"], [1.0, \"rgb(8,48,107)\"]], \"line\": {\"color\": \"Grey\", \"width\": 0.5}, \"showscale\": true}, \"mode\": \"markers\", \"showlegend\": false, \"type\": \"scatter\", \"x\": [0.0052611474876494676, 0.002151377082188266, 0.002826368931288359], \"xaxis\": \"x\", \"y\": [1254385.0365384617, 1251211.6862179488, 1252917.7993589744], \"yaxis\": \"y\"}, {\"marker\": {\"color\": [0, 1, 2], \"colorbar\": {\"title\": {\"text\": \"#Trials\"}, \"x\": 1.0, \"xpad\": 40}, \"colorscale\": [[0.0, \"rgb(247,251,255)\"], [0.125, \"rgb(222,235,247)\"], [0.25, \"rgb(198,219,239)\"], [0.375, \"rgb(158,202,225)\"], [0.5, \"rgb(107,174,214)\"], [0.625, \"rgb(66,146,198)\"], [0.75, \"rgb(33,113,181)\"], [0.875, \"rgb(8,81,156)\"], [1.0, \"rgb(8,48,107)\"]], \"line\": {\"color\": \"Grey\", \"width\": 0.5}, \"showscale\": false}, \"mode\": \"markers\", \"showlegend\": false, \"type\": \"scatter\", \"x\": [1162, 1227, 1183], \"xaxis\": \"x2\", \"y\": [1254385.0365384617, 1251211.6862179488, 1252917.7993589744], \"yaxis\": \"y2\"}, {\"marker\": {\"color\": [0, 1, 2], \"colorbar\": {\"title\": {\"text\": \"#Trials\"}, \"x\": 1.0, \"xpad\": 40}, \"colorscale\": [[0.0, \"rgb(247,251,255)\"], [0.125, \"rgb(222,235,247)\"], [0.25, \"rgb(198,219,239)\"], [0.375, \"rgb(158,202,225)\"], [0.5, \"rgb(107,174,214)\"], [0.625, \"rgb(66,146,198)\"], [0.75, \"rgb(33,113,181)\"], [0.875, \"rgb(8,81,156)\"], [1.0, \"rgb(8,48,107)\"]], \"line\": {\"color\": \"Grey\", \"width\": 0.5}, \"showscale\": false}, \"mode\": \"markers\", \"showlegend\": false, \"type\": \"scatter\", \"x\": [756, 888, 1073], \"xaxis\": \"x3\", \"y\": [1254385.0365384617, 1251211.6862179488, 1252917.7993589744], \"yaxis\": \"y3\"}, {\"marker\": {\"color\": [0, 1, 2], \"colorbar\": {\"title\": {\"text\": \"#Trials\"}, \"x\": 1.0, \"xpad\": 40}, \"colorscale\": [[0.0, \"rgb(247,251,255)\"], [0.125, \"rgb(222,235,247)\"], [0.25, \"rgb(198,219,239)\"], [0.375, \"rgb(158,202,225)\"], [0.5, \"rgb(107,174,214)\"], [0.625, \"rgb(66,146,198)\"], [0.75, \"rgb(33,113,181)\"], [0.875, \"rgb(8,81,156)\"], [1.0, \"rgb(8,48,107)\"]], \"line\": {\"color\": \"Grey\", \"width\": 0.5}, \"showscale\": false}, \"mode\": \"markers\", \"showlegend\": false, \"type\": \"scatter\", \"x\": [552, 637, 567], \"xaxis\": \"x4\", \"y\": [1254385.0365384617, 1251211.6862179488, 1252917.7993589744], \"yaxis\": \"y4\"}, {\"marker\": {\"color\": [0, 1, 2], \"colorbar\": {\"title\": {\"text\": \"#Trials\"}, \"x\": 1.0, \"xpad\": 40}, \"colorscale\": [[0.0, \"rgb(247,251,255)\"], [0.125, \"rgb(222,235,247)\"], [0.25, \"rgb(198,219,239)\"], [0.375, \"rgb(158,202,225)\"], [0.5, \"rgb(107,174,214)\"], [0.625, \"rgb(66,146,198)\"], [0.75, \"rgb(33,113,181)\"], [0.875, \"rgb(8,81,156)\"], [1.0, \"rgb(8,48,107)\"]], \"line\": {\"color\": \"Grey\", \"width\": 0.5}, \"showscale\": false}, \"mode\": \"markers\", \"showlegend\": false, \"type\": \"scatter\", \"x\": [528, 320, 530], \"xaxis\": \"x5\", \"y\": [1254385.0365384617, 1251211.6862179488, 1252917.7993589744], \"yaxis\": \"y5\"}, {\"marker\": {\"color\": [0, 1, 2], \"colorbar\": {\"title\": {\"text\": \"#Trials\"}, \"x\": 1.0, \"xpad\": 40}, \"colorscale\": [[0.0, \"rgb(247,251,255)\"], [0.125, \"rgb(222,235,247)\"], [0.25, \"rgb(198,219,239)\"], [0.375, \"rgb(158,202,225)\"], [0.5, \"rgb(107,174,214)\"], [0.625, \"rgb(66,146,198)\"], [0.75, \"rgb(33,113,181)\"], [0.875, \"rgb(8,81,156)\"], [1.0, \"rgb(8,48,107)\"]], \"line\": {\"color\": \"Grey\", \"width\": 0.5}, \"showscale\": false}, \"mode\": \"markers\", \"showlegend\": false, \"type\": \"scatter\", \"x\": [174, 254, 288], \"xaxis\": \"x6\", \"y\": [1254385.0365384617, 1251211.6862179488, 1252917.7993589744], \"yaxis\": \"y6\"}, {\"marker\": {\"color\": [0, 1, 2], \"colorbar\": {\"title\": {\"text\": \"#Trials\"}, \"x\": 1.0, \"xpad\": 40}, \"colorscale\": [[0.0, \"rgb(247,251,255)\"], [0.125, \"rgb(222,235,247)\"], [0.25, \"rgb(198,219,239)\"], [0.375, \"rgb(158,202,225)\"], [0.5, \"rgb(107,174,214)\"], [0.625, \"rgb(66,146,198)\"], [0.75, \"rgb(33,113,181)\"], [0.875, \"rgb(8,81,156)\"], [1.0, \"rgb(8,48,107)\"]], \"line\": {\"color\": \"Grey\", \"width\": 0.5}, \"showscale\": false}, \"mode\": \"markers\", \"showlegend\": false, \"type\": \"scatter\", \"x\": [92, 90, 110], \"xaxis\": \"x7\", \"y\": [1254385.0365384617, 1251211.6862179488, 1252917.7993589744], \"yaxis\": \"y7\"}, {\"marker\": {\"color\": [0, 1, 2], \"colorbar\": {\"title\": {\"text\": \"#Trials\"}, \"x\": 1.0, \"xpad\": 40}, \"colorscale\": [[0.0, \"rgb(247,251,255)\"], [0.125, \"rgb(222,235,247)\"], [0.25, \"rgb(198,219,239)\"], [0.375, \"rgb(158,202,225)\"], [0.5, \"rgb(107,174,214)\"], [0.625, \"rgb(66,146,198)\"], [0.75, \"rgb(33,113,181)\"], [0.875, \"rgb(8,81,156)\"], [1.0, \"rgb(8,48,107)\"]], \"line\": {\"color\": \"Grey\", \"width\": 0.5}, \"showscale\": false}, \"mode\": \"markers\", \"showlegend\": false, \"type\": \"scatter\", \"x\": [86, 90, 52], \"xaxis\": \"x8\", \"y\": [1254385.0365384617, 1251211.6862179488, 1252917.7993589744], \"yaxis\": \"y8\"}],\n",
              "                        {\"template\": {\"data\": {\"bar\": [{\"error_x\": {\"color\": \"#2a3f5f\"}, \"error_y\": {\"color\": \"#2a3f5f\"}, \"marker\": {\"line\": {\"color\": \"#E5ECF6\", \"width\": 0.5}}, \"type\": \"bar\"}], \"barpolar\": [{\"marker\": {\"line\": {\"color\": \"#E5ECF6\", \"width\": 0.5}}, \"type\": \"barpolar\"}], \"carpet\": [{\"aaxis\": {\"endlinecolor\": \"#2a3f5f\", \"gridcolor\": \"white\", \"linecolor\": \"white\", \"minorgridcolor\": \"white\", \"startlinecolor\": \"#2a3f5f\"}, \"baxis\": {\"endlinecolor\": \"#2a3f5f\", \"gridcolor\": \"white\", \"linecolor\": \"white\", \"minorgridcolor\": \"white\", \"startlinecolor\": \"#2a3f5f\"}, \"type\": \"carpet\"}], \"choropleth\": [{\"colorbar\": {\"outlinewidth\": 0, \"ticks\": \"\"}, \"type\": \"choropleth\"}], \"contour\": [{\"colorbar\": {\"outlinewidth\": 0, \"ticks\": \"\"}, \"colorscale\": [[0.0, \"#0d0887\"], [0.1111111111111111, \"#46039f\"], [0.2222222222222222, \"#7201a8\"], [0.3333333333333333, \"#9c179e\"], [0.4444444444444444, \"#bd3786\"], [0.5555555555555556, \"#d8576b\"], [0.6666666666666666, \"#ed7953\"], [0.7777777777777778, \"#fb9f3a\"], [0.8888888888888888, \"#fdca26\"], [1.0, \"#f0f921\"]], \"type\": \"contour\"}], \"contourcarpet\": [{\"colorbar\": {\"outlinewidth\": 0, \"ticks\": \"\"}, \"type\": \"contourcarpet\"}], \"heatmap\": [{\"colorbar\": {\"outlinewidth\": 0, \"ticks\": \"\"}, \"colorscale\": [[0.0, \"#0d0887\"], [0.1111111111111111, \"#46039f\"], [0.2222222222222222, \"#7201a8\"], [0.3333333333333333, \"#9c179e\"], [0.4444444444444444, \"#bd3786\"], [0.5555555555555556, \"#d8576b\"], [0.6666666666666666, \"#ed7953\"], [0.7777777777777778, \"#fb9f3a\"], [0.8888888888888888, \"#fdca26\"], [1.0, \"#f0f921\"]], \"type\": \"heatmap\"}], \"heatmapgl\": [{\"colorbar\": {\"outlinewidth\": 0, \"ticks\": \"\"}, \"colorscale\": [[0.0, \"#0d0887\"], [0.1111111111111111, \"#46039f\"], [0.2222222222222222, \"#7201a8\"], [0.3333333333333333, \"#9c179e\"], [0.4444444444444444, \"#bd3786\"], [0.5555555555555556, \"#d8576b\"], [0.6666666666666666, \"#ed7953\"], [0.7777777777777778, \"#fb9f3a\"], [0.8888888888888888, \"#fdca26\"], [1.0, \"#f0f921\"]], \"type\": \"heatmapgl\"}], \"histogram\": [{\"marker\": {\"colorbar\": {\"outlinewidth\": 0, \"ticks\": \"\"}}, \"type\": \"histogram\"}], \"histogram2d\": [{\"colorbar\": {\"outlinewidth\": 0, \"ticks\": \"\"}, \"colorscale\": [[0.0, \"#0d0887\"], [0.1111111111111111, \"#46039f\"], [0.2222222222222222, \"#7201a8\"], [0.3333333333333333, \"#9c179e\"], [0.4444444444444444, \"#bd3786\"], [0.5555555555555556, \"#d8576b\"], [0.6666666666666666, \"#ed7953\"], [0.7777777777777778, \"#fb9f3a\"], [0.8888888888888888, \"#fdca26\"], [1.0, \"#f0f921\"]], \"type\": \"histogram2d\"}], \"histogram2dcontour\": [{\"colorbar\": {\"outlinewidth\": 0, \"ticks\": \"\"}, \"colorscale\": [[0.0, \"#0d0887\"], [0.1111111111111111, \"#46039f\"], [0.2222222222222222, \"#7201a8\"], [0.3333333333333333, \"#9c179e\"], [0.4444444444444444, \"#bd3786\"], [0.5555555555555556, \"#d8576b\"], [0.6666666666666666, \"#ed7953\"], [0.7777777777777778, \"#fb9f3a\"], [0.8888888888888888, \"#fdca26\"], [1.0, \"#f0f921\"]], \"type\": \"histogram2dcontour\"}], \"mesh3d\": [{\"colorbar\": {\"outlinewidth\": 0, \"ticks\": \"\"}, \"type\": \"mesh3d\"}], \"parcoords\": [{\"line\": {\"colorbar\": {\"outlinewidth\": 0, \"ticks\": \"\"}}, \"type\": \"parcoords\"}], \"pie\": [{\"automargin\": true, \"type\": \"pie\"}], \"scatter\": [{\"marker\": {\"colorbar\": {\"outlinewidth\": 0, \"ticks\": \"\"}}, \"type\": \"scatter\"}], \"scatter3d\": [{\"line\": {\"colorbar\": {\"outlinewidth\": 0, \"ticks\": \"\"}}, \"marker\": {\"colorbar\": {\"outlinewidth\": 0, \"ticks\": \"\"}}, \"type\": \"scatter3d\"}], \"scattercarpet\": [{\"marker\": {\"colorbar\": {\"outlinewidth\": 0, \"ticks\": \"\"}}, \"type\": \"scattercarpet\"}], \"scattergeo\": [{\"marker\": {\"colorbar\": {\"outlinewidth\": 0, \"ticks\": \"\"}}, \"type\": \"scattergeo\"}], \"scattergl\": [{\"marker\": {\"colorbar\": {\"outlinewidth\": 0, \"ticks\": \"\"}}, \"type\": \"scattergl\"}], \"scattermapbox\": [{\"marker\": {\"colorbar\": {\"outlinewidth\": 0, \"ticks\": \"\"}}, \"type\": \"scattermapbox\"}], \"scatterpolar\": [{\"marker\": {\"colorbar\": {\"outlinewidth\": 0, \"ticks\": \"\"}}, \"type\": \"scatterpolar\"}], \"scatterpolargl\": [{\"marker\": {\"colorbar\": {\"outlinewidth\": 0, \"ticks\": \"\"}}, \"type\": \"scatterpolargl\"}], \"scatterternary\": [{\"marker\": {\"colorbar\": {\"outlinewidth\": 0, \"ticks\": \"\"}}, \"type\": \"scatterternary\"}], \"surface\": [{\"colorbar\": {\"outlinewidth\": 0, \"ticks\": \"\"}, \"colorscale\": [[0.0, \"#0d0887\"], [0.1111111111111111, \"#46039f\"], [0.2222222222222222, \"#7201a8\"], [0.3333333333333333, \"#9c179e\"], [0.4444444444444444, \"#bd3786\"], [0.5555555555555556, \"#d8576b\"], [0.6666666666666666, \"#ed7953\"], [0.7777777777777778, \"#fb9f3a\"], [0.8888888888888888, \"#fdca26\"], [1.0, \"#f0f921\"]], \"type\": \"surface\"}], \"table\": [{\"cells\": {\"fill\": {\"color\": \"#EBF0F8\"}, \"line\": {\"color\": \"white\"}}, \"header\": {\"fill\": {\"color\": \"#C8D4E3\"}, \"line\": {\"color\": \"white\"}}, \"type\": \"table\"}]}, \"layout\": {\"annotationdefaults\": {\"arrowcolor\": \"#2a3f5f\", \"arrowhead\": 0, \"arrowwidth\": 1}, \"coloraxis\": {\"colorbar\": {\"outlinewidth\": 0, \"ticks\": \"\"}}, \"colorscale\": {\"diverging\": [[0, \"#8e0152\"], [0.1, \"#c51b7d\"], [0.2, \"#de77ae\"], [0.3, \"#f1b6da\"], [0.4, \"#fde0ef\"], [0.5, \"#f7f7f7\"], [0.6, \"#e6f5d0\"], [0.7, \"#b8e186\"], [0.8, \"#7fbc41\"], [0.9, \"#4d9221\"], [1, \"#276419\"]], \"sequential\": [[0.0, \"#0d0887\"], [0.1111111111111111, \"#46039f\"], [0.2222222222222222, \"#7201a8\"], [0.3333333333333333, \"#9c179e\"], [0.4444444444444444, \"#bd3786\"], [0.5555555555555556, \"#d8576b\"], [0.6666666666666666, \"#ed7953\"], [0.7777777777777778, \"#fb9f3a\"], [0.8888888888888888, \"#fdca26\"], [1.0, \"#f0f921\"]], \"sequentialminus\": [[0.0, \"#0d0887\"], [0.1111111111111111, \"#46039f\"], [0.2222222222222222, \"#7201a8\"], [0.3333333333333333, \"#9c179e\"], [0.4444444444444444, \"#bd3786\"], [0.5555555555555556, \"#d8576b\"], [0.6666666666666666, \"#ed7953\"], [0.7777777777777778, \"#fb9f3a\"], [0.8888888888888888, \"#fdca26\"], [1.0, \"#f0f921\"]]}, \"colorway\": [\"#636efa\", \"#EF553B\", \"#00cc96\", \"#ab63fa\", \"#FFA15A\", \"#19d3f3\", \"#FF6692\", \"#B6E880\", \"#FF97FF\", \"#FECB52\"], \"font\": {\"color\": \"#2a3f5f\"}, \"geo\": {\"bgcolor\": \"white\", \"lakecolor\": \"white\", \"landcolor\": \"#E5ECF6\", \"showlakes\": true, \"showland\": true, \"subunitcolor\": \"white\"}, \"hoverlabel\": {\"align\": \"left\"}, \"hovermode\": \"closest\", \"mapbox\": {\"style\": \"light\"}, \"paper_bgcolor\": \"white\", \"plot_bgcolor\": \"#E5ECF6\", \"polar\": {\"angularaxis\": {\"gridcolor\": \"white\", \"linecolor\": \"white\", \"ticks\": \"\"}, \"bgcolor\": \"#E5ECF6\", \"radialaxis\": {\"gridcolor\": \"white\", \"linecolor\": \"white\", \"ticks\": \"\"}}, \"scene\": {\"xaxis\": {\"backgroundcolor\": \"#E5ECF6\", \"gridcolor\": \"white\", \"gridwidth\": 2, \"linecolor\": \"white\", \"showbackground\": true, \"ticks\": \"\", \"zerolinecolor\": \"white\"}, \"yaxis\": {\"backgroundcolor\": \"#E5ECF6\", \"gridcolor\": \"white\", \"gridwidth\": 2, \"linecolor\": \"white\", \"showbackground\": true, \"ticks\": \"\", \"zerolinecolor\": \"white\"}, \"zaxis\": {\"backgroundcolor\": \"#E5ECF6\", \"gridcolor\": \"white\", \"gridwidth\": 2, \"linecolor\": \"white\", \"showbackground\": true, \"ticks\": \"\", \"zerolinecolor\": \"white\"}}, \"shapedefaults\": {\"line\": {\"color\": \"#2a3f5f\"}}, \"ternary\": {\"aaxis\": {\"gridcolor\": \"white\", \"linecolor\": \"white\", \"ticks\": \"\"}, \"baxis\": {\"gridcolor\": \"white\", \"linecolor\": \"white\", \"ticks\": \"\"}, \"bgcolor\": \"#E5ECF6\", \"caxis\": {\"gridcolor\": \"white\", \"linecolor\": \"white\", \"ticks\": \"\"}}, \"title\": {\"x\": 0.05}, \"xaxis\": {\"automargin\": true, \"gridcolor\": \"white\", \"linecolor\": \"white\", \"ticks\": \"\", \"title\": {\"standoff\": 15}, \"zerolinecolor\": \"white\", \"zerolinewidth\": 2}, \"yaxis\": {\"automargin\": true, \"gridcolor\": \"white\", \"linecolor\": \"white\", \"ticks\": \"\", \"title\": {\"standoff\": 15}, \"zerolinecolor\": \"white\", \"zerolinewidth\": 2}}}, \"title\": {\"text\": \"Slice Plot\"}, \"width\": 2400, \"xaxis\": {\"anchor\": \"y\", \"domain\": [0.0, 0.103125], \"title\": {\"text\": \"lr\"}, \"type\": \"log\"}, \"xaxis2\": {\"anchor\": \"y2\", \"domain\": [0.128125, 0.23124999999999998], \"title\": {\"text\": \"n_units_l0\"}}, \"xaxis3\": {\"anchor\": \"y3\", \"domain\": [0.25625, 0.359375], \"title\": {\"text\": \"n_units_l1\"}}, \"xaxis4\": {\"anchor\": \"y4\", \"domain\": [0.38437499999999997, 0.48749999999999993], \"title\": {\"text\": \"n_units_l2\"}}, \"xaxis5\": {\"anchor\": \"y5\", \"domain\": [0.5125, 0.615625], \"title\": {\"text\": \"n_units_l3\"}}, \"xaxis6\": {\"anchor\": \"y6\", \"domain\": [0.640625, 0.74375], \"title\": {\"text\": \"n_units_l4\"}}, \"xaxis7\": {\"anchor\": \"y7\", \"domain\": [0.76875, 0.8718750000000001], \"title\": {\"text\": \"n_units_l5\"}}, \"xaxis8\": {\"anchor\": \"y8\", \"domain\": [0.8968750000000001, 1.0], \"title\": {\"text\": \"n_units_l6\"}}, \"yaxis\": {\"anchor\": \"x\", \"domain\": [0.0, 1.0], \"title\": {\"text\": \"Objective Value\"}}, \"yaxis2\": {\"anchor\": \"x2\", \"domain\": [0.0, 1.0], \"matches\": \"y\", \"showticklabels\": false}, \"yaxis3\": {\"anchor\": \"x3\", \"domain\": [0.0, 1.0], \"matches\": \"y\", \"showticklabels\": false}, \"yaxis4\": {\"anchor\": \"x4\", \"domain\": [0.0, 1.0], \"matches\": \"y\", \"showticklabels\": false}, \"yaxis5\": {\"anchor\": \"x5\", \"domain\": [0.0, 1.0], \"matches\": \"y\", \"showticklabels\": false}, \"yaxis6\": {\"anchor\": \"x6\", \"domain\": [0.0, 1.0], \"matches\": \"y\", \"showticklabels\": false}, \"yaxis7\": {\"anchor\": \"x7\", \"domain\": [0.0, 1.0], \"matches\": \"y\", \"showticklabels\": false}, \"yaxis8\": {\"anchor\": \"x8\", \"domain\": [0.0, 1.0], \"matches\": \"y\", \"showticklabels\": false}},\n",
              "                        {\"responsive\": true}\n",
              "                    ).then(function(){\n",
              "                            \n",
              "var gd = document.getElementById('6e13920b-8cd3-4817-9778-7d604a89da66');\n",
              "var x = new MutationObserver(function (mutations, observer) {{\n",
              "        var display = window.getComputedStyle(gd).display;\n",
              "        if (!display || display === 'none') {{\n",
              "            console.log([gd, 'removed!']);\n",
              "            Plotly.purge(gd);\n",
              "            observer.disconnect();\n",
              "        }}\n",
              "}});\n",
              "\n",
              "// Listen for the removal of the full notebook cells\n",
              "var notebookContainer = gd.closest('#notebook-container');\n",
              "if (notebookContainer) {{\n",
              "    x.observe(notebookContainer, {childList: true});\n",
              "}}\n",
              "\n",
              "// Listen for the clearing of the current output cell\n",
              "var outputEl = gd.closest('.output');\n",
              "if (outputEl) {{\n",
              "    x.observe(outputEl, {childList: true});\n",
              "}}\n",
              "\n",
              "                        })\n",
              "                };\n",
              "                \n",
              "            </script>\n",
              "        </div>\n",
              "</body>\n",
              "</html>"
            ]
          },
          "metadata": {}
        }
      ]
    },
    {
      "cell_type": "markdown",
      "metadata": {
        "id": "95d9Y-Wuvpgt"
      },
      "source": [
        "---\n",
        "## ***5. Takeaways and next steps:***\n",
        "---"
      ],
      "id": "95d9Y-Wuvpgt"
    },
    {
      "cell_type": "markdown",
      "metadata": {
        "id": "mHMvMDxxv1R8"
      },
      "source": [
        "#### ***a. Data cleaning:***\n",
        ">This data was fairly clean, but extracting more signal from it would have taken considerably more time, e.g. extracting street name features from address.<br><br>\n",
        "We could have spent a lot longer on the data cleaning process. We could have tried more approaches to missing data (discovering if there were patterns in the datas' missingness), encoding categorical data, and feature scaling.<br> <br>\n",
        "With more time, I would have cleaned and encoded street names from the address variable, or investigated the square footage variables, they potentially could have added a lot of signal to our modeling. Also, would have been interesting to include all 5 boroughs.\n",
        "<br><br>\n",
        "Also, for predictive modeling purposes, we would want to be more careful regarding data leakage, which I am sure I am commiting here. Making sure that we split our data before imputation or scaling would help us ensure that our unseen data and models do not receive information they wouldn't have access to in a deployed prediction setting.\n",
        "<br><br>\n",
        "#### ***b. EDA:***\n",
        ">Behind the scense, we investingated the data heavily to build intution about it. In this notebook, we mainly showed correlations and summary stats. These helped show the relationships between variables and their distributions.<br><br>\n",
        "We could have spent more time looking at the distributions of individual varibles as well as relationships between variables to detect redundancy for feature selection. Correlation was somewhat lackluster as most of our varibles were dummied nominal variables. Also, we could have plotted latent features using dimension reduction techniques.\n",
        "<br><br>\n",
        "\n",
        "#### ***c. Hypothesis testing:***\n",
        ">We defined two separate null hypthoses (f-test and t-test) for our multiple linear regression models. We found p-values below our significance value (0.05) for both our f-test and our t-test, so we were able to reject both null nypotheses, which told us there is evidence of these relationships between our predictors and outcome.<br><br>\n",
        "We could have defined more informed null hypothses, as well as compared f-test statistics between models with different predictors sets to infer which predictors improved our models. Also, using hierachical linear models or mixed effect models could have helped us assess the effects of some of the higher level/cluster features (e.g. neighborhood, zip code, building type, etc.). While dummying out our features accomplished something similar, it would have been interesting to see output of random effects models and if it changed anything.\n",
        "<br><br>\n",
        "\n",
        "### ***d. Predictive modeling:***\n",
        ">We found a lot of evidence to support our hypothesis that model performance (assessed on RMSE) would improve with larger predictor sets and more complex ML models. Most of the improvement could be made by hyperparameter tuned ML models alone, Random Forest in particular.<br><br>\n",
        "Our supervised neural network with the original feature set further improve on our ML models, getting us down to RMSE below 1,040,000.<br><br>\n",
        "Latent features extracted from our autoencoder did not add to model performance, although maybe we could see improvement with more tinkering with how we added noise and picked our best autoencoder.<br><br>\n",
        "One important point is that we need to be sensitive to the complexity-interpretability trade off. Although I have seen autoencoders for feature engineering add substantially to model performance, this was clearly unfruitful here. In many cases, probably this once included, it often makes sense to avoid more complex techiniques in the interest of preserving model interpretability and time.<br><br>\n",
        "Also, with more time, should check carefully the relationship between train and test loss (especially with NN), to make sure we are not over fitting. Setting aside a completely untouched holdout set to test our cross validated model would also be a good precaution to take.\n",
        "<br><br>\n",
        "\n",
        "### ***e. Time spent:***\n",
        ">Overall, I probably spent ~5-10 hours on this assignment. Most of the time was spent up until the denoising autoencoder portion, although it is hard to say because some of the latter analysis was half-baked ideas or code I had already been working on. Unsupervised deep learning and autoencoders have really caught my interest recently so much of this anaylsis was already in the works. Admittedly, I got slighlty carried away but thought it would be interesting to test these techniques on this assignment. These techniques, maybe unsuprisingly, didn't add a large bump to performance, but have seen great results from them on others occasions. Nonetheless, all parts of this assignment were interesting, enjoyable, and thank you for reading!"
      ],
      "id": "mHMvMDxxv1R8"
    },
    {
      "cell_type": "code",
      "metadata": {
        "id": "59p-JEIiyX49"
      },
      "source": [
        ""
      ],
      "id": "59p-JEIiyX49",
      "execution_count": null,
      "outputs": []
    }
  ]
}